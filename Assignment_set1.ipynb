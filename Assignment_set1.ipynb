{
  "nbformat": 4,
  "nbformat_minor": 0,
  "metadata": {
    "colab": {
      "name": "Assignment_set1.ipynb",
      "provenance": [],
      "collapsed_sections": [],
      "authorship_tag": "ABX9TyOwn/uZxCAbHtEKma7zEsC/",
      "include_colab_link": true
    },
    "kernelspec": {
      "name": "python3",
      "display_name": "Python 3"
    },
    "language_info": {
      "name": "python"
    }
  },
  "cells": [
    {
      "cell_type": "markdown",
      "metadata": {
        "id": "view-in-github",
        "colab_type": "text"
      },
      "source": [
        "<a href=\"https://colab.research.google.com/github/virtualacademy-pk/python/blob/main/Assignment_set1.ipynb\" target=\"_parent\"><img src=\"https://colab.research.google.com/assets/colab-badge.svg\" alt=\"Open In Colab\"/></a>"
      ]
    },
    {
      "cell_type": "markdown",
      "metadata": {
        "id": "VVqS4_7mmNHt"
      },
      "source": [
        "**Calculate the Area of Circle**\n",
        "\n",
        "Take input from user to enter radius of a circle, and print the area of circle with folloing formula\n",
        "\n",
        "\n",
        "  A = πr2\n"
      ]
    },
    {
      "cell_type": "code",
      "metadata": {
        "colab": {
          "base_uri": "https://localhost:8080/"
        },
        "id": "86-Z1adtmIx5",
        "outputId": "e6b3a72e-a21c-4476-99c4-a9a8e469e524"
      },
      "source": [
        "pi = 3.14\n",
        "r = float(input(\"Enter Radius of Circle: \"))\n",
        "area = pi * r ** 2\n",
        "\n",
        "print (\"The area of cirlce with radius \" + str(r) + \" is \" + str(area))"
      ],
      "execution_count": 5,
      "outputs": [
        {
          "output_type": "stream",
          "text": [
            "Enter Radius of Circle: 7\n",
            "The area of cirlce with radius 7.0 is 153.86\n"
          ],
          "name": "stdout"
        }
      ]
    },
    {
      "cell_type": "markdown",
      "metadata": {
        "id": "Mi3VEwomoZNe"
      },
      "source": [
        "**Calculate The area of triangle**\n",
        "Take input frmo user to enter base and height of triangle\n",
        "and calucalte area of triangle with below formula\n",
        "\n",
        "Area = ½ × b × h"
      ]
    },
    {
      "cell_type": "code",
      "metadata": {
        "colab": {
          "base_uri": "https://localhost:8080/"
        },
        "id": "hC_cAlIUotRl",
        "outputId": "b2a0c184-2069-4533-b1e6-f7455a9ffa23"
      },
      "source": [
        "base = int (input(\"Enter base of triangle: \"))\n",
        "height = int (input(\"Enter height of Triangle\"))\n",
        "area = (1 /1 2) * base * height\n",
        "\n",
        "print (\"Area of triangle is \" + str(area))"
      ],
      "execution_count": 7,
      "outputs": [
        {
          "output_type": "stream",
          "text": [
            "Enter base of triangle: 203\n",
            "Enter height of Triangle137\n",
            "Area of triangle is 13905.5\n"
          ],
          "name": "stdout"
        }
      ]
    }
  ]
}