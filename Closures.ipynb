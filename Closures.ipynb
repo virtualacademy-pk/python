{
  "cells": [
    {
      "cell_type": "markdown",
      "metadata": {
        "id": "view-in-github",
        "colab_type": "text"
      },
      "source": [
        "<a href=\"https://colab.research.google.com/github/virtualacademy-pk/python/blob/main/Closures.ipynb\" target=\"_parent\"><img src=\"https://colab.research.google.com/assets/colab-badge.svg\" alt=\"Open In Colab\"/></a>"
      ]
    },
    {
      "cell_type": "markdown",
      "metadata": {
        "id": "mdpWjco9ub-z"
      },
      "source": [
        "### Closures"
      ]
    },
    {
      "cell_type": "markdown",
      "metadata": {
        "id": "uS69EVg7ub-2"
      },
      "source": [
        "Let's examine that concept of a cell to create an indirect reference for variables that are in multiple scopes."
      ]
    },
    {
      "cell_type": "code",
      "execution_count": null,
      "metadata": {
        "collapsed": true,
        "id": "gO7M8XqHub-2"
      },
      "outputs": [],
      "source": [
        "def outer():\n",
        "    x = 'python'\n",
        "    def inner():\n",
        "        print(x)\n",
        "    return inner"
      ]
    },
    {
      "cell_type": "code",
      "execution_count": null,
      "metadata": {
        "collapsed": true,
        "id": "q4sQb-Adub-4"
      },
      "outputs": [],
      "source": [
        "fn = outer()"
      ]
    },
    {
      "cell_type": "code",
      "execution_count": null,
      "metadata": {
        "id": "zf6qJobyub-4",
        "outputId": "7038865d-1d02-4160-b228-3b811ade8191"
      },
      "outputs": [
        {
          "data": {
            "text/plain": [
              "('x',)"
            ]
          },
          "execution_count": 3,
          "metadata": {},
          "output_type": "execute_result"
        }
      ],
      "source": [
        "fn.__code__.co_freevars"
      ]
    },
    {
      "cell_type": "markdown",
      "metadata": {
        "id": "iAD8MrZhub-5"
      },
      "source": [
        "As we can see, `x` is a free variable in the closure."
      ]
    },
    {
      "cell_type": "code",
      "execution_count": null,
      "metadata": {
        "id": "H-CL_j5bub-5",
        "outputId": "15b24470-3c69-4ab1-f9c8-ad2533d0f25d"
      },
      "outputs": [
        {
          "data": {
            "text/plain": [
              "(<cell at 0x0000015F5299B4C8: str object at 0x0000015F51092068>,)"
            ]
          },
          "execution_count": 4,
          "metadata": {},
          "output_type": "execute_result"
        }
      ],
      "source": [
        "fn.__closure__"
      ]
    },
    {
      "cell_type": "markdown",
      "metadata": {
        "id": "BIk6PBqWub-6"
      },
      "source": [
        "Here we see that the free variable x is actually a reference to a cell object that is itself a reference to a string object."
      ]
    },
    {
      "cell_type": "markdown",
      "metadata": {
        "id": "n6i7lPkHub-6"
      },
      "source": [
        "Let's see what the memory address of `x` is in the outer function and the inner function. To be sure string interning does not play a role, I am going to use an object that we know Python will not automatically intern, like a list."
      ]
    },
    {
      "cell_type": "code",
      "execution_count": null,
      "metadata": {
        "collapsed": true,
        "id": "hrY4L7xnub-7"
      },
      "outputs": [],
      "source": [
        "def outer():\n",
        "    x = [1, 2, 3]\n",
        "    print('outer:', hex(id(x)))\n",
        "    def inner():\n",
        "        print('inner:', hex(id(x)))\n",
        "        print(x)\n",
        "    return inner"
      ]
    },
    {
      "cell_type": "code",
      "execution_count": null,
      "metadata": {
        "id": "SdPbkjT4ub-7",
        "outputId": "9a772980-b369-4609-be75-1edf96700b23"
      },
      "outputs": [
        {
          "name": "stdout",
          "output_type": "stream",
          "text": [
            "outer: 0x15f52907988\n"
          ]
        }
      ],
      "source": [
        "fn = outer()"
      ]
    },
    {
      "cell_type": "code",
      "execution_count": null,
      "metadata": {
        "id": "ohXyxctxub-7",
        "outputId": "764671de-c57b-4486-9d34-2f0de082b043"
      },
      "outputs": [
        {
          "data": {
            "text/plain": [
              "(<cell at 0x0000015F5299B768: list object at 0x0000015F52907988>,)"
            ]
          },
          "execution_count": 7,
          "metadata": {},
          "output_type": "execute_result"
        }
      ],
      "source": [
        "fn.__closure__"
      ]
    },
    {
      "cell_type": "code",
      "execution_count": null,
      "metadata": {
        "id": "fo1QLzzIub-8",
        "outputId": "0e976d9b-0573-4ca5-ea9e-95ffcbc8d416"
      },
      "outputs": [
        {
          "name": "stdout",
          "output_type": "stream",
          "text": [
            "inner: 0x15f52907988\n",
            "[1, 2, 3]\n"
          ]
        }
      ],
      "source": [
        "fn()"
      ]
    },
    {
      "cell_type": "markdown",
      "metadata": {
        "id": "6qRPk_sQub-8"
      },
      "source": [
        "As you can see, each the memory address of `x` in `outer`, `inner` and the cell all point to the same object."
      ]
    },
    {
      "cell_type": "markdown",
      "metadata": {
        "id": "xKx5Th8Jub-8"
      },
      "source": [
        "#### Modifying the Free Variable"
      ]
    },
    {
      "cell_type": "markdown",
      "metadata": {
        "id": "3Fks-bEQub-8"
      },
      "source": [
        "We know we can modify nonlocal variables by using the `nonlocal` keyword. So the following will work:"
      ]
    },
    {
      "cell_type": "code",
      "execution_count": null,
      "metadata": {
        "collapsed": true,
        "id": "Vtzkd1lJub-9"
      },
      "outputs": [],
      "source": [
        "def counter():\n",
        "    count = 0 # local variable\n",
        "    \n",
        "    def inc():\n",
        "        nonlocal count  # this is the count variable in counter\n",
        "        count += 1\n",
        "        return count\n",
        "    return inc"
      ]
    },
    {
      "cell_type": "code",
      "execution_count": null,
      "metadata": {
        "collapsed": true,
        "id": "ZfdLN6XGub-9"
      },
      "outputs": [],
      "source": [
        "c = counter()"
      ]
    },
    {
      "cell_type": "code",
      "execution_count": null,
      "metadata": {
        "id": "IfsbKiBZub-9",
        "outputId": "20f855a5-e377-4197-98fb-4a701b5d4ea5"
      },
      "outputs": [
        {
          "data": {
            "text/plain": [
              "1"
            ]
          },
          "execution_count": 11,
          "metadata": {},
          "output_type": "execute_result"
        }
      ],
      "source": [
        "c()"
      ]
    },
    {
      "cell_type": "code",
      "execution_count": null,
      "metadata": {
        "id": "X9T0cRBQub--",
        "outputId": "f3ae69d3-17dd-457a-e5a8-51fa6ff10aa6"
      },
      "outputs": [
        {
          "data": {
            "text/plain": [
              "2"
            ]
          },
          "execution_count": 12,
          "metadata": {},
          "output_type": "execute_result"
        }
      ],
      "source": [
        "c()"
      ]
    },
    {
      "cell_type": "markdown",
      "metadata": {
        "id": "7Ppva98bub--"
      },
      "source": [
        "##### Shared Extended Scopes"
      ]
    },
    {
      "cell_type": "markdown",
      "metadata": {
        "id": "EFZyVgqrub--"
      },
      "source": [
        "As we saw in the lecture, we can set up nonlocal variables in different inner functionsd that reference the same outer scope variable, i.e. we have a free variable that is shared between two closures. This works because both non local variables and the outer local variable all point back to the same cell object."
      ]
    },
    {
      "cell_type": "code",
      "execution_count": null,
      "metadata": {
        "collapsed": true,
        "id": "OJUYXJSSub--"
      },
      "outputs": [],
      "source": [
        "def outer():\n",
        "    count = 0\n",
        "    def inc1():\n",
        "        nonlocal count\n",
        "        count += 1\n",
        "        return count\n",
        "    \n",
        "    def inc2():\n",
        "        nonlocal count\n",
        "        count += 1\n",
        "        return count\n",
        "    \n",
        "    return inc1, inc2"
      ]
    },
    {
      "cell_type": "code",
      "execution_count": null,
      "metadata": {
        "id": "LtUEVOpZub--"
      },
      "outputs": [],
      "source": [
        "fn1, fn2 = outer()"
      ]
    },
    {
      "cell_type": "code",
      "execution_count": null,
      "metadata": {
        "id": "xfdDGL5fub-_",
        "outputId": "9395a0ad-34cf-4e31-9a2a-9c1e9f4773c6"
      },
      "outputs": [
        {
          "data": {
            "text/plain": [
              "((<cell at 0x0000015F5299B738: int object at 0x00000000506FEC50>,),\n",
              " (<cell at 0x0000015F5299B738: int object at 0x00000000506FEC50>,))"
            ]
          },
          "execution_count": 15,
          "metadata": {},
          "output_type": "execute_result"
        }
      ],
      "source": [
        "fn1.__closure__, fn2.__closure__"
      ]
    },
    {
      "cell_type": "markdown",
      "metadata": {
        "id": "36_2DoMRub-_"
      },
      "source": [
        "As you can see here, the `count` label points to the same cell."
      ]
    },
    {
      "cell_type": "code",
      "execution_count": null,
      "metadata": {
        "id": "QEtndPboub-_",
        "outputId": "8349f4e0-0574-4555-f7bf-491f1fae65a2"
      },
      "outputs": [
        {
          "data": {
            "text/plain": [
              "1"
            ]
          },
          "execution_count": 16,
          "metadata": {},
          "output_type": "execute_result"
        }
      ],
      "source": [
        "fn1()"
      ]
    },
    {
      "cell_type": "code",
      "execution_count": null,
      "metadata": {
        "id": "Z7DjtROTub-_",
        "outputId": "7cf2a9d1-d3c9-4cb5-a1d9-8ca7281fece2"
      },
      "outputs": [
        {
          "data": {
            "text/plain": [
              "2"
            ]
          },
          "execution_count": 17,
          "metadata": {},
          "output_type": "execute_result"
        }
      ],
      "source": [
        "fn1()"
      ]
    },
    {
      "cell_type": "code",
      "execution_count": null,
      "metadata": {
        "id": "vMABBHRUub-_",
        "outputId": "8ef74474-fc30-42e7-ab04-20ecdf244a4f"
      },
      "outputs": [
        {
          "data": {
            "text/plain": [
              "3"
            ]
          },
          "execution_count": 18,
          "metadata": {},
          "output_type": "execute_result"
        }
      ],
      "source": [
        "fn2()"
      ]
    },
    {
      "cell_type": "markdown",
      "metadata": {
        "id": "3v03v9Ukub_A"
      },
      "source": [
        "### Multiple Instances of Closures"
      ]
    },
    {
      "cell_type": "markdown",
      "metadata": {
        "id": "XclD3lSOub_A"
      },
      "source": [
        "Recall that **every** time a function is called, a **new** local scope is created."
      ]
    },
    {
      "cell_type": "code",
      "execution_count": null,
      "metadata": {
        "collapsed": true,
        "id": "bYiiedf5ub_A"
      },
      "outputs": [],
      "source": [
        "from time import perf_counter\n",
        "\n",
        "def func():\n",
        "    x = perf_counter()\n",
        "    print(x, id(x))"
      ]
    },
    {
      "cell_type": "code",
      "execution_count": null,
      "metadata": {
        "id": "Y_Bg7Dmcub_A",
        "outputId": "05ad6a58-1417-44d0-f72d-1b556a8eaeb1"
      },
      "outputs": [
        {
          "name": "stdout",
          "output_type": "stream",
          "text": [
            "2.7089464582150425e-07 1508916709680\n"
          ]
        }
      ],
      "source": [
        "func()"
      ]
    },
    {
      "cell_type": "code",
      "execution_count": null,
      "metadata": {
        "id": "c4Rgal7Dub_A",
        "outputId": "dfc9aba8-7db3-44ab-980c-8cc3d316e5be"
      },
      "outputs": [
        {
          "name": "stdout",
          "output_type": "stream",
          "text": [
            "0.011222623387093279 1508916709680\n"
          ]
        }
      ],
      "source": [
        "func()"
      ]
    },
    {
      "cell_type": "markdown",
      "metadata": {
        "id": "VSP0uMxbub_A"
      },
      "source": [
        "The same thing happens with closures, they have their own extended scope every time the closure is created:"
      ]
    },
    {
      "cell_type": "code",
      "execution_count": null,
      "metadata": {
        "collapsed": true,
        "id": "LCKOjk8Zub_A"
      },
      "outputs": [],
      "source": [
        "def pow(n):\n",
        "    # n is local to pow\n",
        "    def inner(x):\n",
        "        # x is local to inner\n",
        "        return x ** n\n",
        "    return inner"
      ]
    },
    {
      "cell_type": "markdown",
      "metadata": {
        "id": "V4sjzyG2ub_B"
      },
      "source": [
        "In this example, `n`, in the function `inner` is a free variable, so we have a closure that contains `inner` and the free variable `n`"
      ]
    },
    {
      "cell_type": "code",
      "execution_count": null,
      "metadata": {
        "collapsed": true,
        "id": "OL5aTEihub_B"
      },
      "outputs": [],
      "source": [
        "square = pow(2)"
      ]
    },
    {
      "cell_type": "code",
      "execution_count": null,
      "metadata": {
        "id": "sVuMFmw0ub_B",
        "outputId": "b9470522-0cfc-40ab-9a1e-f19c5e34b23a"
      },
      "outputs": [
        {
          "data": {
            "text/plain": [
              "25"
            ]
          },
          "execution_count": 24,
          "metadata": {},
          "output_type": "execute_result"
        }
      ],
      "source": [
        "square(5)"
      ]
    },
    {
      "cell_type": "code",
      "execution_count": null,
      "metadata": {
        "collapsed": true,
        "id": "yi5lqbiOub_B"
      },
      "outputs": [],
      "source": [
        "cube = pow(3)"
      ]
    },
    {
      "cell_type": "code",
      "execution_count": null,
      "metadata": {
        "id": "ukoJe3Gmub_B",
        "outputId": "0cec27d2-7388-444e-a683-18a068c4008f"
      },
      "outputs": [
        {
          "data": {
            "text/plain": [
              "125"
            ]
          },
          "execution_count": 26,
          "metadata": {},
          "output_type": "execute_result"
        }
      ],
      "source": [
        "cube(5)"
      ]
    },
    {
      "cell_type": "markdown",
      "metadata": {
        "id": "vGNoWWynub_B"
      },
      "source": [
        "We can see that the cell used for the free variable in both cases is **different**:"
      ]
    },
    {
      "cell_type": "code",
      "execution_count": null,
      "metadata": {
        "id": "B1YFGfyyub_C",
        "outputId": "bf55a398-953e-4432-b013-5f5b92bc4afa"
      },
      "outputs": [
        {
          "data": {
            "text/plain": [
              "(<cell at 0x0000015F5299B8B8: int object at 0x00000000506FEC90>,)"
            ]
          },
          "execution_count": 27,
          "metadata": {},
          "output_type": "execute_result"
        }
      ],
      "source": [
        "square.__closure__"
      ]
    },
    {
      "cell_type": "code",
      "execution_count": null,
      "metadata": {
        "id": "hNy5Ug0bub_C",
        "outputId": "025eebf5-8c6d-496e-9fdf-e79280533167"
      },
      "outputs": [
        {
          "data": {
            "text/plain": [
              "(<cell at 0x0000015F5299BAC8: int object at 0x00000000506FECB0>,)"
            ]
          },
          "execution_count": 28,
          "metadata": {},
          "output_type": "execute_result"
        }
      ],
      "source": [
        "cube.__closure__"
      ]
    },
    {
      "cell_type": "markdown",
      "metadata": {
        "id": "WsG06WRQub_C"
      },
      "source": [
        "In fact, these functions (`square` and `cube`) are **not** the same functions, even though they were \"created\" from the same `power` function:"
      ]
    },
    {
      "cell_type": "code",
      "execution_count": null,
      "metadata": {
        "id": "DV5hb_EBub_C",
        "outputId": "dbac96ef-2b9f-435f-8cec-3132a4f63d6b"
      },
      "outputs": [
        {
          "data": {
            "text/plain": [
              "(1508919294560, 1508919295784)"
            ]
          },
          "execution_count": 29,
          "metadata": {},
          "output_type": "execute_result"
        }
      ],
      "source": [
        "id(square), id(cube)"
      ]
    },
    {
      "cell_type": "markdown",
      "metadata": {
        "collapsed": true,
        "id": "Lq69JWk5ub_C"
      },
      "source": [
        "### Beware!"
      ]
    },
    {
      "cell_type": "markdown",
      "metadata": {
        "id": "mzFdEENvub_C"
      },
      "source": [
        "Remember when I said the captured variable is a reference established when the closure is created, but the value is looked up only once the function is called?"
      ]
    },
    {
      "cell_type": "markdown",
      "metadata": {
        "id": "gVEiM8-Mub_C"
      },
      "source": [
        "This can create very subtle bugs in your program."
      ]
    },
    {
      "cell_type": "markdown",
      "metadata": {
        "id": "zfFzqRbUub_C"
      },
      "source": [
        "Consider the following example where we want to create some functions that can add 1, 2, 3, 4 and to whatever is passed to them."
      ]
    },
    {
      "cell_type": "markdown",
      "metadata": {
        "id": "xzeTQ0xcub_D"
      },
      "source": [
        "We could do the following:"
      ]
    },
    {
      "cell_type": "code",
      "execution_count": null,
      "metadata": {
        "collapsed": true,
        "id": "8BqfkO3Gub_D"
      },
      "outputs": [],
      "source": [
        "def adder(n):\n",
        "    def inner(x):\n",
        "        return x + n\n",
        "    return inner"
      ]
    },
    {
      "cell_type": "code",
      "execution_count": null,
      "metadata": {
        "collapsed": true,
        "id": "6ALLrb_iub_D"
      },
      "outputs": [],
      "source": [
        "add_1 = adder(1)\n",
        "add_2 = adder(2)\n",
        "add_3 = adder(3)\n",
        "add_4 = adder(4)"
      ]
    },
    {
      "cell_type": "code",
      "execution_count": null,
      "metadata": {
        "id": "Aws2OS7qub_D",
        "outputId": "4bd6b67b-405b-4a12-b8a4-ccac6338b01f"
      },
      "outputs": [
        {
          "data": {
            "text/plain": [
              "(11, 12, 13, 14)"
            ]
          },
          "execution_count": 32,
          "metadata": {},
          "output_type": "execute_result"
        }
      ],
      "source": [
        "add_1(10), add_2(10), add_3(10), add_4(10)"
      ]
    },
    {
      "cell_type": "markdown",
      "metadata": {
        "id": "4BgOQic_ub_D"
      },
      "source": [
        "But suppose we want to get a little fancier and do it as follows:"
      ]
    },
    {
      "cell_type": "code",
      "execution_count": null,
      "metadata": {
        "collapsed": true,
        "id": "fo2g76C4ub_D"
      },
      "outputs": [],
      "source": [
        "def create_adders():\n",
        "    adders = []\n",
        "    for n in range(1, 5):\n",
        "        adders.append(lambda x: x + n)\n",
        "    return adders"
      ]
    },
    {
      "cell_type": "code",
      "execution_count": null,
      "metadata": {
        "collapsed": true,
        "id": "eZxDu06yub_D"
      },
      "outputs": [],
      "source": [
        "adders = create_adders()"
      ]
    },
    {
      "cell_type": "markdown",
      "metadata": {
        "id": "c5h1WklJub_E"
      },
      "source": [
        "Now technically we have 4 functions in the `adders` list:"
      ]
    },
    {
      "cell_type": "code",
      "execution_count": null,
      "metadata": {
        "id": "HQGd2A-lub_E",
        "outputId": "1e7a9713-4eb2-47e1-b5a7-a981b5ef6632"
      },
      "outputs": [
        {
          "data": {
            "text/plain": [
              "[<function __main__.create_adders.<locals>.<lambda>>,\n",
              " <function __main__.create_adders.<locals>.<lambda>>,\n",
              " <function __main__.create_adders.<locals>.<lambda>>,\n",
              " <function __main__.create_adders.<locals>.<lambda>>]"
            ]
          },
          "execution_count": 35,
          "metadata": {},
          "output_type": "execute_result"
        }
      ],
      "source": [
        "adders"
      ]
    },
    {
      "cell_type": "markdown",
      "metadata": {
        "id": "CtdyzByEub_E"
      },
      "source": [
        "The first one should add 1 to the value we pass it, the second should add 2, and so on."
      ]
    },
    {
      "cell_type": "code",
      "execution_count": null,
      "metadata": {
        "id": "y-vVm0arub_E",
        "outputId": "201c3eab-314d-4e14-8ddb-b1bdf728a076"
      },
      "outputs": [
        {
          "data": {
            "text/plain": [
              "14"
            ]
          },
          "execution_count": 36,
          "metadata": {},
          "output_type": "execute_result"
        }
      ],
      "source": [
        "adders[3](10)"
      ]
    },
    {
      "cell_type": "markdown",
      "metadata": {
        "id": "zTj5-w-vub_E"
      },
      "source": [
        "Yep, that works for the 4th function."
      ]
    },
    {
      "cell_type": "code",
      "execution_count": null,
      "metadata": {
        "id": "oNmYtA2Tub_E",
        "outputId": "4e74df12-182c-438f-c1bc-0ea0e0e88030"
      },
      "outputs": [
        {
          "data": {
            "text/plain": [
              "14"
            ]
          },
          "execution_count": 37,
          "metadata": {},
          "output_type": "execute_result"
        }
      ],
      "source": [
        "adders[0](10)"
      ]
    },
    {
      "cell_type": "markdown",
      "metadata": {
        "id": "L_3W4zutub_E"
      },
      "source": [
        "Uh Oh - what happened? In fact we get the same behavior from every one of those functions:"
      ]
    },
    {
      "cell_type": "code",
      "execution_count": null,
      "metadata": {
        "id": "xVkJw45tub_E",
        "outputId": "4d835106-a07a-412c-f7d2-5b16c6bc513b"
      },
      "outputs": [
        {
          "data": {
            "text/plain": [
              "(14, 14, 14, 14)"
            ]
          },
          "execution_count": 38,
          "metadata": {},
          "output_type": "execute_result"
        }
      ],
      "source": [
        "adders[0](10), adders[1](10), adders[2](10), adders[3](10)"
      ]
    },
    {
      "cell_type": "markdown",
      "metadata": {
        "id": "YXiJ1jAwub_F"
      },
      "source": [
        "Remember what I said about when the variable is captured and when the value is looked up?"
      ]
    },
    {
      "cell_type": "markdown",
      "metadata": {
        "id": "yJZLRQsQub_F"
      },
      "source": [
        "When the lambdas are **created** their `n` is the `n` used in the loop - the **same** `n`!!"
      ]
    },
    {
      "cell_type": "code",
      "execution_count": null,
      "metadata": {
        "id": "wOTN8df6ub_F",
        "outputId": "b4321c58-044a-4350-9c91-1b888af81c1e"
      },
      "outputs": [
        {
          "data": {
            "text/plain": [
              "('n',)"
            ]
          },
          "execution_count": 39,
          "metadata": {},
          "output_type": "execute_result"
        }
      ],
      "source": [
        "adders[0].__code__.co_freevars"
      ]
    },
    {
      "cell_type": "code",
      "execution_count": null,
      "metadata": {
        "id": "MbJsab_4ub_F",
        "outputId": "76b842f3-0cc0-47d6-b5df-e7f141e67e88"
      },
      "outputs": [
        {
          "data": {
            "text/plain": [
              "(<cell at 0x0000015F5299B3D8: int object at 0x00000000506FECD0>,)"
            ]
          },
          "execution_count": 40,
          "metadata": {},
          "output_type": "execute_result"
        }
      ],
      "source": [
        "adders[0].__closure__"
      ]
    },
    {
      "cell_type": "code",
      "execution_count": null,
      "metadata": {
        "id": "rY4g-YkXub_F",
        "outputId": "e48c0883-222e-4df2-edce-c1a1973f79ca"
      },
      "outputs": [
        {
          "data": {
            "text/plain": [
              "(<cell at 0x0000015F5299B3D8: int object at 0x00000000506FECD0>,)"
            ]
          },
          "execution_count": 41,
          "metadata": {},
          "output_type": "execute_result"
        }
      ],
      "source": [
        "adders[1].__closure__"
      ]
    },
    {
      "cell_type": "code",
      "execution_count": null,
      "metadata": {
        "id": "ngBTiGpBub_F",
        "outputId": "b6613812-9765-40eb-b41c-79747bfe1f3a"
      },
      "outputs": [
        {
          "data": {
            "text/plain": [
              "(<cell at 0x0000015F5299B3D8: int object at 0x00000000506FECD0>,)"
            ]
          },
          "execution_count": 42,
          "metadata": {},
          "output_type": "execute_result"
        }
      ],
      "source": [
        "adders[2].__closure__"
      ]
    },
    {
      "cell_type": "code",
      "execution_count": null,
      "metadata": {
        "id": "O_003_LNub_F",
        "outputId": "686a158c-9217-4426-9ac9-15d175df9a87"
      },
      "outputs": [
        {
          "data": {
            "text/plain": [
              "(<cell at 0x0000015F5299B3D8: int object at 0x00000000506FECD0>,)"
            ]
          },
          "execution_count": 43,
          "metadata": {},
          "output_type": "execute_result"
        }
      ],
      "source": [
        "adders[3].__closure__"
      ]
    },
    {
      "cell_type": "markdown",
      "metadata": {
        "id": "wGh_CUzpub_F"
      },
      "source": [
        "So, by the time we call `adder[i]`, the free variable `n` (shared between all adders) is set to 4."
      ]
    },
    {
      "cell_type": "code",
      "execution_count": null,
      "metadata": {
        "id": "9BC5wA3sub_G",
        "outputId": "1010767b-6822-4ea0-e52f-4a46f9a30f14"
      },
      "outputs": [
        {
          "data": {
            "text/plain": [
              "'0x506fecd0'"
            ]
          },
          "execution_count": 44,
          "metadata": {},
          "output_type": "execute_result"
        }
      ],
      "source": [
        "hex(id(4))"
      ]
    },
    {
      "cell_type": "markdown",
      "metadata": {
        "id": "P-k8Br2Yub_G"
      },
      "source": [
        "As we can see the memory address of the singleton integer 4, is what that cell is pointint to."
      ]
    },
    {
      "cell_type": "markdown",
      "metadata": {
        "id": "G8jurrs2ub_G"
      },
      "source": [
        "If you want to use a loop to do this and not end up using the same cell for each of the free variables, we can use a simple trick that forces the evaluation of `n` at the time the closure is **created**, instead of when the closure function is evaluated.\n",
        "\n",
        "We can do this by creating a parameter for `n` in our lambda whose default value is the current value of `n` - remember from an earlier video that parameter defaults are avaluated when the function is created, not called."
      ]
    },
    {
      "cell_type": "code",
      "execution_count": null,
      "metadata": {
        "collapsed": true,
        "id": "khtPrzvmub_G"
      },
      "outputs": [],
      "source": [
        "def create_adders():\n",
        "    adders = []\n",
        "    for n in range(1, 5):\n",
        "        adders.append(lambda x, step=n: x + step)\n",
        "    return adders"
      ]
    },
    {
      "cell_type": "code",
      "execution_count": null,
      "metadata": {
        "collapsed": true,
        "id": "gxolDGLlub_G"
      },
      "outputs": [],
      "source": [
        "adders = create_adders()"
      ]
    },
    {
      "cell_type": "code",
      "execution_count": null,
      "metadata": {
        "collapsed": true,
        "id": "Qv4YS2sIub_G"
      },
      "outputs": [],
      "source": [
        "adders[0].__closure__"
      ]
    },
    {
      "cell_type": "markdown",
      "metadata": {
        "id": "t6vtVYweub_G"
      },
      "source": [
        "Why aren't we getting anything in the closure? What about free variables?"
      ]
    },
    {
      "cell_type": "code",
      "execution_count": null,
      "metadata": {
        "id": "p5lZNSWgub_G",
        "outputId": "4f5216e3-cbf3-426b-c539-d1e31b44b046"
      },
      "outputs": [
        {
          "data": {
            "text/plain": [
              "()"
            ]
          },
          "execution_count": 48,
          "metadata": {},
          "output_type": "execute_result"
        }
      ],
      "source": [
        "adders[0].__code__.co_freevars"
      ]
    },
    {
      "cell_type": "markdown",
      "metadata": {
        "id": "zUgm5e9Dub_G"
      },
      "source": [
        "Hmm, nothing either... Why?\n",
        "\n",
        "Well, look at the lambda in that loop. Does it reference the variable `n` (other than in the default value)? No. Hence, `n` is **not** a free variable in this case, and our lambda is just a plain lambda, not a closure."
      ]
    },
    {
      "cell_type": "markdown",
      "metadata": {
        "id": "ZPwEPYMpub_H"
      },
      "source": [
        "And this code will now work as expected:"
      ]
    },
    {
      "cell_type": "code",
      "execution_count": null,
      "metadata": {
        "id": "CfLyFDHUub_H",
        "outputId": "5456cfd7-f5c4-4645-cdc7-be8fc740a920"
      },
      "outputs": [
        {
          "data": {
            "text/plain": [
              "11"
            ]
          },
          "execution_count": 49,
          "metadata": {},
          "output_type": "execute_result"
        }
      ],
      "source": [
        "adders[0](10)"
      ]
    },
    {
      "cell_type": "code",
      "execution_count": null,
      "metadata": {
        "id": "2JfbUqDKub_H",
        "outputId": "e7972e5e-56ae-40d0-dd03-6b6b34132acf"
      },
      "outputs": [
        {
          "data": {
            "text/plain": [
              "12"
            ]
          },
          "execution_count": 50,
          "metadata": {},
          "output_type": "execute_result"
        }
      ],
      "source": [
        "adders[1](10)"
      ]
    },
    {
      "cell_type": "code",
      "execution_count": null,
      "metadata": {
        "id": "RdTb3c2vub_H",
        "outputId": "da83baf3-0770-4603-cde1-3920d734f7fc"
      },
      "outputs": [
        {
          "data": {
            "text/plain": [
              "13"
            ]
          },
          "execution_count": 51,
          "metadata": {},
          "output_type": "execute_result"
        }
      ],
      "source": [
        "adders[2](10)"
      ]
    },
    {
      "cell_type": "code",
      "execution_count": null,
      "metadata": {
        "id": "OFxauTaOub_H",
        "outputId": "09c3ce96-3a0c-4bc4-c73b-6a030699bef8"
      },
      "outputs": [
        {
          "data": {
            "text/plain": [
              "14"
            ]
          },
          "execution_count": 52,
          "metadata": {},
          "output_type": "execute_result"
        }
      ],
      "source": [
        "adders[3](10)"
      ]
    },
    {
      "cell_type": "markdown",
      "metadata": {
        "id": "CBfPp-goub_H"
      },
      "source": [
        "You just need to understand that since the default values are evaluated when the function (lambda in this case) is **created**, the then-current `n` value is assigned to the local variable `step`. So `step` will not change every time the lambda is called, and since n is not referenced inside the function (and therefore evaluated when the lambda is called), `n` is not a free variable."
      ]
    },
    {
      "cell_type": "markdown",
      "metadata": {
        "id": "tfx56rVGub_H"
      },
      "source": [
        "#### Nested Closures"
      ]
    },
    {
      "cell_type": "markdown",
      "metadata": {
        "collapsed": true,
        "id": "BY39oExTub_H"
      },
      "source": [
        "We can also nest closures, as can be seen in this example:"
      ]
    },
    {
      "cell_type": "code",
      "execution_count": null,
      "metadata": {
        "collapsed": true,
        "id": "tEHJV6NOub_I"
      },
      "outputs": [],
      "source": [
        "def incrementer(n):\n",
        "    def inner(start):\n",
        "        current = start\n",
        "        def inc():\n",
        "            a = 10  # local var\n",
        "            nonlocal current\n",
        "            current += n\n",
        "            return current\n",
        "        return inc\n",
        "    return inner\n",
        "        "
      ]
    },
    {
      "cell_type": "code",
      "execution_count": null,
      "metadata": {
        "collapsed": true,
        "id": "GHxu5MEIub_I"
      },
      "outputs": [],
      "source": [
        "fn = incrementer(2)"
      ]
    },
    {
      "cell_type": "code",
      "execution_count": null,
      "metadata": {
        "id": "CT6PeFjEub_I",
        "outputId": "2780cc49-8418-4770-e70f-540e9ce21d74"
      },
      "outputs": [
        {
          "data": {
            "text/plain": [
              "<function __main__.incrementer.<locals>.inner>"
            ]
          },
          "execution_count": 55,
          "metadata": {},
          "output_type": "execute_result"
        }
      ],
      "source": [
        "fn"
      ]
    },
    {
      "cell_type": "code",
      "execution_count": null,
      "metadata": {
        "id": "PkeexReiub_I",
        "outputId": "780e9259-46fd-48a5-fad3-599d54c00e28"
      },
      "outputs": [
        {
          "data": {
            "text/plain": [
              "('n',)"
            ]
          },
          "execution_count": 56,
          "metadata": {},
          "output_type": "execute_result"
        }
      ],
      "source": [
        "fn.__code__.co_freevars"
      ]
    },
    {
      "cell_type": "code",
      "execution_count": null,
      "metadata": {
        "id": "ovHLW26Dub_I",
        "outputId": "64639786-7925-4c53-98cb-d14c0db421eb"
      },
      "outputs": [
        {
          "data": {
            "text/plain": [
              "(<cell at 0x0000015F5299B798: int object at 0x00000000506FEC90>,)"
            ]
          },
          "execution_count": 57,
          "metadata": {},
          "output_type": "execute_result"
        }
      ],
      "source": [
        "fn.__closure__"
      ]
    },
    {
      "cell_type": "code",
      "execution_count": null,
      "metadata": {
        "collapsed": true,
        "id": "sLc9wO9kub_I"
      },
      "outputs": [],
      "source": [
        "inc_2 = fn(100)"
      ]
    },
    {
      "cell_type": "code",
      "execution_count": null,
      "metadata": {
        "id": "UNEOXQv9ub_I",
        "outputId": "c23b994e-83ec-45f5-83b9-9cdb6cb52dc2"
      },
      "outputs": [
        {
          "data": {
            "text/plain": [
              "<function __main__.incrementer.<locals>.inner.<locals>.inc>"
            ]
          },
          "execution_count": 59,
          "metadata": {},
          "output_type": "execute_result"
        }
      ],
      "source": [
        "inc_2"
      ]
    },
    {
      "cell_type": "code",
      "execution_count": null,
      "metadata": {
        "id": "4Ss6x6rSub_J",
        "outputId": "c4fb865b-65ce-413c-e1a8-b251c424d5a7"
      },
      "outputs": [
        {
          "data": {
            "text/plain": [
              "('current', 'n')"
            ]
          },
          "execution_count": 60,
          "metadata": {},
          "output_type": "execute_result"
        }
      ],
      "source": [
        "inc_2.__code__.co_freevars"
      ]
    },
    {
      "cell_type": "code",
      "execution_count": null,
      "metadata": {
        "id": "geBlDcIpub_J",
        "outputId": "6dfbe412-7792-46eb-97dd-12198847dded"
      },
      "outputs": [
        {
          "data": {
            "text/plain": [
              "(<cell at 0x0000015F5299B318: int object at 0x00000000506FF8D0>,\n",
              " <cell at 0x0000015F5299B798: int object at 0x00000000506FEC90>)"
            ]
          },
          "execution_count": 61,
          "metadata": {},
          "output_type": "execute_result"
        }
      ],
      "source": [
        "inc_2.__closure__"
      ]
    },
    {
      "cell_type": "markdown",
      "metadata": {
        "id": "n2wohUK2ub_J"
      },
      "source": [
        "Here you can see that the second free variable `n`, is pointing to the same cell as the free variable in `fn`."
      ]
    },
    {
      "cell_type": "markdown",
      "metadata": {
        "id": "ej43UhXDub_J"
      },
      "source": [
        "Note that **a** is a local variable, and is not considered a free variable."
      ]
    },
    {
      "cell_type": "markdown",
      "metadata": {
        "id": "tI6w3Hj0ub_J"
      },
      "source": [
        "And we can call the closures as follows:"
      ]
    },
    {
      "cell_type": "code",
      "execution_count": null,
      "metadata": {
        "id": "iAGmmPIkub_J",
        "outputId": "3aa11b3e-bf79-41ea-b90b-734af60d012e"
      },
      "outputs": [
        {
          "data": {
            "text/plain": [
              "102"
            ]
          },
          "execution_count": 62,
          "metadata": {},
          "output_type": "execute_result"
        }
      ],
      "source": [
        "inc_2()"
      ]
    },
    {
      "cell_type": "code",
      "execution_count": null,
      "metadata": {
        "id": "QpQtQfvNub_J",
        "outputId": "c943ca0f-8168-4f24-95b8-8d1c58cacf73"
      },
      "outputs": [
        {
          "data": {
            "text/plain": [
              "104"
            ]
          },
          "execution_count": 63,
          "metadata": {},
          "output_type": "execute_result"
        }
      ],
      "source": [
        "inc_2()"
      ]
    },
    {
      "cell_type": "code",
      "execution_count": null,
      "metadata": {
        "collapsed": true,
        "id": "hfZbW3Jjub_K"
      },
      "outputs": [],
      "source": [
        "inc_3 = incrementer(3)(200)"
      ]
    },
    {
      "cell_type": "code",
      "execution_count": null,
      "metadata": {
        "id": "ulagRAOdub_K",
        "outputId": "07f10d71-cca1-4927-d4d2-e559b599c74c"
      },
      "outputs": [
        {
          "data": {
            "text/plain": [
              "203"
            ]
          },
          "execution_count": 65,
          "metadata": {},
          "output_type": "execute_result"
        }
      ],
      "source": [
        "inc_3()"
      ]
    },
    {
      "cell_type": "code",
      "execution_count": null,
      "metadata": {
        "id": "vhu0Ozzwub_K",
        "outputId": "ce9d6daf-1574-445c-fd84-eea39e4f9385"
      },
      "outputs": [
        {
          "data": {
            "text/plain": [
              "206"
            ]
          },
          "execution_count": 66,
          "metadata": {},
          "output_type": "execute_result"
        }
      ],
      "source": [
        "inc_3()"
      ]
    }
  ],
  "metadata": {
    "kernelspec": {
      "display_name": "Python 3",
      "language": "python",
      "name": "python3"
    },
    "language_info": {
      "codemirror_mode": {
        "name": "ipython",
        "version": 3
      },
      "file_extension": ".py",
      "mimetype": "text/x-python",
      "name": "python",
      "nbconvert_exporter": "python",
      "pygments_lexer": "ipython3",
      "version": "3.6.2"
    },
    "colab": {
      "name": "Closures.ipynb",
      "provenance": [],
      "include_colab_link": true
    }
  },
  "nbformat": 4,
  "nbformat_minor": 0
}