{
  "nbformat": 4,
  "nbformat_minor": 0,
  "metadata": {
    "colab": {
      "name": "Datatypes.ipynb",
      "provenance": [],
      "collapsed_sections": [],
      "authorship_tag": "ABX9TyNWKf9F/z3gfu0046W/HbLr",
      "include_colab_link": true
    },
    "kernelspec": {
      "name": "python3",
      "display_name": "Python 3"
    },
    "language_info": {
      "name": "python"
    }
  },
  "cells": [
    {
      "cell_type": "markdown",
      "metadata": {
        "id": "view-in-github",
        "colab_type": "text"
      },
      "source": [
        "<a href=\"https://colab.research.google.com/github/virtualacademy-pk/python/blob/main/Datatypes.ipynb\" target=\"_parent\"><img src=\"https://colab.research.google.com/assets/colab-badge.svg\" alt=\"Open In Colab\"/></a>"
      ]
    },
    {
      "cell_type": "markdown",
      "metadata": {
        "id": "D01Lmdki7B3p"
      },
      "source": [
        "**Data Types**\n",
        "\n",
        "*   Every input taken from user required memory location to store data.\n",
        "*   Every value has its own python data type. \n",
        "*   The classification of data items is called Data Types. \n",
        "*   It helps to understand what kind of operations can be performed on a value.\n",
        "*   Every momory location is given a name as per naming rules of python (Upcomming section) \n",
        "*   This named memory location is called **Variable**\n",
        "\n",
        "\n"
      ]
    },
    {
      "cell_type": "markdown",
      "metadata": {
        "id": "SxyddlaI--6P"
      },
      "source": [
        "**Python Numbers**\n",
        "\n",
        "Python includes three numeric types to represent numbers: integers, float, and complex number.\n",
        "*   Integer\n",
        "> *   In Python, integers are zero, positive or negative whole numbers without a fractional part and having unlimited precision, e.g. 0, 100, -10. The followings are valid integer literals in Python.\n",
        "> *   There is no maximum limit on the value of an integer. The integer can be of any length without any limitation which can go up to the maximum available memory of the system. \n",
        "> *   in below code snippet x, y and z are called variable its value represent a numeric value of decimal number system\n",
        "\n"
      ]
    },
    {
      "cell_type": "code",
      "metadata": {
        "colab": {
          "base_uri": "https://localhost:8080/"
        },
        "id": "h2PYQrMAX6EW",
        "outputId": "25c24c12-d873-45a5-e8d7-5fcc2303dfc5"
      },
      "source": [
        "x = 45\n",
        "y = -89\n",
        "print ( type(x)) \n",
        "print (y)"
      ],
      "execution_count": null,
      "outputs": [
        {
          "output_type": "stream",
          "text": [
            "<class 'int'>\n",
            "-89\n"
          ],
          "name": "stdout"
        }
      ]
    },
    {
      "cell_type": "markdown",
      "metadata": {
        "id": "QRrhe4qeOQI5"
      },
      "source": [
        "Type"
      ]
    },
    {
      "cell_type": "markdown",
      "metadata": {
        "id": "QV7RGDVjO4q5"
      },
      "source": [
        "**Checking the Type of variable**\n",
        "\n",
        "Variable type can be check with **type()** function"
      ]
    },
    {
      "cell_type": "code",
      "metadata": {
        "colab": {
          "base_uri": "https://localhost:8080/"
        },
        "id": "zuIhfi3WOJqZ",
        "outputId": "f8fef15f-ac3f-43f4-b579-dd43d6d77f8c"
      },
      "source": [
        "x = 32\n",
        "\n",
        "print (type(x))\n"
      ],
      "execution_count": null,
      "outputs": [
        {
          "output_type": "stream",
          "text": [
            "<class 'int'>\n"
          ],
          "name": "stdout"
        }
      ]
    },
    {
      "cell_type": "markdown",
      "metadata": {
        "id": "zOj5A0woPOrh"
      },
      "source": [
        "**Variable Input**\n",
        "Let take an input, store it in variable and check its type"
      ]
    },
    {
      "cell_type": "code",
      "metadata": {
        "colab": {
          "base_uri": "https://localhost:8080/"
        },
        "id": "QG3xY6pLPVtw",
        "outputId": "3e259dfd-ece3-4ef2-b536-551eed2f76c8"
      },
      "source": [
        "x = input(\"Enter a number: \")\n",
        "print (type(x))"
      ],
      "execution_count": null,
      "outputs": [
        {
          "output_type": "stream",
          "text": [
            "Enter a number: Yhjkhkj\n",
            "<class 'str'>\n"
          ],
          "name": "stdout"
        }
      ]
    },
    {
      "cell_type": "markdown",
      "metadata": {
        "id": "NkH3q2uQPpfx"
      },
      "source": [
        "in above snippted it can be seen that even you provide a numeric value while input its data type is 'str' which is text value. this is because input function consider all user input as a text value. for arithmetic operation we need to convert into int data type"
      ]
    },
    {
      "cell_type": "code",
      "metadata": {
        "colab": {
          "base_uri": "https://localhost:8080/"
        },
        "id": "ZKGY9mqoQPF5",
        "outputId": "973416ea-b12b-4e7c-8212-64398b3efeb4"
      },
      "source": [
        "x = int (input(\"Enter a number: \"))\n",
        "print (type(x))"
      ],
      "execution_count": null,
      "outputs": [
        {
          "output_type": "stream",
          "text": [
            "Enter a number: 87\n",
            "<class 'int'>\n"
          ],
          "name": "stdout"
        }
      ]
    },
    {
      "cell_type": "markdown",
      "metadata": {
        "id": "RqeAiX8XQXY_"
      },
      "source": [
        "**Binary, Octal & hexademical number**\n",
        "\n",
        "till now we observe that integers are decimal. But python allow you to save octact, binary and hexadecimal values as well"
      ]
    },
    {
      "cell_type": "code",
      "metadata": {
        "colab": {
          "base_uri": "https://localhost:8080/"
        },
        "id": "fk6ShyJ3QrxY",
        "outputId": "b70dc909-1f1a-4d2f-ce7f-1c9a09eba0ec"
      },
      "source": [
        "b = 0b10\n",
        "print (\"This is binary value: \")\n",
        "print (b)\n",
        "o = 0o17\n",
        "print (\"This is octal value: \")\n",
        "print (o)\n",
        "h = 0x10\n",
        "print (\"This is hexadecimal value: \")\n",
        "print (h)"
      ],
      "execution_count": null,
      "outputs": [
        {
          "output_type": "stream",
          "text": [
            "This is binary value: \n",
            "2\n",
            "This is octal value: \n",
            "15\n",
            "This is hexadecimal value: \n",
            "16\n"
          ],
          "name": "stdout"
        }
      ]
    },
    {
      "cell_type": "markdown",
      "metadata": {
        "id": "js30fU57Nu-b"
      },
      "source": [
        "*   Floating Point\n",
        "> *   The difference between floating points and integers is decimal points. Floating point number can be represented as “1.0”, and integer can be represented as “1”. It is accurate up to 15 decimal places.\n",
        "\n",
        "*   Complex Numbers\n",
        "> *   Will Discuss Later in advance topics"
      ]
    },
    {
      "cell_type": "code",
      "metadata": {
        "colab": {
          "base_uri": "https://localhost:8080/"
        },
        "id": "4m-gyeqRSnZZ",
        "outputId": "c65ebb84-2c31-4b3b-c35c-7ddf355d175f"
      },
      "source": [
        "x = float(input(\"Enter price of mobile: \"))\n",
        "print(x)\n"
      ],
      "execution_count": 30,
      "outputs": [
        {
          "output_type": "stream",
          "text": [
            "Enter price of mobile: 8\n",
            "8.0\n"
          ],
          "name": "stdout"
        }
      ]
    },
    {
      "cell_type": "markdown",
      "metadata": {
        "id": "cDheg3MhTZPw"
      },
      "source": [
        "**Exponent Form in float**"
      ]
    },
    {
      "cell_type": "code",
      "metadata": {
        "colab": {
          "base_uri": "https://localhost:8080/"
        },
        "id": "RvcUu1jqTdUQ",
        "outputId": "a29d9649-845a-4caa-f7ee-633858c92833"
      },
      "source": [
        "\n",
        "x = 1.2e5\n",
        "print (x)"
      ],
      "execution_count": 33,
      "outputs": [
        {
          "output_type": "stream",
          "text": [
            "120000.0\n"
          ],
          "name": "stdout"
        }
      ]
    }
  ]
}