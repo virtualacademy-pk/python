{
  "cells": [
    {
      "cell_type": "markdown",
      "metadata": {
        "id": "view-in-github",
        "colab_type": "text"
      },
      "source": [
        "<a href=\"https://colab.research.google.com/github/virtualacademy-pk/python/blob/main/Decorators_1.ipynb\" target=\"_parent\"><img src=\"https://colab.research.google.com/assets/colab-badge.svg\" alt=\"Open In Colab\"/></a>"
      ]
    },
    {
      "cell_type": "markdown",
      "metadata": {
        "id": "1KCET5wwtUYb"
      },
      "source": [
        "### Decorators (Part 1)"
      ]
    },
    {
      "cell_type": "markdown",
      "metadata": {
        "id": "YTngVAqYtUYe"
      },
      "source": [
        "Recall the example in the last section where we wrote a simple closure to count how many times a function had been run:"
      ]
    },
    {
      "cell_type": "code",
      "source": [
        "def uppercase_decorator(function):\n",
        "    def wrapper():\n",
        "        func = function()\n",
        "        make_uppercase = func.upper()\n",
        "        return make_uppercase\n",
        "\n",
        "    return wrapper\n",
        "  "
      ],
      "metadata": {
        "id": "D4y_H18hyIOx"
      },
      "execution_count": 2,
      "outputs": []
    },
    {
      "cell_type": "code",
      "source": [
        "def split_string(function):\n",
        "    def wrapper():\n",
        "        func = function()\n",
        "        splitted_string = func.split()\n",
        "        return splitted_string\n",
        "\n",
        "    return wrapper"
      ],
      "metadata": {
        "id": "jw-SwttNyXhJ"
      },
      "execution_count": 6,
      "outputs": []
    },
    {
      "cell_type": "code",
      "source": [
        "def say_hi():\n",
        "    return 'hello there'\n",
        "\n",
        "decorate = uppercase_decorator(say_hi)\n",
        "decorate()\n",
        "splitter = split_string(decorate)\n",
        "splitter()"
      ],
      "metadata": {
        "colab": {
          "base_uri": "https://localhost:8080/"
        },
        "id": "IdsSUbqWyNkp",
        "outputId": "f74c2fd2-74a2-47cc-f02c-54242bbd6fdc"
      },
      "execution_count": 8,
      "outputs": [
        {
          "output_type": "execute_result",
          "data": {
            "text/plain": [
              "['HELLO', 'THERE']"
            ]
          },
          "metadata": {},
          "execution_count": 8
        }
      ]
    },
    {
      "cell_type": "code",
      "execution_count": null,
      "metadata": {
        "collapsed": true,
        "id": "MoZD-gCUtUYe"
      },
      "outputs": [],
      "source": [
        "def counter(fn):\n",
        "    count = 0\n",
        "    \n",
        "    def inner(*args, **kwargs):\n",
        "        nonlocal count\n",
        "        count += 1\n",
        "        print('Function {0} was called {1} times'.format(fn.__name__, count))\n",
        "        return fn(*args, **kwargs)\n",
        "    return inner"
      ]
    },
    {
      "cell_type": "code",
      "execution_count": null,
      "metadata": {
        "collapsed": true,
        "id": "9xTKPlJRtUYf"
      },
      "outputs": [],
      "source": [
        "def add(a, b=0):\n",
        "    \"\"\"\n",
        "    returns the sum of a and b\n",
        "    \"\"\"\n",
        "    return a + b"
      ]
    },
    {
      "cell_type": "code",
      "execution_count": null,
      "metadata": {
        "id": "9vOUneyItUYg",
        "outputId": "3f463160-c1f9-497b-be59-7ba6d18d1485"
      },
      "outputs": [
        {
          "name": "stdout",
          "output_type": "stream",
          "text": [
            "Help on function add in module __main__:\n",
            "\n",
            "add(a, b=0)\n",
            "    returns the sum of a and b\n",
            "\n"
          ]
        }
      ],
      "source": [
        "help(add)"
      ]
    },
    {
      "cell_type": "markdown",
      "metadata": {
        "id": "lFccN9LGtUYh"
      },
      "source": [
        "Here's the memory address that `add` points to:"
      ]
    },
    {
      "cell_type": "code",
      "execution_count": null,
      "metadata": {
        "id": "it1m65-AtUYh",
        "outputId": "c56454ed-1f93-4025-f210-9d612fcb282c"
      },
      "outputs": [
        {
          "data": {
            "text/plain": [
              "2352389334696"
            ]
          },
          "execution_count": 4,
          "metadata": {},
          "output_type": "execute_result"
        }
      ],
      "source": [
        "id(add)"
      ]
    },
    {
      "cell_type": "markdown",
      "metadata": {
        "id": "hgIZLJEYtUYi"
      },
      "source": [
        "Now we create a closure using the `add` function as an argument to the `counter` function:"
      ]
    },
    {
      "cell_type": "code",
      "execution_count": null,
      "metadata": {
        "collapsed": true,
        "id": "nyvcYI57tUYi"
      },
      "outputs": [],
      "source": [
        "add = counter(add)"
      ]
    },
    {
      "cell_type": "markdown",
      "metadata": {
        "id": "h6GBNJO3tUYj"
      },
      "source": [
        "And you'll note that `add` is no longer the same function as before. Indeed the memory address `add` points to is no longer the same:"
      ]
    },
    {
      "cell_type": "code",
      "execution_count": null,
      "metadata": {
        "id": "w3ioocRAtUYj",
        "outputId": "678d3d4a-388b-4b63-e614-976a0674d1a4"
      },
      "outputs": [
        {
          "data": {
            "text/plain": [
              "2352404346128"
            ]
          },
          "execution_count": 6,
          "metadata": {},
          "output_type": "execute_result"
        }
      ],
      "source": [
        "id(add)"
      ]
    },
    {
      "cell_type": "code",
      "execution_count": null,
      "metadata": {
        "id": "28Z69joItUYk",
        "outputId": "9695a0d8-1024-485e-ad16-84c3b60acd12"
      },
      "outputs": [
        {
          "name": "stdout",
          "output_type": "stream",
          "text": [
            "Function add was called 1 times\n"
          ]
        },
        {
          "data": {
            "text/plain": [
              "3"
            ]
          },
          "execution_count": 7,
          "metadata": {},
          "output_type": "execute_result"
        }
      ],
      "source": [
        "add(1, 2)"
      ]
    },
    {
      "cell_type": "code",
      "execution_count": null,
      "metadata": {
        "id": "zynew-1LtUYk",
        "outputId": "237554cc-0c11-408d-98b3-623e77a94522"
      },
      "outputs": [
        {
          "name": "stdout",
          "output_type": "stream",
          "text": [
            "Function add was called 2 times\n"
          ]
        },
        {
          "data": {
            "text/plain": [
              "4"
            ]
          },
          "execution_count": 8,
          "metadata": {},
          "output_type": "execute_result"
        }
      ],
      "source": [
        "add(2, 2)"
      ]
    },
    {
      "cell_type": "markdown",
      "metadata": {
        "id": "7hKlXT5AtUYk"
      },
      "source": [
        "What happened is that we put our **add** function 'through' the **counter** function - we usually say that we **decorated** our function **add**.\n",
        "\n",
        "And we call that **counter** function a **decorator**.\n",
        "\n",
        "There is a shorthand way of decorating our function without having to type:\n",
        "\n",
        "``func = counter(func)``"
      ]
    },
    {
      "cell_type": "code",
      "execution_count": null,
      "metadata": {
        "collapsed": true,
        "id": "U0LUE_3LtUYl"
      },
      "outputs": [],
      "source": [
        "@counter\n",
        "def mult(a: float, b: float=1, c: float=1) -> float:\n",
        "    \"\"\"\n",
        "    returns the product of a, b, and c\n",
        "    \"\"\"\n",
        "    return a * b * c"
      ]
    },
    {
      "cell_type": "code",
      "execution_count": null,
      "metadata": {
        "id": "hUqUJZ6DtUYl",
        "outputId": "fe7882fb-41a8-44c2-bd0b-0eac4245f8b3"
      },
      "outputs": [
        {
          "name": "stdout",
          "output_type": "stream",
          "text": [
            "Function mult was called 1 times\n"
          ]
        },
        {
          "data": {
            "text/plain": [
              "6"
            ]
          },
          "execution_count": 10,
          "metadata": {},
          "output_type": "execute_result"
        }
      ],
      "source": [
        "mult(1, 2, 3)"
      ]
    },
    {
      "cell_type": "code",
      "execution_count": null,
      "metadata": {
        "id": "0BiVzjHVtUYl",
        "outputId": "d8082ae7-7736-4d2e-8f7a-f21ef7e5ae69"
      },
      "outputs": [
        {
          "name": "stdout",
          "output_type": "stream",
          "text": [
            "Function mult was called 2 times\n"
          ]
        },
        {
          "data": {
            "text/plain": [
              "8"
            ]
          },
          "execution_count": 11,
          "metadata": {},
          "output_type": "execute_result"
        }
      ],
      "source": [
        "mult(2, 2, 2)"
      ]
    },
    {
      "cell_type": "markdown",
      "metadata": {
        "id": "c3uah4RCtUYm"
      },
      "source": [
        "Let's do a little bit of introspection on our two decorated functions:"
      ]
    },
    {
      "cell_type": "code",
      "execution_count": null,
      "metadata": {
        "id": "5PDlMHE-tUYm",
        "outputId": "ea0c3876-4344-48ea-b3a4-544060704b45"
      },
      "outputs": [
        {
          "data": {
            "text/plain": [
              "'inner'"
            ]
          },
          "execution_count": 12,
          "metadata": {},
          "output_type": "execute_result"
        }
      ],
      "source": [
        "add.__name__"
      ]
    },
    {
      "cell_type": "code",
      "execution_count": null,
      "metadata": {
        "id": "lXUSD6FytUYm",
        "outputId": "9e6a742e-80b5-49ef-f682-f2ec6543396b"
      },
      "outputs": [
        {
          "data": {
            "text/plain": [
              "'inner'"
            ]
          },
          "execution_count": 13,
          "metadata": {},
          "output_type": "execute_result"
        }
      ],
      "source": [
        "mult.__name__"
      ]
    },
    {
      "cell_type": "markdown",
      "metadata": {
        "id": "WZqZUaDNtUYn"
      },
      "source": [
        "As you can see, the name of the function is no longer **add** or **mult**, but instead it is the name of that **inner** function in our decorator."
      ]
    },
    {
      "cell_type": "code",
      "execution_count": null,
      "metadata": {
        "id": "4nzqtTh-tUYn",
        "outputId": "32048e98-c2c8-4727-aaa1-37adee5e89d1"
      },
      "outputs": [
        {
          "name": "stdout",
          "output_type": "stream",
          "text": [
            "Help on function inner in module __main__:\n",
            "\n",
            "inner(*args, **kwargs)\n",
            "\n"
          ]
        }
      ],
      "source": [
        "help(add)"
      ]
    },
    {
      "cell_type": "code",
      "execution_count": null,
      "metadata": {
        "id": "Dy_ooKgqtUYn",
        "outputId": "d38a638a-9f2c-44de-dc95-93cf3b813757"
      },
      "outputs": [
        {
          "name": "stdout",
          "output_type": "stream",
          "text": [
            "Help on function inner in module __main__:\n",
            "\n",
            "inner(*args, **kwargs)\n",
            "\n"
          ]
        }
      ],
      "source": [
        "help(mult)"
      ]
    },
    {
      "cell_type": "markdown",
      "metadata": {
        "id": "CofjMb5ztUYn"
      },
      "source": [
        "As you can see, we've also lost our docstring and parameter annotations!"
      ]
    },
    {
      "cell_type": "markdown",
      "metadata": {
        "id": "sLEUn6cAtUYo"
      },
      "source": [
        "What about introspecting the parameters of **add** and **mult**:"
      ]
    },
    {
      "cell_type": "code",
      "execution_count": null,
      "metadata": {
        "collapsed": true,
        "id": "EWawa7UktUYo"
      },
      "outputs": [],
      "source": [
        "import inspect"
      ]
    },
    {
      "cell_type": "code",
      "execution_count": null,
      "metadata": {
        "id": "A3qOv9EEtUYo",
        "outputId": "8e42958b-a487-415c-fd37-2685f9fae372"
      },
      "outputs": [
        {
          "data": {
            "text/plain": [
              "\"    def inner(*args, **kwargs):\\n        nonlocal count\\n        count += 1\\n        print('Function {0} was called {1} times'.format(fn.__name__, count))\\n        return fn(*args, **kwargs)\\n\""
            ]
          },
          "execution_count": 17,
          "metadata": {},
          "output_type": "execute_result"
        }
      ],
      "source": [
        "inspect.getsource(add)"
      ]
    },
    {
      "cell_type": "code",
      "execution_count": null,
      "metadata": {
        "id": "T0aZdQDctUYo",
        "outputId": "4ae5bb29-c1f5-4cae-dcc2-8f893b58138f"
      },
      "outputs": [
        {
          "data": {
            "text/plain": [
              "\"    def inner(*args, **kwargs):\\n        nonlocal count\\n        count += 1\\n        print('Function {0} was called {1} times'.format(fn.__name__, count))\\n        return fn(*args, **kwargs)\\n\""
            ]
          },
          "execution_count": 18,
          "metadata": {},
          "output_type": "execute_result"
        }
      ],
      "source": [
        "inspect.getsource(mult)"
      ]
    },
    {
      "cell_type": "markdown",
      "metadata": {
        "id": "qcJYt2O9tUYo"
      },
      "source": [
        "Even the signature is gone:"
      ]
    },
    {
      "cell_type": "code",
      "execution_count": null,
      "metadata": {
        "id": "dwSFGOrItUYo",
        "outputId": "20bba0a8-087c-41fa-ad81-e3d872fa88f0"
      },
      "outputs": [
        {
          "data": {
            "text/plain": [
              "<Signature (*args, **kwargs)>"
            ]
          },
          "execution_count": 19,
          "metadata": {},
          "output_type": "execute_result"
        }
      ],
      "source": [
        "inspect.signature(add)"
      ]
    },
    {
      "cell_type": "code",
      "execution_count": null,
      "metadata": {
        "id": "5C-NNywhtUYp",
        "outputId": "8ed327d6-4c8c-4f17-c696-7b8037bed52c"
      },
      "outputs": [
        {
          "data": {
            "text/plain": [
              "<Signature (*args, **kwargs)>"
            ]
          },
          "execution_count": 20,
          "metadata": {},
          "output_type": "execute_result"
        }
      ],
      "source": [
        "inspect.signature(mult)"
      ]
    },
    {
      "cell_type": "markdown",
      "metadata": {
        "id": "SzYmIyK4tUYp"
      },
      "source": [
        "Even the parameter defaults documentation is are gone:"
      ]
    },
    {
      "cell_type": "code",
      "execution_count": null,
      "metadata": {
        "id": "cwrDle_htUYp",
        "outputId": "2398d9d2-aaac-4cfc-a9b7-6b36708b72a4"
      },
      "outputs": [
        {
          "data": {
            "text/plain": [
              "mappingproxy({'args': <Parameter \"*args\">, 'kwargs': <Parameter \"**kwargs\">})"
            ]
          },
          "execution_count": 21,
          "metadata": {},
          "output_type": "execute_result"
        }
      ],
      "source": [
        "inspect.signature(add).parameters"
      ]
    },
    {
      "cell_type": "markdown",
      "metadata": {
        "id": "kq4n3zfbtUYp"
      },
      "source": [
        "In general, when we create decorated functions, we end up \"losing\" a lot of the metadata of our original function!"
      ]
    },
    {
      "cell_type": "markdown",
      "metadata": {
        "id": "SP4Z2n6btUYp"
      },
      "source": [
        "However, we **can** put that information back in - it can get quite complicated.\n",
        "\n",
        "Let's see how we might be able to do that for some simple things, like the docstring and the function name."
      ]
    },
    {
      "cell_type": "code",
      "execution_count": null,
      "metadata": {
        "collapsed": true,
        "id": "nH46M9vftUYp"
      },
      "outputs": [],
      "source": [
        "def counter(fn):\n",
        "    count = 0\n",
        "    \n",
        "    def inner(*args, **kwargs):\n",
        "        nonlocal count\n",
        "        count += 1\n",
        "        print(\"{0} was called {1} times\".format(fn.__name__, count))\n",
        "    inner.__name__ = fn.__name__\n",
        "    inner.__doc__ = fn.__doc__\n",
        "    return inner"
      ]
    },
    {
      "cell_type": "code",
      "execution_count": null,
      "metadata": {
        "collapsed": true,
        "id": "MakuG7CptUYq"
      },
      "outputs": [],
      "source": [
        "@counter\n",
        "def add(a: int, b: int=10) -> int:\n",
        "    \"\"\"\n",
        "    returns sum of two integers\n",
        "    \"\"\"\n",
        "    return a + b"
      ]
    },
    {
      "cell_type": "code",
      "execution_count": null,
      "metadata": {
        "id": "BCv9ZnrEtUYq",
        "outputId": "c0728c91-08e9-4ff0-bda9-7b696a35d1f5"
      },
      "outputs": [
        {
          "name": "stdout",
          "output_type": "stream",
          "text": [
            "Help on function add in module __main__:\n",
            "\n",
            "add(*args, **kwargs)\n",
            "    returns sum of two integers\n",
            "\n"
          ]
        }
      ],
      "source": [
        "help(add)"
      ]
    },
    {
      "cell_type": "code",
      "execution_count": null,
      "metadata": {
        "id": "zD28RScctUYq",
        "outputId": "fcb0cedf-a386-4913-b797-6f848e21be2b"
      },
      "outputs": [
        {
          "data": {
            "text/plain": [
              "'add'"
            ]
          },
          "execution_count": 25,
          "metadata": {},
          "output_type": "execute_result"
        }
      ],
      "source": [
        "add.__name__"
      ]
    },
    {
      "cell_type": "markdown",
      "metadata": {
        "id": "8iWGNF8utUYq"
      },
      "source": [
        "At least we have the docstring and function name back... But what about the parameters? Our real **add** function takes two positional parameters, but because the closure used a generic way of accepting **\\*args** and **\\*\\*kwargs**, we lose this information"
      ]
    },
    {
      "cell_type": "markdown",
      "metadata": {
        "id": "oLQHccRItUYr"
      },
      "source": [
        "We can use a special function in the **functools** module, called **wraps**. In fact, that function is a decorator itself!"
      ]
    },
    {
      "cell_type": "code",
      "execution_count": null,
      "metadata": {
        "collapsed": true,
        "id": "j58Iol5rtUYr"
      },
      "outputs": [],
      "source": [
        "from functools import wraps"
      ]
    },
    {
      "cell_type": "code",
      "execution_count": null,
      "metadata": {
        "collapsed": true,
        "id": "Mq3ATCJ9tUYr"
      },
      "outputs": [],
      "source": [
        "def counter(fn):\n",
        "    count = 0\n",
        "    \n",
        "    @wraps(fn)\n",
        "    def inner(*args, **kwargs):\n",
        "        nonlocal count\n",
        "        count += 1\n",
        "        print(\"{0} was called {1} times\".format(fn.__name__, count))\n",
        "\n",
        "    return inner"
      ]
    },
    {
      "cell_type": "code",
      "execution_count": null,
      "metadata": {
        "collapsed": true,
        "id": "AD08zh53tUYr"
      },
      "outputs": [],
      "source": [
        "@counter\n",
        "def add(a: int, b: int=10) -> int:\n",
        "    \"\"\"\n",
        "    returns sum of two integers\n",
        "    \"\"\"\n",
        "    return a + b"
      ]
    },
    {
      "cell_type": "code",
      "execution_count": null,
      "metadata": {
        "id": "d3gIX6GVtUYr",
        "outputId": "6d0b05a4-f5df-4d4c-80ae-773155929249"
      },
      "outputs": [
        {
          "name": "stdout",
          "output_type": "stream",
          "text": [
            "Help on function add in module __main__:\n",
            "\n",
            "add(a:int, b:int=10) -> int\n",
            "    returns sum of two integers\n",
            "\n"
          ]
        }
      ],
      "source": [
        "help(add)"
      ]
    },
    {
      "cell_type": "markdown",
      "metadata": {
        "id": "eYPUMEEgtUYr"
      },
      "source": [
        "Yay!!! Everything is back to normal."
      ]
    },
    {
      "cell_type": "code",
      "execution_count": null,
      "metadata": {
        "id": "cOM0PEiZtUYs",
        "outputId": "607ac5a0-64de-4df1-b3d7-f429c1fc7dbc"
      },
      "outputs": [
        {
          "data": {
            "text/plain": [
              "'@counter\\ndef add(a: int, b: int=10) -> int:\\n    \"\"\"\\n    returns sum of two integers\\n    \"\"\"\\n    return a + b\\n'"
            ]
          },
          "execution_count": 30,
          "metadata": {},
          "output_type": "execute_result"
        }
      ],
      "source": [
        "inspect.getsource(add)"
      ]
    },
    {
      "cell_type": "code",
      "execution_count": null,
      "metadata": {
        "id": "uBn5ydd5tUYs",
        "outputId": "645fe093-155b-4457-b29c-27eb679a5449"
      },
      "outputs": [
        {
          "data": {
            "text/plain": [
              "<Signature (a:int, b:int=10) -> int>"
            ]
          },
          "execution_count": 31,
          "metadata": {},
          "output_type": "execute_result"
        }
      ],
      "source": [
        "inspect.signature(add)"
      ]
    },
    {
      "cell_type": "code",
      "execution_count": null,
      "metadata": {
        "id": "nBRLnoQ0tUYs",
        "outputId": "7e49eccb-1db6-447d-af30-ac3df086578b"
      },
      "outputs": [
        {
          "data": {
            "text/plain": [
              "mappingproxy({'a': <Parameter \"a:int\">, 'b': <Parameter \"b:int=10\">})"
            ]
          },
          "execution_count": 32,
          "metadata": {},
          "output_type": "execute_result"
        }
      ],
      "source": [
        "inspect.signature(add).parameters"
      ]
    },
    {
      "cell_type": "code",
      "source": [
        "# Decorators\n",
        "# In general a decorator function:\n",
        "# • takes a function as an argument\n",
        "# • returns a closure\n",
        "# • the closure usually accepts any combination of parameters\n",
        "# • runs some code in the inner function (closure)\n",
        "# • the closure function calls the original function using the arguments passed to the closure\n",
        "# • returns whatever is returned by that function call\n",
        "\n",
        "\n",
        "\n",
        "def uppercase_decorator(fn):\n",
        "    def wrapper(*args, **kwargs):\n",
        "        func = fn(*args, **kwargs)\n",
        "        make_upper = func.upper()\n",
        "        return make_upper\n",
        "    return wrapper\n",
        "\n",
        "def split_decorator(fn):\n",
        "    def wrapper(*args, **kwargs):\n",
        "        func = fn(*args, **kwargs)\n",
        "        result = func.split()\n",
        "        return result\n",
        "    return wrapper\n",
        "\n",
        "\n",
        "@split_decorator\n",
        "@uppercase_decorator\n",
        "def say_hi(user):\n",
        "    \"\"\"\n",
        "    This is Simple message function\n",
        "    :param user:\n",
        "    :return:\n",
        "    \"\"\"\n",
        "    return \"hello dear \" + user\n",
        "\n",
        "print(say_hi('Ali'))\n",
        "help(say_hi)\n",
        "# decorator = uppercase_decorator(say_hi)\n",
        "# splitter = split_decorator(decorator)\n",
        "#\n",
        "# print(splitter('Ali Imran'))"
      ],
      "metadata": {
        "id": "skRM41HtwLcP"
      },
      "execution_count": null,
      "outputs": []
    },
    {
      "cell_type": "markdown",
      "source": [
        "**# Decorator with attribute**"
      ],
      "metadata": {
        "id": "jDY0Y_Of7Vry"
      }
    },
    {
      "cell_type": "code",
      "source": [
        "\n",
        "def case_decorator(case):\n",
        "    def _decorator(fn):\n",
        "        @wraps(fn)\n",
        "        def wrapper(*args, **kwargs):\n",
        "            ret_val = fn(*args, **kwargs)\n",
        "            if case == 'U':\n",
        "                 ret_val = ret_val.upper()\n",
        "            elif case == 'L':\n",
        "                 ret_val = ret_val.lower()\n",
        "            return ret_val\n",
        "        wrapper.__name__ = fn.__name__\n",
        "        wrapper.__doc__ = fn.__doc__\n",
        "        return wrapper\n",
        "    return  _decorator\n",
        "@split_decorator\n",
        "@case_decorator(case = 'U')\n",
        "def say_hi(user):\n",
        "    \"\"\"\n",
        "    This is Simple message function\n",
        "    :param user:\n",
        "    :return:\n",
        "    \"\"\"\n",
        "    return \"hello dear \" + user\n",
        "\n",
        "\n",
        "print(say_hi('Imran'))"
      ],
      "metadata": {
        "id": "vnSZOxXw7UV9"
      },
      "execution_count": null,
      "outputs": []
    }
  ],
  "metadata": {
    "kernelspec": {
      "display_name": "Python 3",
      "language": "python",
      "name": "python3"
    },
    "language_info": {
      "codemirror_mode": {
        "name": "ipython",
        "version": 3
      },
      "file_extension": ".py",
      "mimetype": "text/x-python",
      "name": "python",
      "nbconvert_exporter": "python",
      "pygments_lexer": "ipython3",
      "version": "3.6.2"
    },
    "colab": {
      "name": "Decorators 1.ipynb",
      "provenance": [],
      "collapsed_sections": [],
      "include_colab_link": true
    }
  },
  "nbformat": 4,
  "nbformat_minor": 0
}