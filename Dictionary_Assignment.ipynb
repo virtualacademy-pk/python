{
  "cells": [
    {
      "cell_type": "markdown",
      "metadata": {
        "id": "view-in-github",
        "colab_type": "text"
      },
      "source": [
        "<a href=\"https://colab.research.google.com/github/virtualacademy-pk/python/blob/main/Dictionary_Assignment.ipynb\" target=\"_parent\"><img src=\"https://colab.research.google.com/assets/colab-badge.svg\" alt=\"Open In Colab\"/></a>"
      ]
    },
    {
      "cell_type": "code",
      "execution_count": null,
      "metadata": {
        "id": "FQt2ikRBeoi3"
      },
      "outputs": [],
      "source": [
        "from collections import namedtuple\n"
      ]
    },
    {
      "cell_type": "code",
      "execution_count": null,
      "metadata": {
        "colab": {
          "base_uri": "https://localhost:8080/"
        },
        "id": "pfjgxK0BfuhD",
        "outputId": "7352e7ce-df8a-4664-8552-f26a0871765d"
      },
      "outputs": [
        {
          "name": "stdout",
          "output_type": "stream",
          "text": [
            "=== Welcome to Inventory Management ===\n",
            "1  Add Product \n",
            "2  View Product \n",
            "3  Search Product \n",
            "4  Delete Product \n",
            "5  Modify Product \n",
            "6  Exit \n",
            "Please select: 4\n",
            " Enter Product Id to delete:1\n",
            "Product Deleted Successfully\n",
            "Please select: 2\n",
            "Please select: 6\n"
          ]
        }
      ],
      "source": [
        "from collections import namedtuple\n",
        "products = [{'id': 1, 'name': 'I Phone', 'category': 'Mobile', 'price': 9000}]\n",
        "print(\"=== Welcome to Inventory Management ===\")\n",
        "print(\"1  Add Product \")\n",
        "print(\"2  View Product \")\n",
        "print(\"3  Search Product \")\n",
        "print(\"4  Delete Product \")\n",
        "print(\"5  Modify Product \")\n",
        "print(\"6  Exit \")\n",
        "\n",
        "\n",
        "while True:\n",
        "  type = int(input(\"Please select: \"))\n",
        "  if type == 1:\n",
        "    id = input(\"Enter Product Id: \")\n",
        "    name = input(\"Enter Product Name: \")\n",
        "    category = input(\"Enter Product Category: \")\n",
        "    price = input(\"Enter Product Price: \")\n",
        "    products.append({'id': id, 'name': name, 'category': category, 'price': price})\n",
        "    print(\" Added successfully! \")\n",
        "  elif type == 2:\n",
        "    for index in range(len(products) ):\n",
        "      print (products[index].get('id'), '\\t',  products[index].get('name'), '\\t', products[index].get('category'), '\\t', products[index].get('price'))\n",
        "  elif type == 3:\n",
        "    id = int(input(\" Enter Product Id to Search:\"))\n",
        "    product = None;\n",
        "    for index in range(len(products) ):\n",
        "      if (products[index].get('id') == id):\n",
        "        product = products[index];\n",
        "        break;\n",
        "    if (product):\n",
        "      print(\"Id:\",product.get('id'))\n",
        "      print(\"Product Name :\",product.get('name'))\n",
        "      print(\"Category :\",product.get('category'))\n",
        "      print(\"Price :\",product.get('price'))\n",
        "    else:\n",
        "      print ('Product not Found')\n",
        "  elif type == 4:\n",
        "    id = int(input(\" Enter Product Id to delete:\"))\n",
        "    deleted = False\n",
        "    for index in range(len(products) ):\n",
        "      if (products[index].get('id') == id):\n",
        "        del products[index];\n",
        "        deleted = True\n",
        "        break;\n",
        "    if deleted:\n",
        "       print('Product Deleted Successfully')   \n",
        "    else:\n",
        "      print('No Product Found with this id')          \n",
        "  elif type == 5:\n",
        "    id = int(input(\" Enter Product Id to Modify:\"))\n",
        "    updated = False\n",
        "    for index in range(len(products) ):\n",
        "      if (products[index].get('id') == id):\n",
        "        name = input(\"Enter Product Name: \")\n",
        "        category = input(\"Enter Product Category: \")\n",
        "        price = input(\"Enter Product Price: \")\n",
        "        products[index] = {'id': id, 'name': name, 'category': category, 'price': price}\n",
        "        updated = True\n",
        "        break;\n",
        "    if (updated):\n",
        "      print ('Product Updated successfully')\n",
        "    else:\n",
        "      print ('Product not Found')\n",
        "  elif type == 6:\n",
        "    break\n",
        "  else:\n",
        "    print ('Invalid Option')"
      ]
    }
  ],
  "metadata": {
    "colab": {
      "collapsed_sections": [],
      "name": "Dictionary Assignment.ipynb",
      "provenance": [],
      "authorship_tag": "ABX9TyNQkzFO4g2cZSyNt+NS6V1T",
      "include_colab_link": true
    },
    "kernelspec": {
      "display_name": "Python 3",
      "name": "python3"
    },
    "language_info": {
      "name": "python"
    }
  },
  "nbformat": 4,
  "nbformat_minor": 0
}