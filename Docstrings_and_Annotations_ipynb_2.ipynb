{
  "cells": [
    {
      "cell_type": "markdown",
      "metadata": {
        "id": "view-in-github",
        "colab_type": "text"
      },
      "source": [
        "<a href=\"https://colab.research.google.com/github/virtualacademy-pk/python/blob/main/Docstrings_and_Annotations_ipynb_2.ipynb\" target=\"_parent\"><img src=\"https://colab.research.google.com/assets/colab-badge.svg\" alt=\"Open In Colab\"/></a>"
      ]
    },
    {
      "cell_type": "markdown",
      "metadata": {
        "id": "2yHj5ngeauyv"
      },
      "source": [
        "### Docstrings and Annotations"
      ]
    },
    {
      "cell_type": "markdown",
      "metadata": {
        "id": "OpvVwBisauyz"
      },
      "source": [
        "#### Docstrings"
      ]
    },
    {
      "cell_type": "markdown",
      "metadata": {
        "collapsed": true,
        "id": "1ajPpHBiauyz"
      },
      "source": [
        "When we call **help()** on a class, function, module, etc, Python will typically display some information:"
      ]
    },
    {
      "cell_type": "code",
      "execution_count": null,
      "metadata": {
        "id": "4vJqU7Jyauy0",
        "outputId": "14d0e3aa-2d54-4f85-87b3-5e0ae7f36364"
      },
      "outputs": [
        {
          "name": "stdout",
          "output_type": "stream",
          "text": [
            "Help on built-in function print in module builtins:\n",
            "\n",
            "print(...)\n",
            "    print(value, ..., sep=' ', end='\\n', file=sys.stdout, flush=False)\n",
            "    \n",
            "    Prints the values to a stream, or to sys.stdout by default.\n",
            "    Optional keyword arguments:\n",
            "    file:  a file-like object (stream); defaults to the current sys.stdout.\n",
            "    sep:   string inserted between values, default a space.\n",
            "    end:   string appended after the last value, default a newline.\n",
            "    flush: whether to forcibly flush the stream.\n",
            "\n"
          ]
        }
      ],
      "source": [
        "help(print)"
      ]
    },
    {
      "cell_type": "markdown",
      "metadata": {
        "id": "EH-T_DrXauy1"
      },
      "source": [
        "We can define such help using docstrings and annotations."
      ]
    },
    {
      "cell_type": "code",
      "execution_count": null,
      "metadata": {
        "collapsed": true,
        "id": "reml_D2hauy1"
      },
      "outputs": [],
      "source": [
        "def my_func(a, b):\n",
        "    return a*b"
      ]
    },
    {
      "cell_type": "code",
      "execution_count": null,
      "metadata": {
        "id": "iVXZ5kEFauy2",
        "outputId": "17c2d464-fb2e-4cc3-bbb1-a9eb96ba3c09"
      },
      "outputs": [
        {
          "name": "stdout",
          "output_type": "stream",
          "text": [
            "Help on function my_func in module __main__:\n",
            "\n",
            "my_func(a, b)\n",
            "\n"
          ]
        }
      ],
      "source": [
        "help(my_func)"
      ]
    },
    {
      "cell_type": "markdown",
      "metadata": {
        "id": "3hqDAsMJauy4"
      },
      "source": [
        "Pretty bare! So let's add some additional help:"
      ]
    },
    {
      "cell_type": "code",
      "execution_count": null,
      "metadata": {
        "collapsed": true,
        "id": "gGG76YYkauy4"
      },
      "outputs": [],
      "source": [
        "def my_func(a, b):\n",
        "    'Returns the product of a and b'\n",
        "    return a*b"
      ]
    },
    {
      "cell_type": "code",
      "execution_count": null,
      "metadata": {
        "id": "xl5i6Ijbauy4",
        "outputId": "9511533c-edba-42bb-a284-efe557752c96"
      },
      "outputs": [
        {
          "name": "stdout",
          "output_type": "stream",
          "text": [
            "Help on function my_func in module __main__:\n",
            "\n",
            "my_func(a, b)\n",
            "    Returns the product of a and b\n",
            "\n"
          ]
        }
      ],
      "source": [
        "help(my_func)"
      ]
    },
    {
      "cell_type": "markdown",
      "metadata": {
        "id": "wSndiadnauy5"
      },
      "source": [
        "Docstrings can span multiple lines using a multi-line string literal:"
      ]
    },
    {
      "cell_type": "code",
      "execution_count": null,
      "metadata": {
        "collapsed": true,
        "id": "ohN6Xb3Tauy5"
      },
      "outputs": [],
      "source": [
        "def fact(n):\n",
        "    '''Calculates n! (factorial function)\n",
        "    \n",
        "    Inputs:\n",
        "        n: non-negative integer\n",
        "    Returns:\n",
        "        the factorial of n\n",
        "    '''\n",
        "    \n",
        "    if n < 0:\n",
        "        '''Note that this is not part of the docstring!'''\n",
        "        return 1\n",
        "    else:\n",
        "        return n * fact(n-1)\n",
        "    \n",
        "    "
      ]
    },
    {
      "cell_type": "code",
      "execution_count": null,
      "metadata": {
        "id": "xa0bex4lauy6",
        "outputId": "cd177361-6c90-425e-e2d0-b051d5752f83"
      },
      "outputs": [
        {
          "name": "stdout",
          "output_type": "stream",
          "text": [
            "Help on function fact in module __main__:\n",
            "\n",
            "fact(n)\n",
            "    Calculates n! (factorial function)\n",
            "    \n",
            "    Inputs:\n",
            "        n: non-negative integer\n",
            "    Returns:\n",
            "        the factorial of n\n",
            "\n"
          ]
        }
      ],
      "source": [
        "help(fact)"
      ]
    },
    {
      "cell_type": "markdown",
      "metadata": {
        "id": "850AN8QNauy6"
      },
      "source": [
        "Docstrings, when found, are simply attached to the function in the `__doc__` property:"
      ]
    },
    {
      "cell_type": "code",
      "execution_count": null,
      "metadata": {
        "id": "GkGkcHv8auy6",
        "outputId": "01971a6d-a0bd-4781-a026-0ad2439012fc"
      },
      "outputs": [
        {
          "data": {
            "text/plain": [
              "'Calculates n! (factorial function)\\n    \\n    Inputs:\\n        n: non-negative integer\\n    Returns:\\n        the factorial of n\\n    '"
            ]
          },
          "execution_count": 8,
          "metadata": {},
          "output_type": "execute_result"
        }
      ],
      "source": [
        "fact.__doc__"
      ]
    },
    {
      "cell_type": "markdown",
      "metadata": {
        "id": "GlPK0wXbauy7"
      },
      "source": [
        "And the Python **help()** function simply returns the contents of `__doc__`"
      ]
    },
    {
      "cell_type": "markdown",
      "metadata": {
        "id": "Uu68oTm9auy7"
      },
      "source": [
        "#### Annotations"
      ]
    },
    {
      "cell_type": "markdown",
      "metadata": {
        "id": "Q0jJV_uqauy7"
      },
      "source": [
        "We can also add metadata annotations to a function's parameters and return. These metadata annotations can be any **expression** (string, type, function call, etc)"
      ]
    },
    {
      "cell_type": "code",
      "execution_count": null,
      "metadata": {
        "collapsed": true,
        "id": "chBMSvazauy7"
      },
      "outputs": [],
      "source": [
        "def my_func(a:'annotation for a', \n",
        "            b:'annotation for b')->'annotation for return':\n",
        "    \n",
        "    return a*b"
      ]
    },
    {
      "cell_type": "code",
      "execution_count": null,
      "metadata": {
        "id": "BUm2qxeKauy8",
        "outputId": "31b4b359-d559-40a3-b890-97ea18ff3a06"
      },
      "outputs": [
        {
          "name": "stdout",
          "output_type": "stream",
          "text": [
            "Help on function my_func in module __main__:\n",
            "\n",
            "my_func(a:'annotation for a', b:'annotation for b') -> 'annotation for return'\n",
            "\n"
          ]
        }
      ],
      "source": [
        "help(my_func)"
      ]
    },
    {
      "cell_type": "markdown",
      "metadata": {
        "id": "1ejQOPv1auy8"
      },
      "source": [
        "The annotations can be any expression, not just strings:"
      ]
    },
    {
      "cell_type": "code",
      "execution_count": null,
      "metadata": {
        "collapsed": true,
        "id": "V5wnzzUuauy8"
      },
      "outputs": [],
      "source": [
        "x = 3\n",
        "y = 5\n",
        "def my_func(a: str) -> 'a repeated ' + str(max(3, 5)) + ' times':\n",
        "\treturn a*max(x, y)"
      ]
    },
    {
      "cell_type": "code",
      "execution_count": null,
      "metadata": {
        "id": "ETefYKh5auy8",
        "outputId": "bd3e183f-3f2e-47a7-ba7a-8411aebd4411"
      },
      "outputs": [
        {
          "name": "stdout",
          "output_type": "stream",
          "text": [
            "Help on function my_func in module __main__:\n",
            "\n",
            "my_func(a:str) -> 'a repeated 5 times'\n",
            "\n"
          ]
        }
      ],
      "source": [
        "help(my_func)"
      ]
    },
    {
      "cell_type": "markdown",
      "metadata": {
        "id": "f7TLPnceauy9"
      },
      "source": [
        "Note that these annotations do **not** force a type on the parameters or the return value - they are simply there for documentation purposes within Python and **may** be used by external applications and modules, such as IDE's."
      ]
    },
    {
      "cell_type": "markdown",
      "metadata": {
        "id": "U3emsflkauy9"
      },
      "source": [
        "Just like docstrings are stored in the `__doc__` property, annotations are stored in the `__annotations__` property - a dictionary whose keys are the parameter names, and values are the annotation."
      ]
    },
    {
      "cell_type": "code",
      "execution_count": null,
      "metadata": {
        "id": "HdjyYgHZauy9",
        "outputId": "2f95013c-ca00-4c19-8d2e-1a2743df3079"
      },
      "outputs": [
        {
          "data": {
            "text/plain": [
              "{'a': str, 'return': 'a repeated 5 times'}"
            ]
          },
          "execution_count": 13,
          "metadata": {},
          "output_type": "execute_result"
        }
      ],
      "source": [
        "my_func.__annotations__"
      ]
    },
    {
      "cell_type": "markdown",
      "metadata": {
        "id": "s3QAzjEXauy9"
      },
      "source": [
        "Of course we can combine both docstrings and annotations:"
      ]
    },
    {
      "cell_type": "code",
      "execution_count": null,
      "metadata": {
        "collapsed": true,
        "id": "Wd7mDZcMauy-"
      },
      "outputs": [],
      "source": [
        "def fact(n: 'int >= 0')->int:\n",
        "    '''Calculates n! (factorial function)\n",
        "    \n",
        "    Inputs:\n",
        "        n: non-negative integer\n",
        "    Returns:\n",
        "        the factorial of n\n",
        "    '''\n",
        "    \n",
        "    if n < 0:\n",
        "        '''Note that this is not part of the docstring!'''\n",
        "        return 1\n",
        "    else:\n",
        "        return n * fact(n-1)"
      ]
    },
    {
      "cell_type": "code",
      "execution_count": null,
      "metadata": {
        "id": "4Qt2oy7mauy-",
        "outputId": "7aeb7562-e8e6-423a-8921-0ccc895c5e4e"
      },
      "outputs": [
        {
          "name": "stdout",
          "output_type": "stream",
          "text": [
            "Help on function fact in module __main__:\n",
            "\n",
            "fact(n:'int >= 0') -> int\n",
            "    Calculates n! (factorial function)\n",
            "    \n",
            "    Inputs:\n",
            "        n: non-negative integer\n",
            "    Returns:\n",
            "        the factorial of n\n",
            "\n"
          ]
        }
      ],
      "source": [
        "help(fact)"
      ]
    },
    {
      "cell_type": "markdown",
      "metadata": {
        "id": "gqER_KkCauy-"
      },
      "source": [
        "Annotations will work with default parameters too: just specify the default **after** the annotation:"
      ]
    },
    {
      "cell_type": "code",
      "execution_count": null,
      "metadata": {
        "collapsed": true,
        "id": "JeUQqC6tauy-"
      },
      "outputs": [],
      "source": [
        "def my_func(a:str='a', b:int=1)->str:\n",
        "    return a*b"
      ]
    },
    {
      "cell_type": "code",
      "execution_count": null,
      "metadata": {
        "id": "KOx27x73auy_",
        "outputId": "0c24b339-93b0-4c17-fb24-06ec0e12146e"
      },
      "outputs": [
        {
          "name": "stdout",
          "output_type": "stream",
          "text": [
            "Help on function my_func in module __main__:\n",
            "\n",
            "my_func(a:str='a', b:int=1) -> str\n",
            "\n"
          ]
        }
      ],
      "source": [
        "help(my_func)"
      ]
    },
    {
      "cell_type": "code",
      "execution_count": null,
      "metadata": {
        "id": "WY2ubMgSauy_",
        "outputId": "040ca7a6-a7f1-4dab-c9a4-22702ee8050b"
      },
      "outputs": [
        {
          "data": {
            "text/plain": [
              "'a'"
            ]
          },
          "execution_count": 18,
          "metadata": {},
          "output_type": "execute_result"
        }
      ],
      "source": [
        "my_func()"
      ]
    },
    {
      "cell_type": "code",
      "execution_count": null,
      "metadata": {
        "id": "WpOxHtTBauy_",
        "outputId": "534c1daa-b5d1-468e-c62a-ae77f1d87691"
      },
      "outputs": [
        {
          "data": {
            "text/plain": [
              "'abcabcabc'"
            ]
          },
          "execution_count": 19,
          "metadata": {},
          "output_type": "execute_result"
        }
      ],
      "source": [
        "my_func('abc', 3)"
      ]
    },
    {
      "cell_type": "code",
      "execution_count": null,
      "metadata": {
        "collapsed": true,
        "id": "oaDgiNqgauy_"
      },
      "outputs": [],
      "source": [
        "def my_func(a:int=0, *args:'additional args'):\n",
        "    print(a, args)"
      ]
    },
    {
      "cell_type": "code",
      "execution_count": null,
      "metadata": {
        "id": "heOyhqDWauzA",
        "outputId": "34ca4886-aa54-416c-928a-3e771014c031"
      },
      "outputs": [
        {
          "data": {
            "text/plain": [
              "{'a': int, 'args': 'additional args'}"
            ]
          },
          "execution_count": 21,
          "metadata": {},
          "output_type": "execute_result"
        }
      ],
      "source": [
        "my_func.__annotations__"
      ]
    },
    {
      "cell_type": "code",
      "execution_count": null,
      "metadata": {
        "id": "DggAjZblauzA",
        "outputId": "9d0cf988-55ad-4d1b-a6d6-aecc0caec54c"
      },
      "outputs": [
        {
          "name": "stdout",
          "output_type": "stream",
          "text": [
            "Help on function my_func in module __main__:\n",
            "\n",
            "my_func(a:int=0, *args:'additional args')\n",
            "\n"
          ]
        }
      ],
      "source": [
        "help(my_func)"
      ]
    }
  ],
  "metadata": {
    "kernelspec": {
      "display_name": "Python 3",
      "language": "python",
      "name": "python3"
    },
    "language_info": {
      "codemirror_mode": {
        "name": "ipython",
        "version": 3
      },
      "file_extension": ".py",
      "mimetype": "text/x-python",
      "name": "python",
      "nbconvert_exporter": "python",
      "pygments_lexer": "ipython3",
      "version": "3.6.2"
    },
    "colab": {
      "name": "Docstrings and Annotations.ipynb 2",
      "provenance": [],
      "include_colab_link": true
    }
  },
  "nbformat": 4,
  "nbformat_minor": 0
}