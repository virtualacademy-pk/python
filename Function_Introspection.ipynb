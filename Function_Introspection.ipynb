{
  "cells": [
    {
      "cell_type": "markdown",
      "metadata": {
        "id": "view-in-github",
        "colab_type": "text"
      },
      "source": [
        "<a href=\"https://colab.research.google.com/github/virtualacademy-pk/python/blob/main/Function_Introspection.ipynb\" target=\"_parent\"><img src=\"https://colab.research.google.com/assets/colab-badge.svg\" alt=\"Open In Colab\"/></a>"
      ]
    },
    {
      "cell_type": "markdown",
      "metadata": {
        "id": "df2gzkV5T2aT"
      },
      "source": [
        "### Function Introspection"
      ]
    },
    {
      "cell_type": "code",
      "execution_count": null,
      "metadata": {
        "collapsed": true,
        "id": "3qOrHu00T2aW"
      },
      "outputs": [],
      "source": [
        "def fact(n: \"some non-negative integer\") -> \"n! or 0 if n < 0\":\n",
        "    \"\"\"Calculates the factorial of a non-negative integer n\n",
        "    \n",
        "    If n is negative, returns 0.\n",
        "    \"\"\"\n",
        "    if n < 0:\n",
        "        return 0\n",
        "    elif n <= 1:\n",
        "        return 1\n",
        "    else:\n",
        "        return n * fact(n-1)"
      ]
    },
    {
      "cell_type": "markdown",
      "metadata": {
        "id": "rppwz22OT2aX"
      },
      "source": [
        "Since functions are objects, we can add attributes to a function:"
      ]
    },
    {
      "cell_type": "code",
      "execution_count": null,
      "metadata": {
        "collapsed": true,
        "id": "UP2oLT7eT2aY"
      },
      "outputs": [],
      "source": [
        "fact.short_description = \"factorial function\""
      ]
    },
    {
      "cell_type": "code",
      "execution_count": null,
      "metadata": {
        "id": "5NkX01XiT2aY",
        "outputId": "cd0d8b54-7fc5-44da-e3bc-f6eab002d597"
      },
      "outputs": [
        {
          "name": "stdout",
          "output_type": "stream",
          "text": [
            "factorial function\n"
          ]
        }
      ],
      "source": [
        "print(fact.short_description)"
      ]
    },
    {
      "cell_type": "markdown",
      "metadata": {
        "id": "92KujTxhT2aZ"
      },
      "source": [
        "We can see all the attributes that belong to a function using the **dir** function:"
      ]
    },
    {
      "cell_type": "code",
      "execution_count": null,
      "metadata": {
        "id": "Ku7rj85MT2aZ",
        "outputId": "bd81c759-ed8e-4681-9980-5fc91f5d1f13"
      },
      "outputs": [
        {
          "data": {
            "text/plain": [
              "['__annotations__',\n",
              " '__call__',\n",
              " '__class__',\n",
              " '__closure__',\n",
              " '__code__',\n",
              " '__defaults__',\n",
              " '__delattr__',\n",
              " '__dict__',\n",
              " '__dir__',\n",
              " '__doc__',\n",
              " '__eq__',\n",
              " '__format__',\n",
              " '__ge__',\n",
              " '__get__',\n",
              " '__getattribute__',\n",
              " '__globals__',\n",
              " '__gt__',\n",
              " '__hash__',\n",
              " '__init__',\n",
              " '__init_subclass__',\n",
              " '__kwdefaults__',\n",
              " '__le__',\n",
              " '__lt__',\n",
              " '__module__',\n",
              " '__name__',\n",
              " '__ne__',\n",
              " '__new__',\n",
              " '__qualname__',\n",
              " '__reduce__',\n",
              " '__reduce_ex__',\n",
              " '__repr__',\n",
              " '__setattr__',\n",
              " '__sizeof__',\n",
              " '__str__',\n",
              " '__subclasshook__',\n",
              " 'short_description']"
            ]
          },
          "execution_count": 4,
          "metadata": {},
          "output_type": "execute_result"
        }
      ],
      "source": [
        "dir(fact)"
      ]
    },
    {
      "cell_type": "markdown",
      "metadata": {
        "id": "RisoTYB9T2aa"
      },
      "source": [
        "We can see our **short_description** attribute, as well as some attributes we have seen before: **__annotations__** and **__doc__**:"
      ]
    },
    {
      "cell_type": "code",
      "execution_count": null,
      "metadata": {
        "id": "ZwmCizyIT2aa",
        "outputId": "b21c6e3d-9d93-4b93-d69a-eeb51fcdeda2"
      },
      "outputs": [
        {
          "data": {
            "text/plain": [
              "'Calculates the factorial of a non-negative integer n\\n    \\n    If n is negative, returns 0.\\n    '"
            ]
          },
          "execution_count": 5,
          "metadata": {},
          "output_type": "execute_result"
        }
      ],
      "source": [
        "fact.__doc__"
      ]
    },
    {
      "cell_type": "code",
      "execution_count": null,
      "metadata": {
        "id": "K89_g_4cT2ab",
        "outputId": "2eceba6c-82be-4dee-b787-6546c3dcb479"
      },
      "outputs": [
        {
          "data": {
            "text/plain": [
              "{'n': 'some non-negative integer', 'return': 'n! or 0 if n < 0'}"
            ]
          },
          "execution_count": 6,
          "metadata": {},
          "output_type": "execute_result"
        }
      ],
      "source": [
        "fact.__annotations__"
      ]
    },
    {
      "cell_type": "markdown",
      "metadata": {
        "id": "wapHImD6T2ab"
      },
      "source": [
        "We'll revisit some of these attributes later in this course, but let's take a look at a few here:"
      ]
    },
    {
      "cell_type": "code",
      "execution_count": null,
      "metadata": {
        "collapsed": true,
        "id": "VjBRHSeNT2ab"
      },
      "outputs": [],
      "source": [
        "def my_func(a, b=2, c=3, *, kw1, kw2=2, **kwargs):\n",
        "    pass"
      ]
    },
    {
      "cell_type": "markdown",
      "metadata": {
        "id": "-vv5riJdT2ac"
      },
      "source": [
        "Let's assign my_func to another variable:"
      ]
    },
    {
      "cell_type": "code",
      "execution_count": null,
      "metadata": {
        "collapsed": true,
        "id": "40BD3q0zT2ac"
      },
      "outputs": [],
      "source": [
        "f = my_func"
      ]
    },
    {
      "cell_type": "markdown",
      "metadata": {
        "id": "xc2CYn7KT2ac"
      },
      "source": [
        "The **__name__** attribute holds the function's name:"
      ]
    },
    {
      "cell_type": "code",
      "execution_count": null,
      "metadata": {
        "id": "t3WOVLr6T2ac",
        "outputId": "e0e3fc8f-920c-475e-f05f-476dbef0de05"
      },
      "outputs": [
        {
          "data": {
            "text/plain": [
              "'my_func'"
            ]
          },
          "execution_count": 9,
          "metadata": {},
          "output_type": "execute_result"
        }
      ],
      "source": [
        "my_func.__name__"
      ]
    },
    {
      "cell_type": "code",
      "execution_count": null,
      "metadata": {
        "id": "VoIyk5AHT2ad",
        "outputId": "40152477-7906-4990-fc1b-eead47116d16"
      },
      "outputs": [
        {
          "data": {
            "text/plain": [
              "'my_func'"
            ]
          },
          "execution_count": 10,
          "metadata": {},
          "output_type": "execute_result"
        }
      ],
      "source": [
        "f.__name__"
      ]
    },
    {
      "cell_type": "markdown",
      "metadata": {
        "id": "oSFpp2TjT2ad"
      },
      "source": [
        "The **__defaults__** attribute is a tuple containing any positional parameter defaults:"
      ]
    },
    {
      "cell_type": "code",
      "execution_count": null,
      "metadata": {
        "id": "bRBL9XdvT2ad",
        "outputId": "98909bb9-761a-44c1-bb1c-23060bbcafb3"
      },
      "outputs": [
        {
          "data": {
            "text/plain": [
              "(2, 3)"
            ]
          },
          "execution_count": 11,
          "metadata": {},
          "output_type": "execute_result"
        }
      ],
      "source": [
        "my_func.__defaults__"
      ]
    },
    {
      "cell_type": "code",
      "execution_count": null,
      "metadata": {
        "id": "afVmPq50T2ad",
        "outputId": "976f7753-fcd7-4dc5-eea8-de6048794fa1"
      },
      "outputs": [
        {
          "data": {
            "text/plain": [
              "{'kw2': 2}"
            ]
          },
          "execution_count": 12,
          "metadata": {},
          "output_type": "execute_result"
        }
      ],
      "source": [
        "my_func.__kwdefaults__"
      ]
    },
    {
      "cell_type": "markdown",
      "metadata": {
        "id": "gqMDqMYyT2ae"
      },
      "source": [
        "Let's create a function with some local variables:"
      ]
    },
    {
      "cell_type": "code",
      "execution_count": null,
      "metadata": {
        "collapsed": true,
        "id": "UvdtTlbHT2ae"
      },
      "outputs": [],
      "source": [
        "def my_func(a, b=1, *args, **kwargs):\n",
        "    i = 10\n",
        "    b = min(i, b)\n",
        "    return a * b"
      ]
    },
    {
      "cell_type": "code",
      "execution_count": null,
      "metadata": {
        "id": "9QSQw3kYT2ae",
        "outputId": "f90f516c-86e3-4193-f6dc-0f47ca71bd8b"
      },
      "outputs": [
        {
          "data": {
            "text/plain": [
              "'aaaaaaaaaa'"
            ]
          },
          "execution_count": 14,
          "metadata": {},
          "output_type": "execute_result"
        }
      ],
      "source": [
        "my_func('a', 100)"
      ]
    },
    {
      "cell_type": "markdown",
      "metadata": {
        "id": "R_hwJx-dT2ae"
      },
      "source": [
        "The **__code__** attribute contains a **code** object:"
      ]
    },
    {
      "cell_type": "code",
      "execution_count": null,
      "metadata": {
        "id": "8vBAZgxhT2af",
        "outputId": "c4bea457-af2e-4a0c-dd2f-362fd4b2742f"
      },
      "outputs": [
        {
          "data": {
            "text/plain": [
              "<code object my_func at 0x0000016640E71300, file \"<ipython-input-13-785cf1a800f4>\", line 1>"
            ]
          },
          "execution_count": 15,
          "metadata": {},
          "output_type": "execute_result"
        }
      ],
      "source": [
        "my_func.__code__"
      ]
    },
    {
      "cell_type": "markdown",
      "metadata": {
        "id": "RmVj5lbiT2af"
      },
      "source": [
        "This **code** object itself has various properties:"
      ]
    },
    {
      "cell_type": "code",
      "execution_count": null,
      "metadata": {
        "id": "wsNQOBaLT2af",
        "outputId": "5e576253-3d78-4209-b96a-47f1ed4b93ca"
      },
      "outputs": [
        {
          "data": {
            "text/plain": [
              "['__class__',\n",
              " '__delattr__',\n",
              " '__dir__',\n",
              " '__doc__',\n",
              " '__eq__',\n",
              " '__format__',\n",
              " '__ge__',\n",
              " '__getattribute__',\n",
              " '__gt__',\n",
              " '__hash__',\n",
              " '__init__',\n",
              " '__init_subclass__',\n",
              " '__le__',\n",
              " '__lt__',\n",
              " '__ne__',\n",
              " '__new__',\n",
              " '__reduce__',\n",
              " '__reduce_ex__',\n",
              " '__repr__',\n",
              " '__setattr__',\n",
              " '__sizeof__',\n",
              " '__str__',\n",
              " '__subclasshook__',\n",
              " 'co_argcount',\n",
              " 'co_cellvars',\n",
              " 'co_code',\n",
              " 'co_consts',\n",
              " 'co_filename',\n",
              " 'co_firstlineno',\n",
              " 'co_flags',\n",
              " 'co_freevars',\n",
              " 'co_kwonlyargcount',\n",
              " 'co_lnotab',\n",
              " 'co_name',\n",
              " 'co_names',\n",
              " 'co_nlocals',\n",
              " 'co_stacksize',\n",
              " 'co_varnames']"
            ]
          },
          "execution_count": 16,
          "metadata": {},
          "output_type": "execute_result"
        }
      ],
      "source": [
        "dir(my_func.__code__)"
      ]
    },
    {
      "cell_type": "markdown",
      "metadata": {
        "id": "rNE9a94tT2af"
      },
      "source": [
        "Attribute **__co_varnames__** is a tuple containing the parameter names and local variables:"
      ]
    },
    {
      "cell_type": "code",
      "execution_count": null,
      "metadata": {
        "id": "Y0SCBP52T2af",
        "outputId": "b1b3d1c0-10b1-4b9d-8238-6fc8855667df"
      },
      "outputs": [
        {
          "data": {
            "text/plain": [
              "('a', 'b', 'args', 'kwargs', 'i')"
            ]
          },
          "execution_count": 17,
          "metadata": {},
          "output_type": "execute_result"
        }
      ],
      "source": [
        "my_func.__code__.co_varnames"
      ]
    },
    {
      "cell_type": "markdown",
      "metadata": {
        "id": "9n3kZmjJT2ag"
      },
      "source": [
        "Attribute **co_argcount** returns the number of arguments (minus any \\* and \\*\\* args)"
      ]
    },
    {
      "cell_type": "code",
      "execution_count": null,
      "metadata": {
        "id": "hL1qcneMT2ag",
        "outputId": "f656c52f-bb6c-482d-bbac-7ac4d2b9b05a"
      },
      "outputs": [
        {
          "data": {
            "text/plain": [
              "2"
            ]
          },
          "execution_count": 18,
          "metadata": {},
          "output_type": "execute_result"
        }
      ],
      "source": [
        "my_func.__code__.co_argcount"
      ]
    },
    {
      "cell_type": "markdown",
      "metadata": {
        "id": "EGuhLo5VT2ag"
      },
      "source": [
        "#### The **inspect** module"
      ]
    },
    {
      "cell_type": "markdown",
      "metadata": {
        "id": "q4drPho9T2ag"
      },
      "source": [
        "It is much easier to use the **inspect** module!"
      ]
    },
    {
      "cell_type": "code",
      "execution_count": null,
      "metadata": {
        "collapsed": true,
        "id": "YDFkWU7pT2ag"
      },
      "outputs": [],
      "source": [
        "import inspect"
      ]
    },
    {
      "cell_type": "code",
      "execution_count": null,
      "metadata": {
        "id": "1x21_FhnT2ag",
        "outputId": "93848a8e-9d9c-4eef-b5e3-5441c20358e2"
      },
      "outputs": [
        {
          "data": {
            "text/plain": [
              "True"
            ]
          },
          "execution_count": 20,
          "metadata": {},
          "output_type": "execute_result"
        }
      ],
      "source": [
        "inspect.isfunction(my_func)"
      ]
    },
    {
      "cell_type": "markdown",
      "metadata": {
        "id": "Irebb2psT2ag"
      },
      "source": [
        "By the way, there is a difference between a function and a method! A method is a function that is bound to some object:"
      ]
    },
    {
      "cell_type": "code",
      "execution_count": null,
      "metadata": {
        "id": "_otXDg1zT2ah",
        "outputId": "f0fdf1b6-d45d-499d-cfec-50468f7a7932"
      },
      "outputs": [
        {
          "data": {
            "text/plain": [
              "False"
            ]
          },
          "execution_count": 21,
          "metadata": {},
          "output_type": "execute_result"
        }
      ],
      "source": [
        "inspect.ismethod(my_func)"
      ]
    },
    {
      "cell_type": "code",
      "execution_count": null,
      "metadata": {
        "collapsed": true,
        "id": "B5o3cLb5T2ah"
      },
      "outputs": [],
      "source": [
        "class MyClass:\n",
        "    def f_instance(self):\n",
        "        pass\n",
        "    \n",
        "    @classmethod\n",
        "    def f_class(cls):\n",
        "        pass\n",
        "    \n",
        "    @staticmethod\n",
        "    def f_static():\n",
        "        pass"
      ]
    },
    {
      "cell_type": "markdown",
      "metadata": {
        "id": "kiyHOxy6T2ah"
      },
      "source": [
        "**Instance methods** are bound to the **instance** of a class (not the class itself)"
      ]
    },
    {
      "cell_type": "markdown",
      "metadata": {
        "id": "mjTpvyBET2ah"
      },
      "source": [
        "**Class methods** are bound to the **class**, not instances"
      ]
    },
    {
      "cell_type": "markdown",
      "metadata": {
        "id": "1ot8xcOJT2ah"
      },
      "source": [
        "**Static methods** are no bound either to the class or its instances"
      ]
    },
    {
      "cell_type": "code",
      "execution_count": null,
      "metadata": {
        "id": "LTOcmogAT2ah",
        "outputId": "0dc821af-5542-44c8-d21d-cf579c8c2eb0"
      },
      "outputs": [
        {
          "data": {
            "text/plain": [
              "(True, False)"
            ]
          },
          "execution_count": 23,
          "metadata": {},
          "output_type": "execute_result"
        }
      ],
      "source": [
        "inspect.isfunction(MyClass.f_instance), inspect.ismethod(MyClass.f_instance)"
      ]
    },
    {
      "cell_type": "code",
      "execution_count": null,
      "metadata": {
        "id": "3i1EZxSdT2ah",
        "outputId": "b143b5ed-47ea-4eab-f927-69eb330420e9"
      },
      "outputs": [
        {
          "data": {
            "text/plain": [
              "(False, True)"
            ]
          },
          "execution_count": 24,
          "metadata": {},
          "output_type": "execute_result"
        }
      ],
      "source": [
        "inspect.isfunction(MyClass.f_class), inspect.ismethod(MyClass.f_class)"
      ]
    },
    {
      "cell_type": "code",
      "execution_count": null,
      "metadata": {
        "id": "K4v0QYErT2ai",
        "outputId": "832308de-0f06-4bea-cf2a-4a8b50807901"
      },
      "outputs": [
        {
          "data": {
            "text/plain": [
              "(True, False)"
            ]
          },
          "execution_count": 25,
          "metadata": {},
          "output_type": "execute_result"
        }
      ],
      "source": [
        "inspect.isfunction(MyClass.f_static), inspect.ismethod(MyClass.f_static)"
      ]
    },
    {
      "cell_type": "code",
      "execution_count": null,
      "metadata": {
        "collapsed": true,
        "id": "cMTBWXFcT2ai"
      },
      "outputs": [],
      "source": [
        "my_obj = MyClass()"
      ]
    },
    {
      "cell_type": "code",
      "execution_count": null,
      "metadata": {
        "id": "P7JWz_1KT2ai",
        "outputId": "b87a1a09-0f41-44cc-cfbd-09ea79366199"
      },
      "outputs": [
        {
          "data": {
            "text/plain": [
              "(False, True)"
            ]
          },
          "execution_count": 27,
          "metadata": {},
          "output_type": "execute_result"
        }
      ],
      "source": [
        "inspect.isfunction(my_obj.f_instance), inspect.ismethod(my_obj.f_instance)"
      ]
    },
    {
      "cell_type": "code",
      "execution_count": null,
      "metadata": {
        "id": "_kTEb0RHT2ai",
        "outputId": "01fad6f9-e223-4e8f-b4d6-41b32cd3f740"
      },
      "outputs": [
        {
          "data": {
            "text/plain": [
              "(False, True)"
            ]
          },
          "execution_count": 28,
          "metadata": {},
          "output_type": "execute_result"
        }
      ],
      "source": [
        "inspect.isfunction(my_obj.f_class), inspect.ismethod(my_obj.f_class)"
      ]
    },
    {
      "cell_type": "code",
      "execution_count": null,
      "metadata": {
        "id": "hje2uq0NT2ai",
        "outputId": "2aaa9771-ce50-4f0d-c0e6-3b512cdab8ea"
      },
      "outputs": [
        {
          "data": {
            "text/plain": [
              "(True, False)"
            ]
          },
          "execution_count": 29,
          "metadata": {},
          "output_type": "execute_result"
        }
      ],
      "source": [
        "inspect.isfunction(my_obj.f_static), inspect.ismethod(my_obj.f_static)"
      ]
    },
    {
      "cell_type": "markdown",
      "metadata": {
        "id": "UveBYDcbT2aj"
      },
      "source": [
        "If you just want to know if something is a function or method:"
      ]
    },
    {
      "cell_type": "code",
      "execution_count": null,
      "metadata": {
        "id": "5yCuOos6T2aj",
        "outputId": "4cfef62a-1b75-4d14-cb57-5cce992d8122"
      },
      "outputs": [
        {
          "data": {
            "text/plain": [
              "True"
            ]
          },
          "execution_count": 30,
          "metadata": {},
          "output_type": "execute_result"
        }
      ],
      "source": [
        "inspect.isroutine(my_func)"
      ]
    },
    {
      "cell_type": "code",
      "execution_count": null,
      "metadata": {
        "id": "xphI_sm0T2aj",
        "outputId": "2a4846ec-b68e-4b8b-9aff-951832bfcb17"
      },
      "outputs": [
        {
          "data": {
            "text/plain": [
              "True"
            ]
          },
          "execution_count": 31,
          "metadata": {},
          "output_type": "execute_result"
        }
      ],
      "source": [
        "inspect.isroutine(MyClass.f_instance)"
      ]
    },
    {
      "cell_type": "code",
      "execution_count": null,
      "metadata": {
        "id": "acf4BPUPT2aj",
        "outputId": "ad550f83-c66f-4973-a066-67ad62a5f1ef"
      },
      "outputs": [
        {
          "data": {
            "text/plain": [
              "True"
            ]
          },
          "execution_count": 32,
          "metadata": {},
          "output_type": "execute_result"
        }
      ],
      "source": [
        "inspect.isroutine(my_obj.f_class)"
      ]
    },
    {
      "cell_type": "code",
      "execution_count": null,
      "metadata": {
        "id": "izESRf4vT2aj",
        "outputId": "d106e0b5-3847-4250-8ae3-2677a18b838d"
      },
      "outputs": [
        {
          "data": {
            "text/plain": [
              "True"
            ]
          },
          "execution_count": 33,
          "metadata": {},
          "output_type": "execute_result"
        }
      ],
      "source": [
        "inspect.isroutine(my_obj.f_static)"
      ]
    },
    {
      "cell_type": "markdown",
      "metadata": {
        "id": "afc9cGEPT2aj"
      },
      "source": [
        "We'll revisit this in more detail in section on OOP."
      ]
    },
    {
      "cell_type": "markdown",
      "metadata": {
        "id": "ERZJtjU6T2ak"
      },
      "source": [
        "#### Introspecting Callable Code"
      ]
    },
    {
      "cell_type": "markdown",
      "metadata": {
        "id": "z5xKjbdqT2ak"
      },
      "source": [
        "We can get back the source code of our function using the **getsource()** method:"
      ]
    },
    {
      "cell_type": "code",
      "execution_count": null,
      "metadata": {
        "id": "DYhhcF9KT2ak",
        "outputId": "36b25ac1-ea67-4efa-b0d1-8120a1fae0be"
      },
      "outputs": [
        {
          "data": {
            "text/plain": [
              "'def fact(n: \"some non-negative integer\") -> \"n! or 0 if n < 0\":\\n    \"\"\"Calculates the factorial of a non-negative integer n\\n    \\n    If n is negative, returns 0.\\n    \"\"\"\\n    if n <= 1:\\n        return 1\\n    else:\\n        return n * fact(n-1)\\n'"
            ]
          },
          "execution_count": 34,
          "metadata": {},
          "output_type": "execute_result"
        }
      ],
      "source": [
        "inspect.getsource(fact)"
      ]
    },
    {
      "cell_type": "code",
      "execution_count": null,
      "metadata": {
        "id": "TgxkfQgRT2ak",
        "outputId": "d9b8831a-54d0-4046-aad9-4b64d620fc41"
      },
      "outputs": [
        {
          "name": "stdout",
          "output_type": "stream",
          "text": [
            "def fact(n: \"some non-negative integer\") -> \"n! or 0 if n < 0\":\n",
            "    \"\"\"Calculates the factorial of a non-negative integer n\n",
            "    \n",
            "    If n is negative, returns 0.\n",
            "    \"\"\"\n",
            "    if n <= 1:\n",
            "        return 1\n",
            "    else:\n",
            "        return n * fact(n-1)\n",
            "\n"
          ]
        }
      ],
      "source": [
        "print(inspect.getsource(fact))"
      ]
    },
    {
      "cell_type": "code",
      "execution_count": null,
      "metadata": {
        "id": "qe1ixqhoT2ak",
        "outputId": "1fef941e-9bfc-489c-e614-40e4939e3dba"
      },
      "outputs": [
        {
          "data": {
            "text/plain": [
              "'    def f_instance(self):\\n        pass\\n'"
            ]
          },
          "execution_count": 36,
          "metadata": {},
          "output_type": "execute_result"
        }
      ],
      "source": [
        "inspect.getsource(MyClass.f_instance)"
      ]
    },
    {
      "cell_type": "code",
      "execution_count": null,
      "metadata": {
        "id": "kuw8LSabT2ak",
        "outputId": "03b91d84-15ec-41d8-adb1-ae5ca39b74f5"
      },
      "outputs": [
        {
          "data": {
            "text/plain": [
              "'    def f_instance(self):\\n        pass\\n'"
            ]
          },
          "execution_count": 37,
          "metadata": {},
          "output_type": "execute_result"
        }
      ],
      "source": [
        "inspect.getsource(my_obj.f_instance)"
      ]
    },
    {
      "cell_type": "markdown",
      "metadata": {
        "id": "b6b7DhnTT2ak"
      },
      "source": [
        "We can also find out where the function was defined:"
      ]
    },
    {
      "cell_type": "code",
      "execution_count": null,
      "metadata": {
        "id": "Fw2TgrkhT2al",
        "outputId": "032e6f90-9277-4464-db50-0dda24636dfc"
      },
      "outputs": [
        {
          "data": {
            "text/plain": [
              "<module '__main__'>"
            ]
          },
          "execution_count": 38,
          "metadata": {},
          "output_type": "execute_result"
        }
      ],
      "source": [
        "inspect.getmodule(fact)"
      ]
    },
    {
      "cell_type": "code",
      "execution_count": null,
      "metadata": {
        "id": "0GhimTDYT2al",
        "outputId": "cb9446c7-ed7f-4a6f-c477-60bd96f09390"
      },
      "outputs": [
        {
          "data": {
            "text/plain": [
              "<module 'builtins' (built-in)>"
            ]
          },
          "execution_count": 39,
          "metadata": {},
          "output_type": "execute_result"
        }
      ],
      "source": [
        "inspect.getmodule(print)"
      ]
    },
    {
      "cell_type": "code",
      "execution_count": null,
      "metadata": {
        "collapsed": true,
        "id": "2YAsjTCwT2al"
      },
      "outputs": [],
      "source": [
        "import math"
      ]
    },
    {
      "cell_type": "code",
      "execution_count": null,
      "metadata": {
        "id": "syAPNnosT2al",
        "outputId": "89ef192c-5358-4473-ba8a-83ca1dd2814a"
      },
      "outputs": [
        {
          "data": {
            "text/plain": [
              "<module 'math' (built-in)>"
            ]
          },
          "execution_count": 41,
          "metadata": {},
          "output_type": "execute_result"
        }
      ],
      "source": [
        "inspect.getmodule(math.sin)"
      ]
    },
    {
      "cell_type": "code",
      "execution_count": null,
      "metadata": {
        "collapsed": true,
        "id": "aT-5j4BAT2al"
      },
      "outputs": [],
      "source": [
        "# setting up variable\n",
        "i = 10\n",
        "\n",
        "# comment line 1\n",
        "# comment line 2\n",
        "def my_func(a, b=1):\n",
        "    # comment inside my_func\n",
        "    pass"
      ]
    },
    {
      "cell_type": "code",
      "execution_count": null,
      "metadata": {
        "id": "3kLjHc1WT2al",
        "outputId": "139409b3-6ebc-47f5-ace7-725eae95146e"
      },
      "outputs": [
        {
          "data": {
            "text/plain": [
              "'# comment line 1\\n# comment line 2\\n'"
            ]
          },
          "execution_count": 43,
          "metadata": {},
          "output_type": "execute_result"
        }
      ],
      "source": [
        "inspect.getcomments(my_func)"
      ]
    },
    {
      "cell_type": "code",
      "execution_count": null,
      "metadata": {
        "id": "bSuBzpawT2am",
        "outputId": "8ee23f42-7a72-4680-9f3a-ac7d1c92dc01"
      },
      "outputs": [
        {
          "name": "stdout",
          "output_type": "stream",
          "text": [
            "# comment line 1\n",
            "# comment line 2\n",
            "\n"
          ]
        }
      ],
      "source": [
        "print(inspect.getcomments(my_func))"
      ]
    },
    {
      "cell_type": "markdown",
      "metadata": {
        "id": "7ZpoxaCaT2am"
      },
      "source": [
        "#### Introspecting Callable Signatures"
      ]
    },
    {
      "cell_type": "code",
      "execution_count": null,
      "metadata": {
        "collapsed": true,
        "id": "HnFXq4uIT2am"
      },
      "outputs": [],
      "source": [
        "# TODO: Provide implementation\n",
        "def my_func(a: 'a string', \n",
        "            b: int = 1, \n",
        "            *args: 'additional positional args', \n",
        "            kw1: 'first keyword-only arg', \n",
        "            kw2: 'second keyword-only arg' = 10,\n",
        "            **kwargs: 'additional keyword-only args') -> str:\n",
        "    \"\"\"does something\n",
        "       or other\"\"\"\n",
        "    pass"
      ]
    },
    {
      "cell_type": "code",
      "execution_count": null,
      "metadata": {
        "id": "m05BpUfIT2am",
        "outputId": "a55d9b38-3af7-437f-de1d-1d7fa6962b32"
      },
      "outputs": [
        {
          "data": {
            "text/plain": [
              "<Signature (a:'a string', b:int=1, *args:'additional positional args', kw1:'first keyword-only arg', kw2:'second keyword-only arg'=10, **kwargs:'additional keyword-only args') -> str>"
            ]
          },
          "execution_count": 46,
          "metadata": {},
          "output_type": "execute_result"
        }
      ],
      "source": [
        "inspect.signature(my_func)"
      ]
    },
    {
      "cell_type": "code",
      "execution_count": null,
      "metadata": {
        "id": "2ZaWgEvXT2am",
        "outputId": "f7e70b56-93f4-495c-955d-cd4cd6b1cb88"
      },
      "outputs": [
        {
          "data": {
            "text/plain": [
              "inspect.Signature"
            ]
          },
          "execution_count": 47,
          "metadata": {},
          "output_type": "execute_result"
        }
      ],
      "source": [
        "type(inspect.signature(my_func))"
      ]
    },
    {
      "cell_type": "code",
      "execution_count": null,
      "metadata": {
        "collapsed": true,
        "id": "NGabJBxbT2an"
      },
      "outputs": [],
      "source": [
        "sig = inspect.signature(my_func)"
      ]
    },
    {
      "cell_type": "code",
      "execution_count": null,
      "metadata": {
        "id": "MO6f7CWcT2an",
        "outputId": "880975aa-a1df-45b0-c94a-1210b447d01b"
      },
      "outputs": [
        {
          "data": {
            "text/plain": [
              "['__class__',\n",
              " '__delattr__',\n",
              " '__dir__',\n",
              " '__doc__',\n",
              " '__eq__',\n",
              " '__format__',\n",
              " '__ge__',\n",
              " '__getattribute__',\n",
              " '__gt__',\n",
              " '__hash__',\n",
              " '__init__',\n",
              " '__init_subclass__',\n",
              " '__le__',\n",
              " '__lt__',\n",
              " '__module__',\n",
              " '__ne__',\n",
              " '__new__',\n",
              " '__reduce__',\n",
              " '__reduce_ex__',\n",
              " '__repr__',\n",
              " '__setattr__',\n",
              " '__setstate__',\n",
              " '__sizeof__',\n",
              " '__slots__',\n",
              " '__str__',\n",
              " '__subclasshook__',\n",
              " '_bind',\n",
              " '_bound_arguments_cls',\n",
              " '_hash_basis',\n",
              " '_parameter_cls',\n",
              " '_parameters',\n",
              " '_return_annotation',\n",
              " 'bind',\n",
              " 'bind_partial',\n",
              " 'empty',\n",
              " 'from_builtin',\n",
              " 'from_callable',\n",
              " 'from_function',\n",
              " 'parameters',\n",
              " 'replace',\n",
              " 'return_annotation']"
            ]
          },
          "execution_count": 49,
          "metadata": {},
          "output_type": "execute_result"
        }
      ],
      "source": [
        "dir(sig)"
      ]
    },
    {
      "cell_type": "code",
      "execution_count": null,
      "metadata": {
        "id": "rfwbFRNJT2an",
        "outputId": "39e3873a-d1ec-4745-c94f-8045b48c0850"
      },
      "outputs": [
        {
          "name": "stdout",
          "output_type": "stream",
          "text": [
            "a a:'a string'\n",
            "b b:int=1\n",
            "args *args:'additional positional args'\n",
            "kw1 kw1:'first keyword-only arg'\n",
            "kw2 kw2:'second keyword-only arg'=10\n",
            "kwargs **kwargs:'additional keyword-only args'\n"
          ]
        }
      ],
      "source": [
        "for param_name, param in sig.parameters.items():\n",
        "    print(param_name, param)"
      ]
    },
    {
      "cell_type": "code",
      "execution_count": null,
      "metadata": {
        "collapsed": true,
        "id": "DrM-7PV4T2an"
      },
      "outputs": [],
      "source": [
        "def print_info(f: \"callable\") -> None:\n",
        "    print(f.__name__)\n",
        "    print('=' * len(f.__name__), end='\\n\\n')\n",
        "    \n",
        "    print('{0}\\n{1}\\n'.format(inspect.getcomments(f), \n",
        "                              inspect.cleandoc(f.__doc__)))\n",
        "    \n",
        "    print('{0}\\n{1}'.format('Inputs', '-'*len('Inputs')))\n",
        "    \n",
        "    sig = inspect.signature(f)\n",
        "    for param in sig.parameters.values():\n",
        "        print('Name:', param.name)\n",
        "        print('Default:', param.default)\n",
        "        print('Annotation:', param.annotation)\n",
        "        print('Kind:', param.kind)\n",
        "        print('--------------------------\\n')\n",
        "        \n",
        "    print('{0}\\n{1}'.format('\\n\\nOutput', '-'*len('Output')))\n",
        "    print(sig.return_annotation)"
      ]
    },
    {
      "cell_type": "code",
      "execution_count": null,
      "metadata": {
        "id": "tbOv6mlIT2an",
        "outputId": "bae2f575-1a92-4377-ad9e-a8e04e0ad6f9"
      },
      "outputs": [
        {
          "name": "stdout",
          "output_type": "stream",
          "text": [
            "my_func\n",
            "=======\n",
            "\n",
            "# TODO: Provide implementation\n",
            "\n",
            "does something\n",
            "or other\n",
            "\n",
            "Inputs\n",
            "------\n",
            "Name: a\n",
            "Default: <class 'inspect._empty'>\n",
            "Annotation: a string\n",
            "Kind: POSITIONAL_OR_KEYWORD\n",
            "--------------------------\n",
            "\n",
            "Name: b\n",
            "Default: 1\n",
            "Annotation: <class 'int'>\n",
            "Kind: POSITIONAL_OR_KEYWORD\n",
            "--------------------------\n",
            "\n",
            "Name: args\n",
            "Default: <class 'inspect._empty'>\n",
            "Annotation: additional positional args\n",
            "Kind: VAR_POSITIONAL\n",
            "--------------------------\n",
            "\n",
            "Name: kw1\n",
            "Default: <class 'inspect._empty'>\n",
            "Annotation: first keyword-only arg\n",
            "Kind: KEYWORD_ONLY\n",
            "--------------------------\n",
            "\n",
            "Name: kw2\n",
            "Default: 10\n",
            "Annotation: second keyword-only arg\n",
            "Kind: KEYWORD_ONLY\n",
            "--------------------------\n",
            "\n",
            "Name: kwargs\n",
            "Default: <class 'inspect._empty'>\n",
            "Annotation: additional keyword-only args\n",
            "Kind: VAR_KEYWORD\n",
            "--------------------------\n",
            "\n",
            "\n",
            "\n",
            "Output\n",
            "------\n",
            "<class 'str'>\n"
          ]
        }
      ],
      "source": [
        "print_info(my_func)"
      ]
    },
    {
      "cell_type": "markdown",
      "metadata": {
        "id": "nR1UyaKyT2an"
      },
      "source": [
        "#### A Side Note on Positional Only Arguments"
      ]
    },
    {
      "cell_type": "markdown",
      "metadata": {
        "id": "QFzBMNn-T2an"
      },
      "source": [
        "Some built-in callables have arguments that are positional only (i.e. cannot be specified using a keyword).\n",
        "\n",
        "However, Python does not currently have any syntax that allows us to define callables with positional only arguments.\n",
        "\n",
        "In general, the documentation uses a **/** character to indicate that all preceding arguments are positional-only. But not always :-("
      ]
    },
    {
      "cell_type": "code",
      "execution_count": null,
      "metadata": {
        "id": "CCnuei-qT2ao",
        "outputId": "f217aee1-2c57-4a10-83a0-c5a1487ad9f8"
      },
      "outputs": [
        {
          "name": "stdout",
          "output_type": "stream",
          "text": [
            "Help on built-in function divmod in module builtins:\n",
            "\n",
            "divmod(x, y, /)\n",
            "    Return the tuple (x//y, x%y).  Invariant: div*y + mod == x.\n",
            "\n"
          ]
        }
      ],
      "source": [
        "help(divmod)"
      ]
    },
    {
      "cell_type": "markdown",
      "metadata": {
        "id": "_d-gVSViT2ao"
      },
      "source": [
        "Here we see that the **divmod** function takes two positional-only parameters:"
      ]
    },
    {
      "cell_type": "code",
      "execution_count": null,
      "metadata": {
        "id": "9A9VMM11T2ao",
        "outputId": "92fd9726-1843-47d0-c5fe-45d91307c297"
      },
      "outputs": [
        {
          "data": {
            "text/plain": [
              "(3, 1)"
            ]
          },
          "execution_count": 54,
          "metadata": {},
          "output_type": "execute_result"
        }
      ],
      "source": [
        "divmod(10, 3)"
      ]
    },
    {
      "cell_type": "code",
      "execution_count": null,
      "metadata": {
        "id": "jrMjcd7fT2ao",
        "outputId": "8cc2d2a1-4b64-46d8-c553-36407498d945"
      },
      "outputs": [
        {
          "ename": "TypeError",
          "evalue": "divmod() takes no keyword arguments",
          "output_type": "error",
          "traceback": [
            "\u001b[1;31m---------------------------------------------------------------------------\u001b[0m",
            "\u001b[1;31mTypeError\u001b[0m                                 Traceback (most recent call last)",
            "\u001b[1;32m<ipython-input-55-c637b01eef33>\u001b[0m in \u001b[0;36m<module>\u001b[1;34m()\u001b[0m\n\u001b[1;32m----> 1\u001b[1;33m \u001b[0mdivmod\u001b[0m\u001b[1;33m(\u001b[0m\u001b[0mx\u001b[0m\u001b[1;33m=\u001b[0m\u001b[1;36m10\u001b[0m\u001b[1;33m,\u001b[0m \u001b[0my\u001b[0m\u001b[1;33m=\u001b[0m\u001b[1;36m3\u001b[0m\u001b[1;33m)\u001b[0m\u001b[1;33m\u001b[0m\u001b[0m\n\u001b[0m",
            "\u001b[1;31mTypeError\u001b[0m: divmod() takes no keyword arguments"
          ]
        }
      ],
      "source": [
        "divmod(x=10, y=3)"
      ]
    },
    {
      "cell_type": "markdown",
      "metadata": {
        "id": "_MpP9fJgT2ao"
      },
      "source": [
        "Similarly, the string **replace** function also takes positional-only arguments, however, the documentation does not indicate this!"
      ]
    },
    {
      "cell_type": "code",
      "execution_count": null,
      "metadata": {
        "id": "t5kQ5JYUT2ao",
        "outputId": "aae863f4-f389-47e2-cc8b-c8f0814f203d"
      },
      "outputs": [
        {
          "name": "stdout",
          "output_type": "stream",
          "text": [
            "Help on method_descriptor:\n",
            "\n",
            "replace(...)\n",
            "    S.replace(old, new[, count]) -> str\n",
            "    \n",
            "    Return a copy of S with all occurrences of substring\n",
            "    old replaced by new.  If the optional argument count is\n",
            "    given, only the first count occurrences are replaced.\n",
            "\n"
          ]
        }
      ],
      "source": [
        "help(str.replace)"
      ]
    },
    {
      "cell_type": "code",
      "execution_count": null,
      "metadata": {
        "id": "OT7ymrW1T2ao",
        "outputId": "700cb9cc-9cba-46b7-cfec-eb4c0c172679"
      },
      "outputs": [
        {
          "data": {
            "text/plain": [
              "'xyzdefg'"
            ]
          },
          "execution_count": 57,
          "metadata": {},
          "output_type": "execute_result"
        }
      ],
      "source": [
        "'abcdefg'.replace('abc', 'xyz')"
      ]
    },
    {
      "cell_type": "code",
      "execution_count": null,
      "metadata": {
        "id": "OsA2_5M-T2ap",
        "outputId": "817bf608-02f4-4aa1-cc2f-f043f5e0b158"
      },
      "outputs": [
        {
          "ename": "TypeError",
          "evalue": "replace() takes no keyword arguments",
          "output_type": "error",
          "traceback": [
            "\u001b[1;31m---------------------------------------------------------------------------\u001b[0m",
            "\u001b[1;31mTypeError\u001b[0m                                 Traceback (most recent call last)",
            "\u001b[1;32m<ipython-input-58-9d61ac657cae>\u001b[0m in \u001b[0;36m<module>\u001b[1;34m()\u001b[0m\n\u001b[1;32m----> 1\u001b[1;33m \u001b[1;34m'abcdefg'\u001b[0m\u001b[1;33m.\u001b[0m\u001b[0mreplace\u001b[0m\u001b[1;33m(\u001b[0m\u001b[0mold\u001b[0m\u001b[1;33m=\u001b[0m\u001b[1;34m'abc'\u001b[0m\u001b[1;33m,\u001b[0m \u001b[0mnew\u001b[0m\u001b[1;33m=\u001b[0m\u001b[1;34m'xyz'\u001b[0m\u001b[1;33m)\u001b[0m\u001b[1;33m\u001b[0m\u001b[0m\n\u001b[0m",
            "\u001b[1;31mTypeError\u001b[0m: replace() takes no keyword arguments"
          ]
        }
      ],
      "source": [
        "'abcdefg'.replace(old='abc', new='xyz')"
      ]
    }
  ],
  "metadata": {
    "kernelspec": {
      "display_name": "Python 3",
      "language": "python",
      "name": "python3"
    },
    "language_info": {
      "codemirror_mode": {
        "name": "ipython",
        "version": 3
      },
      "file_extension": ".py",
      "mimetype": "text/x-python",
      "name": "python",
      "nbconvert_exporter": "python",
      "pygments_lexer": "ipython3",
      "version": "3.6.2"
    },
    "colab": {
      "name": "Function Introspection.ipynb",
      "provenance": [],
      "include_colab_link": true
    }
  },
  "nbformat": 4,
  "nbformat_minor": 0
}