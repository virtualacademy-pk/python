{
  "cells": [
    {
      "cell_type": "markdown",
      "metadata": {
        "id": "view-in-github",
        "colab_type": "text"
      },
      "source": [
        "<a href=\"https://colab.research.google.com/github/virtualacademy-pk/python/blob/main/Global_and_Local_Scopes.ipynb\" target=\"_parent\"><img src=\"https://colab.research.google.com/assets/colab-badge.svg\" alt=\"Open In Colab\"/></a>"
      ]
    },
    {
      "cell_type": "markdown",
      "metadata": {
        "id": "HOkglX7-dixq"
      },
      "source": [
        "### Global and Local Scopes"
      ]
    },
    {
      "cell_type": "markdown",
      "metadata": {
        "id": "apxCpA8idixt"
      },
      "source": [
        "In Python the **global** scope refers to the **module** scope.\n",
        "\n",
        "The scope of a variable is normally defined by **where** it is (lexically) defined in the code."
      ]
    },
    {
      "cell_type": "code",
      "execution_count": 1,
      "metadata": {
        "collapsed": true,
        "id": "AyLehvtrdixu"
      },
      "outputs": [],
      "source": [
        "a = 10"
      ]
    },
    {
      "cell_type": "markdown",
      "metadata": {
        "id": "dUakQdM5dixv"
      },
      "source": [
        "In this case, **a** is defined inside the main module, so it is a global variable."
      ]
    },
    {
      "cell_type": "code",
      "execution_count": null,
      "metadata": {
        "collapsed": true,
        "id": "s0Y1j8sPdixv"
      },
      "outputs": [],
      "source": [
        "def my_func(n):\n",
        "    c = n ** 2\n",
        "    return c"
      ]
    },
    {
      "cell_type": "markdown",
      "metadata": {
        "id": "NAt_jXEYdixw"
      },
      "source": [
        "In this case, **c** was defined inside the function **my_func**, so it is **local** to the function **my_func**. In this example, **n** is also **local** to **my_func**"
      ]
    },
    {
      "cell_type": "markdown",
      "metadata": {
        "id": "ViZJnHZcdixw"
      },
      "source": [
        "Global variables can be accessed from any inner scope in the module, for example:"
      ]
    },
    {
      "cell_type": "code",
      "execution_count": 2,
      "metadata": {
        "collapsed": true,
        "id": "eDdfw9Brdixw"
      },
      "outputs": [],
      "source": [
        "def my_func(n):\n",
        "    print('global:', a)\n",
        "    c = a ** n\n",
        "    return c"
      ]
    },
    {
      "cell_type": "code",
      "execution_count": null,
      "metadata": {
        "id": "aFdOgSUTdixx",
        "outputId": "084983c9-b09b-411d-981f-94d5b3fef7ca"
      },
      "outputs": [
        {
          "name": "stdout",
          "output_type": "stream",
          "text": [
            "global: 10\n"
          ]
        },
        {
          "data": {
            "text/plain": [
              "100"
            ]
          },
          "execution_count": 4,
          "metadata": {},
          "output_type": "execute_result"
        }
      ],
      "source": [
        "my_func(2)"
      ]
    },
    {
      "cell_type": "markdown",
      "metadata": {
        "id": "UhtiEnrKdixy"
      },
      "source": [
        "As you can see, **my_func** was able to reference the global variable **a**."
      ]
    },
    {
      "cell_type": "markdown",
      "metadata": {
        "id": "2b75MIz2dixy"
      },
      "source": [
        "But remember that the scope of a variable is determined by where it is assigned. In particular, any variable defined (i.e. assigned a value) inside a function is local to that function, even if the variable name happens to be global too!"
      ]
    },
    {
      "cell_type": "code",
      "execution_count": 3,
      "metadata": {
        "collapsed": true,
        "id": "zfy4LLoRdixz"
      },
      "outputs": [],
      "source": [
        "def my_func(n):\n",
        "    a = 2\n",
        "    c = a ** 2\n",
        "    return c"
      ]
    },
    {
      "cell_type": "code",
      "execution_count": null,
      "metadata": {
        "id": "qT6Ug550dixz",
        "outputId": "6d891763-6e6e-4d33-c7e5-bc3d1bcfbe20"
      },
      "outputs": [
        {
          "name": "stdout",
          "output_type": "stream",
          "text": [
            "10\n",
            "4\n",
            "10\n"
          ]
        }
      ],
      "source": [
        "print(a)\n",
        "print(my_func(3))\n",
        "print(a)"
      ]
    },
    {
      "cell_type": "markdown",
      "metadata": {
        "id": "iBVgjUQfdix0"
      },
      "source": [
        "In order to change the value of a global variable within an inner scope, we can use the **global** keyword as follows:"
      ]
    },
    {
      "cell_type": "code",
      "execution_count": 4,
      "metadata": {
        "collapsed": true,
        "id": "0-OYvMMWdix0"
      },
      "outputs": [],
      "source": [
        "def my_func(n):\n",
        "    global a\n",
        "    a = 2\n",
        "    c = a ** 2\n",
        "    return c"
      ]
    },
    {
      "cell_type": "code",
      "execution_count": null,
      "metadata": {
        "id": "18kCfMMWdix0",
        "outputId": "ef05f9e3-8051-45de-cf0d-b578343c456b"
      },
      "outputs": [
        {
          "name": "stdout",
          "output_type": "stream",
          "text": [
            "10\n",
            "4\n",
            "2\n"
          ]
        }
      ],
      "source": [
        "print(a)\n",
        "print(my_func(3))\n",
        "print(a)"
      ]
    },
    {
      "cell_type": "markdown",
      "metadata": {
        "id": "ryKKJryidix1"
      },
      "source": [
        "As you can see, the value of the global variable **a** was changed from within **my_func**."
      ]
    },
    {
      "cell_type": "markdown",
      "metadata": {
        "id": "vCKEANVTdix1"
      },
      "source": [
        "In fact, we can **create** global variables from within an inner function - Python will simply create the variable and place it in the **global** scope instead of the **local scope**:"
      ]
    },
    {
      "cell_type": "code",
      "execution_count": 5,
      "metadata": {
        "collapsed": true,
        "id": "sbX-fVVGdix1"
      },
      "outputs": [],
      "source": [
        "def my_func(n):\n",
        "    global var\n",
        "    var = 'hello world'\n",
        "    return n ** 2"
      ]
    },
    {
      "cell_type": "markdown",
      "metadata": {
        "id": "3c7hsGyDdix1"
      },
      "source": [
        "Now, **var** does not exist yet, since the function has not run:"
      ]
    },
    {
      "cell_type": "code",
      "execution_count": null,
      "metadata": {
        "id": "ySbRARUKdix1",
        "outputId": "3b127385-42d7-402c-e104-7c930bc6806a"
      },
      "outputs": [
        {
          "ename": "NameError",
          "evalue": "name 'var' is not defined",
          "output_type": "error",
          "traceback": [
            "\u001b[1;31m---------------------------------------------------------------------------\u001b[0m",
            "\u001b[1;31mNameError\u001b[0m                                 Traceback (most recent call last)",
            "\u001b[1;32m<ipython-input-10-571cba235a7f>\u001b[0m in \u001b[0;36m<module>\u001b[1;34m()\u001b[0m\n\u001b[1;32m----> 1\u001b[1;33m \u001b[0mprint\u001b[0m\u001b[1;33m(\u001b[0m\u001b[0mvar\u001b[0m\u001b[1;33m)\u001b[0m\u001b[1;33m\u001b[0m\u001b[0m\n\u001b[0m",
            "\u001b[1;31mNameError\u001b[0m: name 'var' is not defined"
          ]
        }
      ],
      "source": [
        "print(var)"
      ]
    },
    {
      "cell_type": "markdown",
      "metadata": {
        "id": "StHUGCsRdix2"
      },
      "source": [
        "Once we call the function though, it will create that global **var**:"
      ]
    },
    {
      "cell_type": "code",
      "execution_count": null,
      "metadata": {
        "id": "Oy4Sx0DGdix2",
        "outputId": "83773972-8b2e-474f-c082-5f1d11be5864"
      },
      "outputs": [
        {
          "data": {
            "text/plain": [
              "4"
            ]
          },
          "execution_count": 11,
          "metadata": {},
          "output_type": "execute_result"
        }
      ],
      "source": [
        "my_func(2)"
      ]
    },
    {
      "cell_type": "code",
      "execution_count": null,
      "metadata": {
        "id": "zajTlD-Edix2",
        "outputId": "de6b4ec6-0639-43e3-b90d-1f888334b4ed"
      },
      "outputs": [
        {
          "name": "stdout",
          "output_type": "stream",
          "text": [
            "hello world\n"
          ]
        }
      ],
      "source": [
        "print(var)"
      ]
    },
    {
      "cell_type": "markdown",
      "metadata": {
        "collapsed": true,
        "id": "-E2thq9Bdix2"
      },
      "source": [
        "#### Beware!!"
      ]
    },
    {
      "cell_type": "markdown",
      "metadata": {
        "id": "kKajS3mBdix3"
      },
      "source": [
        "Remember that whenever you assign a value to a variable without having specified the variable as **global**, it is **local** in the current scope. **Moreover**, it does not matter **where** the assignment in the code takes place, the variable is considered local in the **entire** scope - Python determines the scope of objects at compile-time, not at run-time."
      ]
    },
    {
      "cell_type": "markdown",
      "metadata": {
        "id": "1hvfjyTEdix3"
      },
      "source": [
        "Let's see an example of this:"
      ]
    },
    {
      "cell_type": "code",
      "execution_count": null,
      "metadata": {
        "collapsed": true,
        "id": "qrWF6mdCdix3"
      },
      "outputs": [],
      "source": [
        "a = 10\n",
        "b = 100"
      ]
    },
    {
      "cell_type": "code",
      "execution_count": null,
      "metadata": {
        "collapsed": true,
        "id": "TsHPlc1tdix3"
      },
      "outputs": [],
      "source": [
        "def my_func():\n",
        "    print(a)\n",
        "    print(b)\n",
        "    "
      ]
    },
    {
      "cell_type": "code",
      "execution_count": null,
      "metadata": {
        "id": "Y0I0jG57dix3",
        "outputId": "dc9c18d9-cba5-44c4-91f7-75a4dd820974"
      },
      "outputs": [
        {
          "name": "stdout",
          "output_type": "stream",
          "text": [
            "10\n",
            "100\n"
          ]
        }
      ],
      "source": [
        "my_func()"
      ]
    },
    {
      "cell_type": "markdown",
      "metadata": {
        "id": "SeYhfKHFdix3"
      },
      "source": [
        "So, this works as expected - **a** and **b** are taken from the global scope since they are referenced **before** being assigned a value in the local scope.\n",
        "\n",
        "But now consider the following example:"
      ]
    },
    {
      "cell_type": "code",
      "execution_count": null,
      "metadata": {
        "collapsed": true,
        "id": "LeYh1mLAdix4"
      },
      "outputs": [],
      "source": [
        "a = 10\n",
        "b = 100\n",
        "\n",
        "def my_func():\n",
        "    print(a)\n",
        "    print(b)\n",
        "    b = 1000"
      ]
    },
    {
      "cell_type": "code",
      "execution_count": null,
      "metadata": {
        "id": "VxChJ5jldix4",
        "outputId": "8eb2ea9c-fd86-4eff-f8cb-3844aa9c3f3f"
      },
      "outputs": [
        {
          "name": "stdout",
          "output_type": "stream",
          "text": [
            "10\n"
          ]
        },
        {
          "ename": "UnboundLocalError",
          "evalue": "local variable 'b' referenced before assignment",
          "output_type": "error",
          "traceback": [
            "\u001b[1;31m---------------------------------------------------------------------------\u001b[0m",
            "\u001b[1;31mUnboundLocalError\u001b[0m                         Traceback (most recent call last)",
            "\u001b[1;32m<ipython-input-17-d82eda95de40>\u001b[0m in \u001b[0;36m<module>\u001b[1;34m()\u001b[0m\n\u001b[1;32m----> 1\u001b[1;33m \u001b[0mmy_func\u001b[0m\u001b[1;33m(\u001b[0m\u001b[1;33m)\u001b[0m\u001b[1;33m\u001b[0m\u001b[0m\n\u001b[0m",
            "\u001b[1;32m<ipython-input-16-a2b60f95cac1>\u001b[0m in \u001b[0;36mmy_func\u001b[1;34m()\u001b[0m\n\u001b[0;32m      4\u001b[0m \u001b[1;32mdef\u001b[0m \u001b[0mmy_func\u001b[0m\u001b[1;33m(\u001b[0m\u001b[1;33m)\u001b[0m\u001b[1;33m:\u001b[0m\u001b[1;33m\u001b[0m\u001b[0m\n\u001b[0;32m      5\u001b[0m     \u001b[0mprint\u001b[0m\u001b[1;33m(\u001b[0m\u001b[0ma\u001b[0m\u001b[1;33m)\u001b[0m\u001b[1;33m\u001b[0m\u001b[0m\n\u001b[1;32m----> 6\u001b[1;33m     \u001b[0mprint\u001b[0m\u001b[1;33m(\u001b[0m\u001b[0mb\u001b[0m\u001b[1;33m)\u001b[0m\u001b[1;33m\u001b[0m\u001b[0m\n\u001b[0m\u001b[0;32m      7\u001b[0m     \u001b[0mb\u001b[0m \u001b[1;33m=\u001b[0m \u001b[1;36m1000\u001b[0m\u001b[1;33m\u001b[0m\u001b[0m\n",
            "\u001b[1;31mUnboundLocalError\u001b[0m: local variable 'b' referenced before assignment"
          ]
        }
      ],
      "source": [
        "my_func()"
      ]
    },
    {
      "cell_type": "markdown",
      "metadata": {
        "id": "m5UmBrrrdix4"
      },
      "source": [
        "As you can see, **b** in the line ``print(b)`` is considered a **local** variable - that's because the **next** line **assigns** a value to **b** - hence **b** is scoped as local by Python for the **entire** function."
      ]
    },
    {
      "cell_type": "markdown",
      "metadata": {
        "id": "4l8yxlrDdix4"
      },
      "source": [
        "Of course, functions are also objects, and scoping applies equally to function objects too. For example, we can \"mask\" the built-in `print` Python function:"
      ]
    },
    {
      "cell_type": "code",
      "execution_count": null,
      "metadata": {
        "scrolled": false,
        "id": "UGmXtx6Rdix4",
        "outputId": "c73e6e37-f896-4f4e-8e5d-83268908e85d"
      },
      "outputs": [
        {
          "data": {
            "text/plain": [
              "'hello world!'"
            ]
          },
          "execution_count": 18,
          "metadata": {},
          "output_type": "execute_result"
        }
      ],
      "source": [
        "print = lambda x: 'hello {0}!'.format(x)\n",
        "\n",
        "def my_func(name):\n",
        "\treturn print(name)\n",
        "\n",
        "my_func('world')\n"
      ]
    },
    {
      "cell_type": "markdown",
      "metadata": {
        "id": "AyeQvGukdix5"
      },
      "source": [
        "You may be wondering how we get our **real** ``print`` function back!"
      ]
    },
    {
      "cell_type": "code",
      "execution_count": null,
      "metadata": {
        "collapsed": true,
        "id": "LBB0b27edix5"
      },
      "outputs": [],
      "source": [
        "del print"
      ]
    },
    {
      "cell_type": "code",
      "execution_count": null,
      "metadata": {
        "id": "XMj9I8gzdix5",
        "outputId": "857e8ad5-19a5-4355-dd62-34a817d5718b"
      },
      "outputs": [
        {
          "name": "stdout",
          "output_type": "stream",
          "text": [
            "hello\n"
          ]
        }
      ],
      "source": [
        "print('hello')"
      ]
    },
    {
      "cell_type": "markdown",
      "metadata": {
        "id": "kimXkBLSdix5"
      },
      "source": [
        "Yay!!"
      ]
    },
    {
      "cell_type": "markdown",
      "metadata": {
        "collapsed": true,
        "id": "fLeARDbIdix6"
      },
      "source": [
        "If you have experience in some other programming languages you may be wondering if loops and other code \"blocks\" have their own local scope too. For example in Java, the following would not work:"
      ]
    },
    {
      "cell_type": "markdown",
      "metadata": {
        "id": "Tf8-bry_dix6"
      },
      "source": [
        "``for (int i=0; i<10; i++) {\n",
        "    int x = 2 * i;\n",
        "}\n",
        "system.out.println(x);\n",
        "``"
      ]
    },
    {
      "cell_type": "markdown",
      "metadata": {
        "id": "875nO38Sdix6"
      },
      "source": [
        "But in Python it works perfectly fine:"
      ]
    },
    {
      "cell_type": "code",
      "execution_count": null,
      "metadata": {
        "id": "5rHEgX4ldix6",
        "outputId": "72d19c44-1b94-4b0f-e8e9-d869d898704a"
      },
      "outputs": [
        {
          "name": "stdout",
          "output_type": "stream",
          "text": [
            "18\n"
          ]
        }
      ],
      "source": [
        "for i in range(10):\n",
        "    x = 2 * i\n",
        "print(x)"
      ]
    },
    {
      "cell_type": "markdown",
      "metadata": {
        "id": "Nf4dj2wvdix6"
      },
      "source": [
        "In this case, when we assigned a value to `x`, Python put it in the global (module) scope, so we can reference it after the `for` loop has finished running."
      ]
    }
  ],
  "metadata": {
    "kernelspec": {
      "display_name": "Python 3",
      "language": "python",
      "name": "python3"
    },
    "language_info": {
      "codemirror_mode": {
        "name": "ipython",
        "version": 3
      },
      "file_extension": ".py",
      "mimetype": "text/x-python",
      "name": "python",
      "nbconvert_exporter": "python",
      "pygments_lexer": "ipython3",
      "version": "3.6.2"
    },
    "colab": {
      "name": "Global and Local Scopes.ipynb",
      "provenance": [],
      "include_colab_link": true
    }
  },
  "nbformat": 4,
  "nbformat_minor": 0
}