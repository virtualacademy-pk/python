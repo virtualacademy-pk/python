{
  "nbformat": 4,
  "nbformat_minor": 0,
  "metadata": {
    "colab": {
      "name": "If_Sales_basic_assignment.ipynb",
      "provenance": [],
      "collapsed_sections": [],
      "authorship_tag": "ABX9TyOUEK68ySBsbWb5EpfDK/z2",
      "include_colab_link": true
    },
    "kernelspec": {
      "name": "python3",
      "display_name": "Python 3"
    },
    "language_info": {
      "name": "python"
    }
  },
  "cells": [
    {
      "cell_type": "markdown",
      "metadata": {
        "id": "view-in-github",
        "colab_type": "text"
      },
      "source": [
        "<a href=\"https://colab.research.google.com/github/virtualacademy-pk/python/blob/main/If_Sales_basic_assignment.ipynb\" target=\"_parent\"><img src=\"https://colab.research.google.com/assets/colab-badge.svg\" alt=\"Open In Colab\"/></a>"
      ]
    },
    {
      "cell_type": "markdown",
      "metadata": {
        "id": "BYW7DuQ7P3ow"
      },
      "source": [
        "The Cost Price of an article is is taken as input. The shopkeeper writes the market price of the article by given percentage as above the cost price. The sale price of that article is is set to some value. Find percentage of profit or loss\n",
        "\n",
        "\n",
        "Market Price = Cost Price + 15% of Cost Price\n",
        "\n",
        "Sales Price will be input\n",
        "\n",
        "diff = Sale Price - Cost Price\n",
        "\n",
        "\n",
        "diff Percent = diff / Market Price * 100\n",
        "\n",
        "Cost = 6000\n",
        "\n",
        "Market price = 6000 - (6000 * 15/100) \n",
        "            = 6000 + 900 = 6900\n",
        "\n",
        "Sale price = 4600\n",
        "\n",
        "difference = 4600 - marketPrice = -2300\n",
        " "
      ]
    },
    {
      "cell_type": "code",
      "metadata": {
        "colab": {
          "base_uri": "https://localhost:8080/"
        },
        "id": "azcXodeMP3NV",
        "outputId": "084176f4-9cb9-4fe3-d7ec-0502707b9384"
      },
      "source": [
        "costPrice = int(input(\"Enter Cost Price: \"))\n",
        "marketPricePct = int(input(\"Enter Market Price increse percent: \"))\n",
        "salesPrice = int (input(\"Enter Sales Price: \"))\n",
        "marketPrice = costPrice + (costPrice * 15 / 100)\n",
        "print (\"Market Price @ Rate of \" + str(marketPricePct) + \" %: \" + str(marketPrice ))\n",
        "diffValue = salesPrice - costPrice\n",
        "if diffValue > 0:\n",
        "  print (\"Pofit is  \" + str(diffValue))\n",
        "else:\n",
        "  print(\"Loss is \" + str(diffValue))  \n"
      ],
      "execution_count": 4,
      "outputs": [
        {
          "output_type": "stream",
          "text": [
            "Enter Cost Price: 1000\n",
            "Enter Market Price increse percent: 15\n",
            "Enter Sales Price: 3200\n",
            "Market Price @ Rate of 15 %: 1150.0\n",
            "Pofit is  2200\n"
          ],
          "name": "stdout"
        }
      ]
    }
  ]
}