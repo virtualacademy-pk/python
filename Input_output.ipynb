{
  "nbformat": 4,
  "nbformat_minor": 0,
  "metadata": {
    "colab": {
      "name": "Input_output.ipynb",
      "provenance": [],
      "collapsed_sections": [],
      "authorship_tag": "ABX9TyMbZyeYG0dYbRlYdFhEpcuS",
      "include_colab_link": true
    },
    "kernelspec": {
      "name": "python3",
      "display_name": "Python 3"
    },
    "language_info": {
      "name": "python"
    }
  },
  "cells": [
    {
      "cell_type": "markdown",
      "metadata": {
        "id": "view-in-github",
        "colab_type": "text"
      },
      "source": [
        "<a href=\"https://colab.research.google.com/github/virtualacademy-pk/python/blob/main/Input_output.ipynb\" target=\"_parent\"><img src=\"https://colab.research.google.com/assets/colab-badge.svg\" alt=\"Open In Colab\"/></a>"
      ]
    },
    {
      "cell_type": "markdown",
      "metadata": {
        "id": "wBXDbHGETrQq"
      },
      "source": [
        "\n",
        "\n",
        "\n",
        "*   Taking input from user and saving into memory location\n",
        "*   Every memory location is given a name i.e. x, y, a,b or any specific meaning full name as per python naming standard. (will describe in up comming sessinos)\n",
        "*   print function is used to print the value at any memory location which is accessed via memory location name.\n",
        "*   user input in pyton is considered as alphabet memory. therefore it required to tell python that given input is interger. so int function is used to tell pythong about data type.\n",
        "\n"
      ]
    },
    {
      "cell_type": "code",
      "metadata": {
        "id": "UDo-DnSKTdbu"
      },
      "source": [
        "x = input()\n",
        "y = input()\n",
        "print (int(x) + int(y))"
      ],
      "execution_count": null,
      "outputs": []
    },
    {
      "cell_type": "markdown",
      "metadata": {
        "id": "GGfCtYnZUrBr"
      },
      "source": [
        "\n",
        "\n",
        "*   Prompt is the special text which help user to provide input, for example the message \"Username\" in you mobile or windows login screen is one type of prompt. after every prompt there must an option to user for enter some data. it may be a text, a selection or a check box.\n",
        "\n"
      ]
    },
    {
      "cell_type": "code",
      "metadata": {
        "id": "0cKmcJ2tl58z"
      },
      "source": [
        "x = input(\"Please enter value less than 10: \")\n",
        "y = input(\"Please enter value less than 10: \")\n",
        "print (int(x) + int(y))"
      ],
      "execution_count": null,
      "outputs": []
    }
  ]
}