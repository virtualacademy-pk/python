{
  "cells": [
    {
      "cell_type": "markdown",
      "metadata": {
        "id": "view-in-github",
        "colab_type": "text"
      },
      "source": [
        "<a href=\"https://colab.research.google.com/github/virtualacademy-pk/python/blob/main/Keyword_Arguments.ipynb\" target=\"_parent\"><img src=\"https://colab.research.google.com/assets/colab-badge.svg\" alt=\"Open In Colab\"/></a>"
      ]
    },
    {
      "cell_type": "markdown",
      "metadata": {
        "id": "woYUPcNOw_bb"
      },
      "source": [
        "### Keyword Arguments"
      ]
    },
    {
      "cell_type": "markdown",
      "metadata": {
        "id": "oorReCXmw_be"
      },
      "source": [
        "Recall: positional parameters defined in functions can also be passed as named (keyword) arguments."
      ]
    },
    {
      "cell_type": "code",
      "execution_count": null,
      "metadata": {
        "collapsed": true,
        "id": "CSS6Vw69w_bf"
      },
      "outputs": [],
      "source": [
        "def func1(a, b, c):\n",
        "    print(a, b, c)"
      ]
    },
    {
      "cell_type": "code",
      "execution_count": null,
      "metadata": {
        "id": "pP6E1mNIw_bh",
        "outputId": "caeb203d-e4c6-4c76-b055-f38e4a81febc"
      },
      "outputs": [
        {
          "name": "stdout",
          "output_type": "stream",
          "text": [
            "10 20 30\n"
          ]
        }
      ],
      "source": [
        "func1(10, 20, 30)"
      ]
    },
    {
      "cell_type": "code",
      "execution_count": null,
      "metadata": {
        "id": "c615TyQQw_bi",
        "outputId": "def559b1-4361-4702-c7ef-9ae976ef8f24"
      },
      "outputs": [
        {
          "name": "stdout",
          "output_type": "stream",
          "text": [
            "10 20 30\n"
          ]
        }
      ],
      "source": [
        "func1(b=20, c=30, a=10)"
      ]
    },
    {
      "cell_type": "code",
      "execution_count": null,
      "metadata": {
        "id": "jYnYAzm7w_bj",
        "outputId": "f7c62a40-9c20-4290-d525-ca1fdfc2937e"
      },
      "outputs": [
        {
          "name": "stdout",
          "output_type": "stream",
          "text": [
            "10 20 30\n"
          ]
        }
      ],
      "source": [
        "func1(10, c=30, b=20)"
      ]
    },
    {
      "cell_type": "markdown",
      "metadata": {
        "id": "pPkyK4l7w_bj"
      },
      "source": [
        "Using a named argument is optional and up to the caller."
      ]
    },
    {
      "cell_type": "markdown",
      "metadata": {
        "id": "Y0rmKpvqw_bk"
      },
      "source": [
        "What if we wanted to force calls to our function to use named arguments?"
      ]
    },
    {
      "cell_type": "markdown",
      "metadata": {
        "id": "1sk6tusEw_bk"
      },
      "source": [
        "We can do so by **exhausting** all the positional arguments, and then adding some additional parameters in teh function definition:"
      ]
    },
    {
      "cell_type": "code",
      "execution_count": null,
      "metadata": {
        "collapsed": true,
        "id": "wRW4z1NCw_bl"
      },
      "outputs": [],
      "source": [
        "def func1(a, b, *args, d):\n",
        "    print(a, b, args, d)"
      ]
    },
    {
      "cell_type": "markdown",
      "metadata": {
        "id": "oc--XRvLw_bm"
      },
      "source": [
        "Now we will need at least two positional arguments, an optional (possibly even zero) number of additional arguments, and this extra argument which is supposed to go into **d**. This argument can **only** be passed to the function using a named (keyword) argument:"
      ]
    },
    {
      "cell_type": "markdown",
      "metadata": {
        "id": "twX4_Z4Tw_bm"
      },
      "source": [
        "So, this will not work:"
      ]
    },
    {
      "cell_type": "code",
      "execution_count": null,
      "metadata": {
        "id": "ZQai6ctvw_bm",
        "outputId": "7d503e9f-0593-4176-c450-101dc5446cf1"
      },
      "outputs": [
        {
          "ename": "TypeError",
          "evalue": "func1() missing 1 required keyword-only argument: 'd'",
          "output_type": "error",
          "traceback": [
            "\u001b[1;31m---------------------------------------------------------------------------\u001b[0m",
            "\u001b[1;31mTypeError\u001b[0m                                 Traceback (most recent call last)",
            "\u001b[1;32m<ipython-input-6-50a3343cf093>\u001b[0m in \u001b[0;36m<module>\u001b[1;34m()\u001b[0m\n\u001b[1;32m----> 1\u001b[1;33m \u001b[0mfunc1\u001b[0m\u001b[1;33m(\u001b[0m\u001b[1;36m10\u001b[0m\u001b[1;33m,\u001b[0m \u001b[1;36m20\u001b[0m\u001b[1;33m,\u001b[0m \u001b[1;34m'a'\u001b[0m\u001b[1;33m,\u001b[0m \u001b[1;34m'b'\u001b[0m\u001b[1;33m,\u001b[0m \u001b[1;36m100\u001b[0m\u001b[1;33m)\u001b[0m\u001b[1;33m\u001b[0m\u001b[0m\n\u001b[0m",
            "\u001b[1;31mTypeError\u001b[0m: func1() missing 1 required keyword-only argument: 'd'"
          ]
        }
      ],
      "source": [
        "func1(10, 20, 'a', 'b', 100)"
      ]
    },
    {
      "cell_type": "markdown",
      "metadata": {
        "id": "w_exr0SPw_bn"
      },
      "source": [
        "But this will:"
      ]
    },
    {
      "cell_type": "code",
      "execution_count": null,
      "metadata": {
        "id": "B1X08sRNw_bn"
      },
      "outputs": [],
      "source": [
        "func1(10, 20, 'a', 'b', d=100)"
      ]
    },
    {
      "cell_type": "markdown",
      "metadata": {
        "id": "14R2AY8_w_bn"
      },
      "source": [
        "As you can see, **d** took the keyword argument, while the remaining arguments were handled as positional parameters."
      ]
    },
    {
      "cell_type": "markdown",
      "metadata": {
        "id": "cD3PhNCdw_bo"
      },
      "source": [
        "We can even define a function that has only optional positional arguments and mandatory keyword arguments:"
      ]
    },
    {
      "cell_type": "code",
      "execution_count": null,
      "metadata": {
        "collapsed": true,
        "id": "-xp4B3E7w_bo"
      },
      "outputs": [],
      "source": [
        "def func1(*args, d):\n",
        "    print(args)\n",
        "    print(d)"
      ]
    },
    {
      "cell_type": "code",
      "execution_count": null,
      "metadata": {
        "id": "V__gu2Qbw_bo"
      },
      "outputs": [],
      "source": [
        "func1(1, 2, 3, d='hello')"
      ]
    },
    {
      "cell_type": "markdown",
      "metadata": {
        "id": "5kvctvdmw_bp"
      },
      "source": [
        "We can of course, not pass any positional arguments:"
      ]
    },
    {
      "cell_type": "code",
      "execution_count": null,
      "metadata": {
        "id": "F7LbPMHdw_bp"
      },
      "outputs": [],
      "source": [
        "func1(d='hello')"
      ]
    },
    {
      "cell_type": "markdown",
      "metadata": {
        "id": "i7ccAeVWw_bp"
      },
      "source": [
        "but the positional argument is mandatory (since no default was provided in the function definition):"
      ]
    },
    {
      "cell_type": "code",
      "execution_count": null,
      "metadata": {
        "id": "087DZ2jSw_bp"
      },
      "outputs": [],
      "source": [
        "func1()"
      ]
    },
    {
      "cell_type": "markdown",
      "metadata": {
        "id": "HSZmsa0fw_bq"
      },
      "source": [
        "To make the keyword argument optional, we just need to specify a default value in the function definition:"
      ]
    },
    {
      "cell_type": "code",
      "execution_count": null,
      "metadata": {
        "collapsed": true,
        "id": "KyyM9hS3w_bq"
      },
      "outputs": [],
      "source": [
        "def func1(*args, d='n/a'):\n",
        "    print(args)\n",
        "    print(d)"
      ]
    },
    {
      "cell_type": "code",
      "execution_count": null,
      "metadata": {
        "id": "CHyj_58Hw_bq"
      },
      "outputs": [],
      "source": [
        "func1(1, 2, 3)"
      ]
    },
    {
      "cell_type": "code",
      "execution_count": null,
      "metadata": {
        "id": "CK9drFrRw_bq"
      },
      "outputs": [],
      "source": [
        "func1()"
      ]
    },
    {
      "cell_type": "markdown",
      "metadata": {
        "id": "neXW-ecVw_bq"
      },
      "source": [
        "Sometimes we want **only** keyword arguments, in which case we still have to exhaust the positional arguments first - but we can use the following syntax if we do not want any positional parameters passed in:"
      ]
    },
    {
      "cell_type": "code",
      "execution_count": null,
      "metadata": {
        "collapsed": true,
        "id": "EgPZHeRzw_br"
      },
      "outputs": [],
      "source": [
        "def func1(*, d='hello'):\n",
        "    print(d)"
      ]
    },
    {
      "cell_type": "code",
      "execution_count": null,
      "metadata": {
        "id": "8XAlRGUUw_br"
      },
      "outputs": [],
      "source": [
        "func1(10, d='bye')"
      ]
    },
    {
      "cell_type": "code",
      "execution_count": null,
      "metadata": {
        "id": "heCCECcnw_br"
      },
      "outputs": [],
      "source": [
        "func1(d='bye')"
      ]
    },
    {
      "cell_type": "markdown",
      "metadata": {
        "id": "KWszbwIpw_br"
      },
      "source": [
        "Of course, if we do not provide a default value for the keyword argument, then we effectively are forcing the caller to provide the keyword argument:"
      ]
    },
    {
      "cell_type": "code",
      "execution_count": null,
      "metadata": {
        "collapsed": true,
        "id": "lAQ6tQHdw_br"
      },
      "outputs": [],
      "source": [
        "def func1(*, a, b):\n",
        "    print(a)\n",
        "    print(b)"
      ]
    },
    {
      "cell_type": "code",
      "execution_count": null,
      "metadata": {
        "id": "8UVNQnKAw_br"
      },
      "outputs": [],
      "source": [
        "func1(a=10, b=20)"
      ]
    },
    {
      "cell_type": "markdown",
      "metadata": {
        "id": "OERwVMPgw_bs"
      },
      "source": [
        "but, the following would not work:"
      ]
    },
    {
      "cell_type": "code",
      "execution_count": null,
      "metadata": {
        "id": "dCZIbVH3w_bs"
      },
      "outputs": [],
      "source": [
        "func1(10, 20)"
      ]
    },
    {
      "cell_type": "markdown",
      "metadata": {
        "id": "cAhACxc4w_bs"
      },
      "source": [
        "Unlike positional parameters, keyword arguments do not have to be defined with non-defaulted and then defaulted arguments:"
      ]
    },
    {
      "cell_type": "code",
      "execution_count": null,
      "metadata": {
        "collapsed": true,
        "id": "__nLMWDxw_bs"
      },
      "outputs": [],
      "source": [
        "def func1(a, *, b='hello', c):\n",
        "    print(a, b, c)"
      ]
    },
    {
      "cell_type": "code",
      "execution_count": null,
      "metadata": {
        "id": "lxz9OSVow_bs"
      },
      "outputs": [],
      "source": [
        "func1(5, c='bye')"
      ]
    },
    {
      "cell_type": "markdown",
      "metadata": {
        "id": "2yOMHGpnw_bt"
      },
      "source": [
        "We can also include positional non-defaulted (first), positional defaulted (after positional non-defaulted) followed lastly (after exhausting positional arguments) by keyword args (defaulted or non-defaulted in any order)"
      ]
    },
    {
      "cell_type": "code",
      "execution_count": null,
      "metadata": {
        "collapsed": true,
        "id": "ynwKj0pmw_bt"
      },
      "outputs": [],
      "source": [
        "def func1(a, b=20, *args, d=0, e='n/a'):\n",
        "    print(a, b, args, d, e)"
      ]
    },
    {
      "cell_type": "code",
      "execution_count": null,
      "metadata": {
        "id": "BCmejfqJw_bt"
      },
      "outputs": [],
      "source": [
        "func1(5, 4, 3, 2, 1, d=0, e='all engines running')"
      ]
    },
    {
      "cell_type": "code",
      "execution_count": null,
      "metadata": {
        "id": "lSfaS3zWw_bt"
      },
      "outputs": [],
      "source": [
        "func1(0, 600, d='goooood morning', e='python!')"
      ]
    },
    {
      "cell_type": "code",
      "execution_count": null,
      "metadata": {
        "id": "b6h4x5R4w_bt"
      },
      "outputs": [],
      "source": [
        "func1(11, 'm/s', 24, 'mph', d='unladen', e='swallow')"
      ]
    },
    {
      "cell_type": "markdown",
      "metadata": {
        "id": "toBeQ3WEw_bt"
      },
      "source": [
        "As you can see, defining parameters and passing arguments is extremely flexible in Python! Even more so, when you account for the fact that the parameters are not statically typed!"
      ]
    },
    {
      "cell_type": "markdown",
      "metadata": {
        "id": "u2BmLfADw_bt"
      },
      "source": [
        "In the next video, we'll look at one more thing we can do with function parameters!"
      ]
    }
  ],
  "metadata": {
    "kernelspec": {
      "display_name": "Python 3",
      "language": "python",
      "name": "python3"
    },
    "language_info": {
      "codemirror_mode": {
        "name": "ipython",
        "version": 3
      },
      "file_extension": ".py",
      "mimetype": "text/x-python",
      "name": "python",
      "nbconvert_exporter": "python",
      "pygments_lexer": "ipython3",
      "version": "3.6.1"
    },
    "colab": {
      "name": "Keyword Arguments.ipynb",
      "provenance": [],
      "include_colab_link": true
    }
  },
  "nbformat": 4,
  "nbformat_minor": 0
}