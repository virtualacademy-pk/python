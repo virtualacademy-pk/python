{
  "cells": [
    {
      "cell_type": "markdown",
      "metadata": {
        "id": "view-in-github",
        "colab_type": "text"
      },
      "source": [
        "<a href=\"https://colab.research.google.com/github/virtualacademy-pk/python/blob/main/Lambda_Expressions.ipynb\" target=\"_parent\"><img src=\"https://colab.research.google.com/assets/colab-badge.svg\" alt=\"Open In Colab\"/></a>"
      ]
    },
    {
      "cell_type": "markdown",
      "metadata": {
        "id": "V-2hQ-3XLsA0"
      },
      "source": [
        "### Lambda Expressions"
      ]
    },
    {
      "cell_type": "code",
      "execution_count": null,
      "metadata": {
        "id": "4OtPpBhQLsA4",
        "outputId": "4bc67b2c-cacb-481d-8ac5-7f4fb0fa2eb6"
      },
      "outputs": [
        {
          "data": {
            "text/plain": [
              "<function __main__.<lambda>>"
            ]
          },
          "execution_count": 1,
          "metadata": {},
          "output_type": "execute_result"
        }
      ],
      "source": [
        "lambda x: x**2"
      ]
    },
    {
      "cell_type": "markdown",
      "metadata": {
        "id": "QWeM8wsfLsA5"
      },
      "source": [
        "As you can see, the above expression just created a function."
      ]
    },
    {
      "cell_type": "markdown",
      "metadata": {
        "id": "MukI6qnpLsA6"
      },
      "source": [
        "#### Assigning to a Variable"
      ]
    },
    {
      "cell_type": "code",
      "execution_count": null,
      "metadata": {
        "collapsed": true,
        "id": "PofHS-N_LsA6"
      },
      "outputs": [],
      "source": [
        "func = lambda x: x**2"
      ]
    },
    {
      "cell_type": "code",
      "execution_count": null,
      "metadata": {
        "id": "Jjb_Em6BLsA7",
        "outputId": "c190930f-ab42-4aca-a73c-b462fdbcaef4"
      },
      "outputs": [
        {
          "data": {
            "text/plain": [
              "function"
            ]
          },
          "execution_count": 3,
          "metadata": {},
          "output_type": "execute_result"
        }
      ],
      "source": [
        "type(func)"
      ]
    },
    {
      "cell_type": "code",
      "execution_count": null,
      "metadata": {
        "id": "ZmHd9omYLsA7",
        "outputId": "262432bc-9d3c-4c32-84be-2f470c2ca1c1"
      },
      "outputs": [
        {
          "data": {
            "text/plain": [
              "9"
            ]
          },
          "execution_count": 4,
          "metadata": {},
          "output_type": "execute_result"
        }
      ],
      "source": [
        "func(3)"
      ]
    },
    {
      "cell_type": "markdown",
      "metadata": {
        "id": "gWx-KSOpLsA8"
      },
      "source": [
        "We can specify arguments for lambdas just like we would for any function created using **def**, except for annotations:"
      ]
    },
    {
      "cell_type": "code",
      "execution_count": null,
      "metadata": {
        "collapsed": true,
        "id": "m8xnMmVjLsA8"
      },
      "outputs": [],
      "source": [
        "func_1 = lambda x, y=10: (x, y)"
      ]
    },
    {
      "cell_type": "code",
      "execution_count": null,
      "metadata": {
        "id": "ya_C34MNLsA9",
        "outputId": "6ffd3f2d-c2fe-4c13-ed3f-6415265a27ba"
      },
      "outputs": [
        {
          "data": {
            "text/plain": [
              "(1, 2)"
            ]
          },
          "execution_count": 6,
          "metadata": {},
          "output_type": "execute_result"
        }
      ],
      "source": [
        "func_1(1, 2)"
      ]
    },
    {
      "cell_type": "code",
      "execution_count": null,
      "metadata": {
        "id": "MpOMkTF6LsA9",
        "outputId": "30a67202-4f5e-4364-8ece-a6b276d1b903"
      },
      "outputs": [
        {
          "data": {
            "text/plain": [
              "(1, 10)"
            ]
          },
          "execution_count": 7,
          "metadata": {},
          "output_type": "execute_result"
        }
      ],
      "source": [
        "func_1(1)"
      ]
    },
    {
      "cell_type": "markdown",
      "metadata": {
        "id": "ikzfX1w6LsA-"
      },
      "source": [
        "We can even use \\* and \\*\\*:"
      ]
    },
    {
      "cell_type": "code",
      "execution_count": null,
      "metadata": {
        "collapsed": true,
        "id": "rNVaUZHgLsA-"
      },
      "outputs": [],
      "source": [
        "func_2 = lambda x, *args, y, **kwargs: (x, *args, y, {**kwargs})"
      ]
    },
    {
      "cell_type": "code",
      "execution_count": null,
      "metadata": {
        "id": "uYYB3P30LsA-",
        "outputId": "e82bf75b-8ed9-4bfd-cdbe-88e8cf1cae3f"
      },
      "outputs": [
        {
          "data": {
            "text/plain": [
              "(1, 'a', 'b', 100, {'a': 10, 'b': 20})"
            ]
          },
          "execution_count": 9,
          "metadata": {},
          "output_type": "execute_result"
        }
      ],
      "source": [
        "func_2(1, 'a', 'b', y=100, a=10, b=20)"
      ]
    },
    {
      "cell_type": "markdown",
      "metadata": {
        "id": "WgAA6Tc4LsA_"
      },
      "source": [
        "#### Passing as an Argument"
      ]
    },
    {
      "cell_type": "markdown",
      "metadata": {
        "id": "Vew4-1PHLsA_"
      },
      "source": [
        "Lambdas are functions, and can therefore be passed to any other function as an argument (or returned from another function)"
      ]
    },
    {
      "cell_type": "code",
      "execution_count": null,
      "metadata": {
        "collapsed": true,
        "id": "FSlXR5NbLsA_"
      },
      "outputs": [],
      "source": [
        "def apply_func(x, fn):\n",
        "    return fn(x)"
      ]
    },
    {
      "cell_type": "code",
      "execution_count": null,
      "metadata": {
        "id": "FP9ugghGLsBA",
        "outputId": "5019fff3-9cce-4026-cc69-466043f6c687"
      },
      "outputs": [
        {
          "data": {
            "text/plain": [
              "9"
            ]
          },
          "execution_count": 11,
          "metadata": {},
          "output_type": "execute_result"
        }
      ],
      "source": [
        "apply_func(3, lambda x: x**2)"
      ]
    },
    {
      "cell_type": "code",
      "execution_count": null,
      "metadata": {
        "id": "ARPF87YvLsBA",
        "outputId": "17d88d41-aad2-488e-b93f-4845fc91e3ed"
      },
      "outputs": [
        {
          "data": {
            "text/plain": [
              "27"
            ]
          },
          "execution_count": 12,
          "metadata": {},
          "output_type": "execute_result"
        }
      ],
      "source": [
        "apply_func(3, lambda x: x**3)"
      ]
    },
    {
      "cell_type": "markdown",
      "metadata": {
        "id": "o5U86xUJLsBA"
      },
      "source": [
        "Of course we can make this even more generic:"
      ]
    },
    {
      "cell_type": "code",
      "execution_count": null,
      "metadata": {
        "collapsed": true,
        "id": "Lkm7MpPkLsBA"
      },
      "outputs": [],
      "source": [
        "def apply_func(fn, *args, **kwargs):\n",
        "    return fn(*args, **kwargs)"
      ]
    },
    {
      "cell_type": "code",
      "execution_count": null,
      "metadata": {
        "id": "2Ae59XPpLsBB",
        "outputId": "c28aee43-1c8b-4471-bb3d-ae1fd70d9cc4"
      },
      "outputs": [
        {
          "data": {
            "text/plain": [
              "3"
            ]
          },
          "execution_count": 14,
          "metadata": {},
          "output_type": "execute_result"
        }
      ],
      "source": [
        "apply_func(lambda x, y: x+y, 1, 2)"
      ]
    },
    {
      "cell_type": "code",
      "execution_count": null,
      "metadata": {
        "id": "j786f_FnLsBB",
        "outputId": "4b23cf14-0922-4a16-d3d3-830fa1c9cd01"
      },
      "outputs": [
        {
          "data": {
            "text/plain": [
              "3"
            ]
          },
          "execution_count": 15,
          "metadata": {},
          "output_type": "execute_result"
        }
      ],
      "source": [
        "apply_func(lambda x, *, y: x+y, 1, y=2)"
      ]
    },
    {
      "cell_type": "code",
      "execution_count": null,
      "metadata": {
        "id": "FEBhOsirLsBB",
        "outputId": "fbb1a99b-a313-42fc-b2ba-63323ba7e70b"
      },
      "outputs": [
        {
          "data": {
            "text/plain": [
              "15"
            ]
          },
          "execution_count": 16,
          "metadata": {},
          "output_type": "execute_result"
        }
      ],
      "source": [
        "apply_func(lambda *args: sum(args), 1, 2, 3, 4, 5)"
      ]
    },
    {
      "cell_type": "markdown",
      "metadata": {
        "id": "GC9_zAhhLsBC"
      },
      "source": [
        "Of course in the example above, we really did not need to create a lambda!"
      ]
    },
    {
      "cell_type": "code",
      "execution_count": null,
      "metadata": {
        "id": "H314buM4LsBC",
        "outputId": "cb133706-c180-4bda-dd1e-185fb085b3ff"
      },
      "outputs": [
        {
          "data": {
            "text/plain": [
              "15"
            ]
          },
          "execution_count": 17,
          "metadata": {},
          "output_type": "execute_result"
        }
      ],
      "source": [
        "apply_func(sum, (1, 2, 3, 4, 5))"
      ]
    },
    {
      "cell_type": "markdown",
      "metadata": {
        "id": "GapohnZYLsBC"
      },
      "source": [
        "Of course, we don't have to use lambdas when calling **apply_func**, we can also pass in a function defined using a **def** statement:"
      ]
    },
    {
      "cell_type": "code",
      "execution_count": null,
      "metadata": {
        "collapsed": true,
        "id": "WqfEMzcnLsBC"
      },
      "outputs": [],
      "source": [
        "def multiply(x, y):\n",
        "    return x * y"
      ]
    },
    {
      "cell_type": "code",
      "execution_count": null,
      "metadata": {
        "id": "AWp9cgVuLsBC",
        "outputId": "2b98b5f5-c163-42d2-f43a-d8b9c0543bfb"
      },
      "outputs": [
        {
          "data": {
            "text/plain": [
              "'aaaaa'"
            ]
          },
          "execution_count": 19,
          "metadata": {},
          "output_type": "execute_result"
        }
      ],
      "source": [
        "apply_func(multiply, 'a', 5)"
      ]
    },
    {
      "cell_type": "code",
      "execution_count": null,
      "metadata": {
        "id": "_5P0VPJCLsBD",
        "outputId": "03f860e8-7c3c-40fa-e9ab-fecf15fcded4"
      },
      "outputs": [
        {
          "data": {
            "text/plain": [
              "'aaaaa'"
            ]
          },
          "execution_count": 20,
          "metadata": {},
          "output_type": "execute_result"
        }
      ],
      "source": [
        "apply_func(lambda x, y: x*y, 'a', 5)"
      ]
    }
  ],
  "metadata": {
    "kernelspec": {
      "display_name": "Python 3",
      "language": "python",
      "name": "python3"
    },
    "language_info": {
      "codemirror_mode": {
        "name": "ipython",
        "version": 3
      },
      "file_extension": ".py",
      "mimetype": "text/x-python",
      "name": "python",
      "nbconvert_exporter": "python",
      "pygments_lexer": "ipython3",
      "version": "3.6.2"
    },
    "colab": {
      "name": "Lambda Expressions.ipynb",
      "provenance": [],
      "include_colab_link": true
    }
  },
  "nbformat": 4,
  "nbformat_minor": 0
}