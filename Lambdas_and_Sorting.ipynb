{
  "cells": [
    {
      "cell_type": "markdown",
      "metadata": {
        "id": "view-in-github",
        "colab_type": "text"
      },
      "source": [
        "<a href=\"https://colab.research.google.com/github/virtualacademy-pk/python/blob/main/Lambdas_and_Sorting.ipynb\" target=\"_parent\"><img src=\"https://colab.research.google.com/assets/colab-badge.svg\" alt=\"Open In Colab\"/></a>"
      ]
    },
    {
      "cell_type": "markdown",
      "metadata": {
        "id": "2nEK9ilObFCH"
      },
      "source": [
        "### Lambdas and Sorting"
      ]
    },
    {
      "cell_type": "markdown",
      "metadata": {
        "id": "L4zmSd06bFCK"
      },
      "source": [
        "Python has a built-in **sorted** method that can be used to sort any iterable. It will use the default ordering of the particular items, but sometimes you may want to (or need to) specify a different criteria for sorting."
      ]
    },
    {
      "cell_type": "markdown",
      "metadata": {
        "id": "YYVL3RW5bFCK"
      },
      "source": [
        "Let's start with a simple list:"
      ]
    },
    {
      "cell_type": "code",
      "execution_count": null,
      "metadata": {
        "collapsed": true,
        "id": "VeERYeZzbFCL"
      },
      "outputs": [],
      "source": [
        "l = ['a', 'B', 'c', 'D']"
      ]
    },
    {
      "cell_type": "code",
      "execution_count": null,
      "metadata": {
        "id": "Vd3qAaVJbFCM",
        "outputId": "18f3c7f7-b229-4735-dfad-5fea16c923f1"
      },
      "outputs": [
        {
          "data": {
            "text/plain": [
              "['B', 'D', 'a', 'c']"
            ]
          },
          "execution_count": 2,
          "metadata": {},
          "output_type": "execute_result"
        }
      ],
      "source": [
        "sorted(l)"
      ]
    },
    {
      "cell_type": "markdown",
      "metadata": {
        "id": "qZQxygIybFCN"
      },
      "source": [
        "As you can see there is a difference between upper and lower-case characters when sorting strings.\n",
        "\n",
        "What if we wanted to make a case-insensitive sort?\n",
        "\n",
        "Python's **sorted** function kas a keyword-only argument that allows us to modify the values that are used to sort the list."
      ]
    },
    {
      "cell_type": "code",
      "execution_count": null,
      "metadata": {
        "id": "SF8x4AXAbFCN",
        "outputId": "fbce8efa-0a5f-453a-e5e0-cb07e151d084"
      },
      "outputs": [
        {
          "data": {
            "text/plain": [
              "['a', 'B', 'c', 'D']"
            ]
          },
          "execution_count": 3,
          "metadata": {},
          "output_type": "execute_result"
        }
      ],
      "source": [
        "sorted(l, key=str.upper)"
      ]
    },
    {
      "cell_type": "markdown",
      "metadata": {
        "id": "TeP4HlBpbFCO"
      },
      "source": [
        "We could have used a lambda here (but you should not, this is just to illustrate using a lambda in this case):"
      ]
    },
    {
      "cell_type": "code",
      "execution_count": null,
      "metadata": {
        "id": "MoI-nSthbFCO",
        "outputId": "392a6c3b-d098-497c-9c1f-0c5e1d58ba83"
      },
      "outputs": [
        {
          "data": {
            "text/plain": [
              "['a', 'B', 'c', 'D']"
            ]
          },
          "execution_count": 4,
          "metadata": {},
          "output_type": "execute_result"
        }
      ],
      "source": [
        "sorted(l, key = lambda s: s.upper())"
      ]
    },
    {
      "cell_type": "markdown",
      "metadata": {
        "id": "8pu9skKXbFCP"
      },
      "source": [
        "Let's look at how we might create a sorted list from a dictionary:"
      ]
    },
    {
      "cell_type": "code",
      "execution_count": null,
      "metadata": {
        "collapsed": true,
        "id": "Y6S875eObFCP"
      },
      "outputs": [],
      "source": [
        "d = {'def': 300, 'abc': 200, 'ghi': 100}"
      ]
    },
    {
      "cell_type": "code",
      "execution_count": null,
      "metadata": {
        "id": "rBfY5fZSbFCQ",
        "outputId": "e0d461d4-0607-4813-a92a-03f10fcca54d"
      },
      "outputs": [
        {
          "data": {
            "text/plain": [
              "{'abc': 200, 'def': 300, 'ghi': 100}"
            ]
          },
          "execution_count": 6,
          "metadata": {},
          "output_type": "execute_result"
        }
      ],
      "source": [
        "d"
      ]
    },
    {
      "cell_type": "code",
      "execution_count": null,
      "metadata": {
        "id": "IwSPDs6RbFCQ",
        "outputId": "68926d3c-3247-472b-fccb-c242ee37bcf6"
      },
      "outputs": [
        {
          "data": {
            "text/plain": [
              "['abc', 'def', 'ghi']"
            ]
          },
          "execution_count": 7,
          "metadata": {},
          "output_type": "execute_result"
        }
      ],
      "source": [
        "sorted(d)"
      ]
    },
    {
      "cell_type": "markdown",
      "metadata": {
        "id": "aoHpo0J2bFCQ"
      },
      "source": [
        "What happened here? \n",
        "\n",
        "Remember that iterating dictionaries actually iterates the keys - so we ended up with tyhe keys sorted alphabetically.\n",
        "\n",
        "What if we want to return the keys sorted by their associated value instead?"
      ]
    },
    {
      "cell_type": "code",
      "execution_count": null,
      "metadata": {
        "id": "sfL1EEPobFCR",
        "outputId": "1b8858d6-8d1a-4dc3-eb10-2f0affd7603d"
      },
      "outputs": [
        {
          "data": {
            "text/plain": [
              "['ghi', 'abc', 'def']"
            ]
          },
          "execution_count": 8,
          "metadata": {},
          "output_type": "execute_result"
        }
      ],
      "source": [
        "sorted(d, key=lambda k: d[k])"
      ]
    },
    {
      "cell_type": "markdown",
      "metadata": {
        "id": "Kxfrox_WbFCR"
      },
      "source": [
        "Maybe we want to sort complex numbers based on their distance from the origin:"
      ]
    },
    {
      "cell_type": "code",
      "execution_count": null,
      "metadata": {
        "collapsed": true,
        "id": "6HFbXJ95bFCR"
      },
      "outputs": [],
      "source": [
        "def dist(x):\n",
        "    return (x.real)**2 + (x.imag)**2"
      ]
    },
    {
      "cell_type": "code",
      "execution_count": null,
      "metadata": {
        "collapsed": true,
        "id": "4jgMEH2xbFCS"
      },
      "outputs": [],
      "source": [
        "l = [3+3j, 1+1j, 0]"
      ]
    },
    {
      "cell_type": "markdown",
      "metadata": {
        "id": "X-bAcdSebFCS"
      },
      "source": [
        "Trying to sort this list directly won't work since Python does not have an ordering defined for complex numbers:"
      ]
    },
    {
      "cell_type": "code",
      "execution_count": null,
      "metadata": {
        "id": "leCO7nQzbFCS",
        "outputId": "6670a279-705a-43bd-8e4e-2ba19cd672f3"
      },
      "outputs": [
        {
          "ename": "TypeError",
          "evalue": "'<' not supported between instances of 'complex' and 'complex'",
          "output_type": "error",
          "traceback": [
            "\u001b[1;31m---------------------------------------------------------------------------\u001b[0m",
            "\u001b[1;31mTypeError\u001b[0m                                 Traceback (most recent call last)",
            "\u001b[1;32m<ipython-input-11-5ed0ddfda5a6>\u001b[0m in \u001b[0;36m<module>\u001b[1;34m()\u001b[0m\n\u001b[1;32m----> 1\u001b[1;33m \u001b[0msorted\u001b[0m\u001b[1;33m(\u001b[0m\u001b[0ml\u001b[0m\u001b[1;33m)\u001b[0m\u001b[1;33m\u001b[0m\u001b[0m\n\u001b[0m",
            "\u001b[1;31mTypeError\u001b[0m: '<' not supported between instances of 'complex' and 'complex'"
          ]
        }
      ],
      "source": [
        "sorted(l)"
      ]
    },
    {
      "cell_type": "markdown",
      "metadata": {
        "id": "fjMswmribFCT"
      },
      "source": [
        "Instead, let's try to specify the key using the distance:"
      ]
    },
    {
      "cell_type": "code",
      "execution_count": null,
      "metadata": {
        "id": "6U8fheQzbFCT",
        "outputId": "5ba0980a-832e-4dab-8a93-34af229a33eb"
      },
      "outputs": [
        {
          "data": {
            "text/plain": [
              "[0, (1+1j), (3+3j)]"
            ]
          },
          "execution_count": 12,
          "metadata": {},
          "output_type": "execute_result"
        }
      ],
      "source": [
        "sorted(l, key=dist)"
      ]
    },
    {
      "cell_type": "markdown",
      "metadata": {
        "id": "1_MMnRdXbFCT"
      },
      "source": [
        "Of course, if we're only going to use the **dist** function once, we can just do the same thing this way:"
      ]
    },
    {
      "cell_type": "code",
      "execution_count": null,
      "metadata": {
        "id": "tSVVkixEbFCT",
        "outputId": "db0d5217-763d-4ef0-cbae-73e2f68b79bc"
      },
      "outputs": [
        {
          "data": {
            "text/plain": [
              "[0, (1+1j), (3+3j)]"
            ]
          },
          "execution_count": 13,
          "metadata": {},
          "output_type": "execute_result"
        }
      ],
      "source": [
        "sorted(l, key=lambda x: (x.real)**2 + (x.imag)**2)"
      ]
    },
    {
      "cell_type": "markdown",
      "metadata": {
        "id": "nTjEcXXZbFCU"
      },
      "source": [
        "And here's another example where we want to sort a list of strings based on the **last character** of the string:"
      ]
    },
    {
      "cell_type": "code",
      "execution_count": null,
      "metadata": {
        "collapsed": true,
        "id": "hU_fFl6abFCU"
      },
      "outputs": [],
      "source": [
        "l = ['Cleese', 'Idle', 'Palin', 'Chapman', 'Gilliam', 'Jones']"
      ]
    },
    {
      "cell_type": "code",
      "execution_count": null,
      "metadata": {
        "id": "jyHBLVdBbFCU",
        "outputId": "80535826-f85f-4de6-b659-65933306fa50"
      },
      "outputs": [
        {
          "data": {
            "text/plain": [
              "['Chapman', 'Cleese', 'Gilliam', 'Idle', 'Jones', 'Palin']"
            ]
          },
          "execution_count": 15,
          "metadata": {},
          "output_type": "execute_result"
        }
      ],
      "source": [
        "sorted(l)"
      ]
    },
    {
      "cell_type": "code",
      "execution_count": null,
      "metadata": {
        "id": "4mz2DxoJbFCU",
        "outputId": "f59b4dc5-e127-4e8f-f425-c835305c0ff5"
      },
      "outputs": [
        {
          "data": {
            "text/plain": [
              "['Cleese', 'Idle', 'Gilliam', 'Palin', 'Chapman', 'Jones']"
            ]
          },
          "execution_count": 16,
          "metadata": {},
          "output_type": "execute_result"
        }
      ],
      "source": [
        "sorted(l, key=lambda s: s[-1])"
      ]
    }
  ],
  "metadata": {
    "kernelspec": {
      "display_name": "Python 3",
      "language": "python",
      "name": "python3"
    },
    "language_info": {
      "codemirror_mode": {
        "name": "ipython",
        "version": 3
      },
      "file_extension": ".py",
      "mimetype": "text/x-python",
      "name": "python",
      "nbconvert_exporter": "python",
      "pygments_lexer": "ipython3",
      "version": "3.6.2"
    },
    "colab": {
      "name": "Lambdas and Sorting.ipynb",
      "provenance": [],
      "include_colab_link": true
    }
  },
  "nbformat": 4,
  "nbformat_minor": 0
}