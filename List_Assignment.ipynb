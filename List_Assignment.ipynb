{
  "nbformat": 4,
  "nbformat_minor": 0,
  "metadata": {
    "colab": {
      "name": "List Assignment.ipynb",
      "provenance": [],
      "collapsed_sections": [],
      "authorship_tag": "ABX9TyM5PZvYadRB9o/hvEI3xYFf",
      "include_colab_link": true
    },
    "kernelspec": {
      "name": "python3",
      "display_name": "Python 3"
    },
    "language_info": {
      "name": "python"
    }
  },
  "cells": [
    {
      "cell_type": "markdown",
      "metadata": {
        "id": "view-in-github",
        "colab_type": "text"
      },
      "source": [
        "<a href=\"https://colab.research.google.com/github/virtualacademy-pk/python/blob/main/List_Assignment.ipynb\" target=\"_parent\"><img src=\"https://colab.research.google.com/assets/colab-badge.svg\" alt=\"Open In Colab\"/></a>"
      ]
    },
    {
      "cell_type": "code",
      "execution_count": null,
      "metadata": {
        "id": "FQt2ikRBeoi3"
      },
      "outputs": [],
      "source": [
        "from collections import namedtuple\n"
      ]
    },
    {
      "cell_type": "code",
      "source": [
        "product_ids = [1]\n",
        "product_names =['I Phone']\n",
        "product_categories =['Mobile']\n",
        "product_prices = [9000]\n",
        "print(\"=== Welcome to Inventory Management ===\")\n",
        "print(\"1  Add Product \")\n",
        "print(\"2  View Product \")\n",
        "print(\"3  Search Product \")\n",
        "print(\"4  Delete Product \")\n",
        "print(\"5  Modify Product \")\n",
        "print(\"6  Exit \")\n",
        "\n",
        "\n",
        "while True:\n",
        "  type = int(input(\"Please select: \"))\n",
        "  if type == 1:\n",
        "    id = input(\"Enter Product Id: \")\n",
        "    name = input(\"Enter Product Name: \")\n",
        "    category = input(\"Enter Product Category: \")\n",
        "    price = input(\"Enter Product Price: \")\n",
        "    product_ids.append(id)\n",
        "    product_names.append(name)\n",
        "    product_categories.append(category)\n",
        "    product_prices.append(price)\n",
        "    print(\" Added successfully! \")\n",
        "  elif type == 2:\n",
        "    for index in range(len(product_ids) ):\n",
        "      print (product_ids[index], '\\t',  product_names[index], '\\t', product_categories[index], '\\t', product_prices[index])\n",
        "  elif type == 3:\n",
        "    id = int(input(\" Enter Product Id to Search:\"))\n",
        "    if id in product_ids:\n",
        "      index = product_ids.index(id)\n",
        "      print(\"Id:\",product_ids[index])\n",
        "      print(\"Product Name :\",product_names[index])\n",
        "      print(\"Category :\",product_categories[index])\n",
        "      print(\"Price :\",product_prices[index])\n",
        "    else:\n",
        "      print(\" No Product was queried !\")\n",
        "  elif type == 4:\n",
        "    id = int(input(\" Enter Product Id to delete:\"))\n",
        "    if id in product_ids:\n",
        "      index = product_ids.index(id)\n",
        "      product_ids.pop(index)\n",
        "      product_names.pop(index)\n",
        "      product_categories.pop(index)\n",
        "      product_prices.pop(index)\n",
        "      print(\" Delete the success \")\n",
        "    else:\n",
        "      print(\" No deleted Product found !\")\n",
        "  elif type == 5:\n",
        "    id = int(input(\" Enter Product Id to Modify:\"))\n",
        "    if id in product_ids:\n",
        "      index = product_ids.index(id)\n",
        "      product_names[index] = input(\"Enter Product Name: \")\n",
        "      product_categories[index] = input(\"Enter Product Category: \")\n",
        "      product_prices[index] = input(\"Enter Product Price: \")\n",
        "      print(\" Modify the success \")\n",
        "    else:\n",
        "      print(\" No modifications were found !\")\n",
        "  elif type == 6:\n",
        "    break\n",
        "  else:\n",
        "    print ('Invalid Option')"
      ],
      "metadata": {
        "colab": {
          "base_uri": "https://localhost:8080/"
        },
        "id": "pfjgxK0BfuhD",
        "outputId": "cb2bf3b8-8e84-4dcb-ac55-48c76f66cf3d"
      },
      "execution_count": null,
      "outputs": [
        {
          "name": "stdout",
          "output_type": "stream",
          "text": [
            "=== Welcome to Inventory Management ===\n",
            "1  Add Product \n",
            "2  View Product \n",
            "3  Search Product \n",
            "4  Delete Product \n",
            "5  Modify Product \n",
            "6  Exit \n",
            "Please select: 90\n",
            "Invalid Option\n",
            "Please select: 6\n"
          ]
        }
      ]
    }
  ]
}