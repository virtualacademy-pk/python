{
  "nbformat": 4,
  "nbformat_minor": 0,
  "metadata": {
    "colab": {
      "name": "Loop.ipynb",
      "provenance": [],
      "collapsed_sections": [],
      "authorship_tag": "ABX9TyMd/5WA6Ji+6QYC+6Ew7yV6",
      "include_colab_link": true
    },
    "kernelspec": {
      "name": "python3",
      "display_name": "Python 3"
    },
    "language_info": {
      "name": "python"
    }
  },
  "cells": [
    {
      "cell_type": "markdown",
      "metadata": {
        "id": "view-in-github",
        "colab_type": "text"
      },
      "source": [
        "<a href=\"https://colab.research.google.com/github/virtualacademy-pk/python/blob/main/Loop.ipynb\" target=\"_parent\"><img src=\"https://colab.research.google.com/assets/colab-badge.svg\" alt=\"Open In Colab\"/></a>"
      ]
    },
    {
      "cell_type": "code",
      "metadata": {
        "id": "JVs7MtGucuh_",
        "colab": {
          "base_uri": "https://localhost:8080/"
        },
        "outputId": "bf8dc8a9-0ae0-41a5-e03f-cb7a5050a6ed"
      },
      "source": [
        "i = 1\n",
        "while i <= 100:\n",
        "  print(\"Virtual Academy of Pakistan\")\n",
        "  i += 1"
      ],
      "execution_count": null,
      "outputs": [
        {
          "output_type": "stream",
          "text": [
            "Virtual Academy of Pakistan\n",
            "Virtual Academy of Pakistan\n",
            "Virtual Academy of Pakistan\n",
            "Virtual Academy of Pakistan\n",
            "Virtual Academy of Pakistan\n",
            "Virtual Academy of Pakistan\n",
            "Virtual Academy of Pakistan\n",
            "Virtual Academy of Pakistan\n",
            "Virtual Academy of Pakistan\n",
            "Virtual Academy of Pakistan\n",
            "Virtual Academy of Pakistan\n",
            "Virtual Academy of Pakistan\n",
            "Virtual Academy of Pakistan\n",
            "Virtual Academy of Pakistan\n",
            "Virtual Academy of Pakistan\n",
            "Virtual Academy of Pakistan\n",
            "Virtual Academy of Pakistan\n",
            "Virtual Academy of Pakistan\n",
            "Virtual Academy of Pakistan\n",
            "Virtual Academy of Pakistan\n",
            "Virtual Academy of Pakistan\n",
            "Virtual Academy of Pakistan\n",
            "Virtual Academy of Pakistan\n",
            "Virtual Academy of Pakistan\n",
            "Virtual Academy of Pakistan\n",
            "Virtual Academy of Pakistan\n",
            "Virtual Academy of Pakistan\n",
            "Virtual Academy of Pakistan\n",
            "Virtual Academy of Pakistan\n",
            "Virtual Academy of Pakistan\n",
            "Virtual Academy of Pakistan\n",
            "Virtual Academy of Pakistan\n",
            "Virtual Academy of Pakistan\n",
            "Virtual Academy of Pakistan\n",
            "Virtual Academy of Pakistan\n",
            "Virtual Academy of Pakistan\n",
            "Virtual Academy of Pakistan\n",
            "Virtual Academy of Pakistan\n",
            "Virtual Academy of Pakistan\n",
            "Virtual Academy of Pakistan\n",
            "Virtual Academy of Pakistan\n",
            "Virtual Academy of Pakistan\n",
            "Virtual Academy of Pakistan\n",
            "Virtual Academy of Pakistan\n",
            "Virtual Academy of Pakistan\n",
            "Virtual Academy of Pakistan\n",
            "Virtual Academy of Pakistan\n",
            "Virtual Academy of Pakistan\n",
            "Virtual Academy of Pakistan\n",
            "Virtual Academy of Pakistan\n",
            "Virtual Academy of Pakistan\n",
            "Virtual Academy of Pakistan\n",
            "Virtual Academy of Pakistan\n",
            "Virtual Academy of Pakistan\n",
            "Virtual Academy of Pakistan\n",
            "Virtual Academy of Pakistan\n",
            "Virtual Academy of Pakistan\n",
            "Virtual Academy of Pakistan\n",
            "Virtual Academy of Pakistan\n",
            "Virtual Academy of Pakistan\n",
            "Virtual Academy of Pakistan\n",
            "Virtual Academy of Pakistan\n",
            "Virtual Academy of Pakistan\n",
            "Virtual Academy of Pakistan\n",
            "Virtual Academy of Pakistan\n",
            "Virtual Academy of Pakistan\n",
            "Virtual Academy of Pakistan\n",
            "Virtual Academy of Pakistan\n",
            "Virtual Academy of Pakistan\n",
            "Virtual Academy of Pakistan\n",
            "Virtual Academy of Pakistan\n",
            "Virtual Academy of Pakistan\n",
            "Virtual Academy of Pakistan\n",
            "Virtual Academy of Pakistan\n",
            "Virtual Academy of Pakistan\n",
            "Virtual Academy of Pakistan\n",
            "Virtual Academy of Pakistan\n",
            "Virtual Academy of Pakistan\n",
            "Virtual Academy of Pakistan\n",
            "Virtual Academy of Pakistan\n",
            "Virtual Academy of Pakistan\n",
            "Virtual Academy of Pakistan\n",
            "Virtual Academy of Pakistan\n",
            "Virtual Academy of Pakistan\n",
            "Virtual Academy of Pakistan\n",
            "Virtual Academy of Pakistan\n",
            "Virtual Academy of Pakistan\n",
            "Virtual Academy of Pakistan\n",
            "Virtual Academy of Pakistan\n",
            "Virtual Academy of Pakistan\n",
            "Virtual Academy of Pakistan\n",
            "Virtual Academy of Pakistan\n",
            "Virtual Academy of Pakistan\n",
            "Virtual Academy of Pakistan\n",
            "Virtual Academy of Pakistan\n",
            "Virtual Academy of Pakistan\n",
            "Virtual Academy of Pakistan\n",
            "Virtual Academy of Pakistan\n",
            "Virtual Academy of Pakistan\n",
            "Virtual Academy of Pakistan\n"
          ],
          "name": "stdout"
        }
      ]
    },
    {
      "cell_type": "code",
      "metadata": {
        "colab": {
          "base_uri": "https://localhost:8080/"
        },
        "id": "ZXAb_K_sqE0X",
        "outputId": "ca1402b9-18b2-4b0f-9453-468549805c57"
      },
      "source": [
        "n = 1\n",
        "i = 2\n",
        "while i <= 10:\n",
        "  n = n + i\n",
        "  i += 1\n",
        "print (\"Sum of 1st 10 integer is \" + str(n))"
      ],
      "execution_count": null,
      "outputs": [
        {
          "output_type": "stream",
          "text": [
            "Sum of 1st 10 integer is 5050\n"
          ],
          "name": "stdout"
        }
      ]
    },
    {
      "cell_type": "code",
      "metadata": {
        "colab": {
          "base_uri": "https://localhost:8080/"
        },
        "id": "B3DA46fCqtrX",
        "outputId": "947ec32f-72de-4f9b-a436-f7e536e7840e"
      },
      "source": [
        "totalInt = int(input(\"How many integers you want to sum: \"))\n",
        "n = 1\n",
        "i = 2\n",
        "while i <= totalInt:\n",
        "  n += i\n",
        "  i +=  1\n",
        "print (\"Sum of 1st \" + str(totalInt) + \" is \" + str(n))  "
      ],
      "execution_count": null,
      "outputs": [
        {
          "output_type": "stream",
          "text": [
            "How many integers you want to sum: 10\n",
            "Sum of 1st 10 is 55\n"
          ],
          "name": "stdout"
        }
      ]
    },
    {
      "cell_type": "code",
      "metadata": {
        "colab": {
          "base_uri": "https://localhost:8080/"
        },
        "id": "CYEYgnJj3uKb",
        "outputId": "d311c0f0-b4ef-428a-b592-c5db37343567"
      },
      "source": [
        "while True:\n",
        "  n = int(input(\"Enter Numerator: \"))\n",
        "  d = int(input(\"Enter denominator\"))\n",
        "  if d == 0:\n",
        "    print(\"Dinominator cant be 0\")\n",
        "    break\n",
        "  print (str(n) + \" / \"  + str(d) + \" = \" +  str(n / d))\n",
        "  "
      ],
      "execution_count": null,
      "outputs": [
        {
          "output_type": "stream",
          "text": [
            "Enter Numerator: 4\n",
            "Enter denominator6\n",
            "4 / 6 = 0.6666666666666666\n",
            "Enter Numerator: 8\n",
            "Enter denominator1\n",
            "8 / 1 = 8.0\n",
            "Enter Numerator: 9\n",
            "Enter denominator6\n",
            "9 / 6 = 1.5\n",
            "Enter Numerator: 89\n",
            "Enter denominator0\n",
            "Dinominator cant be 0\n"
          ],
          "name": "stdout"
        }
      ]
    },
    {
      "cell_type": "markdown",
      "metadata": {
        "id": "_McwJICMOhUB"
      },
      "source": [
        "**For Counter Loop** \n",
        "\n",
        "this iterate over the counter value.\n",
        "\n",
        "To loop through a set of code a specified number of times, we can use the range() function,\n",
        "\n",
        "The range() function returns a sequence of numbers, starting from 0 by default, and increments by 1 (by default), and ends at a specified number.\n",
        "\n",
        "**Variations**\n",
        "\n",
        "1. Iterate upto given time, i.e. you want to loop 10 times. this is 0 base range therefore start value 0 last value 9. \n",
        "\n",
        "\n",
        "```\n",
        "for i in range(10):\n",
        "  print(\"virtual academy of pakistan\")\n",
        "```\n",
        " \n",
        "2. Iterate upto start and end range, i.e. below loop will start from 1 and end at 9\n",
        "\n",
        "\n",
        "``` \n",
        "for i in range (1,10):\n",
        "  print(\"virtual academy of pakistan\")\n",
        "```\n",
        "3. Iterate with start, end and increment. i.e. below loop will start from 1 and increment it by 2 upto 10.\n",
        "\n",
        "\n",
        "``` \n",
        "for i in range (1,10,2):\n",
        "  print(\"virtual academy of pakistan\n",
        "```\n",
        "\n",
        "\n",
        "below will start from 1 and then incement by 3 and move till 9. as in below case 1,3,7 and if it increment 3 after 7 it become 10 therefore it will terminate on 7 rather 10.\n",
        "```\n",
        "for in range (1,10,3)\n",
        "```\n",
        "\n",
        "\n",
        "\n",
        "\n",
        "\n",
        "\n"
      ]
    },
    {
      "cell_type": "code",
      "metadata": {
        "colab": {
          "base_uri": "https://localhost:8080/"
        },
        "id": "TK7zjSJkMjqC",
        "outputId": "0989a8b7-f006-44d9-9146-3dfee30f1917"
      },
      "source": [
        "for i in range(1,10,3):\n",
        "  print(\"Virtual academy of pakistan \" + str(i))\n"
      ],
      "execution_count": null,
      "outputs": [
        {
          "output_type": "stream",
          "text": [
            "Virtual academy of pakistan 1\n",
            "Virtual academy of pakistan 4\n",
            "Virtual academy of pakistan 7\n"
          ],
          "name": "stdout"
        }
      ]
    }
  ]
}