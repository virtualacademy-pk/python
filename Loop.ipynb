{
  "nbformat": 4,
  "nbformat_minor": 0,
  "metadata": {
    "colab": {
      "name": "Loop.ipynb",
      "provenance": [],
      "collapsed_sections": [],
      "authorship_tag": "ABX9TyObuCoeQ/jIY/H4Zff4hDOn",
      "include_colab_link": true
    },
    "kernelspec": {
      "name": "python3",
      "display_name": "Python 3"
    },
    "language_info": {
      "name": "python"
    }
  },
  "cells": [
    {
      "cell_type": "markdown",
      "metadata": {
        "id": "view-in-github",
        "colab_type": "text"
      },
      "source": [
        "<a href=\"https://colab.research.google.com/github/virtualacademy-pk/python/blob/main/Loop.ipynb\" target=\"_parent\"><img src=\"https://colab.research.google.com/assets/colab-badge.svg\" alt=\"Open In Colab\"/></a>"
      ]
    },
    {
      "cell_type": "code",
      "metadata": {
        "id": "JVs7MtGucuh_"
      },
      "source": [
        "i = 1\n",
        "while i <= 100:\n",
        "  print(\"Virtual Academy of Pakistan\")\n",
        "  i += 1"
      ],
      "execution_count": null,
      "outputs": []
    },
    {
      "cell_type": "code",
      "metadata": {
        "colab": {
          "base_uri": "https://localhost:8080/"
        },
        "id": "ZXAb_K_sqE0X",
        "outputId": "ca1402b9-18b2-4b0f-9453-468549805c57"
      },
      "source": [
        "n = 1\n",
        "i = 2\n",
        "while i <= 10:\n",
        "  n = n + i\n",
        "  i += 1\n",
        "print (\"Sum of 1st 10 integer is \" + str(n))"
      ],
      "execution_count": 5,
      "outputs": [
        {
          "output_type": "stream",
          "text": [
            "Sum of 1st 10 integer is 5050\n"
          ],
          "name": "stdout"
        }
      ]
    },
    {
      "cell_type": "code",
      "metadata": {
        "colab": {
          "base_uri": "https://localhost:8080/"
        },
        "id": "B3DA46fCqtrX",
        "outputId": "947ec32f-72de-4f9b-a436-f7e536e7840e"
      },
      "source": [
        "totalInt = int(input(\"How many integers you want to sum: \"))\n",
        "n = 1\n",
        "i = 2\n",
        "while i <= totalInt:\n",
        "  n += i\n",
        "  i +=  1\n",
        "print (\"Sum of 1st \" + str(totalInt) + \" is \" + str(n))  "
      ],
      "execution_count": 7,
      "outputs": [
        {
          "output_type": "stream",
          "text": [
            "How many integers you want to sum: 10\n",
            "Sum of 1st 10 is 55\n"
          ],
          "name": "stdout"
        }
      ]
    },
    {
      "cell_type": "code",
      "metadata": {
        "colab": {
          "base_uri": "https://localhost:8080/"
        },
        "id": "CYEYgnJj3uKb",
        "outputId": "d311c0f0-b4ef-428a-b592-c5db37343567"
      },
      "source": [
        "while True:\n",
        "  n = int(input(\"Enter Numerator: \"))\n",
        "  d = int(input(\"Enter denominator\"))\n",
        "  if d == 0:\n",
        "    print(\"Dinominator cant be 0\")\n",
        "    break\n",
        "  print (str(n) + \" / \"  + str(d) + \" = \" +  str(n / d))\n",
        "  "
      ],
      "execution_count": 9,
      "outputs": [
        {
          "output_type": "stream",
          "text": [
            "Enter Numerator: 4\n",
            "Enter denominator6\n",
            "4 / 6 = 0.6666666666666666\n",
            "Enter Numerator: 8\n",
            "Enter denominator1\n",
            "8 / 1 = 8.0\n",
            "Enter Numerator: 9\n",
            "Enter denominator6\n",
            "9 / 6 = 1.5\n",
            "Enter Numerator: 89\n",
            "Enter denominator0\n",
            "Dinominator cant be 0\n"
          ],
          "name": "stdout"
        }
      ]
    }
  ]
}