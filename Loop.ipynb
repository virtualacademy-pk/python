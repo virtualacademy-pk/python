{
  "nbformat": 4,
  "nbformat_minor": 0,
  "metadata": {
    "colab": {
      "name": "Loop.ipynb",
      "provenance": [],
      "collapsed_sections": [],
      "authorship_tag": "ABX9TyPwx7OQCr5CXRnN8zleB+TL",
      "include_colab_link": true
    },
    "kernelspec": {
      "name": "python3",
      "display_name": "Python 3"
    },
    "language_info": {
      "name": "python"
    }
  },
  "cells": [
    {
      "cell_type": "markdown",
      "metadata": {
        "id": "view-in-github",
        "colab_type": "text"
      },
      "source": [
        "<a href=\"https://colab.research.google.com/github/virtualacademy-pk/python/blob/main/Loop.ipynb\" target=\"_parent\"><img src=\"https://colab.research.google.com/assets/colab-badge.svg\" alt=\"Open In Colab\"/></a>"
      ]
    },
    {
      "cell_type": "code",
      "metadata": {
        "id": "JVs7MtGucuh_"
      },
      "source": [
        "i = 1\n",
        "while i <= 100:\n",
        "  print(\"Virtual Academy of Pakistan\")\n",
        "  i += 1"
      ],
      "execution_count": null,
      "outputs": []
    },
    {
      "cell_type": "code",
      "metadata": {
        "colab": {
          "base_uri": "https://localhost:8080/"
        },
        "id": "ZXAb_K_sqE0X",
        "outputId": "ca1402b9-18b2-4b0f-9453-468549805c57"
      },
      "source": [
        "n = 1\n",
        "i = 2\n",
        "while i <= 10:\n",
        "  n = n + i\n",
        "  i += 1\n",
        "print (\"Sum of 1st 10 integer is \" + str(n))"
      ],
      "execution_count": 5,
      "outputs": [
        {
          "output_type": "stream",
          "text": [
            "Sum of 1st 10 integer is 5050\n"
          ],
          "name": "stdout"
        }
      ]
    },
    {
      "cell_type": "code",
      "metadata": {
        "colab": {
          "base_uri": "https://localhost:8080/"
        },
        "id": "B3DA46fCqtrX",
        "outputId": "947ec32f-72de-4f9b-a436-f7e536e7840e"
      },
      "source": [
        "totalInt = int(input(\"How many integers you want to sum: \"))\n",
        "n = 1\n",
        "i = 2\n",
        "while i <= totalInt:\n",
        "  n += i\n",
        "  i +=  1\n",
        "print (\"Sum of 1st \" + str(totalInt) + \" is \" + str(n))  "
      ],
      "execution_count": 7,
      "outputs": [
        {
          "output_type": "stream",
          "text": [
            "How many integers you want to sum: 10\n",
            "Sum of 1st 10 is 55\n"
          ],
          "name": "stdout"
        }
      ]
    }
  ]
}