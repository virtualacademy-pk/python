{
  "cells": [
    {
      "cell_type": "markdown",
      "metadata": {
        "id": "view-in-github",
        "colab_type": "text"
      },
      "source": [
        "<a href=\"https://colab.research.google.com/github/virtualacademy-pk/python/blob/main/Map%2C_Filter_and_Zip.ipynb\" target=\"_parent\"><img src=\"https://colab.research.google.com/assets/colab-badge.svg\" alt=\"Open In Colab\"/></a>"
      ]
    },
    {
      "cell_type": "markdown",
      "metadata": {
        "id": "wpkZPYKyr8WB"
      },
      "source": [
        "### Higher-Order Functions: Map and Filter"
      ]
    },
    {
      "cell_type": "markdown",
      "metadata": {
        "id": "7qvZfeiJr8WE"
      },
      "source": [
        "**Definition**: A function that takes a function as an argument, and/or returns a function as its return value"
      ]
    },
    {
      "cell_type": "markdown",
      "metadata": {
        "id": "i-yvRJ7br8WF"
      },
      "source": [
        "For example, the **sorted** function is a higher-order function as we saw in an earlier video."
      ]
    },
    {
      "cell_type": "markdown",
      "metadata": {
        "id": "juGRxReDr8WF"
      },
      "source": [
        "#### Map"
      ]
    },
    {
      "cell_type": "markdown",
      "metadata": {
        "id": "D-fNt3PRr8WF"
      },
      "source": [
        "The **map** built-in function is a higher-order function that applies a function to an iterable type object:"
      ]
    },
    {
      "cell_type": "code",
      "execution_count": null,
      "metadata": {
        "id": "-wZd_FEar8WG",
        "outputId": "b1382bc7-22db-4c74-dbce-b18ff6a18005"
      },
      "outputs": [
        {
          "name": "stdout",
          "output_type": "stream",
          "text": [
            "Help on class map in module builtins:\n",
            "\n",
            "class map(object)\n",
            " |  map(func, *iterables) --> map object\n",
            " |  \n",
            " |  Make an iterator that computes the function using arguments from\n",
            " |  each of the iterables.  Stops when the shortest iterable is exhausted.\n",
            " |  \n",
            " |  Methods defined here:\n",
            " |  \n",
            " |  __getattribute__(self, name, /)\n",
            " |      Return getattr(self, name).\n",
            " |  \n",
            " |  __iter__(self, /)\n",
            " |      Implement iter(self).\n",
            " |  \n",
            " |  __new__(*args, **kwargs) from builtins.type\n",
            " |      Create and return a new object.  See help(type) for accurate signature.\n",
            " |  \n",
            " |  __next__(self, /)\n",
            " |      Implement next(self).\n",
            " |  \n",
            " |  __reduce__(...)\n",
            " |      Return state information for pickling.\n",
            "\n"
          ]
        }
      ],
      "source": [
        "help(map)"
      ]
    },
    {
      "cell_type": "code",
      "execution_count": null,
      "metadata": {
        "collapsed": true,
        "id": "Xmw9nA6nr8WH"
      },
      "outputs": [],
      "source": [
        "def fact(n):\n",
        "    return 1 if n < 2 else n * fact(n-1)"
      ]
    },
    {
      "cell_type": "code",
      "execution_count": null,
      "metadata": {
        "id": "yFtaFi3Cr8WI",
        "outputId": "cd818dca-9f78-4bc9-b130-7fa47b3b1a63"
      },
      "outputs": [
        {
          "data": {
            "text/plain": [
              "6"
            ]
          },
          "execution_count": 3,
          "metadata": {},
          "output_type": "execute_result"
        }
      ],
      "source": [
        "fact(3)"
      ]
    },
    {
      "cell_type": "code",
      "execution_count": null,
      "metadata": {
        "id": "fTJrQiIAr8WI",
        "outputId": "d2d0f776-9992-4588-b6f1-a02f353569e1"
      },
      "outputs": [
        {
          "data": {
            "text/plain": [
              "24"
            ]
          },
          "execution_count": 4,
          "metadata": {},
          "output_type": "execute_result"
        }
      ],
      "source": [
        "fact(4)"
      ]
    },
    {
      "cell_type": "code",
      "execution_count": null,
      "metadata": {
        "id": "hmT8XgSpr8WJ",
        "outputId": "2ba6d201-a388-4f6d-91a4-60a68e356643"
      },
      "outputs": [
        {
          "data": {
            "text/plain": [
              "<map at 0x23b123a3978>"
            ]
          },
          "execution_count": 5,
          "metadata": {},
          "output_type": "execute_result"
        }
      ],
      "source": [
        "map(fact, [1, 2, 3, 4, 5])"
      ]
    },
    {
      "cell_type": "markdown",
      "metadata": {
        "id": "pcmI_oOur8WK"
      },
      "source": [
        "The **map** function returns a **map** object, which is an **iterable** - we can either convert that to a list or enumerate it:"
      ]
    },
    {
      "cell_type": "code",
      "execution_count": null,
      "metadata": {
        "id": "_32-aWaUr8WK",
        "outputId": "9499a6fd-0267-4d8f-e3ab-8e6a349f5678"
      },
      "outputs": [
        {
          "name": "stdout",
          "output_type": "stream",
          "text": [
            "[1, 2, 6, 24, 120]\n"
          ]
        }
      ],
      "source": [
        "l = list(map(fact, [1, 2, 3, 4, 5]))\n",
        "print(l)"
      ]
    },
    {
      "cell_type": "markdown",
      "metadata": {
        "id": "pvKv-XdLr8WK"
      },
      "source": [
        "We can also use it this way:"
      ]
    },
    {
      "cell_type": "code",
      "execution_count": null,
      "metadata": {
        "id": "YFjkJ_53r8WL",
        "outputId": "98d25c13-717d-418f-bfc7-3ef79d54d830"
      },
      "outputs": [
        {
          "data": {
            "text/plain": [
              "[11, 22, 33, 44, 55]"
            ]
          },
          "execution_count": 7,
          "metadata": {},
          "output_type": "execute_result"
        }
      ],
      "source": [
        "l1 = [1, 2, 3, 4, 5]\n",
        "l2 = [10, 20, 30, 40, 50]\n",
        "\n",
        "f = lambda x, y: x+y\n",
        "\n",
        "m = map(f, l1, l2)\n",
        "list(m)"
      ]
    },
    {
      "cell_type": "code",
      "source": [
        "product_ids = [1, 2, 3]\n",
        "product_names =['I Phone', 'Lenovo', 'Microwave']\n",
        "product_categories =['Mobile','Laptop', 'Kitchen']\n",
        "product_prices = [9000, 7000, 900]\n",
        "\"\"\"\n",
        "[{'id': 1, 'name': 'I Phone', 'category': 'Mobile', 'price': 9000},\n",
        " {'id': 2, 'name': 'Lenovo', 'category': 'Laptop', 'price': 7000},\n",
        " {'id': 3, 'name': 'Microwave', 'category': 'Kitchen', 'price': 900}\n",
        " ]\n",
        "\"\"\"\n",
        "\n",
        "ls = list(map(lambda id,name, category, price:{'id': id, 'name': name, 'category': category, 'price': price}, product_ids ,product_names, product_categories, product_prices ))\n",
        "print(ls)"
      ],
      "metadata": {
        "id": "woUHR-1q6baA"
      },
      "execution_count": null,
      "outputs": []
    },
    {
      "cell_type": "markdown",
      "metadata": {
        "id": "ZimfVyzwr8WL"
      },
      "source": [
        "#### Filter"
      ]
    },
    {
      "cell_type": "code",
      "execution_count": null,
      "metadata": {
        "id": "7MSgCtuur8WL",
        "outputId": "80a3b8eb-998f-49e9-f398-9822272d3eab"
      },
      "outputs": [
        {
          "name": "stdout",
          "output_type": "stream",
          "text": [
            "Help on class filter in module builtins:\n",
            "\n",
            "class filter(object)\n",
            " |  filter(function or None, iterable) --> filter object\n",
            " |  \n",
            " |  Return an iterator yielding those items of iterable for which function(item)\n",
            " |  is true. If function is None, return the items that are true.\n",
            " |  \n",
            " |  Methods defined here:\n",
            " |  \n",
            " |  __getattribute__(self, name, /)\n",
            " |      Return getattr(self, name).\n",
            " |  \n",
            " |  __iter__(self, /)\n",
            " |      Implement iter(self).\n",
            " |  \n",
            " |  __new__(*args, **kwargs) from builtins.type\n",
            " |      Create and return a new object.  See help(type) for accurate signature.\n",
            " |  \n",
            " |  __next__(self, /)\n",
            " |      Implement next(self).\n",
            " |  \n",
            " |  __reduce__(...)\n",
            " |      Return state information for pickling.\n",
            "\n"
          ]
        }
      ],
      "source": [
        "help(filter)"
      ]
    },
    {
      "cell_type": "markdown",
      "metadata": {
        "id": "MKkozZhYr8WM"
      },
      "source": [
        "The **filter** function is a function that filters an iterable based on the truthyness of the elements, or the truthyness of the elements after applying a function to them. Like the **map** function, the **filter** function returns an iterable that we can view by generating a list from it, or simply enumerating in a for loop."
      ]
    },
    {
      "cell_type": "code",
      "execution_count": null,
      "metadata": {
        "id": "PWqaFZsPr8WM",
        "outputId": "cb0b9d7e-43fa-4d4a-9d41-cedf23c676a0"
      },
      "outputs": [
        {
          "name": "stdout",
          "output_type": "stream",
          "text": [
            "1\n",
            "2\n",
            "3\n",
            "4\n",
            "5\n",
            "6\n"
          ]
        }
      ],
      "source": [
        "l = [0, 1, 2, 3, 4, 5, 6]\n",
        "for e in filter(None, l):\n",
        "    print(e)"
      ]
    },
    {
      "cell_type": "markdown",
      "metadata": {
        "id": "A4TDke_6r8WM"
      },
      "source": [
        "Notice how **0** was eliminated from the list, since **0** is **falsy**."
      ]
    },
    {
      "cell_type": "markdown",
      "metadata": {
        "id": "DUAMC17yr8WM"
      },
      "source": [
        "We can use a function for this filtering.\n",
        "\n",
        "Suppose we want to filter out all odd values, only retaining even values:"
      ]
    },
    {
      "cell_type": "markdown",
      "metadata": {
        "id": "n7HUa-5nr8WN"
      },
      "source": [
        "We could first define a function to return True if the value is even, and False otherwise:"
      ]
    },
    {
      "cell_type": "code",
      "execution_count": null,
      "metadata": {
        "collapsed": true,
        "id": "mye5oLi6r8WN"
      },
      "outputs": [],
      "source": [
        "def is_even(n):\n",
        "    return n % 2 == 0"
      ]
    },
    {
      "cell_type": "code",
      "execution_count": null,
      "metadata": {
        "id": "QNDLNGPor8WN",
        "outputId": "0920daf3-70e3-4397-cb78-69e838c6cad4"
      },
      "outputs": [
        {
          "name": "stdout",
          "output_type": "stream",
          "text": [
            "[2, 4, 6, 8]\n"
          ]
        }
      ],
      "source": [
        "l = [1, 2, 3, 4, 5, 6, 7, 8, 9]\n",
        "result = filter(is_even, l)\n",
        "print(list(result))"
      ]
    },
    {
      "cell_type": "markdown",
      "metadata": {
        "id": "Hn07atmMr8WO"
      },
      "source": [
        "Of course, we could just use a lambda expression instead:"
      ]
    },
    {
      "cell_type": "code",
      "execution_count": null,
      "metadata": {
        "id": "FCP6iNLrr8WO",
        "outputId": "686147cc-e21d-4768-928a-4fbd8e167ecc"
      },
      "outputs": [
        {
          "name": "stdout",
          "output_type": "stream",
          "text": [
            "[2, 4, 6, 8]\n"
          ]
        }
      ],
      "source": [
        "l = [1, 2, 3, 4, 5, 6, 7, 8, 9]\n",
        "result = filter(lambda x: x % 2 == 0, l)\n",
        "print(list(result))"
      ]
    },
    {
      "cell_type": "markdown",
      "metadata": {
        "id": "gjC4AhGDr8WO"
      },
      "source": [
        "#### Alternatives to **map** and **filter** using Comprehensions"
      ]
    },
    {
      "cell_type": "markdown",
      "metadata": {
        "id": "zKeBouier8WO"
      },
      "source": [
        "We'll cover comprehensions in much more detail later, but, for now, just be aware that we can use comprehensions instead of the **map** and **filter** functions - you decide which one you find more readable and enjoyable to write."
      ]
    },
    {
      "cell_type": "markdown",
      "metadata": {
        "id": "qwaEBXkGr8WO"
      },
      "source": [
        "##### Map using a list comprehension:"
      ]
    },
    {
      "cell_type": "markdown",
      "metadata": {
        "id": "0oIoGr4er8WP"
      },
      "source": [
        "* factorial example"
      ]
    },
    {
      "cell_type": "code",
      "execution_count": null,
      "metadata": {
        "id": "VJ9pu-Oxr8WP",
        "outputId": "198bad9f-4110-4a4c-9371-4a589d26262f"
      },
      "outputs": [
        {
          "name": "stdout",
          "output_type": "stream",
          "text": [
            "[1, 2, 6, 24, 120]\n"
          ]
        }
      ],
      "source": [
        "l = [1, 2, 3, 4, 5]\n",
        "result = [fact(i) for i in l]\n",
        "print(result)"
      ]
    },
    {
      "cell_type": "markdown",
      "metadata": {
        "id": "oNfRCRoEr8WP"
      },
      "source": [
        "* two iterables example"
      ]
    },
    {
      "cell_type": "markdown",
      "metadata": {
        "id": "F4Yd0skUr8WP"
      },
      "source": [
        "Before we do this example we need to know about the **zip** function.\n",
        "\n",
        "The **zip** built-in function will take one or more iterables, and generate an iterable of tuples where each tuple contains one element from each iterable:"
      ]
    },
    {
      "cell_type": "code",
      "execution_count": null,
      "metadata": {
        "id": "fAiKP3AKr8WP",
        "outputId": "65530b59-ed55-4a18-e35b-74745523c2c1"
      },
      "outputs": [
        {
          "data": {
            "text/plain": [
              "[(1, 'a'), (2, 'b'), (3, 'c')]"
            ]
          },
          "execution_count": 14,
          "metadata": {},
          "output_type": "execute_result"
        }
      ],
      "source": [
        "l1 = 1, 2, 3\n",
        "l2 = 'a', 'b', 'c'\n",
        "list(zip(l1, l2))"
      ]
    },
    {
      "cell_type": "code",
      "execution_count": null,
      "metadata": {
        "id": "1v5ZUBN-r8WP",
        "outputId": "77932f4f-c199-41af-bb2b-742e21c17573"
      },
      "outputs": [
        {
          "data": {
            "text/plain": [
              "[(1, 10, 'a'), (2, 20, 'b'), (3, 30, 'c')]"
            ]
          },
          "execution_count": 15,
          "metadata": {},
          "output_type": "execute_result"
        }
      ],
      "source": [
        "l1 = 1, 2, 3\n",
        "l2 = [10, 20, 30]\n",
        "l3 = ('a', 'b', 'c')\n",
        "list(zip(l1, l2, l3))"
      ]
    },
    {
      "cell_type": "code",
      "execution_count": null,
      "metadata": {
        "id": "0xcoMulnr8WQ",
        "outputId": "886008d3-f519-4186-8c70-f0ab741c73e0"
      },
      "outputs": [
        {
          "data": {
            "text/plain": [
              "[(1, 10, 'a'), (2, 20, 'b'), (3, 30, 'c')]"
            ]
          },
          "execution_count": 5,
          "metadata": {},
          "output_type": "execute_result"
        }
      ],
      "source": [
        "l1 = [1, 2, 3]\n",
        "l2 = (10, 20, 30)\n",
        "l3 = 'abc'\n",
        "list(zip(l1, l2, l3))"
      ]
    },
    {
      "cell_type": "code",
      "execution_count": null,
      "metadata": {
        "id": "JTw5572Or8WQ",
        "outputId": "0fd8956f-2417-4cb6-e83f-529120f0bdf9"
      },
      "outputs": [
        {
          "data": {
            "text/plain": [
              "[(0, 'p'), (1, 'y'), (2, 't'), (3, 'h'), (4, 'o'), (5, 'n')]"
            ]
          },
          "execution_count": 7,
          "metadata": {},
          "output_type": "execute_result"
        }
      ],
      "source": [
        "l1 = range(100)\n",
        "l2 = 'python'\n",
        "list(zip(l1, l2))"
      ]
    },
    {
      "cell_type": "markdown",
      "metadata": {
        "id": "oOj6uqwDr8WQ"
      },
      "source": [
        "Using the **zip** function we can now add our two lists element by element as follows:"
      ]
    },
    {
      "cell_type": "code",
      "execution_count": null,
      "metadata": {
        "id": "Pzo6MwxTr8WQ",
        "outputId": "2dc73462-f470-40af-adf0-a1734476987b"
      },
      "outputs": [
        {
          "name": "stdout",
          "output_type": "stream",
          "text": [
            "[11, 22, 33, 44, 55]\n"
          ]
        }
      ],
      "source": [
        "l1 = [1, 2, 3, 4, 5]\n",
        "l2 = [10, 20, 30, 40, 50]\n",
        "result = [i + j for i,j in zip(l1,l2)]\n",
        "print(result)"
      ]
    },
    {
      "cell_type": "code",
      "source": [
        "product_ids = [1, 2, 3]\n",
        "product_names = ['I Phone', 'Lenovo', 'Microwave']\n",
        "product_categories =['Mobile','Laptop', 'Kitchen']\n",
        "product_prices = [9000, 7000, 900]\n",
        "\"\"\"\n",
        "[{'id': 1, 'name': 'I Phone', 'category': 'Mobile', 'price': 9000},\n",
        " {'id': 2, 'name': 'Lenovo', 'category': 'Laptop', 'price': 7000},\n",
        " {'id': 3, 'name': 'Microwave', 'category': 'Kitchen', 'price': 900}\n",
        " ]\n",
        "\"\"\"\n",
        "\n",
        "ls = list(map(lambda id,name, category, price:{'id': id, 'name': name, 'category': category, 'price': price}, product_ids ,product_names, product_categories, product_prices ))\n",
        "\n",
        "\n",
        "ls = zip(product_ids, product_names, product_categories, product_prices)\n",
        "ls = list(ls)\n",
        "print (ls)\n",
        "\n",
        "ls = [(1, 'I Phone', 'Mobile', 9000), (2, 'Lenovo', 'Laptop', 7000), (3, 'Microwave', 'Kitchen', 900)]\n",
        "\n",
        "a,b,c,d = zip(*ls)\n",
        "a  = list(a)\n",
        "b = list(b)\n",
        "c = list(c)\n",
        "d = list(d)\n",
        "print(a)\n",
        "print(b)\n",
        "print(c)\n",
        "print(d)\n",
        "products = ['I Phone', 'Lenovo', 'Microwave', 'Macbook Pro']\n",
        "total_sales = [50000, 78000, 8765, 4500]\n",
        "prod_cost = [453, 9876, 765, 4567]\n",
        "for sales, cost, prod in zip(total_sales, prod_cost, products):\n",
        "    profit = sales - cost\n",
        "    if profit > 0:\n",
        "        print(prod, ' Profit: ', profit)\n",
        "    else:\n",
        "        print(prod, ' Loss: ', profit)\n",
        "\n",
        "col = ['id', 'name', 'category', 'price']\n",
        "data =['I Phone', 'Lenovo', 'Microwave', 9000]\n",
        "\n",
        "dict_data = dict(zip(col, data))\n",
        "print (dict_data)\n"
      ],
      "metadata": {
        "id": "An69UqAsd1ZE"
      },
      "execution_count": null,
      "outputs": []
    },
    {
      "cell_type": "markdown",
      "metadata": {
        "id": "OiiFLmlhr8WR"
      },
      "source": [
        "##### Filtering using a comprehension"
      ]
    },
    {
      "cell_type": "markdown",
      "metadata": {
        "id": "lTypjSItr8WR"
      },
      "source": [
        "We can very easily filter an iterable using a comprehension as follows:"
      ]
    },
    {
      "cell_type": "code",
      "execution_count": null,
      "metadata": {
        "id": "YXKkPJ96r8WR",
        "outputId": "4ffe7804-d4e8-4363-e600-8c664273e4e8"
      },
      "outputs": [
        {
          "name": "stdout",
          "output_type": "stream",
          "text": [
            "[2, 4, 6, 8]\n"
          ]
        }
      ],
      "source": [
        "l = [1, 2, 3, 4, 5, 6, 7, 8, 9]\n",
        "\n",
        "result = [i for i in l if i % 2 == 0]\n",
        "print(result)"
      ]
    },
    {
      "cell_type": "markdown",
      "metadata": {
        "id": "ZYQC7vddr8WR"
      },
      "source": [
        "As you can see, we did not even need a lambda expression!"
      ]
    },
    {
      "cell_type": "markdown",
      "metadata": {
        "id": "9R_TlLxYr8WR"
      },
      "source": [
        "#### Combining **map** and **filter**"
      ]
    },
    {
      "cell_type": "code",
      "execution_count": null,
      "metadata": {
        "id": "DlQrBwGNr8WR",
        "outputId": "33507381-90da-41e4-8832-73091678743c"
      },
      "outputs": [
        {
          "data": {
            "text/plain": [
              "[0, 1, 4, 9, 16]"
            ]
          },
          "execution_count": 1,
          "metadata": {},
          "output_type": "execute_result"
        }
      ],
      "source": [
        "list(filter(lambda y: y < 25, map(lambda x: x**2, range(10))))"
      ]
    },
    {
      "cell_type": "markdown",
      "metadata": {
        "id": "oGjnOkbnr8WS"
      },
      "source": [
        "Alternatively, we can use a list comprehension to do the same thing:"
      ]
    },
    {
      "cell_type": "code",
      "execution_count": null,
      "metadata": {
        "id": "fiJpI2V2r8WS",
        "outputId": "7ac06ac7-1053-4483-f194-a0c76478520c"
      },
      "outputs": [
        {
          "data": {
            "text/plain": [
              "[0, 1, 4, 9, 16]"
            ]
          },
          "execution_count": 2,
          "metadata": {},
          "output_type": "execute_result"
        }
      ],
      "source": [
        "[x**2 for x in range(10) if x**2 < 25]"
      ]
    },
    {
      "cell_type": "markdown",
      "metadata": {
        "id": "d0IYsUkfr8WS"
      },
      "source": [
        "Get all products of category **Mobile**"
      ]
    },
    {
      "cell_type": "code",
      "source": [
        "products = [{'id': 1, 'name': 'I Phone', 'category': 'Mobile', 'price': 9000},\n",
        "            {'id': 1, 'name': 'Note 10+', 'category': 'Mobile', 'price': 7500},\n",
        "            {'id': 1, 'name': 'Macbook Pro', 'category': 'Laptop', 'price': 9500},\n",
        "            {'id': 1, 'name': 'I Phone', 'category': 'Mobile', 'price': 4500},\n",
        "            {'id': 1, 'name': 'Lenovo', 'category': 'Laptop', 'price': 3389},\n",
        "            {'id': 1, 'name': 'Microwave', 'category': 'Kitchen', 'price': 6000}]\n",
        "\n",
        "\n",
        "ls =  list(filter(lambda x: x.get('category') == 'Mobile', products))\n",
        "print(ls)"
      ],
      "metadata": {
        "id": "faQp6BsPsEqe"
      },
      "execution_count": null,
      "outputs": []
    }
  ],
  "metadata": {
    "kernelspec": {
      "display_name": "Python 3",
      "language": "python",
      "name": "python3"
    },
    "language_info": {
      "codemirror_mode": {
        "name": "ipython",
        "version": 3
      },
      "file_extension": ".py",
      "mimetype": "text/x-python",
      "name": "python",
      "nbconvert_exporter": "python",
      "pygments_lexer": "ipython3",
      "version": "3.6.2"
    },
    "colab": {
      "name": "Map, Filter and Zip.ipynb",
      "provenance": [],
      "collapsed_sections": [],
      "include_colab_link": true
    }
  },
  "nbformat": 4,
  "nbformat_minor": 0
}