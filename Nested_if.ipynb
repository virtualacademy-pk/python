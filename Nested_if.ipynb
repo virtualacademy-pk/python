{
  "nbformat": 4,
  "nbformat_minor": 0,
  "metadata": {
    "colab": {
      "name": "Nested_if.ipynb",
      "provenance": [],
      "collapsed_sections": [],
      "authorship_tag": "ABX9TyMyxeYl7daVg77sYkrxrQIe",
      "include_colab_link": true
    },
    "kernelspec": {
      "name": "python3",
      "display_name": "Python 3"
    },
    "language_info": {
      "name": "python"
    }
  },
  "cells": [
    {
      "cell_type": "markdown",
      "metadata": {
        "id": "view-in-github",
        "colab_type": "text"
      },
      "source": [
        "<a href=\"https://colab.research.google.com/github/virtualacademy-pk/python/blob/main/Nested_if.ipynb\" target=\"_parent\"><img src=\"https://colab.research.google.com/assets/colab-badge.svg\" alt=\"Open In Colab\"/></a>"
      ]
    },
    {
      "cell_type": "markdown",
      "metadata": {
        "id": "Di_cnOvQUjwL"
      },
      "source": [
        ""
      ]
    },
    {
      "cell_type": "code",
      "metadata": {
        "colab": {
          "base_uri": "https://localhost:8080/"
        },
        "id": "EG4eWEvcTqND",
        "outputId": "a9a89eba-f627-4460-c1d9-8ffe86829c5c"
      },
      "source": [
        "gender = input(\"Enter gender: \")\n",
        "age = int(input(\"Enter age: \"))\n",
        "\n",
        "if gender == \"M\":\n",
        "  if age <= 1:\n",
        "    print(\"Hello Baby Boy\")\n",
        "  elif age <= 3:\n",
        "    print(\"Hello Toddler Boy\")\n",
        "  elif age <= 5:\n",
        "    print(\"Hello Preschool boy\")\n",
        "  elif age <= 12:\n",
        "    print(\"Helo Grade Schoolder boy\")\n",
        "  elif age <= 18:\n",
        "    print(\"Hello Teenage Boy\")\n",
        "  elif age <= 21:\n",
        "    print(\"Hello Young adult boy\")    \n",
        "elif gender == \"F\":\n",
        "  if age <= 1:\n",
        "    print(\"Hello Baby Girl\")\n",
        "  elif age <= 3:\n",
        "    print(\"Hello Toddler Girl\")\n",
        "else:\n",
        "  print(\"Invalid Gender option\")"
      ],
      "execution_count": 9,
      "outputs": [
        {
          "output_type": "stream",
          "text": [
            "Enter gender: F\n",
            "Enter age: 2\n",
            "Hello Toddler Girl\n"
          ],
          "name": "stdout"
        }
      ]
    }
  ]
}