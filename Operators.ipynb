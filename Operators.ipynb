{
  "nbformat": 4,
  "nbformat_minor": 0,
  "metadata": {
    "colab": {
      "name": "Operators.ipynb",
      "provenance": [],
      "collapsed_sections": [],
      "authorship_tag": "ABX9TyMuRWv8oEjQMFBJi2Iyq15g",
      "include_colab_link": true
    },
    "kernelspec": {
      "name": "python3",
      "display_name": "Python 3"
    },
    "language_info": {
      "name": "python"
    }
  },
  "cells": [
    {
      "cell_type": "markdown",
      "metadata": {
        "id": "view-in-github",
        "colab_type": "text"
      },
      "source": [
        "<a href=\"https://colab.research.google.com/github/virtualacademy-pk/python/blob/main/Operators.ipynb\" target=\"_parent\"><img src=\"https://colab.research.google.com/assets/colab-badge.svg\" alt=\"Open In Colab\"/></a>"
      ]
    },
    {
      "cell_type": "markdown",
      "metadata": {
        "id": "EF-ZNjvkfRZk"
      },
      "source": [
        "\n",
        "**Variable Names**\n",
        "\n",
        "A variable can have a short name (like x and y) or a more descriptive name (age, carname, total_volume).\n",
        "\n",
        "**Rules for Python variables:**\n",
        "\n",
        "*   A variable name must start with a letter or the underscore character\n",
        "*   A variable name cannot start with a number\n",
        "*   A variable name can only contain alpha-numeric characters and underscores (A-z, 0-9, and _ )\n",
        "*   Variable names are case-sensitive (age, Age and AGE are three different variables)\n"
      ]
    },
    {
      "cell_type": "code",
      "metadata": {
        "id": "9DZ6BwTfhdoO"
      },
      "source": [
        "age =43\n",
        "Age = 9\n",
        "AGE = 76\n",
        "print (age)\n",
        "print (Age)\n",
        "print (AGE)\n"
      ],
      "execution_count": null,
      "outputs": []
    },
    {
      "cell_type": "markdown",
      "metadata": {
        "id": "oxjGjdbRjWfp"
      },
      "source": [
        "Plus +\n",
        "\n",
        "Minus -\n",
        "\n",
        "Multiply *\n",
        "\n",
        "Divide /\n",
        "\n",
        "Mod(Remainder ) %\n",
        "\n",
        "3.2 = 3\n",
        "\n",
        "Floor division //\n",
        "\n",
        "Exponant **\n",
        "\n",
        "\n",
        "variable = variable Operator variable\n"
      ]
    },
    {
      "cell_type": "code",
      "metadata": {
        "colab": {
          "base_uri": "https://localhost:8080/"
        },
        "id": "A3LSPdGij7xZ",
        "outputId": "6088f621-3cc8-4219-a330-cd2b6ea8856a"
      },
      "source": [
        "x = 7\n",
        "y = 5\n",
        "ans = x + y\n",
        "print (\"Sum is \" + str(ans))\n",
        "ans = x - y\n",
        "print (\"Difference is \" + str(ans))\n",
        "ans = x * y\n",
        "print (\"Multiplication of \" + str(x) + \" and \" + str(y) + \" is \" + str(ans))\n",
        "ans = x / y\n",
        "print (\"Divisino is \" + str(ans))\n",
        "ans = x % y\n",
        "print (\"Remainder of division \" + str(ans))\n",
        "ans = x // y\n",
        "print (\"Floor division is \" + str(ans))\n",
        "x = 2\n",
        "y = 3\n",
        "ans = x ** y\n",
        "\n",
        "print (\"Power is \" + str(ans))"
      ],
      "execution_count": 17,
      "outputs": [
        {
          "output_type": "stream",
          "text": [
            "Sum is 12\n",
            "Difference is 2\n",
            "Multiplication of 7 and 5 is 35\n",
            "Divisino is 1.4\n",
            "Remainder of division 2\n",
            "Floor division is 1\n",
            "Power is 8\n"
          ],
          "name": "stdout"
        }
      ]
    }
  ]
}