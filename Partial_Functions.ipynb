{
  "cells": [
    {
      "cell_type": "markdown",
      "metadata": {
        "id": "view-in-github",
        "colab_type": "text"
      },
      "source": [
        "<a href=\"https://colab.research.google.com/github/virtualacademy-pk/python/blob/main/Partial_Functions.ipynb\" target=\"_parent\"><img src=\"https://colab.research.google.com/assets/colab-badge.svg\" alt=\"Open In Colab\"/></a>"
      ]
    },
    {
      "cell_type": "markdown",
      "metadata": {
        "id": "vXwuXmoe_lTl"
      },
      "source": [
        "### Partial Functions"
      ]
    },
    {
      "cell_type": "code",
      "execution_count": null,
      "metadata": {
        "collapsed": true,
        "id": "ZMBCAbPG_lTo"
      },
      "outputs": [],
      "source": [
        "from functools import partial"
      ]
    },
    {
      "cell_type": "code",
      "execution_count": null,
      "metadata": {
        "collapsed": true,
        "id": "gDzFbbjH_lTp"
      },
      "outputs": [],
      "source": [
        "def my_func(a, b, c):\n",
        "    print(a, b, c)"
      ]
    },
    {
      "cell_type": "code",
      "execution_count": null,
      "metadata": {
        "collapsed": true,
        "id": "cMC4yQHs_lTp"
      },
      "outputs": [],
      "source": [
        "f = partial(my_func, 10)"
      ]
    },
    {
      "cell_type": "code",
      "execution_count": null,
      "metadata": {
        "id": "a1Y6NtCg_lTq",
        "outputId": "eeb49d93-f365-41d8-90d0-1a1c0be1e8e1"
      },
      "outputs": [
        {
          "name": "stdout",
          "output_type": "stream",
          "text": [
            "10 20 30\n"
          ]
        }
      ],
      "source": [
        "f(20, 30)"
      ]
    },
    {
      "cell_type": "markdown",
      "metadata": {
        "id": "9i48z4yv_lTq"
      },
      "source": [
        "We could have done this using another function (or a lambda) as well:"
      ]
    },
    {
      "cell_type": "code",
      "execution_count": null,
      "metadata": {
        "collapsed": true,
        "id": "rP1Wwdq7_lTr"
      },
      "outputs": [],
      "source": [
        "def partial_func(b, c):\n",
        "    return my_func(10, b, c)"
      ]
    },
    {
      "cell_type": "code",
      "execution_count": null,
      "metadata": {
        "id": "nctIqUaF_lTr",
        "outputId": "dad35c1f-082b-4712-ce6c-bbe4ead9ae17"
      },
      "outputs": [
        {
          "name": "stdout",
          "output_type": "stream",
          "text": [
            "10 20 30\n"
          ]
        }
      ],
      "source": [
        "partial_func(20, 30)"
      ]
    },
    {
      "cell_type": "markdown",
      "metadata": {
        "id": "v29gltFt_lTs"
      },
      "source": [
        "or, using a lambda:"
      ]
    },
    {
      "cell_type": "code",
      "execution_count": null,
      "metadata": {
        "collapsed": true,
        "id": "h4i7-PyF_lTs"
      },
      "outputs": [],
      "source": [
        "fn = lambda b, c: my_func(10, b, c)"
      ]
    },
    {
      "cell_type": "code",
      "execution_count": null,
      "metadata": {
        "id": "J2tB2q0__lTt",
        "outputId": "f448c413-1677-40f2-eeba-fa48d5ed528d"
      },
      "outputs": [
        {
          "name": "stdout",
          "output_type": "stream",
          "text": [
            "10 20 30\n"
          ]
        }
      ],
      "source": [
        "fn(20, 30)"
      ]
    },
    {
      "cell_type": "markdown",
      "metadata": {
        "id": "6VJFZ3_c_lTt"
      },
      "source": [
        "Any of these ways is fine, but sometimes partial is just a cleaner more consise way to do it.\n",
        "\n",
        "Also, it is quite flexible with parameters:"
      ]
    },
    {
      "cell_type": "code",
      "execution_count": null,
      "metadata": {
        "collapsed": true,
        "id": "SWX-m3lg_lTu"
      },
      "outputs": [],
      "source": [
        "def my_func(a, b, *args, k1, k2, **kwargs):\n",
        "    print(a, b, args, k1, k2, kwargs)"
      ]
    },
    {
      "cell_type": "code",
      "execution_count": null,
      "metadata": {
        "collapsed": true,
        "id": "V5D_R2Wt_lTu"
      },
      "outputs": [],
      "source": [
        "f = partial(my_func, 10, k1='a')"
      ]
    },
    {
      "cell_type": "code",
      "execution_count": null,
      "metadata": {
        "id": "4aA7QaxL_lTu",
        "outputId": "53188e85-ae12-4912-e153-e92803f8a4c3"
      },
      "outputs": [
        {
          "name": "stdout",
          "output_type": "stream",
          "text": [
            "10 20 (30, 40) a b {'k3': 'c'}\n"
          ]
        }
      ],
      "source": [
        "f(20, 30, 40, k2='b', k3='c')"
      ]
    },
    {
      "cell_type": "markdown",
      "metadata": {
        "id": "8fyXfHeT_lTv"
      },
      "source": [
        "We can of course do the same thing using a regular function too:"
      ]
    },
    {
      "cell_type": "code",
      "execution_count": null,
      "metadata": {
        "collapsed": true,
        "id": "PFArem5K_lTv"
      },
      "outputs": [],
      "source": [
        "def f(b, *args, k2, **kwargs):\n",
        "    return my_func(10, b, *args, k1='a', k2=k2, **kwargs)"
      ]
    },
    {
      "cell_type": "code",
      "execution_count": null,
      "metadata": {
        "id": "vuptxUtR_lTv",
        "outputId": "db5430bc-d9db-4a6b-8bc2-ecc2e2497fa1"
      },
      "outputs": [
        {
          "name": "stdout",
          "output_type": "stream",
          "text": [
            "10 20 (30, 40) a b {'k3': 'c'}\n"
          ]
        }
      ],
      "source": [
        "f(20, 30, 40, k2='b', k3='c')"
      ]
    },
    {
      "cell_type": "markdown",
      "metadata": {
        "id": "5zkqRNDf_lTv"
      },
      "source": [
        "As you can see in this case, using **partial** seems a lot simpler."
      ]
    },
    {
      "cell_type": "markdown",
      "metadata": {
        "id": "MckAlq1Q_lTw"
      },
      "source": [
        "Also, you are not stuck having to specify the first argument in your partial:"
      ]
    },
    {
      "cell_type": "code",
      "execution_count": null,
      "metadata": {
        "collapsed": true,
        "id": "09yup38s_lTw"
      },
      "outputs": [],
      "source": [
        "def power(base, exponent):\n",
        "    return base ** exponent"
      ]
    },
    {
      "cell_type": "code",
      "execution_count": null,
      "metadata": {
        "id": "2OZIcvLp_lTw",
        "outputId": "fe85cb2b-d717-41c5-db99-79a0b8f05a3e"
      },
      "outputs": [
        {
          "data": {
            "text/plain": [
              "8"
            ]
          },
          "execution_count": 15,
          "metadata": {},
          "output_type": "execute_result"
        }
      ],
      "source": [
        "power(2, 3)"
      ]
    },
    {
      "cell_type": "code",
      "execution_count": null,
      "metadata": {
        "collapsed": true,
        "id": "mTOmbrui_lTw"
      },
      "outputs": [],
      "source": [
        "square = partial(power, exponent=2)"
      ]
    },
    {
      "cell_type": "code",
      "execution_count": null,
      "metadata": {
        "id": "bzY0w-j6_lTx",
        "outputId": "c495a97c-2291-43dc-faba-2d8da12bbb3b"
      },
      "outputs": [
        {
          "data": {
            "text/plain": [
              "16"
            ]
          },
          "execution_count": 17,
          "metadata": {},
          "output_type": "execute_result"
        }
      ],
      "source": [
        "square(4)"
      ]
    },
    {
      "cell_type": "code",
      "execution_count": null,
      "metadata": {
        "collapsed": true,
        "id": "X41Spdrw_lTx"
      },
      "outputs": [],
      "source": [
        "cube = partial(power, exponent=3)"
      ]
    },
    {
      "cell_type": "code",
      "execution_count": null,
      "metadata": {
        "id": "-BPaJpZV_lTx",
        "outputId": "f2afe0fc-f2be-4f14-dd0d-901466235bda"
      },
      "outputs": [
        {
          "data": {
            "text/plain": [
              "8"
            ]
          },
          "execution_count": 19,
          "metadata": {},
          "output_type": "execute_result"
        }
      ],
      "source": [
        "cube(2)"
      ]
    },
    {
      "cell_type": "markdown",
      "metadata": {
        "id": "hYuic0A8_lTx"
      },
      "source": [
        "You can even call it this way:"
      ]
    },
    {
      "cell_type": "code",
      "execution_count": null,
      "metadata": {
        "id": "wyK86Qh5_lTx",
        "outputId": "88839f9b-f640-4e09-c132-a940a9a4b13b"
      },
      "outputs": [
        {
          "data": {
            "text/plain": [
              "27"
            ]
          },
          "execution_count": 20,
          "metadata": {},
          "output_type": "execute_result"
        }
      ],
      "source": [
        "cube(base=3)"
      ]
    },
    {
      "cell_type": "markdown",
      "metadata": {
        "id": "9VRkMPCi_lTy"
      },
      "source": [
        "#### Caveat"
      ]
    },
    {
      "cell_type": "markdown",
      "metadata": {
        "id": "HdIv1v9-_lTy"
      },
      "source": [
        "We can certainly use variables instead of literals when creating partials, but we have to be careful."
      ]
    },
    {
      "cell_type": "code",
      "execution_count": null,
      "metadata": {
        "collapsed": true,
        "id": "SPnJaXIk_lTy"
      },
      "outputs": [],
      "source": [
        "def my_func(a, b, c):\n",
        "    print(a, b, c)"
      ]
    },
    {
      "cell_type": "code",
      "execution_count": null,
      "metadata": {
        "collapsed": true,
        "id": "19Slcca9_lTy"
      },
      "outputs": [],
      "source": [
        "a = 10\n",
        "f = partial(my_func, a)"
      ]
    },
    {
      "cell_type": "code",
      "execution_count": null,
      "metadata": {
        "id": "r1EzXtqw_lTy",
        "outputId": "b72acd31-0c18-4183-bc34-cc423a2c29bf"
      },
      "outputs": [
        {
          "name": "stdout",
          "output_type": "stream",
          "text": [
            "10 20 30\n"
          ]
        }
      ],
      "source": [
        "f(20, 30)"
      ]
    },
    {
      "cell_type": "markdown",
      "metadata": {
        "id": "PZsxCbha_lTz"
      },
      "source": [
        "Now let's change the value of the variable **a** and see what happens:"
      ]
    },
    {
      "cell_type": "code",
      "execution_count": null,
      "metadata": {
        "collapsed": true,
        "id": "9NwVxhty_lTz"
      },
      "outputs": [],
      "source": [
        "a = 100"
      ]
    },
    {
      "cell_type": "code",
      "execution_count": null,
      "metadata": {
        "id": "XjDbiK90_lTz",
        "outputId": "8b516118-df41-47d7-c512-f52b07ac93e1"
      },
      "outputs": [
        {
          "name": "stdout",
          "output_type": "stream",
          "text": [
            "10 20 30\n"
          ]
        }
      ],
      "source": [
        "f(20, 30)"
      ]
    },
    {
      "cell_type": "markdown",
      "metadata": {
        "id": "4drZ5GJG_lTz"
      },
      "source": [
        "As you can see, the value for **a** is fixed once the partial has been created.\n",
        "\n",
        "In fact, the memory address of **a** is baked in to the partial, and **a** is immutable."
      ]
    },
    {
      "cell_type": "markdown",
      "metadata": {
        "id": "K4PQ-rgV_lTz"
      },
      "source": [
        "If we use a mutable object, things are different:"
      ]
    },
    {
      "cell_type": "code",
      "execution_count": null,
      "metadata": {
        "collapsed": true,
        "id": "c2-GREyb_lTz"
      },
      "outputs": [],
      "source": [
        "a = [10, 20]\n",
        "f = partial(my_func, a)"
      ]
    },
    {
      "cell_type": "code",
      "execution_count": null,
      "metadata": {
        "id": "mHrE4Yzg_lT0",
        "outputId": "556c197c-8ac8-4e00-fd64-c8bd1dae1deb"
      },
      "outputs": [
        {
          "name": "stdout",
          "output_type": "stream",
          "text": [
            "[10, 20] 100 200\n"
          ]
        }
      ],
      "source": [
        "f(100, 200)"
      ]
    },
    {
      "cell_type": "code",
      "execution_count": null,
      "metadata": {
        "collapsed": true,
        "id": "oRiJH_kX_lT0"
      },
      "outputs": [],
      "source": [
        "a.append(30)"
      ]
    },
    {
      "cell_type": "code",
      "execution_count": null,
      "metadata": {
        "id": "lqBKtw8Q_lT0",
        "outputId": "fc4bf84d-46c0-497a-b070-5b8faaa3d917"
      },
      "outputs": [
        {
          "name": "stdout",
          "output_type": "stream",
          "text": [
            "[10, 20, 30] 100 200\n"
          ]
        }
      ],
      "source": [
        "f(100, 200)"
      ]
    },
    {
      "cell_type": "markdown",
      "metadata": {
        "id": "B26LOw8z_lT0"
      },
      "source": [
        "#### Use Cases"
      ]
    },
    {
      "cell_type": "markdown",
      "metadata": {
        "id": "UrXRpK9l_lT0"
      },
      "source": [
        "We tend to use partials in situation where we need to call a function that actually requires more parameters than we can supply.\n",
        "\n",
        "Often this is because we are working with exiting libraries or code, and we have a special case."
      ]
    },
    {
      "cell_type": "markdown",
      "metadata": {
        "id": "pnO4UaRJ_lT0"
      },
      "source": [
        "For example, suppose we have points (represented as tuples), and we want to sort them based on the distance of the point from some other fixed point:"
      ]
    },
    {
      "cell_type": "code",
      "execution_count": null,
      "metadata": {
        "collapsed": true,
        "id": "RAGe8QFO_lT1"
      },
      "outputs": [],
      "source": [
        "origin = (0, 0)"
      ]
    },
    {
      "cell_type": "code",
      "execution_count": null,
      "metadata": {
        "collapsed": true,
        "id": "0g9OesMU_lT1"
      },
      "outputs": [],
      "source": [
        "l = [(1,1), (0, 2), (-3, 2), (0,0), (10, 10)]"
      ]
    },
    {
      "cell_type": "code",
      "execution_count": null,
      "metadata": {
        "collapsed": true,
        "id": "biEW-ER1_lT1"
      },
      "outputs": [],
      "source": [
        "dist2 = lambda x, y: (x[0]-y[0])**2 + (x[1]-y[1])**2"
      ]
    },
    {
      "cell_type": "code",
      "execution_count": null,
      "metadata": {
        "id": "sDUAwzdi_lT1",
        "outputId": "0b8dbb5d-cc90-4ac9-bf91-1d39431e3896"
      },
      "outputs": [
        {
          "data": {
            "text/plain": [
              "2"
            ]
          },
          "execution_count": 33,
          "metadata": {},
          "output_type": "execute_result"
        }
      ],
      "source": [
        "dist2((0,0), (1,1))"
      ]
    },
    {
      "cell_type": "code",
      "execution_count": null,
      "metadata": {
        "id": "RsI6GdDN_lT1",
        "outputId": "84526732-a073-422c-df6a-5a720b559f31"
      },
      "outputs": [
        {
          "data": {
            "text/plain": [
              "[(0, 0), (1, 1), (0, 2), (-3, 2), (10, 10)]"
            ]
          },
          "execution_count": 34,
          "metadata": {},
          "output_type": "execute_result"
        }
      ],
      "source": [
        "sorted(l, key = lambda x: dist2((0,0), x))"
      ]
    },
    {
      "cell_type": "code",
      "execution_count": null,
      "metadata": {
        "id": "eA9RW__b_lT1",
        "outputId": "f8bdab61-bdca-463a-ad7a-120a3744e869"
      },
      "outputs": [
        {
          "data": {
            "text/plain": [
              "[(0, 0), (1, 1), (0, 2), (-3, 2), (10, 10)]"
            ]
          },
          "execution_count": 35,
          "metadata": {},
          "output_type": "execute_result"
        }
      ],
      "source": [
        "sorted(l, key=partial(dist2, (0,0)))"
      ]
    },
    {
      "cell_type": "markdown",
      "metadata": {
        "id": "0ZMzibcp_lT1"
      },
      "source": [
        "Another use case is when using **callback** functions. Usually these are used when running asynchronous operations, and you provide a callable to another callable which will be called when the first callable completes its execution.\n",
        "\n",
        "Very often, the asynchronous callable will specify the number of variables that the callback function must have - this may not be what we want, maybe we want to add some additional info."
      ]
    },
    {
      "cell_type": "markdown",
      "metadata": {
        "id": "_MPOW2ps_lT2"
      },
      "source": [
        "We'll look at asynchronous processing later in this course."
      ]
    },
    {
      "cell_type": "markdown",
      "metadata": {
        "id": "GQuFhlVg_lT2"
      },
      "source": [
        "Often we can also use partial functions to make our life a bit easier.\n",
        "\n",
        "Consider a situation where we have some generic `email()` function that can be used to notify someone when various things happen in our application. But depending on what is happening we may want to notify different people. Let's see how we may do this:"
      ]
    },
    {
      "cell_type": "code",
      "execution_count": null,
      "metadata": {
        "collapsed": true,
        "id": "QVyrzzy5_lT2"
      },
      "outputs": [],
      "source": [
        "def sendmail(to, subject, body):\n",
        "    # code to send email\n",
        "    print('To:{0}, Subject:{1}, Body:{2}'.format(to, subject, body))"
      ]
    },
    {
      "cell_type": "markdown",
      "metadata": {
        "id": "n_eVFHRg_lT2"
      },
      "source": [
        "Now, we may haver different email adresses we want to send notifications to, maybe defined in a config file in our app. Here, I'll just use hardcoded variables:"
      ]
    },
    {
      "cell_type": "code",
      "execution_count": null,
      "metadata": {
        "collapsed": true,
        "id": "p9QKvGPG_lT2"
      },
      "outputs": [],
      "source": [
        "email_admin = 'palin@python.edu'\n",
        "email_devteam = 'idle@python.edu;cleese@python.edu'"
      ]
    },
    {
      "cell_type": "markdown",
      "metadata": {
        "id": "uB_LBerG_lT2"
      },
      "source": [
        "Now when we want to send emails we would have to write things like:"
      ]
    },
    {
      "cell_type": "code",
      "execution_count": null,
      "metadata": {
        "id": "6Cwt7Ee2_lT3",
        "outputId": "84868223-fb05-432b-c83b-7473a6f12a81"
      },
      "outputs": [
        {
          "name": "stdout",
          "output_type": "stream",
          "text": [
            "To:palin@python.edu, Subject:My App Notification, Body:the parrot is dead.\n",
            "To:palin@python.edu;idle@python.edu;cleese@python.edu, Subject:My App Notification, Body:the ministry is closed until further notice.\n"
          ]
        }
      ],
      "source": [
        "sendmail(email_admin, 'My App Notification', 'the parrot is dead.')\n",
        "sendmail(';'.join((email_admin, email_devteam)), 'My App Notification', 'the ministry is closed until further notice.')"
      ]
    },
    {
      "cell_type": "markdown",
      "metadata": {
        "id": "DkcEouaK_lT3"
      },
      "source": [
        "We could simply our life a little using partials this way:"
      ]
    },
    {
      "cell_type": "code",
      "execution_count": null,
      "metadata": {
        "collapsed": true,
        "id": "8pc_osAs_lT3"
      },
      "outputs": [],
      "source": [
        "send_admin = partial(sendmail, email_admin, 'For you eyes only')\n",
        "send_dev = partial(sendmail, email_devteam, 'Dear IT:')\n",
        "send_all = partial(sendmail, ';'.join((email_admin, email_devteam)), 'Loyal Subjects')"
      ]
    },
    {
      "cell_type": "code",
      "execution_count": null,
      "metadata": {
        "id": "uSQ52qoe_lT3",
        "outputId": "54490918-2643-461e-a186-d8d44b491ff7"
      },
      "outputs": [
        {
          "name": "stdout",
          "output_type": "stream",
          "text": [
            "To:palin@python.edu, Subject:For you eyes only, Body:the parrot is dead.\n",
            "To:palin@python.edu;idle@python.edu;cleese@python.edu, Subject:Loyal Subjects, Body:the ministry is closed until further notice.\n"
          ]
        }
      ],
      "source": [
        "send_admin('the parrot is dead.')\n",
        "send_all('the ministry is closed until further notice.')"
      ]
    },
    {
      "cell_type": "markdown",
      "metadata": {
        "collapsed": true,
        "id": "SChkXPBn_lT3"
      },
      "source": [
        "Finally, let's make this a little more complex, with a mixture of positional and keyword-only arguments:"
      ]
    },
    {
      "cell_type": "code",
      "execution_count": null,
      "metadata": {
        "id": "9oevilU1_lT3"
      },
      "outputs": [],
      "source": [
        "def sendmail(to, subject, body, *, cc=None, bcc=email_devteam):\n",
        "    # code to send email\n",
        "    print('To:{0}, Subject:{1}, Body:{2}, CC:{3}, BCC:{4}'.format(to, \n",
        "                                                                  subject, \n",
        "                                                                  body, \n",
        "                                                                  cc, \n",
        "                                                                  bcc))"
      ]
    },
    {
      "cell_type": "code",
      "execution_count": null,
      "metadata": {
        "collapsed": true,
        "id": "1iN7RDOn_lT4"
      },
      "outputs": [],
      "source": [
        "send_admin = partial(sendmail, email_admin, 'General Admin')\n",
        "send_admin_secret = partial(sendmail, email_admin, 'For your eyes only', cc=None, bcc=None)"
      ]
    },
    {
      "cell_type": "code",
      "execution_count": null,
      "metadata": {
        "id": "ZMdUexEt_lT4",
        "outputId": "6712da76-0819-4c94-e113-1fbf9117f470"
      },
      "outputs": [
        {
          "name": "stdout",
          "output_type": "stream",
          "text": [
            "To:palin@python.edu, Subject:General Admin, Body:and now for something completely different, CC:None, BCC:idle@python.edu;cleese@python.edu\n"
          ]
        }
      ],
      "source": [
        "send_admin('and now for something completely different')"
      ]
    },
    {
      "cell_type": "code",
      "execution_count": null,
      "metadata": {
        "id": "xsoI5wxf_lT4",
        "outputId": "45fc97ae-b074-48fe-a260-3d4caa3482a4"
      },
      "outputs": [
        {
          "name": "stdout",
          "output_type": "stream",
          "text": [
            "To:palin@python.edu, Subject:For your eyes only, Body:the parrot is dead!, CC:None, BCC:None\n"
          ]
        }
      ],
      "source": [
        "send_admin_secret('the parrot is dead!')"
      ]
    },
    {
      "cell_type": "code",
      "execution_count": null,
      "metadata": {
        "id": "qfr_-eWE_lT4",
        "outputId": "b99a850f-ff61-4423-f50a-0f321d4c0fc5"
      },
      "outputs": [
        {
          "name": "stdout",
          "output_type": "stream",
          "text": [
            "To:palin@python.edu, Subject:For your eyes only, Body:the parrot is no more!, CC:None, BCC:idle@python.edu;cleese@python.edu\n"
          ]
        }
      ],
      "source": [
        "send_admin_secret('the parrot is no more!', bcc=email_devteam)"
      ]
    },
    {
      "cell_type": "code",
      "execution_count": null,
      "metadata": {
        "id": "9Xkzs0a3_lT4"
      },
      "outputs": [],
      "source": [
        "def pow(base, exponent):\n",
        "    return base ** exponent"
      ]
    },
    {
      "cell_type": "code",
      "execution_count": null,
      "metadata": {
        "id": "r3Ds1gjT_lT4"
      },
      "outputs": [],
      "source": [
        "cube = partial(pow, exponent=3)"
      ]
    },
    {
      "cell_type": "code",
      "execution_count": null,
      "metadata": {
        "id": "S-iZLwfw_lT4",
        "outputId": "d08f578e-19cf-4ab8-97c2-8bb23bd3b0bb"
      },
      "outputs": [
        {
          "data": {
            "text/plain": [
              "8"
            ]
          },
          "execution_count": 53,
          "metadata": {},
          "output_type": "execute_result"
        }
      ],
      "source": [
        "cube(2)"
      ]
    },
    {
      "cell_type": "code",
      "execution_count": null,
      "metadata": {
        "id": "8Fp-C2Ag_lT5",
        "outputId": "e8cf9073-e38f-40cc-f29a-dcb6f4d23f9b"
      },
      "outputs": [
        {
          "ename": "TypeError",
          "evalue": "pow() got multiple values for argument 'exponent'",
          "output_type": "error",
          "traceback": [
            "\u001b[1;31m---------------------------------------------------------------------------\u001b[0m",
            "\u001b[1;31mTypeError\u001b[0m                                 Traceback (most recent call last)",
            "\u001b[1;32m<ipython-input-54-725d549b8104>\u001b[0m in \u001b[0;36m<module>\u001b[1;34m()\u001b[0m\n\u001b[1;32m----> 1\u001b[1;33m \u001b[0mcube\u001b[0m\u001b[1;33m(\u001b[0m\u001b[1;36m2\u001b[0m\u001b[1;33m,\u001b[0m \u001b[1;36m4\u001b[0m\u001b[1;33m)\u001b[0m\u001b[1;33m\u001b[0m\u001b[0m\n\u001b[0m",
            "\u001b[1;31mTypeError\u001b[0m: pow() got multiple values for argument 'exponent'"
          ]
        }
      ],
      "source": [
        "cube(2, 4)"
      ]
    },
    {
      "cell_type": "code",
      "execution_count": null,
      "metadata": {
        "id": "L4Mw6o3y_lT5",
        "outputId": "41a5ed5c-b29c-43eb-e5e7-20231b265e1d"
      },
      "outputs": [
        {
          "data": {
            "text/plain": [
              "16"
            ]
          },
          "execution_count": 55,
          "metadata": {},
          "output_type": "execute_result"
        }
      ],
      "source": [
        "cube(2, exponent=4)"
      ]
    },
    {
      "cell_type": "code",
      "execution_count": null,
      "metadata": {
        "collapsed": true,
        "id": "lMtm5Ta9_lT5"
      },
      "outputs": [],
      "source": [
        ""
      ]
    }
  ],
  "metadata": {
    "kernelspec": {
      "display_name": "Python 3",
      "language": "python",
      "name": "python3"
    },
    "language_info": {
      "codemirror_mode": {
        "name": "ipython",
        "version": 3
      },
      "file_extension": ".py",
      "mimetype": "text/x-python",
      "name": "python",
      "nbconvert_exporter": "python",
      "pygments_lexer": "ipython3",
      "version": "3.6.2"
    },
    "colab": {
      "name": "Partial Functions.ipynb",
      "provenance": [],
      "include_colab_link": true
    }
  },
  "nbformat": 4,
  "nbformat_minor": 0
}