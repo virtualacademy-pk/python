{
  "cells": [
    {
      "cell_type": "markdown",
      "metadata": {
        "id": "view-in-github",
        "colab_type": "text"
      },
      "source": [
        "<a href=\"https://colab.research.google.com/github/virtualacademy-pk/python/blob/main/Partial_Functions.ipynb\" target=\"_parent\"><img src=\"https://colab.research.google.com/assets/colab-badge.svg\" alt=\"Open In Colab\"/></a>"
      ]
    },
    {
      "cell_type": "code",
      "source": [
        "from functools import partial\n",
        "products = [{'id': 1, 'name': 'I Phone', 'category': 'Mobile', 'price': 9000},\n",
        "            {'id': 2, 'name': 'Note 10+', 'category': 'Mobile', 'price': 7500},\n",
        "            {'id': 3, 'name': 'Macbook Pro', 'category': 'Laptop', 'price': 9500},\n",
        "            {'id': 4, 'name': 'Nokia', 'category': 'Mobile', 'price': 4500},\n",
        "            {'id': 5, 'name': 'Lenovo', 'category': 'Laptop', 'price': 3389},\n",
        "            {'id': 6, 'name': 'Microwave', 'category': 'Kitchen', 'price': 6000}]\n",
        "\n",
        "\n",
        "products = sorted(products,  key=lambda x: x['category'])\n",
        "\n",
        "sort_prod_id = partial(sorted, key=lambda x: x['id'])\n",
        "sort_prod_category = partial(sorted, key=lambda x: x['category'])\n",
        "\n",
        "products = sort_prod_id(products)\n",
        "print(products)\n",
        "\n",
        "def sendmail(to, subject, body):\n",
        "    print('To:{0}, Subject:{1}, Body:{2}'.format(to, subject, body))\n",
        "#sendmail('adfa@abc.com', 'Email subject', 'Email body')\n",
        "\n",
        "send_admin = partial(sendmail, to = 'admin@abc.com')\n",
        "send_dev = partial(sendmail, to = 'admin@dev.com')\n",
        "\n",
        "def power(base, exp):\n",
        "    return base ** exp\n",
        "\n",
        "square = partial(power, exp = 2)\n",
        "cube = partial(power, exp = 3)\n",
        "\n",
        "send_admin(subject = 'Email Subject', body = 'Sending mail to Admin')\n",
        "send_dev(subject = 'Email Subject', body = 'Sending mail to devs')\n",
        "\n"
      ],
      "metadata": {
        "id": "trwRJgwdMz_r"
      },
      "execution_count": null,
      "outputs": []
    }
  ],
  "metadata": {
    "kernelspec": {
      "display_name": "Python 3",
      "language": "python",
      "name": "python3"
    },
    "language_info": {
      "codemirror_mode": {
        "name": "ipython",
        "version": 3
      },
      "file_extension": ".py",
      "mimetype": "text/x-python",
      "name": "python",
      "nbconvert_exporter": "python",
      "pygments_lexer": "ipython3",
      "version": "3.6.2"
    },
    "colab": {
      "name": "Partial Functions.ipynb",
      "provenance": [],
      "collapsed_sections": [],
      "include_colab_link": true
    }
  },
  "nbformat": 4,
  "nbformat_minor": 0
}