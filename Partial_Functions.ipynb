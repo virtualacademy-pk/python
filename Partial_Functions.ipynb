{
  "cells": [
    {
      "cell_type": "markdown",
      "metadata": {
        "id": "view-in-github",
        "colab_type": "text"
      },
      "source": [
        "<a href=\"https://colab.research.google.com/github/virtualacademy-pk/python/blob/main/Partial_Functions.ipynb\" target=\"_parent\"><img src=\"https://colab.research.google.com/assets/colab-badge.svg\" alt=\"Open In Colab\"/></a>"
      ]
    },
    {
      "cell_type": "markdown",
      "metadata": {
        "id": "Lm3mOZxK-JW4"
      },
      "source": [
        "### Partial Functions"
      ]
    },
    {
      "cell_type": "code",
      "execution_count": null,
      "metadata": {
        "collapsed": true,
        "id": "FnMsU0Zt-JW7"
      },
      "outputs": [],
      "source": [
        "from functools import partial"
      ]
    },
    {
      "cell_type": "code",
      "execution_count": null,
      "metadata": {
        "collapsed": true,
        "id": "kCbT9DNy-JW9"
      },
      "outputs": [],
      "source": [
        "def my_func(a, b, c):\n",
        "    print(a, b, c)"
      ]
    },
    {
      "cell_type": "code",
      "execution_count": null,
      "metadata": {
        "collapsed": true,
        "id": "eceO4ypi-JW9"
      },
      "outputs": [],
      "source": [
        "f = partial(my_func, 10)"
      ]
    },
    {
      "cell_type": "code",
      "execution_count": null,
      "metadata": {
        "id": "5oAYC54X-JW9",
        "outputId": "9d3aabd8-1802-4790-b1e8-a09a1e168d5d"
      },
      "outputs": [
        {
          "name": "stdout",
          "output_type": "stream",
          "text": [
            "10 20 30\n"
          ]
        }
      ],
      "source": [
        "f(20, 30)"
      ]
    },
    {
      "cell_type": "markdown",
      "metadata": {
        "id": "O56dCo6n-JW-"
      },
      "source": [
        "We could have done this using another function (or a lambda) as well:"
      ]
    },
    {
      "cell_type": "code",
      "execution_count": null,
      "metadata": {
        "collapsed": true,
        "id": "h9rCGXhB-JW_"
      },
      "outputs": [],
      "source": [
        "def partial_func(b, c):\n",
        "    return my_func(10, b, c)"
      ]
    },
    {
      "cell_type": "code",
      "execution_count": null,
      "metadata": {
        "id": "zayDJgDO-JW_",
        "outputId": "b0d71d0a-0edb-4d20-bb6e-a3252233840a"
      },
      "outputs": [
        {
          "name": "stdout",
          "output_type": "stream",
          "text": [
            "10 20 30\n"
          ]
        }
      ],
      "source": [
        "partial_func(20, 30)"
      ]
    },
    {
      "cell_type": "markdown",
      "metadata": {
        "id": "B1A6kj79-JXA"
      },
      "source": [
        "or, using a lambda:"
      ]
    },
    {
      "cell_type": "code",
      "execution_count": null,
      "metadata": {
        "collapsed": true,
        "id": "Cg29q2xx-JXA"
      },
      "outputs": [],
      "source": [
        "fn = lambda b, c: my_func(10, b, c)"
      ]
    },
    {
      "cell_type": "code",
      "execution_count": null,
      "metadata": {
        "id": "UfemGhru-JXB",
        "outputId": "afbb55a4-05d5-432d-d38a-ce402c47beca"
      },
      "outputs": [
        {
          "name": "stdout",
          "output_type": "stream",
          "text": [
            "10 20 30\n"
          ]
        }
      ],
      "source": [
        "fn(20, 30)"
      ]
    },
    {
      "cell_type": "markdown",
      "metadata": {
        "id": "nEOI77Kv-JXB"
      },
      "source": [
        "Any of these ways is fine, but sometimes partial is just a cleaner more consise way to do it.\n",
        "\n",
        "Also, it is quite flexible with parameters:"
      ]
    },
    {
      "cell_type": "code",
      "execution_count": null,
      "metadata": {
        "collapsed": true,
        "id": "mHm3jbFU-JXB"
      },
      "outputs": [],
      "source": [
        "def my_func(a, b, *args, k1, k2, **kwargs):\n",
        "    print(a, b, args, k1, k2, kwargs)"
      ]
    },
    {
      "cell_type": "code",
      "execution_count": null,
      "metadata": {
        "collapsed": true,
        "id": "SQntNL72-JXC"
      },
      "outputs": [],
      "source": [
        "f = partial(my_func, 10, k1='a')"
      ]
    },
    {
      "cell_type": "code",
      "execution_count": null,
      "metadata": {
        "id": "s65c4WVx-JXC",
        "outputId": "134e71c0-c803-48c2-f8d0-a60cb0fc38bf"
      },
      "outputs": [
        {
          "name": "stdout",
          "output_type": "stream",
          "text": [
            "10 20 (30, 40) a b {'k3': 'c'}\n"
          ]
        }
      ],
      "source": [
        "f(20, 30, 40, k2='b', k3='c')"
      ]
    },
    {
      "cell_type": "markdown",
      "metadata": {
        "id": "L4bzxfnE-JXD"
      },
      "source": [
        "We can of course do the same thing using a regular function too:"
      ]
    },
    {
      "cell_type": "code",
      "execution_count": null,
      "metadata": {
        "collapsed": true,
        "id": "1-rBdC_e-JXD"
      },
      "outputs": [],
      "source": [
        "def f(b, *args, k2, **kwargs):\n",
        "    return my_func(10, b, *args, k1='a', k2=k2, **kwargs)"
      ]
    },
    {
      "cell_type": "code",
      "execution_count": null,
      "metadata": {
        "id": "tqvod9bL-JXD",
        "outputId": "f2090853-4ef9-413f-8863-28fe47399eeb"
      },
      "outputs": [
        {
          "name": "stdout",
          "output_type": "stream",
          "text": [
            "10 20 (30, 40) a b {'k3': 'c'}\n"
          ]
        }
      ],
      "source": [
        "f(20, 30, 40, k2='b', k3='c')"
      ]
    },
    {
      "cell_type": "markdown",
      "metadata": {
        "id": "7srasWxi-JXD"
      },
      "source": [
        "As you can see in this case, using **partial** seems a lot simpler."
      ]
    },
    {
      "cell_type": "markdown",
      "metadata": {
        "id": "ltGv7Ors-JXE"
      },
      "source": [
        "Also, you are not stuck having to specify the first argument in your partial:"
      ]
    },
    {
      "cell_type": "code",
      "execution_count": null,
      "metadata": {
        "collapsed": true,
        "id": "pl5qEJTH-JXE"
      },
      "outputs": [],
      "source": [
        "def power(base, exponent):\n",
        "    return base ** exponent"
      ]
    },
    {
      "cell_type": "code",
      "execution_count": null,
      "metadata": {
        "id": "1WXVc_K3-JXE",
        "outputId": "6992f20c-79b5-4168-9146-f93f3a456551"
      },
      "outputs": [
        {
          "data": {
            "text/plain": [
              "8"
            ]
          },
          "execution_count": 15,
          "metadata": {},
          "output_type": "execute_result"
        }
      ],
      "source": [
        "power(2, 3)"
      ]
    },
    {
      "cell_type": "code",
      "execution_count": null,
      "metadata": {
        "collapsed": true,
        "id": "gFDTRFDX-JXE"
      },
      "outputs": [],
      "source": [
        "square = partial(power, exponent=2)"
      ]
    },
    {
      "cell_type": "code",
      "execution_count": null,
      "metadata": {
        "id": "NGdyUxuF-JXF",
        "outputId": "982a3949-fddb-47ca-b864-6753c53e9e72"
      },
      "outputs": [
        {
          "data": {
            "text/plain": [
              "16"
            ]
          },
          "execution_count": 17,
          "metadata": {},
          "output_type": "execute_result"
        }
      ],
      "source": [
        "square(4)"
      ]
    },
    {
      "cell_type": "code",
      "execution_count": null,
      "metadata": {
        "collapsed": true,
        "id": "HkPlnyrQ-JXF"
      },
      "outputs": [],
      "source": [
        "cube = partial(power, exponent=3)"
      ]
    },
    {
      "cell_type": "code",
      "execution_count": null,
      "metadata": {
        "id": "1sAVfUTK-JXF",
        "outputId": "b7bbc8da-a9a7-4370-ad14-64205b9708bb"
      },
      "outputs": [
        {
          "data": {
            "text/plain": [
              "8"
            ]
          },
          "execution_count": 19,
          "metadata": {},
          "output_type": "execute_result"
        }
      ],
      "source": [
        "cube(2)"
      ]
    },
    {
      "cell_type": "markdown",
      "metadata": {
        "id": "USgTOu25-JXF"
      },
      "source": [
        "You can even call it this way:"
      ]
    },
    {
      "cell_type": "code",
      "execution_count": null,
      "metadata": {
        "id": "7jf4pURw-JXF",
        "outputId": "1e285786-915c-4089-f2bc-3ccfe9ad1d91"
      },
      "outputs": [
        {
          "data": {
            "text/plain": [
              "27"
            ]
          },
          "execution_count": 20,
          "metadata": {},
          "output_type": "execute_result"
        }
      ],
      "source": [
        "cube(base=3)"
      ]
    },
    {
      "cell_type": "markdown",
      "metadata": {
        "id": "11nrTiK2-JXG"
      },
      "source": [
        "#### Caveat"
      ]
    },
    {
      "cell_type": "markdown",
      "metadata": {
        "id": "pzbaAs3_-JXG"
      },
      "source": [
        "We can certainly use variables instead of literals when creating partials, but we have to be careful."
      ]
    },
    {
      "cell_type": "code",
      "execution_count": null,
      "metadata": {
        "collapsed": true,
        "id": "RzJAmRBU-JXG"
      },
      "outputs": [],
      "source": [
        "def my_func(a, b, c):\n",
        "    print(a, b, c)"
      ]
    },
    {
      "cell_type": "code",
      "execution_count": null,
      "metadata": {
        "collapsed": true,
        "id": "ZI-EqSe0-JXG"
      },
      "outputs": [],
      "source": [
        "a = 10\n",
        "f = partial(my_func, a)"
      ]
    },
    {
      "cell_type": "code",
      "execution_count": null,
      "metadata": {
        "id": "bHhT1ojR-JXG",
        "outputId": "c1416583-5328-490d-a069-f5465697f176"
      },
      "outputs": [
        {
          "name": "stdout",
          "output_type": "stream",
          "text": [
            "10 20 30\n"
          ]
        }
      ],
      "source": [
        "f(20, 30)"
      ]
    },
    {
      "cell_type": "markdown",
      "metadata": {
        "id": "TbonG-Rh-JXH"
      },
      "source": [
        "Now let's change the value of the variable **a** and see what happens:"
      ]
    },
    {
      "cell_type": "code",
      "execution_count": null,
      "metadata": {
        "collapsed": true,
        "id": "1c3wp0hG-JXH"
      },
      "outputs": [],
      "source": [
        "a = 100"
      ]
    },
    {
      "cell_type": "code",
      "execution_count": null,
      "metadata": {
        "id": "KNQBNmP5-JXH",
        "outputId": "6e8b0516-bef6-49ea-c04b-3224d2d7933c"
      },
      "outputs": [
        {
          "name": "stdout",
          "output_type": "stream",
          "text": [
            "10 20 30\n"
          ]
        }
      ],
      "source": [
        "f(20, 30)"
      ]
    },
    {
      "cell_type": "markdown",
      "metadata": {
        "id": "GO81zHAn-JXH"
      },
      "source": [
        "As you can see, the value for **a** is fixed once the partial has been created.\n",
        "\n",
        "In fact, the memory address of **a** is baked in to the partial, and **a** is immutable."
      ]
    },
    {
      "cell_type": "markdown",
      "metadata": {
        "id": "6sXB9k4b-JXH"
      },
      "source": [
        "If we use a mutable object, things are different:"
      ]
    },
    {
      "cell_type": "code",
      "execution_count": null,
      "metadata": {
        "collapsed": true,
        "id": "FseeXs6V-JXH"
      },
      "outputs": [],
      "source": [
        "a = [10, 20]\n",
        "f = partial(my_func, a)"
      ]
    },
    {
      "cell_type": "code",
      "execution_count": null,
      "metadata": {
        "id": "RiFfaxpM-JXI",
        "outputId": "107088d9-e253-4996-db80-88fdb3e8c30a"
      },
      "outputs": [
        {
          "name": "stdout",
          "output_type": "stream",
          "text": [
            "[10, 20] 100 200\n"
          ]
        }
      ],
      "source": [
        "f(100, 200)"
      ]
    },
    {
      "cell_type": "code",
      "execution_count": null,
      "metadata": {
        "collapsed": true,
        "id": "VYj2yTQI-JXI"
      },
      "outputs": [],
      "source": [
        "a.append(30)"
      ]
    },
    {
      "cell_type": "code",
      "execution_count": null,
      "metadata": {
        "id": "CirYl2H1-JXI",
        "outputId": "595b13eb-c6e0-4aa2-f055-abeb8deaec77"
      },
      "outputs": [
        {
          "name": "stdout",
          "output_type": "stream",
          "text": [
            "[10, 20, 30] 100 200\n"
          ]
        }
      ],
      "source": [
        "f(100, 200)"
      ]
    },
    {
      "cell_type": "markdown",
      "metadata": {
        "id": "0qNcTbOR-JXI"
      },
      "source": [
        "#### Use Cases"
      ]
    },
    {
      "cell_type": "markdown",
      "metadata": {
        "id": "lcVIShuy-JXI"
      },
      "source": [
        "We tend to use partials in situation where we need to call a function that actually requires more parameters than we can supply.\n",
        "\n",
        "Often this is because we are working with exiting libraries or code, and we have a special case."
      ]
    },
    {
      "cell_type": "markdown",
      "metadata": {
        "id": "NDaujH0I-JXI"
      },
      "source": [
        "For example, suppose we have points (represented as tuples), and we want to sort them based on the distance of the point from some other fixed point:"
      ]
    },
    {
      "cell_type": "code",
      "execution_count": null,
      "metadata": {
        "collapsed": true,
        "id": "QlgfjoAs-JXJ"
      },
      "outputs": [],
      "source": [
        "origin = (0, 0)"
      ]
    },
    {
      "cell_type": "code",
      "execution_count": null,
      "metadata": {
        "collapsed": true,
        "id": "EKX6wdh5-JXJ"
      },
      "outputs": [],
      "source": [
        "l = [(1,1), (0, 2), (-3, 2), (0,0), (10, 10)]"
      ]
    },
    {
      "cell_type": "code",
      "execution_count": null,
      "metadata": {
        "collapsed": true,
        "id": "WYWh2daP-JXJ"
      },
      "outputs": [],
      "source": [
        "dist2 = lambda x, y: (x[0]-y[0])**2 + (x[1]-y[1])**2"
      ]
    },
    {
      "cell_type": "code",
      "execution_count": null,
      "metadata": {
        "id": "5V87UF6p-JXJ",
        "outputId": "1020b396-9f09-4098-9ae8-1c63ee82d1f6"
      },
      "outputs": [
        {
          "data": {
            "text/plain": [
              "2"
            ]
          },
          "execution_count": 33,
          "metadata": {},
          "output_type": "execute_result"
        }
      ],
      "source": [
        "dist2((0,0), (1,1))"
      ]
    },
    {
      "cell_type": "code",
      "execution_count": null,
      "metadata": {
        "id": "2mreo56q-JXJ",
        "outputId": "bf465a77-08ab-42c6-d704-5ab3ea3acfe4"
      },
      "outputs": [
        {
          "data": {
            "text/plain": [
              "[(0, 0), (1, 1), (0, 2), (-3, 2), (10, 10)]"
            ]
          },
          "execution_count": 34,
          "metadata": {},
          "output_type": "execute_result"
        }
      ],
      "source": [
        "sorted(l, key = lambda x: dist2((0,0), x))"
      ]
    },
    {
      "cell_type": "code",
      "execution_count": null,
      "metadata": {
        "id": "raxDqkKl-JXJ",
        "outputId": "844672d8-5f0e-4617-cf1b-fae0e8871fd8"
      },
      "outputs": [
        {
          "data": {
            "text/plain": [
              "[(0, 0), (1, 1), (0, 2), (-3, 2), (10, 10)]"
            ]
          },
          "execution_count": 35,
          "metadata": {},
          "output_type": "execute_result"
        }
      ],
      "source": [
        "sorted(l, key=partial(dist2, (0,0)))"
      ]
    },
    {
      "cell_type": "markdown",
      "metadata": {
        "id": "3wCUTknE-JXJ"
      },
      "source": [
        "Another use case is when using **callback** functions. Usually these are used when running asynchronous operations, and you provide a callable to another callable which will be called when the first callable completes its execution.\n",
        "\n",
        "Very often, the asynchronous callable will specify the number of variables that the callback function must have - this may not be what we want, maybe we want to add some additional info."
      ]
    },
    {
      "cell_type": "markdown",
      "metadata": {
        "id": "DI52pbyy-JXK"
      },
      "source": [
        "We'll look at asynchronous processing later in this course."
      ]
    },
    {
      "cell_type": "markdown",
      "metadata": {
        "id": "fhVPZyR7-JXK"
      },
      "source": [
        "Often we can also use partial functions to make our life a bit easier.\n",
        "\n",
        "Consider a situation where we have some generic `email()` function that can be used to notify someone when various things happen in our application. But depending on what is happening we may want to notify different people. Let's see how we may do this:"
      ]
    },
    {
      "cell_type": "code",
      "execution_count": null,
      "metadata": {
        "collapsed": true,
        "id": "C27RZZ0r-JXK"
      },
      "outputs": [],
      "source": [
        "def sendmail(to, subject, body):\n",
        "    # code to send email\n",
        "    print('To:{0}, Subject:{1}, Body:{2}'.format(to, subject, body))"
      ]
    },
    {
      "cell_type": "markdown",
      "metadata": {
        "id": "tyY4BITD-JXK"
      },
      "source": [
        "Now, we may haver different email adresses we want to send notifications to, maybe defined in a config file in our app. Here, I'll just use hardcoded variables:"
      ]
    },
    {
      "cell_type": "code",
      "execution_count": null,
      "metadata": {
        "collapsed": true,
        "id": "H0p_ovQw-JXL"
      },
      "outputs": [],
      "source": [
        "email_admin = 'palin@python.edu'\n",
        "email_devteam = 'idle@python.edu;cleese@python.edu'"
      ]
    },
    {
      "cell_type": "markdown",
      "metadata": {
        "id": "Gec0Ib9r-JXL"
      },
      "source": [
        "Now when we want to send emails we would have to write things like:"
      ]
    },
    {
      "cell_type": "code",
      "execution_count": null,
      "metadata": {
        "id": "4Q4Y3q-X-JXL",
        "outputId": "f9c343d1-2992-483e-e7e6-b8c2b9ea9d6a"
      },
      "outputs": [
        {
          "name": "stdout",
          "output_type": "stream",
          "text": [
            "To:palin@python.edu, Subject:My App Notification, Body:the parrot is dead.\n",
            "To:palin@python.edu;idle@python.edu;cleese@python.edu, Subject:My App Notification, Body:the ministry is closed until further notice.\n"
          ]
        }
      ],
      "source": [
        "sendmail(email_admin, 'My App Notification', 'the parrot is dead.')\n",
        "sendmail(';'.join((email_admin, email_devteam)), 'My App Notification', 'the ministry is closed until further notice.')"
      ]
    },
    {
      "cell_type": "markdown",
      "metadata": {
        "id": "wUNbsD5p-JXL"
      },
      "source": [
        "We could simply our life a little using partials this way:"
      ]
    },
    {
      "cell_type": "code",
      "execution_count": null,
      "metadata": {
        "collapsed": true,
        "id": "sPhYYVcU-JXL"
      },
      "outputs": [],
      "source": [
        "send_admin = partial(sendmail, email_admin, 'For you eyes only')\n",
        "send_dev = partial(sendmail, email_devteam, 'Dear IT:')\n",
        "send_all = partial(sendmail, ';'.join((email_admin, email_devteam)), 'Loyal Subjects')"
      ]
    },
    {
      "cell_type": "code",
      "execution_count": null,
      "metadata": {
        "id": "K2HcSAS8-JXL",
        "outputId": "c1f9e61b-e3fc-492b-d53a-cb121b92d4dd"
      },
      "outputs": [
        {
          "name": "stdout",
          "output_type": "stream",
          "text": [
            "To:palin@python.edu, Subject:For you eyes only, Body:the parrot is dead.\n",
            "To:palin@python.edu;idle@python.edu;cleese@python.edu, Subject:Loyal Subjects, Body:the ministry is closed until further notice.\n"
          ]
        }
      ],
      "source": [
        "send_admin('the parrot is dead.')\n",
        "send_all('the ministry is closed until further notice.')"
      ]
    },
    {
      "cell_type": "markdown",
      "metadata": {
        "collapsed": true,
        "id": "XywhSw42-JXM"
      },
      "source": [
        "Finally, let's make this a little more complex, with a mixture of positional and keyword-only arguments:"
      ]
    },
    {
      "cell_type": "code",
      "execution_count": null,
      "metadata": {
        "id": "bB696Ydr-JXM"
      },
      "outputs": [],
      "source": [
        "def sendmail(to, subject, body, *, cc=None, bcc=email_devteam):\n",
        "    # code to send email\n",
        "    print('To:{0}, Subject:{1}, Body:{2}, CC:{3}, BCC:{4}'.format(to, \n",
        "                                                                  subject, \n",
        "                                                                  body, \n",
        "                                                                  cc, \n",
        "                                                                  bcc))"
      ]
    },
    {
      "cell_type": "code",
      "execution_count": null,
      "metadata": {
        "collapsed": true,
        "id": "6_s93J5e-JXM"
      },
      "outputs": [],
      "source": [
        "send_admin = partial(sendmail, email_admin, 'General Admin')\n",
        "send_admin_secret = partial(sendmail, email_admin, 'For your eyes only', cc=None, bcc=None)"
      ]
    },
    {
      "cell_type": "code",
      "execution_count": null,
      "metadata": {
        "id": "4Xd0qDcj-JXM",
        "outputId": "e7ac0b0b-cb95-4bdb-bc8e-5be4fda948ed"
      },
      "outputs": [
        {
          "name": "stdout",
          "output_type": "stream",
          "text": [
            "To:palin@python.edu, Subject:General Admin, Body:and now for something completely different, CC:None, BCC:idle@python.edu;cleese@python.edu\n"
          ]
        }
      ],
      "source": [
        "send_admin('and now for something completely different')"
      ]
    },
    {
      "cell_type": "code",
      "execution_count": null,
      "metadata": {
        "id": "8EETgV4A-JXM",
        "outputId": "c8c50ff3-0cd2-4e07-b59d-cc19970843a6"
      },
      "outputs": [
        {
          "name": "stdout",
          "output_type": "stream",
          "text": [
            "To:palin@python.edu, Subject:For your eyes only, Body:the parrot is dead!, CC:None, BCC:None\n"
          ]
        }
      ],
      "source": [
        "send_admin_secret('the parrot is dead!')"
      ]
    },
    {
      "cell_type": "code",
      "execution_count": null,
      "metadata": {
        "id": "2jebmuIV-JXM",
        "outputId": "c84fe3b1-a078-4b26-cee3-c2fcf84122e0"
      },
      "outputs": [
        {
          "name": "stdout",
          "output_type": "stream",
          "text": [
            "To:palin@python.edu, Subject:For your eyes only, Body:the parrot is no more!, CC:None, BCC:idle@python.edu;cleese@python.edu\n"
          ]
        }
      ],
      "source": [
        "send_admin_secret('the parrot is no more!', bcc=email_devteam)"
      ]
    },
    {
      "cell_type": "code",
      "execution_count": null,
      "metadata": {
        "id": "SjZjLNw3-JXM"
      },
      "outputs": [],
      "source": [
        "def pow(base, exponent):\n",
        "    return base ** exponent"
      ]
    },
    {
      "cell_type": "code",
      "execution_count": null,
      "metadata": {
        "id": "KYC_RbBN-JXN"
      },
      "outputs": [],
      "source": [
        "cube = partial(pow, exponent=3)"
      ]
    },
    {
      "cell_type": "code",
      "execution_count": null,
      "metadata": {
        "id": "bSAAOBGA-JXN",
        "outputId": "fb8f2b8c-5d1e-4977-fff7-0a3d6d6dbbf1"
      },
      "outputs": [
        {
          "data": {
            "text/plain": [
              "8"
            ]
          },
          "execution_count": 53,
          "metadata": {},
          "output_type": "execute_result"
        }
      ],
      "source": [
        "cube(2)"
      ]
    },
    {
      "cell_type": "code",
      "execution_count": null,
      "metadata": {
        "id": "K4vuWk0Z-JXN",
        "outputId": "70b53b39-62e3-4e77-9acf-24ecc261ba53"
      },
      "outputs": [
        {
          "ename": "TypeError",
          "evalue": "pow() got multiple values for argument 'exponent'",
          "output_type": "error",
          "traceback": [
            "\u001b[1;31m---------------------------------------------------------------------------\u001b[0m",
            "\u001b[1;31mTypeError\u001b[0m                                 Traceback (most recent call last)",
            "\u001b[1;32m<ipython-input-54-725d549b8104>\u001b[0m in \u001b[0;36m<module>\u001b[1;34m()\u001b[0m\n\u001b[1;32m----> 1\u001b[1;33m \u001b[0mcube\u001b[0m\u001b[1;33m(\u001b[0m\u001b[1;36m2\u001b[0m\u001b[1;33m,\u001b[0m \u001b[1;36m4\u001b[0m\u001b[1;33m)\u001b[0m\u001b[1;33m\u001b[0m\u001b[0m\n\u001b[0m",
            "\u001b[1;31mTypeError\u001b[0m: pow() got multiple values for argument 'exponent'"
          ]
        }
      ],
      "source": [
        "cube(2, 4)"
      ]
    },
    {
      "cell_type": "code",
      "execution_count": null,
      "metadata": {
        "id": "8n1MaQ_f-JXN",
        "outputId": "ce0c7c05-7565-4887-bfd5-ea1da77264d3"
      },
      "outputs": [
        {
          "data": {
            "text/plain": [
              "16"
            ]
          },
          "execution_count": 55,
          "metadata": {},
          "output_type": "execute_result"
        }
      ],
      "source": [
        "cube(2, exponent=4)"
      ]
    },
    {
      "cell_type": "code",
      "execution_count": null,
      "metadata": {
        "collapsed": true,
        "id": "RbXoBKBT-JXN"
      },
      "outputs": [],
      "source": [
        ""
      ]
    }
  ],
  "metadata": {
    "kernelspec": {
      "display_name": "Python 3",
      "language": "python",
      "name": "python3"
    },
    "language_info": {
      "codemirror_mode": {
        "name": "ipython",
        "version": 3
      },
      "file_extension": ".py",
      "mimetype": "text/x-python",
      "name": "python",
      "nbconvert_exporter": "python",
      "pygments_lexer": "ipython3",
      "version": "3.6.2"
    },
    "colab": {
      "name": "Partial Functions.ipynb",
      "provenance": [],
      "include_colab_link": true
    }
  },
  "nbformat": 4,
  "nbformat_minor": 0
}