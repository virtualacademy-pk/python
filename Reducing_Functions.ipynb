{
  "cells": [
    {
      "cell_type": "markdown",
      "metadata": {
        "id": "view-in-github",
        "colab_type": "text"
      },
      "source": [
        "<a href=\"https://colab.research.google.com/github/virtualacademy-pk/python/blob/main/Reducing_Functions.ipynb\" target=\"_parent\"><img src=\"https://colab.research.google.com/assets/colab-badge.svg\" alt=\"Open In Colab\"/></a>"
      ]
    },
    {
      "cell_type": "markdown",
      "metadata": {
        "id": "28Z64pfr8yUb"
      },
      "source": [
        "### Reducing Functions in Python"
      ]
    },
    {
      "cell_type": "markdown",
      "metadata": {
        "id": "piVwcsey8yUe"
      },
      "source": [
        "#### Maximum and Minimum"
      ]
    },
    {
      "cell_type": "markdown",
      "metadata": {
        "id": "fJjeW8gy8yUe"
      },
      "source": [
        "Suppose we want to find the maximum value in a list:"
      ]
    },
    {
      "cell_type": "code",
      "execution_count": null,
      "metadata": {
        "collapsed": true,
        "id": "7C860oM88yUf"
      },
      "outputs": [],
      "source": [
        "l = [5, 8, 6, 10, 9]"
      ]
    },
    {
      "cell_type": "markdown",
      "metadata": {
        "id": "ICc_M2498yUg"
      },
      "source": [
        "We can solve this problem using a **for** loop."
      ]
    },
    {
      "cell_type": "markdown",
      "metadata": {
        "id": "uy6sfTvX8yUg"
      },
      "source": [
        "First we define a function that returns the maximum of two arguments:"
      ]
    },
    {
      "cell_type": "code",
      "execution_count": null,
      "metadata": {
        "collapsed": true,
        "id": "crrWusOY8yUg"
      },
      "outputs": [],
      "source": [
        "_max = lambda a, b: a if a > b else b"
      ]
    },
    {
      "cell_type": "code",
      "execution_count": null,
      "metadata": {
        "collapsed": true,
        "id": "dYntHKw08yUh"
      },
      "outputs": [],
      "source": [
        "def max_sequence(sequence):\n",
        "    result = sequence[0]\n",
        "    for x in sequence[1:]:\n",
        "        result = _max(result, x)\n",
        "    return result"
      ]
    },
    {
      "cell_type": "code",
      "execution_count": null,
      "metadata": {
        "id": "vZsGYUXP8yUi",
        "outputId": "bac6d9d1-5014-4c2e-c6e6-94e0a4228c65"
      },
      "outputs": [
        {
          "data": {
            "text/plain": [
              "10"
            ]
          },
          "execution_count": 4,
          "metadata": {},
          "output_type": "execute_result"
        }
      ],
      "source": [
        "max_sequence(l)"
      ]
    },
    {
      "cell_type": "markdown",
      "metadata": {
        "id": "cEbXXTAN8yUj"
      },
      "source": [
        "To calculate the minimum, all we need to do is to change the function that is repeatedly applied:"
      ]
    },
    {
      "cell_type": "code",
      "execution_count": null,
      "metadata": {
        "collapsed": true,
        "id": "IFpioIfF8yUj"
      },
      "outputs": [],
      "source": [
        "_min = lambda a, b: a if a < b else b"
      ]
    },
    {
      "cell_type": "code",
      "execution_count": null,
      "metadata": {
        "collapsed": true,
        "id": "_QvfZTSS8yUk"
      },
      "outputs": [],
      "source": [
        "def min_sequence(sequence):\n",
        "    result = sequence[0]\n",
        "    for x in sequence[1:]:\n",
        "        result = _min(result, x)\n",
        "    return result"
      ]
    },
    {
      "cell_type": "code",
      "execution_count": null,
      "metadata": {
        "id": "CYGtfazM8yUk",
        "outputId": "158bc680-fdc0-4ab4-a581-c698fcd8bd87"
      },
      "outputs": [
        {
          "name": "stdout",
          "output_type": "stream",
          "text": [
            "[5, 8, 6, 10, 9]\n",
            "5\n"
          ]
        }
      ],
      "source": [
        "print(l)\n",
        "print(min_sequence(l))"
      ]
    },
    {
      "cell_type": "markdown",
      "metadata": {
        "id": "IYanEeng8yUk"
      },
      "source": [
        "In general we could write it like this:"
      ]
    },
    {
      "cell_type": "code",
      "execution_count": null,
      "metadata": {
        "collapsed": true,
        "id": "fpOrhhd98yUl"
      },
      "outputs": [],
      "source": [
        "def _reduce(fn, sequence):\n",
        "    result = sequence[0]\n",
        "    for x in sequence[1:]:\n",
        "        result = fn(result, x)\n",
        "    return result"
      ]
    },
    {
      "cell_type": "code",
      "execution_count": null,
      "metadata": {
        "id": "Fpz_8v188yUl",
        "outputId": "8f5cd48d-af10-4fdd-eab5-c619e7286be1"
      },
      "outputs": [
        {
          "data": {
            "text/plain": [
              "10"
            ]
          },
          "execution_count": 9,
          "metadata": {},
          "output_type": "execute_result"
        }
      ],
      "source": [
        "_reduce(_max, l)"
      ]
    },
    {
      "cell_type": "code",
      "execution_count": null,
      "metadata": {
        "id": "Le0t4QdQ8yUl",
        "outputId": "f80bd2a4-6c87-4619-d92b-c8474a8ba8bb"
      },
      "outputs": [
        {
          "data": {
            "text/plain": [
              "5"
            ]
          },
          "execution_count": 10,
          "metadata": {},
          "output_type": "execute_result"
        }
      ],
      "source": [
        "_reduce(_min, l)"
      ]
    },
    {
      "cell_type": "markdown",
      "metadata": {
        "id": "Fssf2vc68yUl"
      },
      "source": [
        "We could even just use a lambda directly in the call to **\\_reduce**:"
      ]
    },
    {
      "cell_type": "code",
      "execution_count": null,
      "metadata": {
        "id": "3rZoRdh88yUm",
        "outputId": "76d54185-bdec-4f27-ae2e-d6a41d926048"
      },
      "outputs": [
        {
          "data": {
            "text/plain": [
              "10"
            ]
          },
          "execution_count": 11,
          "metadata": {},
          "output_type": "execute_result"
        }
      ],
      "source": [
        "_reduce(lambda a, b: a if a > b else b, l)"
      ]
    },
    {
      "cell_type": "code",
      "execution_count": null,
      "metadata": {
        "id": "FVwt9X5c8yUm",
        "outputId": "1ce50b5c-b7b1-4489-b03b-6b06d56ad8ea"
      },
      "outputs": [
        {
          "data": {
            "text/plain": [
              "5"
            ]
          },
          "execution_count": 12,
          "metadata": {},
          "output_type": "execute_result"
        }
      ],
      "source": [
        "_reduce(lambda a, b: a if a < b else b, l)"
      ]
    },
    {
      "cell_type": "markdown",
      "metadata": {
        "id": "rvZb9Sq18yUm"
      },
      "source": [
        "Using the same approach, we could even add all the elements of a sequence together:"
      ]
    },
    {
      "cell_type": "code",
      "execution_count": null,
      "metadata": {
        "id": "yGenOJYj8yUm",
        "outputId": "6fdc7154-fb3f-4c64-fd6b-0f004c397ad4"
      },
      "outputs": [
        {
          "name": "stdout",
          "output_type": "stream",
          "text": [
            "[5, 8, 6, 10, 9]\n"
          ]
        }
      ],
      "source": [
        "print(l)"
      ]
    },
    {
      "cell_type": "code",
      "execution_count": null,
      "metadata": {
        "id": "FJoWk7nu8yUn",
        "outputId": "ac45eeb9-c81e-4375-d49b-32146613dd31"
      },
      "outputs": [
        {
          "data": {
            "text/plain": [
              "38"
            ]
          },
          "execution_count": 14,
          "metadata": {},
          "output_type": "execute_result"
        }
      ],
      "source": [
        "_reduce(lambda a, b: a + b, l)"
      ]
    },
    {
      "cell_type": "markdown",
      "metadata": {
        "id": "Pmm-Eg0R8yUn"
      },
      "source": [
        "Python actually implements a reduce function, which is found in the **functools** module. Unlike our **\\_reduce** function, it can handle any iterable, not just sequences."
      ]
    },
    {
      "cell_type": "code",
      "execution_count": null,
      "metadata": {
        "collapsed": true,
        "id": "fazmbiDC8yUn"
      },
      "outputs": [],
      "source": [
        "from functools import reduce"
      ]
    },
    {
      "cell_type": "code",
      "execution_count": null,
      "metadata": {
        "id": "u0BXvklO8yUn",
        "outputId": "5f563d5c-fb00-4fb7-b802-cc5834fef6a1"
      },
      "outputs": [
        {
          "data": {
            "text/plain": [
              "[5, 8, 6, 10, 9]"
            ]
          },
          "execution_count": 16,
          "metadata": {},
          "output_type": "execute_result"
        }
      ],
      "source": [
        "l"
      ]
    },
    {
      "cell_type": "code",
      "execution_count": null,
      "metadata": {
        "id": "BVlc1Yb88yUo",
        "outputId": "01c85e4f-3d59-4887-c23c-0b7e6f05ddcf"
      },
      "outputs": [
        {
          "data": {
            "text/plain": [
              "10"
            ]
          },
          "execution_count": 17,
          "metadata": {},
          "output_type": "execute_result"
        }
      ],
      "source": [
        "reduce(lambda a, b: a if a > b else b, l)"
      ]
    },
    {
      "cell_type": "code",
      "execution_count": null,
      "metadata": {
        "id": "jnjpy9LQ8yUo",
        "outputId": "e970bae7-41fc-4121-bbc4-54ea38e6a40d"
      },
      "outputs": [
        {
          "data": {
            "text/plain": [
              "5"
            ]
          },
          "execution_count": 18,
          "metadata": {},
          "output_type": "execute_result"
        }
      ],
      "source": [
        "reduce(lambda a, b: a if a < b else b, l)"
      ]
    },
    {
      "cell_type": "code",
      "execution_count": null,
      "metadata": {
        "id": "dfVWiELk8yUo",
        "outputId": "82357167-49fb-4efe-d967-19a48326f0cb"
      },
      "outputs": [
        {
          "data": {
            "text/plain": [
              "38"
            ]
          },
          "execution_count": 19,
          "metadata": {},
          "output_type": "execute_result"
        }
      ],
      "source": [
        "reduce(lambda a, b: a + b, l)"
      ]
    },
    {
      "cell_type": "markdown",
      "metadata": {
        "id": "ic0CtY4C8yUo"
      },
      "source": [
        "Finding the max and min of an iterable is such a common thing that Python provides a built-in function to do just that:"
      ]
    },
    {
      "cell_type": "code",
      "execution_count": null,
      "metadata": {
        "scrolled": true,
        "id": "b1y8CEkw8yUp",
        "outputId": "7333a1d5-bdd8-4629-855c-b588ae8d89fb"
      },
      "outputs": [
        {
          "data": {
            "text/plain": [
              "(10, 5)"
            ]
          },
          "execution_count": 20,
          "metadata": {},
          "output_type": "execute_result"
        }
      ],
      "source": [
        "max(l), min(l)"
      ]
    },
    {
      "cell_type": "markdown",
      "metadata": {
        "id": "hxugjb1F8yUp"
      },
      "source": [
        "Finding the sum of all the elements in an iterable is also common enough that Python implements the **sum** function:"
      ]
    },
    {
      "cell_type": "code",
      "execution_count": null,
      "metadata": {
        "id": "stX_b3h68yUp",
        "outputId": "07efccc1-e6ca-4239-862a-ab01e05958aa"
      },
      "outputs": [
        {
          "data": {
            "text/plain": [
              "38"
            ]
          },
          "execution_count": 21,
          "metadata": {},
          "output_type": "execute_result"
        }
      ],
      "source": [
        "sum(l)"
      ]
    },
    {
      "cell_type": "markdown",
      "metadata": {
        "id": "oeeJzzap8yUp"
      },
      "source": [
        "#### The **any** and **all** built-ins"
      ]
    },
    {
      "cell_type": "markdown",
      "metadata": {
        "id": "GWSahML_8yUp"
      },
      "source": [
        "Python provides two additional built-in reducing functions: **any** and **all**."
      ]
    },
    {
      "cell_type": "markdown",
      "metadata": {
        "id": "YEnSL61-8yUp"
      },
      "source": [
        "The **any** function will return **True** if any element in the iterable is truthy:"
      ]
    },
    {
      "cell_type": "code",
      "execution_count": null,
      "metadata": {
        "id": "YqGjEvWz8yUq",
        "outputId": "e2fa01a7-c1f6-4249-e816-903deec783ec"
      },
      "outputs": [
        {
          "data": {
            "text/plain": [
              "True"
            ]
          },
          "execution_count": 22,
          "metadata": {},
          "output_type": "execute_result"
        }
      ],
      "source": [
        "l = [0, 1, 2]\n",
        "any(l)"
      ]
    },
    {
      "cell_type": "code",
      "execution_count": null,
      "metadata": {
        "id": "O8CM5nPt8yUq",
        "outputId": "2d3a4c75-24b3-41ff-fb4d-d9c83ff2893a"
      },
      "outputs": [
        {
          "data": {
            "text/plain": [
              "False"
            ]
          },
          "execution_count": 23,
          "metadata": {},
          "output_type": "execute_result"
        }
      ],
      "source": [
        "l = [0, 0, 0]\n",
        "any(l)"
      ]
    },
    {
      "cell_type": "markdown",
      "metadata": {
        "id": "Qm1TXX2e8yUq"
      },
      "source": [
        "On the other hand, **all** will return True if **every** element of the iterable is truthy:"
      ]
    },
    {
      "cell_type": "code",
      "execution_count": null,
      "metadata": {
        "id": "zfGUb0nr8yUq",
        "outputId": "7b1a30a4-7b82-4f22-fa27-8f918ca10ade"
      },
      "outputs": [
        {
          "data": {
            "text/plain": [
              "False"
            ]
          },
          "execution_count": 24,
          "metadata": {},
          "output_type": "execute_result"
        }
      ],
      "source": [
        "l = [0, 1, 2]\n",
        "all(l)"
      ]
    },
    {
      "cell_type": "code",
      "execution_count": null,
      "metadata": {
        "id": "BKBVqucb8yUq",
        "outputId": "d04723bc-ab64-44ec-e1ca-e20753d561df"
      },
      "outputs": [
        {
          "data": {
            "text/plain": [
              "True"
            ]
          },
          "execution_count": 25,
          "metadata": {},
          "output_type": "execute_result"
        }
      ],
      "source": [
        "l = [1, 2, 3]\n",
        "all(l)"
      ]
    },
    {
      "cell_type": "markdown",
      "metadata": {
        "id": "8V1ULEPB8yUr"
      },
      "source": [
        "We can implement these functions ourselves using **reduce** if we choose to - simply use the Boolean **or** or **and** operators as the function passed to **reduce** to implement **any** and **all** respectively."
      ]
    },
    {
      "cell_type": "markdown",
      "metadata": {
        "id": "iBqbWANO8yUr"
      },
      "source": [
        "#### any"
      ]
    },
    {
      "cell_type": "code",
      "execution_count": null,
      "metadata": {
        "id": "i-9HEFo_8yUr",
        "outputId": "aeb572ea-82d2-433c-be9d-49007779de8a"
      },
      "outputs": [
        {
          "data": {
            "text/plain": [
              "True"
            ]
          },
          "execution_count": 26,
          "metadata": {},
          "output_type": "execute_result"
        }
      ],
      "source": [
        "l = [0, 1, 2]\n",
        "reduce(lambda a, b: bool(a or b), l)"
      ]
    },
    {
      "cell_type": "code",
      "execution_count": null,
      "metadata": {
        "id": "gg0sm9MQ8yUr",
        "outputId": "408bd19b-1404-47e3-81ff-7ca1fb7a40dd"
      },
      "outputs": [
        {
          "data": {
            "text/plain": [
              "False"
            ]
          },
          "execution_count": 27,
          "metadata": {},
          "output_type": "execute_result"
        }
      ],
      "source": [
        "l = [0, 0, 0]\n",
        "reduce(lambda a, b: bool(a or b), l)"
      ]
    },
    {
      "cell_type": "markdown",
      "metadata": {
        "id": "ScqUkCiZ8yUr"
      },
      "source": [
        "#### all"
      ]
    },
    {
      "cell_type": "code",
      "execution_count": null,
      "metadata": {
        "id": "k6nNbDUG8yUr",
        "outputId": "46be377b-a7f5-450d-8ea8-8d075e8271d8"
      },
      "outputs": [
        {
          "data": {
            "text/plain": [
              "False"
            ]
          },
          "execution_count": 28,
          "metadata": {},
          "output_type": "execute_result"
        }
      ],
      "source": [
        "l = [0, 1, 2]\n",
        "reduce(lambda a, b: bool(a and b), l)"
      ]
    },
    {
      "cell_type": "code",
      "execution_count": null,
      "metadata": {
        "id": "eb1tK5pO8yUs",
        "outputId": "ae7ff4ce-623a-4b78-f9a0-3e70739d03a8"
      },
      "outputs": [
        {
          "data": {
            "text/plain": [
              "True"
            ]
          },
          "execution_count": 29,
          "metadata": {},
          "output_type": "execute_result"
        }
      ],
      "source": [
        "l = [1, 2, 3]\n",
        "reduce(lambda a, b: bool(a and b), l)"
      ]
    },
    {
      "cell_type": "markdown",
      "metadata": {
        "id": "1XH2hagK8yUs"
      },
      "source": [
        "#### Products"
      ]
    },
    {
      "cell_type": "markdown",
      "metadata": {
        "id": "lRyT3qNp8yUs"
      },
      "source": [
        "Sometimes we may want to find the product of every element of an iterable.\n",
        "\n",
        "Python does not provide us a built-in method to do this, so we have to either use a procedural approach, or we can use the **reduce** function."
      ]
    },
    {
      "cell_type": "markdown",
      "metadata": {
        "id": "mPZInEbD8yUs"
      },
      "source": [
        "We start by defining a function that multiplies two arguments together:"
      ]
    },
    {
      "cell_type": "code",
      "execution_count": null,
      "metadata": {
        "collapsed": true,
        "id": "A2SiSdSV8yUs"
      },
      "outputs": [],
      "source": [
        "def mult(a, b):\n",
        "    return a * b"
      ]
    },
    {
      "cell_type": "markdown",
      "metadata": {
        "id": "_5VyEiAY8yUs"
      },
      "source": [
        "Then we can use the **reduce** function:"
      ]
    },
    {
      "cell_type": "code",
      "execution_count": null,
      "metadata": {
        "id": "p_45Y8PD8yUs",
        "outputId": "9cf11314-0359-47bc-d199-2bc8bb6e144d"
      },
      "outputs": [
        {
          "data": {
            "text/plain": [
              "24"
            ]
          },
          "execution_count": 31,
          "metadata": {},
          "output_type": "execute_result"
        }
      ],
      "source": [
        "l = [2, 3, 4]\n",
        "reduce(mult, l)"
      ]
    },
    {
      "cell_type": "markdown",
      "metadata": {
        "id": "w0rXaAR68yUt"
      },
      "source": [
        "Remember what this did:\n",
        "\n",
        "    step 1: result = 2\n",
        "    step 2: result = mult(result, 3) = mult(2, 3) = 6\n",
        "    step 3: result = mult(result, 4) = mult(6, 4) = 24\n",
        "    step 4: l exhausted, return result --> 24"
      ]
    },
    {
      "cell_type": "markdown",
      "metadata": {
        "id": "0qPn3CMW8yUt"
      },
      "source": [
        "Of course, we can also just use a lambda:"
      ]
    },
    {
      "cell_type": "code",
      "execution_count": null,
      "metadata": {
        "id": "r4sCiQfW8yUt",
        "outputId": "1c0fc5fd-20b4-4ea5-b610-e80b60422b47"
      },
      "outputs": [
        {
          "data": {
            "text/plain": [
              "24"
            ]
          },
          "execution_count": 32,
          "metadata": {},
          "output_type": "execute_result"
        }
      ],
      "source": [
        "reduce(lambda a, b: a * b, l)"
      ]
    },
    {
      "cell_type": "markdown",
      "metadata": {
        "id": "EunfHqjF8yUt"
      },
      "source": [
        "#### Factorials"
      ]
    },
    {
      "cell_type": "markdown",
      "metadata": {
        "id": "wLQqMCol8yUt"
      },
      "source": [
        "##### Factorials"
      ]
    },
    {
      "cell_type": "markdown",
      "metadata": {
        "id": "nd6BUOrX8yUt"
      },
      "source": [
        "A special case of the product we just did would be calculating the factorial of some number (**n!**):"
      ]
    },
    {
      "cell_type": "markdown",
      "metadata": {
        "id": "ubFmCOzT8yUu"
      },
      "source": [
        "Recall:\n",
        "\n",
        "    n! = 1 * 2 * 3 * ... * n"
      ]
    },
    {
      "cell_type": "markdown",
      "metadata": {
        "id": "UuruXLeK8yUu"
      },
      "source": [
        "In other words, we are calculating the product of a sequence containing consecutive integers from 1 to n (inclusive)"
      ]
    },
    {
      "cell_type": "markdown",
      "metadata": {
        "id": "G_bBbv8d8yUu"
      },
      "source": [
        "We can easily write this using a simple for loop:"
      ]
    },
    {
      "cell_type": "code",
      "execution_count": null,
      "metadata": {
        "collapsed": true,
        "id": "XecceBnP8yUu"
      },
      "outputs": [],
      "source": [
        "def fact(n):\n",
        "    if n <= 1:\n",
        "        return 1\n",
        "    else:\n",
        "        result = 1\n",
        "        for i in range(2, n+1):\n",
        "            result *= i\n",
        "        return result"
      ]
    },
    {
      "cell_type": "code",
      "execution_count": null,
      "metadata": {
        "id": "AWS86XXN8yUu",
        "outputId": "5676afc3-df9b-4d00-8da0-b197d67ba83c"
      },
      "outputs": [
        {
          "data": {
            "text/plain": [
              "(1, 2, 6, 24, 120)"
            ]
          },
          "execution_count": 34,
          "metadata": {},
          "output_type": "execute_result"
        }
      ],
      "source": [
        "fact(1), fact(2), fact(3), fact(4), fact(5)"
      ]
    },
    {
      "cell_type": "markdown",
      "metadata": {
        "id": "fGAQDiNt8yUu"
      },
      "source": [
        "We could also write this using a recursive function:"
      ]
    },
    {
      "cell_type": "code",
      "execution_count": null,
      "metadata": {
        "collapsed": true,
        "id": "0aSTC8si8yUu"
      },
      "outputs": [],
      "source": [
        "def fact(n):\n",
        "    if n <=1:\n",
        "        return 1\n",
        "    else:\n",
        "        return n * fact(n-1)"
      ]
    },
    {
      "cell_type": "code",
      "execution_count": null,
      "metadata": {
        "id": "RSkLp-VX8yUu",
        "outputId": "e26fb21f-c0ee-4ed2-c14b-1967542aed47"
      },
      "outputs": [
        {
          "data": {
            "text/plain": [
              "(1, 2, 6, 24, 120)"
            ]
          },
          "execution_count": 36,
          "metadata": {},
          "output_type": "execute_result"
        }
      ],
      "source": [
        "fact(1), fact(2), fact(3), fact(4), fact(5)"
      ]
    },
    {
      "cell_type": "markdown",
      "metadata": {
        "id": "vxC0pQYl8yUv"
      },
      "source": [
        "Finally we can also write this using **reduce** as follows:"
      ]
    },
    {
      "cell_type": "code",
      "execution_count": null,
      "metadata": {
        "id": "erfs40nO8yUv",
        "outputId": "23b8ab9e-b83a-4ffc-9ccf-2d55e723689e"
      },
      "outputs": [
        {
          "data": {
            "text/plain": [
              "120"
            ]
          },
          "execution_count": 37,
          "metadata": {},
          "output_type": "execute_result"
        }
      ],
      "source": [
        "n = 5\n",
        "reduce(lambda a, b: a * b, range(1, n+1))"
      ]
    },
    {
      "cell_type": "markdown",
      "metadata": {
        "id": "9XkWeFTe8yUv"
      },
      "source": [
        "As you can see, the **reduce** approach, although concise, is sometimes more difficult to understand than the plain loop or recursive approach."
      ]
    },
    {
      "cell_type": "markdown",
      "metadata": {
        "collapsed": true,
        "id": "KgfCxExk8yUv"
      },
      "source": [
        "#### **reduce** initializer"
      ]
    },
    {
      "cell_type": "markdown",
      "metadata": {
        "id": "RloZ6Hmu8yUv"
      },
      "source": [
        "Suppose we want to provide some sort of default when we claculate the product of the elements of an iterable if that iterable is empty:"
      ]
    },
    {
      "cell_type": "code",
      "execution_count": null,
      "metadata": {
        "id": "gpgGdeQh8yUv",
        "outputId": "4a77daa2-f315-42bc-9a6b-e8df589f606c"
      },
      "outputs": [
        {
          "data": {
            "text/plain": [
              "6"
            ]
          },
          "execution_count": 38,
          "metadata": {},
          "output_type": "execute_result"
        }
      ],
      "source": [
        "l = [1, 2, 3]\n",
        "reduce(lambda x, y: x*y, l)"
      ]
    },
    {
      "cell_type": "markdown",
      "metadata": {
        "id": "HOOHI_fD8yUv"
      },
      "source": [
        "but if **l** is empty:"
      ]
    },
    {
      "cell_type": "code",
      "execution_count": null,
      "metadata": {
        "id": "7AK_47PZ8yUw",
        "outputId": "a29bfc9f-8acf-45e7-e48d-9ceef6868ce3"
      },
      "outputs": [
        {
          "ename": "TypeError",
          "evalue": "reduce() of empty sequence with no initial value",
          "output_type": "error",
          "traceback": [
            "\u001b[1;31m---------------------------------------------------------------------------\u001b[0m",
            "\u001b[1;31mTypeError\u001b[0m                                 Traceback (most recent call last)",
            "\u001b[1;32m<ipython-input-39-09fa1e2b48dc>\u001b[0m in \u001b[0;36m<module>\u001b[1;34m()\u001b[0m\n\u001b[0;32m      1\u001b[0m \u001b[0ml\u001b[0m \u001b[1;33m=\u001b[0m \u001b[1;33m[\u001b[0m\u001b[1;33m]\u001b[0m\u001b[1;33m\u001b[0m\u001b[0m\n\u001b[1;32m----> 2\u001b[1;33m \u001b[0mreduce\u001b[0m\u001b[1;33m(\u001b[0m\u001b[1;32mlambda\u001b[0m \u001b[0mx\u001b[0m\u001b[1;33m,\u001b[0m \u001b[0my\u001b[0m\u001b[1;33m:\u001b[0m \u001b[0mx\u001b[0m\u001b[1;33m*\u001b[0m\u001b[0my\u001b[0m\u001b[1;33m,\u001b[0m \u001b[0ml\u001b[0m\u001b[1;33m)\u001b[0m\u001b[1;33m\u001b[0m\u001b[0m\n\u001b[0m",
            "\u001b[1;31mTypeError\u001b[0m: reduce() of empty sequence with no initial value"
          ]
        }
      ],
      "source": [
        "l = []\n",
        "reduce(lambda x, y: x*y, l)"
      ]
    },
    {
      "cell_type": "markdown",
      "metadata": {
        "id": "V22oBNYF8yUw"
      },
      "source": [
        "To fix this, we can provide an initializer. In this case, we will use **1** since that will not affect the result of the product, and still allow us to return a value for an empty iterable."
      ]
    },
    {
      "cell_type": "code",
      "execution_count": null,
      "metadata": {
        "id": "L3-cypEO8yUw",
        "outputId": "9baef589-2662-4a24-e147-c94bde3fc01c"
      },
      "outputs": [
        {
          "data": {
            "text/plain": [
              "1"
            ]
          },
          "execution_count": 40,
          "metadata": {},
          "output_type": "execute_result"
        }
      ],
      "source": [
        "l = []\n",
        "reduce(lambda x, y: x*y, l, 1)"
      ]
    },
    {
      "cell_type": "code",
      "execution_count": null,
      "metadata": {
        "collapsed": true,
        "id": "5iXTxam38yUw"
      },
      "outputs": [],
      "source": [
        ""
      ]
    }
  ],
  "metadata": {
    "kernelspec": {
      "display_name": "Python 3",
      "language": "python",
      "name": "python3"
    },
    "language_info": {
      "codemirror_mode": {
        "name": "ipython",
        "version": 3
      },
      "file_extension": ".py",
      "mimetype": "text/x-python",
      "name": "python",
      "nbconvert_exporter": "python",
      "pygments_lexer": "ipython3",
      "version": "3.6.2"
    },
    "colab": {
      "name": "Reducing Functions.ipynb",
      "provenance": [],
      "include_colab_link": true
    }
  },
  "nbformat": 4,
  "nbformat_minor": 0
}