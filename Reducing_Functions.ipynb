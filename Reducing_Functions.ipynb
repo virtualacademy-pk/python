{
  "cells": [
    {
      "cell_type": "markdown",
      "metadata": {
        "id": "view-in-github",
        "colab_type": "text"
      },
      "source": [
        "<a href=\"https://colab.research.google.com/github/virtualacademy-pk/python/blob/main/Reducing_Functions.ipynb\" target=\"_parent\"><img src=\"https://colab.research.google.com/assets/colab-badge.svg\" alt=\"Open In Colab\"/></a>"
      ]
    },
    {
      "cell_type": "markdown",
      "metadata": {
        "id": "wFUR5oUWL7YU"
      },
      "source": [
        "### Reducing Functions in Python"
      ]
    },
    {
      "cell_type": "markdown",
      "metadata": {
        "id": "vTgvk0vjL7YX"
      },
      "source": [
        "#### Maximum and Minimum"
      ]
    },
    {
      "cell_type": "markdown",
      "metadata": {
        "id": "dMFwIzv_L7YX"
      },
      "source": [
        "Suppose we want to find the maximum value in a list:"
      ]
    },
    {
      "cell_type": "code",
      "execution_count": null,
      "metadata": {
        "collapsed": true,
        "id": "fnuQJ4-AL7YY"
      },
      "outputs": [],
      "source": [
        "l = [5, 8, 6, 10, 9]"
      ]
    },
    {
      "cell_type": "markdown",
      "metadata": {
        "id": "ODse3CiHL7YZ"
      },
      "source": [
        "We can solve this problem using a **for** loop."
      ]
    },
    {
      "cell_type": "markdown",
      "metadata": {
        "id": "1fo_9NLlL7YZ"
      },
      "source": [
        "First we define a function that returns the maximum of two arguments:"
      ]
    },
    {
      "cell_type": "code",
      "execution_count": null,
      "metadata": {
        "collapsed": true,
        "id": "W_vFPgC6L7Ya"
      },
      "outputs": [],
      "source": [
        "_max = lambda a, b: a if a > b else b"
      ]
    },
    {
      "cell_type": "code",
      "execution_count": null,
      "metadata": {
        "collapsed": true,
        "id": "HOGQbUbvL7Ya"
      },
      "outputs": [],
      "source": [
        "def max_sequence(sequence):\n",
        "    result = sequence[0]\n",
        "    for x in sequence[1:]:\n",
        "        result = _max(result, x)\n",
        "    return result"
      ]
    },
    {
      "cell_type": "code",
      "execution_count": null,
      "metadata": {
        "id": "nfG7EUj-L7Yb",
        "outputId": "36eb5391-43f5-4691-ccb3-9d26f2acffb6"
      },
      "outputs": [
        {
          "data": {
            "text/plain": [
              "10"
            ]
          },
          "execution_count": 4,
          "metadata": {},
          "output_type": "execute_result"
        }
      ],
      "source": [
        "max_sequence(l)"
      ]
    },
    {
      "cell_type": "markdown",
      "metadata": {
        "id": "Y8hgAVm9L7Yc"
      },
      "source": [
        "To calculate the minimum, all we need to do is to change the function that is repeatedly applied:"
      ]
    },
    {
      "cell_type": "code",
      "execution_count": null,
      "metadata": {
        "collapsed": true,
        "id": "7D88aoFNL7Yd"
      },
      "outputs": [],
      "source": [
        "_min = lambda a, b: a if a < b else b"
      ]
    },
    {
      "cell_type": "code",
      "execution_count": null,
      "metadata": {
        "collapsed": true,
        "id": "U0M90KUlL7Yd"
      },
      "outputs": [],
      "source": [
        "def min_sequence(sequence):\n",
        "    result = sequence[0]\n",
        "    for x in sequence[1:]:\n",
        "        result = _min(result, x)\n",
        "    return result"
      ]
    },
    {
      "cell_type": "code",
      "execution_count": null,
      "metadata": {
        "id": "uQZ4BT_9L7Yd",
        "outputId": "f6ffec49-208f-4f99-e75f-b08f2c17d8c9"
      },
      "outputs": [
        {
          "name": "stdout",
          "output_type": "stream",
          "text": [
            "[5, 8, 6, 10, 9]\n",
            "5\n"
          ]
        }
      ],
      "source": [
        "print(l)\n",
        "print(min_sequence(l))"
      ]
    },
    {
      "cell_type": "markdown",
      "metadata": {
        "id": "mvtFvy8KL7Ye"
      },
      "source": [
        "In general we could write it like this:"
      ]
    },
    {
      "cell_type": "code",
      "execution_count": null,
      "metadata": {
        "collapsed": true,
        "id": "qlaKKXoFL7Ye"
      },
      "outputs": [],
      "source": [
        "def _reduce(fn, sequence):\n",
        "    result = sequence[0]\n",
        "    for x in sequence[1:]:\n",
        "        result = fn(result, x)\n",
        "    return result"
      ]
    },
    {
      "cell_type": "code",
      "execution_count": null,
      "metadata": {
        "id": "gRpytCjwL7Ye",
        "outputId": "cb26f03b-6c3b-4885-c997-83fa7f71a81a"
      },
      "outputs": [
        {
          "data": {
            "text/plain": [
              "10"
            ]
          },
          "execution_count": 9,
          "metadata": {},
          "output_type": "execute_result"
        }
      ],
      "source": [
        "_reduce(_max, l)"
      ]
    },
    {
      "cell_type": "code",
      "execution_count": null,
      "metadata": {
        "id": "HFIBYcWJL7Yf",
        "outputId": "5eb80f35-59c5-4fad-938e-506de4bacb5c"
      },
      "outputs": [
        {
          "data": {
            "text/plain": [
              "5"
            ]
          },
          "execution_count": 10,
          "metadata": {},
          "output_type": "execute_result"
        }
      ],
      "source": [
        "_reduce(_min, l)"
      ]
    },
    {
      "cell_type": "markdown",
      "metadata": {
        "id": "sodJEciEL7Yf"
      },
      "source": [
        "We could even just use a lambda directly in the call to **\\_reduce**:"
      ]
    },
    {
      "cell_type": "code",
      "execution_count": null,
      "metadata": {
        "id": "JQD0Be1xL7Yf",
        "outputId": "e51f38cd-230a-4f7f-a6db-974b9e2008bd"
      },
      "outputs": [
        {
          "data": {
            "text/plain": [
              "10"
            ]
          },
          "execution_count": 11,
          "metadata": {},
          "output_type": "execute_result"
        }
      ],
      "source": [
        "_reduce(lambda a, b: a if a > b else b, l)"
      ]
    },
    {
      "cell_type": "code",
      "execution_count": null,
      "metadata": {
        "id": "t2tW5b98L7Yg",
        "outputId": "b2a8617b-1eb8-425a-d5ac-fe3325cbfb00"
      },
      "outputs": [
        {
          "data": {
            "text/plain": [
              "5"
            ]
          },
          "execution_count": 12,
          "metadata": {},
          "output_type": "execute_result"
        }
      ],
      "source": [
        "_reduce(lambda a, b: a if a < b else b, l)"
      ]
    },
    {
      "cell_type": "markdown",
      "metadata": {
        "id": "WG2Xx-mJL7Yg"
      },
      "source": [
        "Using the same approach, we could even add all the elements of a sequence together:"
      ]
    },
    {
      "cell_type": "code",
      "execution_count": null,
      "metadata": {
        "id": "I-1LhrcOL7Yg",
        "outputId": "a9c13eae-dec2-4ed2-8062-ba8f6c026e9c"
      },
      "outputs": [
        {
          "name": "stdout",
          "output_type": "stream",
          "text": [
            "[5, 8, 6, 10, 9]\n"
          ]
        }
      ],
      "source": [
        "print(l)"
      ]
    },
    {
      "cell_type": "code",
      "execution_count": null,
      "metadata": {
        "id": "FPq8KvClL7Yg",
        "outputId": "48433c11-0b6f-4b37-c408-6d3df76a03d6"
      },
      "outputs": [
        {
          "data": {
            "text/plain": [
              "38"
            ]
          },
          "execution_count": 14,
          "metadata": {},
          "output_type": "execute_result"
        }
      ],
      "source": [
        "_reduce(lambda a, b: a + b, l)"
      ]
    },
    {
      "cell_type": "markdown",
      "metadata": {
        "id": "3eMhPTQnL7Yh"
      },
      "source": [
        "Python actually implements a reduce function, which is found in the **functools** module. Unlike our **\\_reduce** function, it can handle any iterable, not just sequences."
      ]
    },
    {
      "cell_type": "code",
      "execution_count": null,
      "metadata": {
        "collapsed": true,
        "id": "t4YhgJbVL7Yh"
      },
      "outputs": [],
      "source": [
        "from functools import reduce"
      ]
    },
    {
      "cell_type": "code",
      "execution_count": null,
      "metadata": {
        "id": "_IUHv_2CL7Yh",
        "outputId": "60645af9-c5eb-47e7-eff8-ea4db1832f0a"
      },
      "outputs": [
        {
          "data": {
            "text/plain": [
              "[5, 8, 6, 10, 9]"
            ]
          },
          "execution_count": 16,
          "metadata": {},
          "output_type": "execute_result"
        }
      ],
      "source": [
        "l"
      ]
    },
    {
      "cell_type": "code",
      "execution_count": null,
      "metadata": {
        "id": "HRWFzlNFL7Yh",
        "outputId": "929794c9-fb16-4a63-9a60-0b73406649eb"
      },
      "outputs": [
        {
          "data": {
            "text/plain": [
              "10"
            ]
          },
          "execution_count": 17,
          "metadata": {},
          "output_type": "execute_result"
        }
      ],
      "source": [
        "reduce(lambda a, b: a if a > b else b, l)"
      ]
    },
    {
      "cell_type": "code",
      "execution_count": null,
      "metadata": {
        "id": "JvRdQK_kL7Yi",
        "outputId": "d45d5ded-4b6d-4945-dadd-284dae7cdd0b"
      },
      "outputs": [
        {
          "data": {
            "text/plain": [
              "5"
            ]
          },
          "execution_count": 18,
          "metadata": {},
          "output_type": "execute_result"
        }
      ],
      "source": [
        "reduce(lambda a, b: a if a < b else b, l)"
      ]
    },
    {
      "cell_type": "code",
      "execution_count": null,
      "metadata": {
        "id": "VzPgm2a-L7Yi",
        "outputId": "396b3bfb-7fe3-4110-85d4-bb879dc3ff2c"
      },
      "outputs": [
        {
          "data": {
            "text/plain": [
              "38"
            ]
          },
          "execution_count": 19,
          "metadata": {},
          "output_type": "execute_result"
        }
      ],
      "source": [
        "reduce(lambda a, b: a + b, l)"
      ]
    },
    {
      "cell_type": "markdown",
      "metadata": {
        "id": "6mzouKluL7Yi"
      },
      "source": [
        "Finding the max and min of an iterable is such a common thing that Python provides a built-in function to do just that:"
      ]
    },
    {
      "cell_type": "code",
      "execution_count": null,
      "metadata": {
        "scrolled": true,
        "id": "O2CyowvhL7Yi",
        "outputId": "b9f4de3d-c504-4504-8051-3676a8b57a90"
      },
      "outputs": [
        {
          "data": {
            "text/plain": [
              "(10, 5)"
            ]
          },
          "execution_count": 20,
          "metadata": {},
          "output_type": "execute_result"
        }
      ],
      "source": [
        "max(l), min(l)"
      ]
    },
    {
      "cell_type": "markdown",
      "metadata": {
        "id": "gPMU43NTL7Yj"
      },
      "source": [
        "Finding the sum of all the elements in an iterable is also common enough that Python implements the **sum** function:"
      ]
    },
    {
      "cell_type": "code",
      "execution_count": null,
      "metadata": {
        "id": "yvM9MhnqL7Yj",
        "outputId": "c8d5d0b3-ec86-4962-c586-d5efd20f4516"
      },
      "outputs": [
        {
          "data": {
            "text/plain": [
              "38"
            ]
          },
          "execution_count": 21,
          "metadata": {},
          "output_type": "execute_result"
        }
      ],
      "source": [
        "sum(l)"
      ]
    },
    {
      "cell_type": "markdown",
      "metadata": {
        "id": "6InA9TSvL7Yj"
      },
      "source": [
        "#### The **any** and **all** built-ins"
      ]
    },
    {
      "cell_type": "markdown",
      "metadata": {
        "id": "QYNzJ5GYL7Yj"
      },
      "source": [
        "Python provides two additional built-in reducing functions: **any** and **all**."
      ]
    },
    {
      "cell_type": "markdown",
      "metadata": {
        "id": "FTzATOBmL7Yj"
      },
      "source": [
        "The **any** function will return **True** if any element in the iterable is truthy:"
      ]
    },
    {
      "cell_type": "code",
      "execution_count": null,
      "metadata": {
        "id": "K0tgOAYgL7Yj",
        "outputId": "e6203f35-b230-4ef2-903b-0094d30aba9d"
      },
      "outputs": [
        {
          "data": {
            "text/plain": [
              "True"
            ]
          },
          "execution_count": 22,
          "metadata": {},
          "output_type": "execute_result"
        }
      ],
      "source": [
        "l = [0, 1, 2]\n",
        "any(l)"
      ]
    },
    {
      "cell_type": "code",
      "execution_count": null,
      "metadata": {
        "id": "vQAxYr3yL7Yk",
        "outputId": "9f3497b5-5199-4c33-d506-ce3b23254f52"
      },
      "outputs": [
        {
          "data": {
            "text/plain": [
              "False"
            ]
          },
          "execution_count": 23,
          "metadata": {},
          "output_type": "execute_result"
        }
      ],
      "source": [
        "l = [0, 0, 0]\n",
        "any(l)"
      ]
    },
    {
      "cell_type": "markdown",
      "metadata": {
        "id": "bC3b6lwqL7Yk"
      },
      "source": [
        "On the other hand, **all** will return True if **every** element of the iterable is truthy:"
      ]
    },
    {
      "cell_type": "code",
      "execution_count": null,
      "metadata": {
        "id": "5v-fC3sGL7Yk",
        "outputId": "0d1a796d-d118-46fb-edf2-e1d2b9b66c81"
      },
      "outputs": [
        {
          "data": {
            "text/plain": [
              "False"
            ]
          },
          "execution_count": 24,
          "metadata": {},
          "output_type": "execute_result"
        }
      ],
      "source": [
        "l = [0, 1, 2]\n",
        "all(l)"
      ]
    },
    {
      "cell_type": "code",
      "execution_count": null,
      "metadata": {
        "id": "ECYnonoWL7Yk",
        "outputId": "3fd782bd-63a0-495b-8a87-689457c320a1"
      },
      "outputs": [
        {
          "data": {
            "text/plain": [
              "True"
            ]
          },
          "execution_count": 25,
          "metadata": {},
          "output_type": "execute_result"
        }
      ],
      "source": [
        "l = [1, 2, 3]\n",
        "all(l)"
      ]
    },
    {
      "cell_type": "markdown",
      "metadata": {
        "id": "REK0r46jL7Yk"
      },
      "source": [
        "We can implement these functions ourselves using **reduce** if we choose to - simply use the Boolean **or** or **and** operators as the function passed to **reduce** to implement **any** and **all** respectively."
      ]
    },
    {
      "cell_type": "markdown",
      "metadata": {
        "id": "3hRxkGnQL7Yl"
      },
      "source": [
        "#### any"
      ]
    },
    {
      "cell_type": "code",
      "execution_count": null,
      "metadata": {
        "id": "I8xYcoa0L7Yl",
        "outputId": "b66c0b87-390c-444c-be9b-36686fe7b702"
      },
      "outputs": [
        {
          "data": {
            "text/plain": [
              "True"
            ]
          },
          "execution_count": 26,
          "metadata": {},
          "output_type": "execute_result"
        }
      ],
      "source": [
        "l = [0, 1, 2]\n",
        "reduce(lambda a, b: bool(a or b), l)"
      ]
    },
    {
      "cell_type": "code",
      "execution_count": null,
      "metadata": {
        "id": "i_OMAkpeL7Yl",
        "outputId": "9ae11691-2b10-47d9-9dec-88dba86a5392"
      },
      "outputs": [
        {
          "data": {
            "text/plain": [
              "False"
            ]
          },
          "execution_count": 27,
          "metadata": {},
          "output_type": "execute_result"
        }
      ],
      "source": [
        "l = [0, 0, 0]\n",
        "reduce(lambda a, b: bool(a or b), l)"
      ]
    },
    {
      "cell_type": "markdown",
      "metadata": {
        "id": "95DfREHEL7Yl"
      },
      "source": [
        "#### all"
      ]
    },
    {
      "cell_type": "code",
      "execution_count": null,
      "metadata": {
        "id": "uPjJJcKsL7Yl",
        "outputId": "d92dec2d-a57f-41dc-d182-dffd3453b05e"
      },
      "outputs": [
        {
          "data": {
            "text/plain": [
              "False"
            ]
          },
          "execution_count": 28,
          "metadata": {},
          "output_type": "execute_result"
        }
      ],
      "source": [
        "l = [0, 1, 2]\n",
        "reduce(lambda a, b: bool(a and b), l)"
      ]
    },
    {
      "cell_type": "code",
      "execution_count": null,
      "metadata": {
        "id": "0ExHi3iJL7Yl",
        "outputId": "50ffac54-3cb5-46fa-8e1c-fb9767976f55"
      },
      "outputs": [
        {
          "data": {
            "text/plain": [
              "True"
            ]
          },
          "execution_count": 29,
          "metadata": {},
          "output_type": "execute_result"
        }
      ],
      "source": [
        "l = [1, 2, 3]\n",
        "reduce(lambda a, b: bool(a and b), l)"
      ]
    },
    {
      "cell_type": "markdown",
      "metadata": {
        "id": "4kpuPsOUL7Ym"
      },
      "source": [
        "#### Products"
      ]
    },
    {
      "cell_type": "markdown",
      "metadata": {
        "id": "xLOPY7xeL7Ym"
      },
      "source": [
        "Sometimes we may want to find the product of every element of an iterable.\n",
        "\n",
        "Python does not provide us a built-in method to do this, so we have to either use a procedural approach, or we can use the **reduce** function."
      ]
    },
    {
      "cell_type": "markdown",
      "metadata": {
        "id": "EpR6pTXTL7Ym"
      },
      "source": [
        "We start by defining a function that multiplies two arguments together:"
      ]
    },
    {
      "cell_type": "code",
      "execution_count": null,
      "metadata": {
        "collapsed": true,
        "id": "vL2N7AKvL7Ym"
      },
      "outputs": [],
      "source": [
        "def mult(a, b):\n",
        "    return a * b"
      ]
    },
    {
      "cell_type": "markdown",
      "metadata": {
        "id": "3H_3V2S3L7Ym"
      },
      "source": [
        "Then we can use the **reduce** function:"
      ]
    },
    {
      "cell_type": "code",
      "execution_count": null,
      "metadata": {
        "id": "FuuXScO4L7Ym",
        "outputId": "72515b85-bc0e-48d8-cbcf-45fcbd4c7d1b"
      },
      "outputs": [
        {
          "data": {
            "text/plain": [
              "24"
            ]
          },
          "execution_count": 31,
          "metadata": {},
          "output_type": "execute_result"
        }
      ],
      "source": [
        "l = [2, 3, 4]\n",
        "reduce(mult, l)"
      ]
    },
    {
      "cell_type": "markdown",
      "metadata": {
        "id": "9NhSvTOfL7Yn"
      },
      "source": [
        "Remember what this did:\n",
        "\n",
        "    step 1: result = 2\n",
        "    step 2: result = mult(result, 3) = mult(2, 3) = 6\n",
        "    step 3: result = mult(result, 4) = mult(6, 4) = 24\n",
        "    step 4: l exhausted, return result --> 24"
      ]
    },
    {
      "cell_type": "markdown",
      "metadata": {
        "id": "no3kCIJmL7Yn"
      },
      "source": [
        "Of course, we can also just use a lambda:"
      ]
    },
    {
      "cell_type": "code",
      "execution_count": null,
      "metadata": {
        "id": "OTAGaMHlL7Yn",
        "outputId": "23864e7b-7bce-49ed-da76-e3541110418d"
      },
      "outputs": [
        {
          "data": {
            "text/plain": [
              "24"
            ]
          },
          "execution_count": 32,
          "metadata": {},
          "output_type": "execute_result"
        }
      ],
      "source": [
        "reduce(lambda a, b: a * b, l)"
      ]
    },
    {
      "cell_type": "markdown",
      "metadata": {
        "id": "L78nzQTML7Yn"
      },
      "source": [
        "#### Factorials"
      ]
    },
    {
      "cell_type": "markdown",
      "metadata": {
        "id": "_1_nqmclL7Yn"
      },
      "source": [
        "##### Factorials"
      ]
    },
    {
      "cell_type": "markdown",
      "metadata": {
        "id": "xKrkLwdlL7Yn"
      },
      "source": [
        "A special case of the product we just did would be calculating the factorial of some number (**n!**):"
      ]
    },
    {
      "cell_type": "markdown",
      "metadata": {
        "id": "8wm8UuriL7Yo"
      },
      "source": [
        "Recall:\n",
        "\n",
        "    n! = 1 * 2 * 3 * ... * n"
      ]
    },
    {
      "cell_type": "markdown",
      "metadata": {
        "id": "pb3j-JsHL7Yo"
      },
      "source": [
        "In other words, we are calculating the product of a sequence containing consecutive integers from 1 to n (inclusive)"
      ]
    },
    {
      "cell_type": "markdown",
      "metadata": {
        "id": "sadL_70ML7Yo"
      },
      "source": [
        "We can easily write this using a simple for loop:"
      ]
    },
    {
      "cell_type": "code",
      "execution_count": null,
      "metadata": {
        "collapsed": true,
        "id": "HpxjBMPPL7Yo"
      },
      "outputs": [],
      "source": [
        "def fact(n):\n",
        "    if n <= 1:\n",
        "        return 1\n",
        "    else:\n",
        "        result = 1\n",
        "        for i in range(2, n+1):\n",
        "            result *= i\n",
        "        return result"
      ]
    },
    {
      "cell_type": "code",
      "execution_count": null,
      "metadata": {
        "id": "Try4Ac7pL7Yo",
        "outputId": "c343f0f7-7e89-4bc7-e00b-3d3b01af5b1d"
      },
      "outputs": [
        {
          "data": {
            "text/plain": [
              "(1, 2, 6, 24, 120)"
            ]
          },
          "execution_count": 34,
          "metadata": {},
          "output_type": "execute_result"
        }
      ],
      "source": [
        "fact(1), fact(2), fact(3), fact(4), fact(5)"
      ]
    },
    {
      "cell_type": "markdown",
      "metadata": {
        "id": "qLIp-CztL7Yo"
      },
      "source": [
        "We could also write this using a recursive function:"
      ]
    },
    {
      "cell_type": "code",
      "execution_count": null,
      "metadata": {
        "collapsed": true,
        "id": "ndN1rMEKL7Yo"
      },
      "outputs": [],
      "source": [
        "def fact(n):\n",
        "    if n <=1:\n",
        "        return 1\n",
        "    else:\n",
        "        return n * fact(n-1)"
      ]
    },
    {
      "cell_type": "code",
      "execution_count": null,
      "metadata": {
        "id": "EsDUjeCGL7Yp",
        "outputId": "80fe9c93-a450-439a-ac55-b1ba2971ac7e"
      },
      "outputs": [
        {
          "data": {
            "text/plain": [
              "(1, 2, 6, 24, 120)"
            ]
          },
          "execution_count": 36,
          "metadata": {},
          "output_type": "execute_result"
        }
      ],
      "source": [
        "fact(1), fact(2), fact(3), fact(4), fact(5)"
      ]
    },
    {
      "cell_type": "markdown",
      "metadata": {
        "id": "_3VfkaMpL7Yp"
      },
      "source": [
        "Finally we can also write this using **reduce** as follows:"
      ]
    },
    {
      "cell_type": "code",
      "execution_count": null,
      "metadata": {
        "id": "EpRH9PVJL7Yp",
        "outputId": "04e9cb6b-dfbb-4eac-c6d4-edd047d2cf15"
      },
      "outputs": [
        {
          "data": {
            "text/plain": [
              "120"
            ]
          },
          "execution_count": 37,
          "metadata": {},
          "output_type": "execute_result"
        }
      ],
      "source": [
        "n = 5\n",
        "reduce(lambda a, b: a * b, range(1, n+1))"
      ]
    },
    {
      "cell_type": "markdown",
      "metadata": {
        "id": "By04C39kL7Yp"
      },
      "source": [
        "As you can see, the **reduce** approach, although concise, is sometimes more difficult to understand than the plain loop or recursive approach."
      ]
    },
    {
      "cell_type": "markdown",
      "metadata": {
        "collapsed": true,
        "id": "HJac2uN8L7Yp"
      },
      "source": [
        "#### **reduce** initializer"
      ]
    },
    {
      "cell_type": "markdown",
      "metadata": {
        "id": "5xlw-5OeL7Yp"
      },
      "source": [
        "Suppose we want to provide some sort of default when we claculate the product of the elements of an iterable if that iterable is empty:"
      ]
    },
    {
      "cell_type": "code",
      "execution_count": null,
      "metadata": {
        "id": "m7F7Aa5oL7Yp",
        "outputId": "05e230bf-00ba-4198-ffff-04a93c80b770"
      },
      "outputs": [
        {
          "data": {
            "text/plain": [
              "6"
            ]
          },
          "execution_count": 38,
          "metadata": {},
          "output_type": "execute_result"
        }
      ],
      "source": [
        "l = [1, 2, 3]\n",
        "reduce(lambda x, y: x*y, l)"
      ]
    },
    {
      "cell_type": "markdown",
      "metadata": {
        "id": "7RM7ye8IL7Yq"
      },
      "source": [
        "but if **l** is empty:"
      ]
    },
    {
      "cell_type": "code",
      "execution_count": null,
      "metadata": {
        "id": "HsC8goP1L7Yq",
        "outputId": "da983610-2603-4692-a776-4f1f3f10e6c9"
      },
      "outputs": [
        {
          "ename": "TypeError",
          "evalue": "reduce() of empty sequence with no initial value",
          "output_type": "error",
          "traceback": [
            "\u001b[1;31m---------------------------------------------------------------------------\u001b[0m",
            "\u001b[1;31mTypeError\u001b[0m                                 Traceback (most recent call last)",
            "\u001b[1;32m<ipython-input-39-09fa1e2b48dc>\u001b[0m in \u001b[0;36m<module>\u001b[1;34m()\u001b[0m\n\u001b[0;32m      1\u001b[0m \u001b[0ml\u001b[0m \u001b[1;33m=\u001b[0m \u001b[1;33m[\u001b[0m\u001b[1;33m]\u001b[0m\u001b[1;33m\u001b[0m\u001b[0m\n\u001b[1;32m----> 2\u001b[1;33m \u001b[0mreduce\u001b[0m\u001b[1;33m(\u001b[0m\u001b[1;32mlambda\u001b[0m \u001b[0mx\u001b[0m\u001b[1;33m,\u001b[0m \u001b[0my\u001b[0m\u001b[1;33m:\u001b[0m \u001b[0mx\u001b[0m\u001b[1;33m*\u001b[0m\u001b[0my\u001b[0m\u001b[1;33m,\u001b[0m \u001b[0ml\u001b[0m\u001b[1;33m)\u001b[0m\u001b[1;33m\u001b[0m\u001b[0m\n\u001b[0m",
            "\u001b[1;31mTypeError\u001b[0m: reduce() of empty sequence with no initial value"
          ]
        }
      ],
      "source": [
        "l = []\n",
        "reduce(lambda x, y: x*y, l)"
      ]
    },
    {
      "cell_type": "markdown",
      "metadata": {
        "id": "e_7VGD8qL7Yq"
      },
      "source": [
        "To fix this, we can provide an initializer. In this case, we will use **1** since that will not affect the result of the product, and still allow us to return a value for an empty iterable."
      ]
    },
    {
      "cell_type": "code",
      "execution_count": null,
      "metadata": {
        "id": "S11KZBk1L7Yq",
        "outputId": "b19bd4ff-8fa7-42c6-a668-541d463bb269"
      },
      "outputs": [
        {
          "data": {
            "text/plain": [
              "1"
            ]
          },
          "execution_count": 40,
          "metadata": {},
          "output_type": "execute_result"
        }
      ],
      "source": [
        "l = []\n",
        "reduce(lambda x, y: x*y, l, 1)"
      ]
    },
    {
      "cell_type": "code",
      "execution_count": null,
      "metadata": {
        "collapsed": true,
        "id": "4fDjyeQYL7Yq"
      },
      "outputs": [],
      "source": [
        ""
      ]
    }
  ],
  "metadata": {
    "kernelspec": {
      "display_name": "Python 3",
      "language": "python",
      "name": "python3"
    },
    "language_info": {
      "codemirror_mode": {
        "name": "ipython",
        "version": 3
      },
      "file_extension": ".py",
      "mimetype": "text/x-python",
      "name": "python",
      "nbconvert_exporter": "python",
      "pygments_lexer": "ipython3",
      "version": "3.6.2"
    },
    "colab": {
      "name": "Reducing Functions.ipynb",
      "provenance": [],
      "include_colab_link": true
    }
  },
  "nbformat": 4,
  "nbformat_minor": 0
}