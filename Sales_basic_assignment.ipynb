{
  "nbformat": 4,
  "nbformat_minor": 0,
  "metadata": {
    "colab": {
      "name": "Sales_basic_assignment.ipynb",
      "provenance": [],
      "collapsed_sections": [],
      "authorship_tag": "ABX9TyMp/3TiA6UgCwGdieOttao6",
      "include_colab_link": true
    },
    "kernelspec": {
      "name": "python3",
      "display_name": "Python 3"
    },
    "language_info": {
      "name": "python"
    }
  },
  "cells": [
    {
      "cell_type": "markdown",
      "metadata": {
        "id": "view-in-github",
        "colab_type": "text"
      },
      "source": [
        "<a href=\"https://colab.research.google.com/github/virtualacademy-pk/python/blob/main/Sales_basic_assignment.ipynb\" target=\"_parent\"><img src=\"https://colab.research.google.com/assets/colab-badge.svg\" alt=\"Open In Colab\"/></a>"
      ]
    },
    {
      "cell_type": "markdown",
      "metadata": {
        "id": "BYW7DuQ7P3ow"
      },
      "source": [
        "The Cost Price of an article is is taken as input. The shopkeeper writes the market price of the article by given percentage as above the cost price. The sale price of that article is is set to some value more than cost price. Find percentage discount given to the customer\n",
        "\n",
        "\n",
        "Market Price = Cost Price + 15% of Cost Price\n",
        "\n",
        "Sales Price will be input\n",
        "\n",
        "Discount = Sale Price - Cost Price\n",
        "\n",
        "\n",
        "Discount Percent = Discount / Market Price * 100\n",
        "\n",
        "Cost = 6000\n",
        "\n",
        "Market price = 6000 - (6000 * 15/100) \n",
        "            = 6000 + 900 = 6900\n",
        "\n",
        "Sale price = 4600\n",
        "\n",
        "Discount = 6900 - 4600 = 2300\n",
        "\n",
        "Discount percent = 4600/6900 * 100= 33.33% "
      ]
    },
    {
      "cell_type": "code",
      "metadata": {
        "colab": {
          "base_uri": "https://localhost:8080/"
        },
        "id": "azcXodeMP3NV",
        "outputId": "3766ec9d-6fd1-42e7-b95d-3869c5812350"
      },
      "source": [
        "costPrice = int(input(\"Enter Cost Price: \"))\n",
        "marketPricePct = int(input(\"Enter Market Price increse percent: \"))\n",
        "salesPrice = int (input(\"Enter Sales Price: \"))\n",
        "marketPrice = costPrice + (costPrice * 15 / 100)\n",
        "print (\"Market Price @ Rate of \" + str(marketPricePct) + \" %: \" + str(marketPrice ))\n",
        "discountValue = marketPrice - salesPrice\n",
        "print (\"Discount Amount: \" + str(discountValue))\n",
        "discountPctCalc = discountValue / marketPrice * 100\n",
        "print(\"Total Discount in Percent: \" + str(discountPctCalc) + \" %\" )\n",
        "\n"
      ],
      "execution_count": 6,
      "outputs": [
        {
          "output_type": "stream",
          "text": [
            "Enter Cost Price: 1000\n",
            "Enter Market Price increse percent: 15\n",
            "Enter Sales Price: 3500\n",
            "Market Price @ Rate of 15 %: 1150.0\n",
            "Discount Amount: -2350.0\n",
            "Total Discount in Percent: -204.34782608695653 %\n"
          ],
          "name": "stdout"
        }
      ]
    }
  ]
}