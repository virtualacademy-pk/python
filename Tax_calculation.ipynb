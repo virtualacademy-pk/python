{
  "nbformat": 4,
  "nbformat_minor": 0,
  "metadata": {
    "colab": {
      "name": "Tax_calculation.ipynb",
      "provenance": [],
      "collapsed_sections": [],
      "authorship_tag": "ABX9TyNr2a9dWSy51JHaUjuInd/O",
      "include_colab_link": true
    },
    "kernelspec": {
      "name": "python3",
      "display_name": "Python 3"
    },
    "language_info": {
      "name": "python"
    }
  },
  "cells": [
    {
      "cell_type": "markdown",
      "metadata": {
        "id": "view-in-github",
        "colab_type": "text"
      },
      "source": [
        "<a href=\"https://colab.research.google.com/github/virtualacademy-pk/python/blob/main/Tax_calculation.ipynb\" target=\"_parent\"><img src=\"https://colab.research.google.com/assets/colab-badge.svg\" alt=\"Open In Colab\"/></a>"
      ]
    },
    {
      "cell_type": "code",
      "metadata": {
        "colab": {
          "base_uri": "https://localhost:8080/"
        },
        "id": "9iFdmvLtmkJH",
        "outputId": "a833f107-694a-48f5-aa1d-8c030328ff70"
      },
      "source": [
        "tax = 0.0\n",
        "salary = float(input(\"Enter your annual salary: \"))\n",
        "if salary <= 600000:\n",
        "  tax = 0.0\n",
        "if salary <= 1200000:\n",
        "  tax = ((salary - 600000) * (5/100))\n",
        "elif salary <= 1800000:\n",
        "  tax = 30000 + ((salary - 1200000) * (10 / 100))\n",
        "elif salary <= 2500000:\n",
        "  tax = 90000 + ((salary - 1800000) * (15 / 100))\n",
        "elif salary <= 3500000:\n",
        "  tax = 195000 + ((salary - 12500000) * (17.50 / 100))\n",
        "elif salary <= 5000000:  \n",
        "  tax = 370000 + ((salary - 2000000) * (20 / 100))\n",
        "elif salary <= 8000000:\n",
        "   tax = 670000 + ((salary - 5000000) * (22.50 / 100))\n",
        "elif salary <= 12000000:\n",
        "  tax = 1345000 + ((salary - 8000000) * (25 / 100))\n",
        "elif salary <= 30000000:\n",
        "  tax = 2345000 + ((salary - 12000000) * (27.50 / 100))\n",
        "elif salary <= 5000000:\n",
        "  tax = 7295000 + ((salary - 30000000) * (30 / 100))\n",
        "elif salary <= 7500000:     \n",
        "  tax = 13295000 + ((salary - 50000000) * (32.50 / 100))\n",
        "else:\n",
        "  tax = 21420000 + ((salary - 75000000) * (35 / 100))\n",
        "print(\"Applicable tax is: \" + str(tax))"
      ],
      "execution_count": 5,
      "outputs": [
        {
          "output_type": "stream",
          "text": [
            "Enter your annual salary: 6000000\n",
            "Applicable tax is: 895000.0\n"
          ],
          "name": "stdout"
        }
      ]
    }
  ]
}