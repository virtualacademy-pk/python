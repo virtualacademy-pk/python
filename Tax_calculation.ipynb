{
  "nbformat": 4,
  "nbformat_minor": 0,
  "metadata": {
    "colab": {
      "name": "Tax_calculation.ipynb",
      "provenance": [],
      "collapsed_sections": [],
      "authorship_tag": "ABX9TyOdmIFwsCNoUWH08CIH0x1Z",
      "include_colab_link": true
    },
    "kernelspec": {
      "name": "python3",
      "display_name": "Python 3"
    },
    "language_info": {
      "name": "python"
    }
  },
  "cells": [
    {
      "cell_type": "markdown",
      "metadata": {
        "id": "view-in-github",
        "colab_type": "text"
      },
      "source": [
        "<a href=\"https://colab.research.google.com/github/virtualacademy-pk/python/blob/main/Tax_calculation.ipynb\" target=\"_parent\"><img src=\"https://colab.research.google.com/assets/colab-badge.svg\" alt=\"Open In Colab\"/></a>"
      ]
    },
    {
      "cell_type": "markdown",
      "metadata": {
        "id": "v3w7Fzh56Nt-"
      },
      "source": [
        "Write a program to calcualte the tax on annual salary.\n",
        "\n",
        "As per Federal Budget 2019-2020 presented by Government of Pakistan, following slabs and income tax rates will be applicable for salaried persons for the year 2019-2020:\n",
        "\n",
        "*   Where the taxable salary income does not exceed Rs. 600,000 the rate of income tax is 0%.\n",
        "*   Where the taxable salary income exceeds Rs. 600,000 but does not exceed Rs. 1,200,000 the rate of income tax is 5% of the amount exceeding Rs. 600,000.\n",
        "*   Where the taxable salary income exceeds Rs. 1,200,000 but does not exceed Rs. 1,800,000 the rate of income tax is Rs. 30,000 + 10% of the amount exceeding Rs. 1,200,000.\n",
        "*   Where the taxable salary income exceeds Rs. 1,800,000 but does not exceed Rs. 2,500,000 the rate of income tax is Rs. 90,000 + 15% of the amount exceeding Rs. 1,800,000.\n",
        "*   Where the taxable salary income exceeds Rs. 2,500,000 but does not exceed Rs. 3,500,000 the rate of income tax is Rs. 195,000 + 17.5% of the amount exceeding Rs. 2,500,000.\n",
        "*   Where the taxable salary income exceeds Rs. 3,500,000 but does not exceed Rs. 5,000,000 the rate of income tax is Rs. 370,000 + 20% of the amount exceeding Rs. 3,500,000.\n",
        "*   Where the taxable salary income exceeds Rs. 5,000,000 but does not exceed Rs. 8,000,000 the rate of income tax is Rs. 670,000 + 22.5% of the amount exceeding Rs. 5,000,000.\n",
        "*   Where the taxable salary income exceeds Rs. 8,000,000 but does not exceed Rs. 12,000,000 the rate of income tax is Rs. 1,345,000 + 25% of the amount exceeding Rs. 8,000,000.\n",
        "*   Where the taxable salary income exceeds Rs. 12,000,000 but does not exceed Rs. 30,000,000 the rate of income tax is Rs. 2,345,000 + 27.5% of the amount exceeding Rs. 12,000,000.\n",
        "*   Where the taxable salary income exceeds Rs. 30,000,000 but does not exceed Rs. 50,000,000 the rate of income tax is Rs. 7,295,000 + 30% of the amount exceeding Rs. 30,000,000.\n",
        "*   Where the taxable salary income exceeds Rs. 50,000,000 but does not exceed Rs. 75,000,000 the rate of income tax is Rs. 13,295,000 + 32.5% of the amount exceeding Rs. 50,000,000.\n",
        "*   Where the taxable salary income exceeds Rs. 75,000,000 the rate of income tax is Rs. 21,420,000 + 35% of the amount exceeding Rs. 75,000,000.\n",
        "\n"
      ]
    },
    {
      "cell_type": "code",
      "metadata": {
        "colab": {
          "base_uri": "https://localhost:8080/"
        },
        "id": "9iFdmvLtmkJH",
        "outputId": "a833f107-694a-48f5-aa1d-8c030328ff70"
      },
      "source": [
        "tax = 0.0\n",
        "salary = float(input(\"Enter your annual salary: \"))\n",
        "if salary <= 600000:\n",
        "  tax = 0.0\n",
        "if salary <= 1200000:\n",
        "  tax = ((salary - 600000) * (5/100))\n",
        "elif salary <= 1800000:\n",
        "  tax = 30000 + ((salary - 1200000) * (10 / 100))\n",
        "elif salary <= 2500000:\n",
        "  tax = 90000 + ((salary - 1800000) * (15 / 100))\n",
        "elif salary <= 3500000:\n",
        "  tax = 195000 + ((salary - 12500000) * (17.50 / 100))\n",
        "elif salary <= 5000000:  \n",
        "  tax = 370000 + ((salary - 2000000) * (20 / 100))\n",
        "elif salary <= 8000000:\n",
        "   tax = 670000 + ((salary - 5000000) * (22.50 / 100))\n",
        "elif salary <= 12000000:\n",
        "  tax = 1345000 + ((salary - 8000000) * (25 / 100))\n",
        "elif salary <= 30000000:\n",
        "  tax = 2345000 + ((salary - 12000000) * (27.50 / 100))\n",
        "elif salary <= 5000000:\n",
        "  tax = 7295000 + ((salary - 30000000) * (30 / 100))\n",
        "elif salary <= 7500000:     \n",
        "  tax = 13295000 + ((salary - 50000000) * (32.50 / 100))\n",
        "else:\n",
        "  tax = 21420000 + ((salary - 75000000) * (35 / 100))\n",
        "print(\"Applicable tax is: \" + str(tax))"
      ],
      "execution_count": null,
      "outputs": [
        {
          "output_type": "stream",
          "text": [
            "Enter your annual salary: 6000000\n",
            "Applicable tax is: 895000.0\n"
          ],
          "name": "stdout"
        }
      ]
    }
  ]
}