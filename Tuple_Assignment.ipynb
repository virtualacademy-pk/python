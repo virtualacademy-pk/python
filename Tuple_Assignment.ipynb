{
  "cells": [
    {
      "cell_type": "markdown",
      "metadata": {
        "id": "view-in-github",
        "colab_type": "text"
      },
      "source": [
        "<a href=\"https://colab.research.google.com/github/virtualacademy-pk/python/blob/main/Tuple_Assignment.ipynb\" target=\"_parent\"><img src=\"https://colab.research.google.com/assets/colab-badge.svg\" alt=\"Open In Colab\"/></a>"
      ]
    },
    {
      "cell_type": "code",
      "execution_count": null,
      "metadata": {
        "id": "FQt2ikRBeoi3"
      },
      "outputs": [],
      "source": [
        "from collections import namedtuple\n"
      ]
    },
    {
      "cell_type": "code",
      "execution_count": null,
      "metadata": {
        "colab": {
          "base_uri": "https://localhost:8080/"
        },
        "id": "pfjgxK0BfuhD",
        "outputId": "86e70307-9ce5-4e40-9c55-f8215568789c"
      },
      "outputs": [
        {
          "name": "stdout",
          "output_type": "stream",
          "text": [
            "=== Welcome to Inventory Management ===\n",
            "1  Add Product \n",
            "2  View Product \n",
            "3  Search Product \n",
            "4  Delete Product \n",
            "5  Modify Product \n",
            "6  Exit \n",
            "Please select: 5\n",
            " Enter Product Id to Modify:1\n",
            "Enter Product Name: Iphone Max Pro\n",
            "Enter Product Category: Mobile\n",
            "Enter Product Price: 6000\n",
            "Product Updated successfully\n",
            "Please select: 2\n",
            "1 \t Iphone Max Pro \t Mobile \t 6000\n",
            "Please select: 6\n"
          ]
        }
      ],
      "source": [
        "from collections import namedtuple\n",
        "Product = namedtuple('Product', ['id', 'name', 'category', 'price'])\n",
        "\n",
        "products = [Product(1, 'Iphone', 'Mobile', 9000)]\n",
        "print(\"=== Welcome to Inventory Management ===\")\n",
        "print(\"1  Add Product \")\n",
        "print(\"2  View Product \")\n",
        "print(\"3  Search Product \")\n",
        "print(\"4  Delete Product \")\n",
        "print(\"5  Modify Product \")\n",
        "print(\"6  Exit \")\n",
        "\n",
        "\n",
        "while True:\n",
        "  type = int(input(\"Please select: \"))\n",
        "  if type == 1:\n",
        "    id = input(\"Enter Product Id: \")\n",
        "    name = input(\"Enter Product Name: \")\n",
        "    category = input(\"Enter Product Category: \")\n",
        "    price = input(\"Enter Product Price: \")\n",
        "    products.append(Product(id, name, category, price))\n",
        "    print(\" Added successfully! \")\n",
        "  elif type == 2:\n",
        "    for index in range(len(products) ):\n",
        "      print (products[index].id, '\\t',  products[index].name, '\\t', products[index].category, '\\t', products[index].price)\n",
        "  elif type == 3:\n",
        "    id = int(input(\" Enter Product Id to Search:\"))\n",
        "    product = None;\n",
        "    for index in range(len(products) ):\n",
        "      if (products[index].id == id):\n",
        "        product = products[index];\n",
        "        break;\n",
        "    if (product):\n",
        "      print(\"Id:\",product.id)\n",
        "      print(\"Product Name :\",product.name)\n",
        "      print(\"Category :\",product.category)\n",
        "      print(\"Price :\",product.price)\n",
        "    else:\n",
        "      print ('Product not Found')\n",
        "  elif type == 4:\n",
        "    id = int(input(\" Enter Product Id to delete:\"))\n",
        "    deleted = False\n",
        "    for index in range(len(products) ):\n",
        "      if (products[index].id == id):\n",
        "        del products[index];\n",
        "        deleted = True\n",
        "        break;\n",
        "    if deleted:\n",
        "       print('Product Deleted Successfully')   \n",
        "    else:\n",
        "      print('No Product Found with this id')          \n",
        "  elif type == 5:\n",
        "    id = int(input(\" Enter Product Id to Modify:\"))\n",
        "    updated = False\n",
        "    for index in range(len(products) ):\n",
        "      if (products[index].id == id):\n",
        "        name = input(\"Enter Product Name: \")\n",
        "        category = input(\"Enter Product Category: \")\n",
        "        price = input(\"Enter Product Price: \")\n",
        "        products[index] = Product(id, name, category, price)\n",
        "        updated = True\n",
        "        break;\n",
        "    if (updated):\n",
        "      print ('Product Updated successfully')\n",
        "    else:\n",
        "      print ('Product not Found')\n",
        "  elif type == 6:\n",
        "    break\n",
        "  else:\n",
        "    print ('Invalid Option')"
      ]
    }
  ],
  "metadata": {
    "colab": {
      "collapsed_sections": [],
      "name": "Tuple Assignment.ipynb",
      "provenance": [],
      "authorship_tag": "ABX9TyNj+ivDwFtCq8zcmjsi7n2v",
      "include_colab_link": true
    },
    "kernelspec": {
      "display_name": "Python 3",
      "name": "python3"
    },
    "language_info": {
      "name": "python"
    }
  },
  "nbformat": 4,
  "nbformat_minor": 0
}