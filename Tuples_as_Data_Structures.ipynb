{
  "cells": [
    {
      "cell_type": "markdown",
      "metadata": {
        "id": "view-in-github",
        "colab_type": "text"
      },
      "source": [
        "<a href=\"https://colab.research.google.com/github/virtualacademy-pk/python/blob/main/Tuples_as_Data_Structures.ipynb\" target=\"_parent\"><img src=\"https://colab.research.google.com/assets/colab-badge.svg\" alt=\"Open In Colab\"/></a>"
      ]
    },
    {
      "cell_type": "markdown",
      "metadata": {
        "id": "KYUsYpuG7lC1"
      },
      "source": [
        "### Tuples as Data Structures"
      ]
    },
    {
      "cell_type": "markdown",
      "metadata": {
        "id": "GXbShAMf7lC5"
      },
      "source": [
        "Tuples are an immutable container type.\n",
        "\n",
        "They contain a collection of objects. The tuple is a sequence type - this means order matters (and is preserved) and elements can be accessed by index (zero based), slicing, or iteration.\n",
        "\n",
        "Other common sequence types in Python include lists and strings. Strings, like tuples are immutable, whereas lists are mutable.\n",
        "\n",
        "Tuples are sometimes presented as immutable lists, but in fact, they could be compared more closely to strings with one major difference: strings are homogeneous sequences, while tuples can be heterogeneous."
      ]
    },
    {
      "cell_type": "markdown",
      "metadata": {
        "id": "wW1ORmoK7lC6"
      },
      "source": [
        "A tuple literal is often presented as:"
      ]
    },
    {
      "cell_type": "code",
      "execution_count": null,
      "metadata": {
        "id": "nSskCJg_7lC6",
        "outputId": "b476afb9-7f19-4eb1-c2e0-5020be5b8aa6"
      },
      "outputs": [
        {
          "data": {
            "text/plain": [
              "('a', 10, True)"
            ]
          },
          "execution_count": 1,
          "metadata": {},
          "output_type": "execute_result"
        }
      ],
      "source": [
        "('a', 10, True)"
      ]
    },
    {
      "cell_type": "markdown",
      "metadata": {
        "id": "-V1wgTHD7lC8"
      },
      "source": [
        "But the parentheses are not what indicate a tuple - it is the commas:"
      ]
    },
    {
      "cell_type": "code",
      "execution_count": null,
      "metadata": {
        "collapsed": true,
        "id": "4epl8DUF7lC8"
      },
      "outputs": [],
      "source": [
        "a = ('a', 10, True)\n",
        "b = 'b', 20, False"
      ]
    },
    {
      "cell_type": "code",
      "execution_count": null,
      "metadata": {
        "id": "-OGurloA7lC9",
        "outputId": "d2a5393e-d320-4f43-e1c4-3379302f3bae"
      },
      "outputs": [
        {
          "data": {
            "text/plain": [
              "tuple"
            ]
          },
          "execution_count": 3,
          "metadata": {},
          "output_type": "execute_result"
        }
      ],
      "source": [
        "type(a)"
      ]
    },
    {
      "cell_type": "code",
      "execution_count": null,
      "metadata": {
        "id": "qoK4ZrDM7lC9",
        "outputId": "02a7ce5d-80d4-4f57-a3a1-e29fb808a3e6"
      },
      "outputs": [
        {
          "data": {
            "text/plain": [
              "tuple"
            ]
          },
          "execution_count": 4,
          "metadata": {},
          "output_type": "execute_result"
        }
      ],
      "source": [
        "type(b)"
      ]
    },
    {
      "cell_type": "markdown",
      "metadata": {
        "id": "eWo5Nimu7lC-"
      },
      "source": [
        "Sometimes however, the parentheses are *required* to remove any ambiguity.\n",
        "\n",
        "For example, consider this function that expects a tuple (or other iterable) as its argument:"
      ]
    },
    {
      "cell_type": "code",
      "execution_count": null,
      "metadata": {
        "collapsed": true,
        "id": "-tyFe6717lC-"
      },
      "outputs": [],
      "source": [
        "def iterate(t):\n",
        "    for element in t:\n",
        "        print(element)"
      ]
    },
    {
      "cell_type": "markdown",
      "metadata": {
        "id": "X8XyJSUH7lC-"
      },
      "source": [
        "If we call the function this way, Python will interpret it as three arguments:"
      ]
    },
    {
      "cell_type": "code",
      "execution_count": null,
      "metadata": {
        "id": "DREm1JCN7lC_",
        "outputId": "00e93d92-b996-436d-b805-e50bbd212adc"
      },
      "outputs": [
        {
          "ename": "TypeError",
          "evalue": "iterate() takes 1 positional argument but 3 were given",
          "output_type": "error",
          "traceback": [
            "\u001b[1;31m---------------------------------------------------------------------------\u001b[0m",
            "\u001b[1;31mTypeError\u001b[0m                                 Traceback (most recent call last)",
            "\u001b[1;32m<ipython-input-6-868649c3b72b>\u001b[0m in \u001b[0;36m<module>\u001b[1;34m()\u001b[0m\n\u001b[1;32m----> 1\u001b[1;33m \u001b[0miterate\u001b[0m\u001b[1;33m(\u001b[0m\u001b[1;36m1\u001b[0m\u001b[1;33m,\u001b[0m \u001b[1;36m2\u001b[0m\u001b[1;33m,\u001b[0m \u001b[1;36m3\u001b[0m\u001b[1;33m)\u001b[0m\u001b[1;33m\u001b[0m\u001b[0m\n\u001b[0m",
            "\u001b[1;31mTypeError\u001b[0m: iterate() takes 1 positional argument but 3 were given"
          ]
        }
      ],
      "source": [
        "iterate(1, 2, 3)"
      ]
    },
    {
      "cell_type": "markdown",
      "metadata": {
        "id": "uBCCfWt07lC_"
      },
      "source": [
        "Instead, we now **have** to use the parentheses to indicate we are packing a tuple:"
      ]
    },
    {
      "cell_type": "code",
      "execution_count": null,
      "metadata": {
        "id": "Mqipm49E7lC_",
        "outputId": "403ef3c2-3e8b-4bfd-b99c-2604dea8b40d"
      },
      "outputs": [
        {
          "name": "stdout",
          "output_type": "stream",
          "text": [
            "1\n",
            "2\n",
            "3\n"
          ]
        }
      ],
      "source": [
        "iterate((1, 2, 3))"
      ]
    },
    {
      "cell_type": "markdown",
      "metadata": {
        "id": "cE1F4vRX7lDA"
      },
      "source": [
        "Since tuples are sequence types, we can access items by index:"
      ]
    },
    {
      "cell_type": "code",
      "execution_count": null,
      "metadata": {
        "collapsed": true,
        "id": "6U2qecAr7lDA"
      },
      "outputs": [],
      "source": [
        "a = 'a', 10, True"
      ]
    },
    {
      "cell_type": "code",
      "execution_count": null,
      "metadata": {
        "id": "bJLnZ1pV7lDA",
        "outputId": "7d35b78f-3f56-46f7-99c6-37ae7eed8a41"
      },
      "outputs": [
        {
          "data": {
            "text/plain": [
              "True"
            ]
          },
          "execution_count": 9,
          "metadata": {},
          "output_type": "execute_result"
        }
      ],
      "source": [
        "a[2]"
      ]
    },
    {
      "cell_type": "markdown",
      "metadata": {
        "id": "o8RSHUzu7lDA"
      },
      "source": [
        "Or we can even slice them:"
      ]
    },
    {
      "cell_type": "code",
      "execution_count": null,
      "metadata": {
        "id": "8JNBQdza7lDB",
        "outputId": "f7987979-af61-48c6-ad60-31e1b9257d28"
      },
      "outputs": [
        {
          "data": {
            "text/plain": [
              "(3, 4)"
            ]
          },
          "execution_count": 10,
          "metadata": {},
          "output_type": "execute_result"
        }
      ],
      "source": [
        "a = 1, 2, 3, 4, 5\n",
        "a[2:4]"
      ]
    },
    {
      "cell_type": "markdown",
      "metadata": {
        "id": "0DNp7keR7lDB"
      },
      "source": [
        "We can iterate over them:"
      ]
    },
    {
      "cell_type": "code",
      "execution_count": null,
      "metadata": {
        "id": "20UF4b4h7lDB",
        "outputId": "7f50f550-5266-4532-a5a6-1ed6c039a9d7"
      },
      "outputs": [
        {
          "name": "stdout",
          "output_type": "stream",
          "text": [
            "1\n",
            "2\n",
            "3\n",
            "4\n",
            "5\n"
          ]
        }
      ],
      "source": [
        "a = 1, 2, 3, 4, 5\n",
        "for element in a:\n",
        "    print(element)"
      ]
    },
    {
      "cell_type": "markdown",
      "metadata": {
        "id": "NT98oqOC7lDB"
      },
      "source": [
        "We can also use unpacking:"
      ]
    },
    {
      "cell_type": "code",
      "execution_count": null,
      "metadata": {
        "collapsed": true,
        "id": "ahzSW_xG7lDB"
      },
      "outputs": [],
      "source": [
        "point = 10, 20, 30"
      ]
    },
    {
      "cell_type": "code",
      "execution_count": null,
      "metadata": {
        "collapsed": true,
        "id": "vkLae6ce7lDC"
      },
      "outputs": [],
      "source": [
        "x, y, z = point"
      ]
    },
    {
      "cell_type": "code",
      "execution_count": null,
      "metadata": {
        "id": "1FihxCrj7lDC",
        "outputId": "e9d91c51-2224-4ebb-c82b-55ac7875603b"
      },
      "outputs": [
        {
          "name": "stdout",
          "output_type": "stream",
          "text": [
            "10\n",
            "20\n",
            "30\n"
          ]
        }
      ],
      "source": [
        "print(x)\n",
        "print(y)\n",
        "print(z)"
      ]
    },
    {
      "cell_type": "markdown",
      "metadata": {
        "id": "-MaJGpDN7lDC"
      },
      "source": [
        "Tuples are immutable, in the sense that we cannot change the reference of an object in the container and we cannot add or remove objects from the container. This is the same as strings."
      ]
    },
    {
      "cell_type": "code",
      "execution_count": null,
      "metadata": {
        "collapsed": true,
        "id": "h-usLXHC7lDC"
      },
      "outputs": [],
      "source": [
        "a = 10, 'python', True"
      ]
    },
    {
      "cell_type": "code",
      "execution_count": null,
      "metadata": {
        "id": "AGwyqj9t7lDD",
        "outputId": "6bd1b48d-3a60-413e-a572-17ee7193134d"
      },
      "outputs": [
        {
          "ename": "TypeError",
          "evalue": "'tuple' object does not support item assignment",
          "output_type": "error",
          "traceback": [
            "\u001b[1;31m---------------------------------------------------------------------------\u001b[0m",
            "\u001b[1;31mTypeError\u001b[0m                                 Traceback (most recent call last)",
            "\u001b[1;32m<ipython-input-16-90c4006d224a>\u001b[0m in \u001b[0;36m<module>\u001b[1;34m()\u001b[0m\n\u001b[1;32m----> 1\u001b[1;33m \u001b[0ma\u001b[0m\u001b[1;33m[\u001b[0m\u001b[1;36m0\u001b[0m\u001b[1;33m]\u001b[0m \u001b[1;33m=\u001b[0m \u001b[1;36m20\u001b[0m\u001b[1;33m\u001b[0m\u001b[0m\n\u001b[0m",
            "\u001b[1;31mTypeError\u001b[0m: 'tuple' object does not support item assignment"
          ]
        }
      ],
      "source": [
        "a[0] = 20"
      ]
    },
    {
      "cell_type": "markdown",
      "metadata": {
        "id": "l6FK0lq47lDD"
      },
      "source": [
        "We can however 'extend' tuples, but just as with strings, we are actually just creating a new tuple:"
      ]
    },
    {
      "cell_type": "code",
      "execution_count": null,
      "metadata": {
        "collapsed": true,
        "id": "rEON-z_37lDD"
      },
      "outputs": [],
      "source": [
        "a = 1, 2, 3"
      ]
    },
    {
      "cell_type": "code",
      "execution_count": null,
      "metadata": {
        "id": "drLeWnfD7lDD",
        "outputId": "a79096df-73ee-4d4e-ec46-114f04a7beb7"
      },
      "outputs": [
        {
          "data": {
            "text/plain": [
              "2726988303960"
            ]
          },
          "execution_count": 18,
          "metadata": {},
          "output_type": "execute_result"
        }
      ],
      "source": [
        "id(a)"
      ]
    },
    {
      "cell_type": "code",
      "execution_count": null,
      "metadata": {
        "collapsed": true,
        "id": "4oR-Z0ef7lDD"
      },
      "outputs": [],
      "source": [
        "a = a + (4, 5, 6)"
      ]
    },
    {
      "cell_type": "code",
      "execution_count": null,
      "metadata": {
        "id": "EtPIrb8Y7lDD",
        "outputId": "83c35987-daab-44f4-bc6d-e547824ba4c0"
      },
      "outputs": [
        {
          "data": {
            "text/plain": [
              "(1, 2, 3, 4, 5, 6)"
            ]
          },
          "execution_count": 20,
          "metadata": {},
          "output_type": "execute_result"
        }
      ],
      "source": [
        "a"
      ]
    },
    {
      "cell_type": "code",
      "execution_count": null,
      "metadata": {
        "id": "BhwaDtq07lDD",
        "outputId": "529e1cd0-0fc1-4cfe-f460-08d74d03bb35"
      },
      "outputs": [
        {
          "data": {
            "text/plain": [
              "2726964089000"
            ]
          },
          "execution_count": 21,
          "metadata": {},
          "output_type": "execute_result"
        }
      ],
      "source": [
        "id(a)"
      ]
    },
    {
      "cell_type": "markdown",
      "metadata": {
        "id": "x5Izh3yY7lDE"
      },
      "source": [
        "As you can see we no longer have the same memory address for `a`."
      ]
    },
    {
      "cell_type": "markdown",
      "metadata": {
        "id": "yADGprUG7lDE"
      },
      "source": [
        "We have to be careful when we think about immutability of tuples. The tuple, as a container is immutable, but the elements contained in the tuple may very well be mutable."
      ]
    },
    {
      "cell_type": "markdown",
      "metadata": {
        "id": "zRtV_jZL7lDE"
      },
      "source": [
        "Let's define a simple point class to store the x and y coordinates of a point in 2D space:"
      ]
    },
    {
      "cell_type": "code",
      "execution_count": null,
      "metadata": {
        "collapsed": true,
        "id": "-qKtPpy97lDE"
      },
      "outputs": [],
      "source": [
        "class Point2D:\n",
        "    def __init__(self, x, y):\n",
        "        self.x = x\n",
        "        self.y = y\n",
        "    \n",
        "    def __repr__(self):\n",
        "        return f'{self.__class__.__name__}(x={self.x}, y={self.y})'"
      ]
    },
    {
      "cell_type": "code",
      "execution_count": null,
      "metadata": {
        "collapsed": true,
        "id": "20pITQN17lDE"
      },
      "outputs": [],
      "source": [
        "a = Point2D(0, 0), Point2D(10, 10), Point2D(20, 20)"
      ]
    },
    {
      "cell_type": "code",
      "execution_count": null,
      "metadata": {
        "id": "DXDthBjW7lDF",
        "outputId": "b39fe6b2-b42a-4588-c11f-ccaedd8d97fa"
      },
      "outputs": [
        {
          "data": {
            "text/plain": [
              "(Point2D(x=0, y=0), Point2D(x=10, y=10), Point2D(x=20, y=20))"
            ]
          },
          "execution_count": 24,
          "metadata": {},
          "output_type": "execute_result"
        }
      ],
      "source": [
        "a"
      ]
    },
    {
      "cell_type": "markdown",
      "metadata": {
        "id": "d-cdiL_Y7lDF"
      },
      "source": [
        "Although the tuple `a` is immutable, its contained elements are mutable:"
      ]
    },
    {
      "cell_type": "markdown",
      "metadata": {
        "id": "bkfCT5bw7lDF"
      },
      "source": [
        "So we cannot do this:"
      ]
    },
    {
      "cell_type": "code",
      "execution_count": null,
      "metadata": {
        "id": "KycpNb4s7lDF",
        "outputId": "eed338b1-91ec-492a-8453-4f2e0ae8736f"
      },
      "outputs": [
        {
          "ename": "TypeError",
          "evalue": "'tuple' object does not support item assignment",
          "output_type": "error",
          "traceback": [
            "\u001b[1;31m---------------------------------------------------------------------------\u001b[0m",
            "\u001b[1;31mTypeError\u001b[0m                                 Traceback (most recent call last)",
            "\u001b[1;32m<ipython-input-25-e869cf518b45>\u001b[0m in \u001b[0;36m<module>\u001b[1;34m()\u001b[0m\n\u001b[1;32m----> 1\u001b[1;33m \u001b[0ma\u001b[0m\u001b[1;33m[\u001b[0m\u001b[1;36m0\u001b[0m\u001b[1;33m]\u001b[0m \u001b[1;33m=\u001b[0m \u001b[0mPoint2D\u001b[0m\u001b[1;33m(\u001b[0m\u001b[1;33m-\u001b[0m\u001b[1;36m10\u001b[0m\u001b[1;33m,\u001b[0m \u001b[1;33m-\u001b[0m\u001b[1;36m10\u001b[0m\u001b[1;33m)\u001b[0m\u001b[1;33m\u001b[0m\u001b[0m\n\u001b[0m",
            "\u001b[1;31mTypeError\u001b[0m: 'tuple' object does not support item assignment"
          ]
        }
      ],
      "source": [
        "a[0] = Point2D(-10, -10)"
      ]
    },
    {
      "cell_type": "markdown",
      "metadata": {
        "id": "5Kv5IsLs7lDG"
      },
      "source": [
        "But we can modify the contents of the first element:"
      ]
    },
    {
      "cell_type": "code",
      "execution_count": null,
      "metadata": {
        "collapsed": true,
        "id": "hUtNmBAv7lDG"
      },
      "outputs": [],
      "source": [
        "a[0].x = -10"
      ]
    },
    {
      "cell_type": "code",
      "execution_count": null,
      "metadata": {
        "id": "104hsbSG7lDG",
        "outputId": "615a47d9-3fb2-46c6-848d-af049929939d"
      },
      "outputs": [
        {
          "data": {
            "text/plain": [
              "(Point2D(x=-10, y=0), Point2D(x=10, y=10), Point2D(x=20, y=20))"
            ]
          },
          "execution_count": 27,
          "metadata": {},
          "output_type": "execute_result"
        }
      ],
      "source": [
        "a"
      ]
    },
    {
      "cell_type": "markdown",
      "metadata": {
        "id": "1-gRL3sE7lDG"
      },
      "source": [
        "#### Tuples as Data Records"
      ]
    },
    {
      "cell_type": "markdown",
      "metadata": {
        "id": "j-kbbVFu7lDG"
      },
      "source": [
        "We can interpret tuples as lightweight data structures where, by convention, the position of the element in the tuple has meaning.\n",
        "\n",
        "For example, we may elect to represent a point as a tuple, and not use the class approach we just did:"
      ]
    },
    {
      "cell_type": "code",
      "execution_count": null,
      "metadata": {
        "collapsed": true,
        "id": "QPFcexQA7lDG"
      },
      "outputs": [],
      "source": [
        "pt1 = (0, 0)\n",
        "pt2 = (10, 10)"
      ]
    },
    {
      "cell_type": "markdown",
      "metadata": {
        "id": "pu7VZ3El7lDG"
      },
      "source": [
        "Here, we simply decide that the first position of the tuple represents the x=coordinate while the second element represents the y-coordinate of a point in 2D space."
      ]
    },
    {
      "cell_type": "markdown",
      "metadata": {
        "id": "XnUqSPvf7lDG"
      },
      "source": [
        "We could also decide that we are going to represent a city using a tuple, where the first position will the city name, the second position will be the country, and the the third position will be the population:"
      ]
    },
    {
      "cell_type": "code",
      "execution_count": null,
      "metadata": {
        "collapsed": true,
        "id": "GE5ZYUj37lDH"
      },
      "outputs": [],
      "source": [
        "london = 'London', 'UK', 8_780_000\n",
        "new_york = 'New York', 'USA', 8_500_000\n",
        "beijing = 'Beijing', 'China', 21_000_000"
      ]
    },
    {
      "cell_type": "markdown",
      "metadata": {
        "id": "pcyzxphY7lDH"
      },
      "source": [
        "We can even have a list of these tuples:"
      ]
    },
    {
      "cell_type": "code",
      "execution_count": null,
      "metadata": {
        "collapsed": true,
        "id": "yt_4f-M_7lDH"
      },
      "outputs": [],
      "source": [
        "cities = london, new_york, beijing"
      ]
    },
    {
      "cell_type": "markdown",
      "metadata": {
        "id": "Ce9bExd87lDH"
      },
      "source": [
        "We can obtain a list of all the cities in the list using a simple list comprehension and the fact that the city name is the first element (index 0) of each tuple:"
      ]
    },
    {
      "cell_type": "code",
      "execution_count": null,
      "metadata": {
        "id": "XT1sWY_17lDH",
        "outputId": "516695c5-ac45-4b7a-b18e-ecf5c156a288"
      },
      "outputs": [
        {
          "name": "stdout",
          "output_type": "stream",
          "text": [
            "['London', 'New York', 'Beijing']\n"
          ]
        }
      ],
      "source": [
        "city_names = [t[0] for t in cities]\n",
        "print(city_names)"
      ]
    },
    {
      "cell_type": "markdown",
      "metadata": {
        "id": "l8m98tGI7lDH"
      },
      "source": [
        "We could even calculate the total population of all these cities.\n",
        "\n",
        "We start with a simple loop to do this:"
      ]
    },
    {
      "cell_type": "code",
      "execution_count": null,
      "metadata": {
        "id": "b9TB7vY57lDH",
        "outputId": "e73a759e-de7e-4fd8-b4a8-43950160a821"
      },
      "outputs": [
        {
          "name": "stdout",
          "output_type": "stream",
          "text": [
            "total=38280000\n"
          ]
        }
      ],
      "source": [
        "total = 0\n",
        "for city in cities:\n",
        "    total += city[2]\n",
        "print (f'total={total}')"
      ]
    },
    {
      "cell_type": "markdown",
      "metadata": {
        "id": "OUbXJeBD7lDI"
      },
      "source": [
        "You will note that the reason this worked is because the `cities` list contained **only** city tuples. The list was homogeneous. The tuples on the other hand are heterogeneous.\n",
        "\n",
        "This is often a key difference between lists and tuples, especially when we consider tuples as data structures. The tuples are heterogeneous, while the list needs to be homogeneous so we can apoply the same calculations to each element of the list.\n",
        "\n",
        "The above example would break if one of the elements in the `cities` list was an integer for example."
      ]
    },
    {
      "cell_type": "markdown",
      "metadata": {
        "id": "axQZb1C97lDI"
      },
      "source": [
        "Back to our example calculating the total population. There is a more Pythonic way of doing this.\n",
        "\n",
        "First we use a comprehension to extract just the population from each city :"
      ]
    },
    {
      "cell_type": "code",
      "execution_count": null,
      "metadata": {
        "id": "M2muDSVn7lDI",
        "outputId": "e53f49d2-ee5e-4b3b-f99b-9b1b270fef1d"
      },
      "outputs": [
        {
          "data": {
            "text/plain": [
              "[8780000, 8500000, 21000000]"
            ]
          },
          "execution_count": 33,
          "metadata": {},
          "output_type": "execute_result"
        }
      ],
      "source": [
        "[city[2] for city in cities]"
      ]
    },
    {
      "cell_type": "markdown",
      "metadata": {
        "id": "qR_B81cw7lDI"
      },
      "source": [
        "Next we simply sum up the population values:"
      ]
    },
    {
      "cell_type": "code",
      "execution_count": null,
      "metadata": {
        "id": "9AO2Ed4z7lDI",
        "outputId": "34b47e1a-6c97-4a5a-a455-d8e1e612a2ac"
      },
      "outputs": [
        {
          "data": {
            "text/plain": [
              "38280000"
            ]
          },
          "execution_count": 34,
          "metadata": {},
          "output_type": "execute_result"
        }
      ],
      "source": [
        "sum([city[2] for city in cities])"
      ]
    },
    {
      "cell_type": "markdown",
      "metadata": {
        "id": "8Ug4S4iJ7lDI"
      },
      "source": [
        "In fact (and we'll cover this in detail later in this course), we don't even need the square brackets in the sum:"
      ]
    },
    {
      "cell_type": "code",
      "execution_count": null,
      "metadata": {
        "id": "qzapmX6O7lDI",
        "outputId": "a9c33b32-3e8f-4a2b-9ea6-c94f9992dda8"
      },
      "outputs": [
        {
          "data": {
            "text/plain": [
              "38280000"
            ]
          },
          "execution_count": 35,
          "metadata": {},
          "output_type": "execute_result"
        }
      ],
      "source": [
        "sum(city[2] for city in cities)"
      ]
    },
    {
      "cell_type": "markdown",
      "metadata": {
        "id": "_61P0yJt7lDI"
      },
      "source": [
        "Now, since tuples are sequence types, and hence iterable, we can also use unpacking to extract values from the tuple:"
      ]
    },
    {
      "cell_type": "code",
      "execution_count": null,
      "metadata": {
        "collapsed": true,
        "id": "0sDRdupY7lDI"
      },
      "outputs": [],
      "source": [
        "city, country, population = new_york"
      ]
    },
    {
      "cell_type": "code",
      "execution_count": null,
      "metadata": {
        "id": "iLG4ps9o7lDJ",
        "outputId": "ca15fec4-2d6b-490a-ca8c-158ebe40657b"
      },
      "outputs": [
        {
          "name": "stdout",
          "output_type": "stream",
          "text": [
            "New York\n",
            "USA\n",
            "8500000\n"
          ]
        }
      ],
      "source": [
        "print(city)\n",
        "print(country)\n",
        "print(population)"
      ]
    },
    {
      "cell_type": "markdown",
      "metadata": {
        "id": "YPEd2B6S7lDJ"
      },
      "source": [
        "We can also use extended unpacking:"
      ]
    },
    {
      "cell_type": "code",
      "execution_count": null,
      "metadata": {
        "collapsed": true,
        "id": "Ogwimufk7lDJ"
      },
      "outputs": [],
      "source": [
        "record = 'DJIA', 2018, 1, 19, 25_987, 26_072, 25_942, 26_072"
      ]
    },
    {
      "cell_type": "markdown",
      "metadata": {
        "id": "KOuk16dw7lDJ"
      },
      "source": [
        "Where the structure is: symbol, year, month, day, open, high low, close"
      ]
    },
    {
      "cell_type": "markdown",
      "metadata": {
        "id": "rSGgeY7N7lDJ"
      },
      "source": [
        "We could then unpack the record using straight unpacking:"
      ]
    },
    {
      "cell_type": "code",
      "execution_count": null,
      "metadata": {
        "collapsed": true,
        "id": "frudPKhD7lDJ"
      },
      "outputs": [],
      "source": [
        "symbol, year, month, day, open_, high, low, close = record"
      ]
    },
    {
      "cell_type": "code",
      "execution_count": null,
      "metadata": {
        "id": "V9UJFoOB7lDJ",
        "outputId": "6be2a5d8-0b9e-4379-983e-5ece4ccc97d2"
      },
      "outputs": [
        {
          "name": "stdout",
          "output_type": "stream",
          "text": [
            "DJIA\n",
            "26072\n"
          ]
        }
      ],
      "source": [
        "print(symbol)\n",
        "print(close)"
      ]
    },
    {
      "cell_type": "markdown",
      "metadata": {
        "id": "vXOQBIs47lDJ"
      },
      "source": [
        "But suppose we are only interested in the symbol, year, month, day and close. Then we could use extended unpacking as follows:"
      ]
    },
    {
      "cell_type": "code",
      "execution_count": null,
      "metadata": {
        "collapsed": true,
        "id": "MZukzkwb7lDJ"
      },
      "outputs": [],
      "source": [
        "symbol, year, month, day, *others, close = record"
      ]
    },
    {
      "cell_type": "code",
      "execution_count": null,
      "metadata": {
        "id": "YJxGxFDj7lDK",
        "outputId": "0357ed6f-c32e-40a8-8fc9-4ea045401f13"
      },
      "outputs": [
        {
          "name": "stdout",
          "output_type": "stream",
          "text": [
            "DJIA 2018 1 19 26072\n"
          ]
        }
      ],
      "source": [
        "print(symbol, year, month, day, close)"
      ]
    },
    {
      "cell_type": "code",
      "execution_count": null,
      "metadata": {
        "id": "mfqo1jZ27lDK",
        "outputId": "45e76369-5500-4322-9ec3-9bcc8ee43cef"
      },
      "outputs": [
        {
          "name": "stdout",
          "output_type": "stream",
          "text": [
            "[25987, 26072, 25942]\n"
          ]
        }
      ],
      "source": [
        "print(others)"
      ]
    },
    {
      "cell_type": "markdown",
      "metadata": {
        "id": "4ZiP4xUj7lDK"
      },
      "source": [
        "A convetion often used in Python when we are not particularly interested in something, is to use an underscore as a variable name:"
      ]
    },
    {
      "cell_type": "code",
      "execution_count": null,
      "metadata": {
        "collapsed": true,
        "id": "5jDRebg37lDK"
      },
      "outputs": [],
      "source": [
        "symbol, year, month, day, *_, close = record"
      ]
    },
    {
      "cell_type": "markdown",
      "metadata": {
        "id": "-jBUFSs27lDK"
      },
      "source": [
        "There's nothing special about the underscore here, it's just a legal variable name (in an interactive Python session, the underscore is actually used to store the results of the last calculation)"
      ]
    },
    {
      "cell_type": "code",
      "execution_count": null,
      "metadata": {
        "id": "xl_K10-F7lDK",
        "outputId": "0d64b22e-f059-4ab0-caa1-caa6b3a0387c"
      },
      "outputs": [
        {
          "name": "stdout",
          "output_type": "stream",
          "text": [
            "[25987, 26072, 25942]\n"
          ]
        }
      ],
      "source": [
        "print(_)"
      ]
    },
    {
      "cell_type": "markdown",
      "metadata": {
        "id": "zGkKYSPv7lDK"
      },
      "source": [
        "By the way do not write code like this to do the unpacking we just did:"
      ]
    },
    {
      "cell_type": "code",
      "execution_count": null,
      "metadata": {
        "collapsed": true,
        "id": "i1uYPsCF7lDK"
      },
      "outputs": [],
      "source": [
        "symbol, year, close = record[0], record[1], record[7]"
      ]
    },
    {
      "cell_type": "markdown",
      "metadata": {
        "id": "KbiWYO6D7lDL"
      },
      "source": [
        "Although this works, it is not very readable code, plus you are packing a new tuple (the right hand side) and then unpacking it into the variables on the left. Much better to do this:"
      ]
    },
    {
      "cell_type": "code",
      "execution_count": null,
      "metadata": {
        "collapsed": true,
        "id": "jLeDBeB17lDL"
      },
      "outputs": [],
      "source": [
        "symbol, year, *_, close = record"
      ]
    },
    {
      "cell_type": "markdown",
      "metadata": {
        "id": "O4x9wRgH7lDL"
      },
      "source": [
        "If you only need to pick a few elements out of the tuple (like in our example where we just wanted the population to sum it up), then by all means access it directly using the index."
      ]
    },
    {
      "cell_type": "markdown",
      "metadata": {
        "id": "aTr_uQa27lDL"
      },
      "source": [
        "But did you know that you can also unpack tuples directly in the loop?"
      ]
    },
    {
      "cell_type": "code",
      "execution_count": null,
      "metadata": {
        "id": "6JnRmnk07lDL",
        "outputId": "0343d187-fa55-488a-9bb3-6ef934eab3b4"
      },
      "outputs": [
        {
          "name": "stdout",
          "output_type": "stream",
          "text": [
            "('London', 'UK', 8780000)\n",
            "('New York', 'USA', 8500000)\n",
            "('Beijing', 'China', 21000000)\n"
          ]
        }
      ],
      "source": [
        "for element in cities:\n",
        "    print(element)"
      ]
    },
    {
      "cell_type": "markdown",
      "metadata": {
        "id": "f7_R3USl7lDL"
      },
      "source": [
        "As you can see, each element is a tuple, and we can actually unpack it at the same time as the loop this way:"
      ]
    },
    {
      "cell_type": "code",
      "execution_count": null,
      "metadata": {
        "id": "bgTbXPgW7lDL",
        "outputId": "d81b7015-9633-4015-d0e0-204fe51c7164"
      },
      "outputs": [
        {
          "name": "stdout",
          "output_type": "stream",
          "text": [
            "city=London, population=8780000\n",
            "city=New York, population=8500000\n",
            "city=Beijing, population=21000000\n"
          ]
        }
      ],
      "source": [
        "for city, country, population in cities:\n",
        "    print(f'city={city}, population={population}')"
      ]
    },
    {
      "cell_type": "markdown",
      "metadata": {
        "id": "8CTgqmjb7lDL"
      },
      "source": [
        "This, by the way, is how we can use the `enumerate` function in Python. The enumerate function produces an iterable from another iterable but contains the index number. Values are returned as tuples, where the first position is the index value, and the second position is the value (here we also see how a tuple was used as a data structure). So that tuple can be unpacked as follows:"
      ]
    },
    {
      "cell_type": "code",
      "execution_count": null,
      "metadata": {
        "id": "yZnoMpNo7lDL",
        "outputId": "d9e6b833-c8e1-4ad8-85d9-6e2c06e993ca"
      },
      "outputs": [
        {
          "name": "stdout",
          "output_type": "stream",
          "text": [
            "0: Beijing\n",
            "1: China\n",
            "2: 21000000\n"
          ]
        }
      ],
      "source": [
        "for index, value in enumerate(beijing):\n",
        "    print(f'{index}: {value}')"
      ]
    },
    {
      "cell_type": "markdown",
      "metadata": {
        "id": "V-rEh6e_7lDM"
      },
      "source": [
        "Of course, since we are not interested in the country in this case, we might write it this way as well:"
      ]
    },
    {
      "cell_type": "code",
      "execution_count": null,
      "metadata": {
        "id": "E18H1vi77lDM",
        "outputId": "a4217398-89db-45af-dbf2-04d9b1d12604"
      },
      "outputs": [
        {
          "name": "stdout",
          "output_type": "stream",
          "text": [
            "city=London, population=8780000\n",
            "city=New York, population=8500000\n",
            "city=Beijing, population=21000000\n"
          ]
        }
      ],
      "source": [
        "for city, _, population in cities:\n",
        "    print(f'city={city}, population={population}')"
      ]
    },
    {
      "cell_type": "markdown",
      "metadata": {
        "collapsed": true,
        "id": "_h7SDRzB7lDM"
      },
      "source": [
        "Another frequent application of usign tuples as data structures is for returning multiple values from a function."
      ]
    },
    {
      "cell_type": "code",
      "execution_count": null,
      "metadata": {
        "id": "UOHEaMXd7lDM"
      },
      "outputs": [],
      "source": [
        "from random import uniform\n",
        "from math import sqrt\n",
        "\n",
        "def random_shot(radius):\n",
        "    '''Generates a random 2D coordinate within \n",
        "    the bounds [-radius, radius] * [-radius, radius]\n",
        "    (a square of area 4)\n",
        "    and also determines if it falls within \n",
        "    a circle centered at the origin \n",
        "    with specified radius'''\n",
        "    \n",
        "    random_x = uniform(-radius, radius)\n",
        "    random_y = uniform(-radius, radius)\n",
        "\n",
        "    if sqrt(random_x ** 2 + random_y ** 2) <= radius:\n",
        "        is_in_circle = True\n",
        "    else:\n",
        "        is_in_circle = False\n",
        "    \n",
        "    return random_x, random_y, is_in_circle"
      ]
    },
    {
      "cell_type": "code",
      "execution_count": null,
      "metadata": {
        "id": "yxXniaSe7lDM",
        "outputId": "f7a3cce2-b9d6-46d0-e5dd-49539b384191"
      },
      "outputs": [
        {
          "name": "stdout",
          "output_type": "stream",
          "text": [
            "Pi is approximately: 3.14294\n"
          ]
        }
      ],
      "source": [
        "num_attempts = 1_000_000\n",
        "count_inside = 0\n",
        "for i in range(num_attempts):\n",
        "    *_, is_in_circle = random_shot(1)\n",
        "    if is_in_circle:\n",
        "        count_inside += 1\n",
        "\n",
        "print(f'Pi is approximately: {4 * count_inside / num_attempts}')"
      ]
    }
  ],
  "metadata": {
    "kernelspec": {
      "display_name": "Python 3",
      "language": "python",
      "name": "python3"
    },
    "language_info": {
      "codemirror_mode": {
        "name": "ipython",
        "version": 3
      },
      "file_extension": ".py",
      "mimetype": "text/x-python",
      "name": "python",
      "nbconvert_exporter": "python",
      "pygments_lexer": "ipython3",
      "version": "3.6.2"
    },
    "colab": {
      "name": "Tuples as Data Structures.ipynb",
      "provenance": [],
      "include_colab_link": true
    }
  },
  "nbformat": 4,
  "nbformat_minor": 0
}