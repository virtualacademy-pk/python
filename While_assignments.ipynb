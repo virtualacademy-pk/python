{
  "nbformat": 4,
  "nbformat_minor": 0,
  "metadata": {
    "colab": {
      "name": "While_assignments.ipynb",
      "provenance": [],
      "collapsed_sections": [
        "0c6502Cor-7k"
      ],
      "authorship_tag": "ABX9TyM+6GmLTmfFCTUQAxqvMVnP",
      "include_colab_link": true
    },
    "kernelspec": {
      "name": "python3",
      "display_name": "Python 3"
    },
    "language_info": {
      "name": "python"
    }
  },
  "cells": [
    {
      "cell_type": "markdown",
      "metadata": {
        "id": "view-in-github",
        "colab_type": "text"
      },
      "source": [
        "<a href=\"https://colab.research.google.com/github/virtualacademy-pk/python/blob/main/While_assignments.ipynb\" target=\"_parent\"><img src=\"https://colab.research.google.com/assets/colab-badge.svg\" alt=\"Open In Colab\"/></a>"
      ]
    },
    {
      "cell_type": "markdown",
      "metadata": {
        "id": "0c6502Cor-7k"
      },
      "source": [
        "### Print the table of given number\n",
        "\n",
        "2 x 1 = 2\n",
        "\n",
        "2 x 2 = 4\n",
        "\n",
        "2 x 3 = 6\n",
        "\n",
        ".\n",
        "\n",
        ".\n",
        "\n",
        ".\n",
        "\n",
        "."
      ]
    },
    {
      "cell_type": "code",
      "metadata": {
        "id": "2gQoX6xTr-dp"
      },
      "source": [
        "n = int(input(\"Enter a number to print table: \"))\n",
        "counter = 1\n",
        "while counter <= 10:\n",
        "  print(str(n) + \" x \" + str(counter) + \" = \" + str(n * counter))\n",
        "  counter += 1\n"
      ],
      "execution_count": null,
      "outputs": []
    },
    {
      "cell_type": "markdown",
      "metadata": {
        "id": "nN1jmD17tLZ5"
      },
      "source": [
        "### Calculate the Factorial of Given Number\n",
        "5! = 5 x 4 x 3 x 2 x 1"
      ]
    },
    {
      "cell_type": "code",
      "metadata": {
        "id": "5qdrMbjttp4p"
      },
      "source": [
        "n = int(input(\"Enter a number to calcualte the factorial: \"))\n",
        "counter = n\n",
        "fact = 1\n",
        "while counter >= 1:\n",
        "  fact *= counter\n",
        "  counter -= 1\n",
        "print (\"Factorial of \" + str(n) + \" is \" + str(fact))\n",
        "\n"
      ],
      "execution_count": null,
      "outputs": []
    },
    {
      "cell_type": "markdown",
      "metadata": {
        "id": "4Ehlx5XpupHJ"
      },
      "source": [
        "### Find the Power of given integer upto given exponent\n",
        "base, exponent\n",
        "2 exp 3\n",
        "2 *2 * 2\n",
        "\n",
        "2 ** 3"
      ]
    },
    {
      "cell_type": "code",
      "metadata": {
        "id": "-sSd4kW2u0kn"
      },
      "source": [
        "base = int(input(\"Enter base: \"))\n",
        "exponent = int(input(\"Enter Exponent: \"))\n",
        "result = 1\n",
        "counter = 1\n",
        "while counter <= exponent:\n",
        "  result = result * base\n",
        "  counter += 1\n",
        "print(\"Result: \" + str(result))\n",
        "print (\"Result using python: \" + str(base ** exponent))\n",
        " "
      ],
      "execution_count": null,
      "outputs": []
    },
    {
      "cell_type": "markdown",
      "metadata": {
        "id": "fSibyQJ9wYPd"
      },
      "source": [
        "### Print the Factors of given Number\n"
      ]
    },
    {
      "cell_type": "code",
      "metadata": {
        "id": "vYv22AU2wmpn"
      },
      "source": [
        "n = int(input(\"Enter a number to find factor: \"))\n",
        "\n",
        "counter = 1\n",
        "print (\"Factors of \" + str(n) + \" are :\")\n",
        "while counter <= n:\n",
        "  if n % counter == 0:\n",
        "    print(counter)\n",
        "  counter += 1  \n"
      ],
      "execution_count": null,
      "outputs": []
    },
    {
      "cell_type": "markdown",
      "metadata": {
        "id": "EBcRw5UGxvuH"
      },
      "source": [
        "### Print the Fibonacci Series upto given number\n",
        "\n",
        "0 1 1 2 3 5 8 13 21......."
      ]
    },
    {
      "cell_type": "code",
      "metadata": {
        "colab": {
          "base_uri": "https://localhost:8080/"
        },
        "id": "mCfnTKT-xvCu",
        "outputId": "be41dd4b-d890-40f8-ff79-c56ef1a24b2d"
      },
      "source": [
        "n = int(input(\"Enter maximum Fibonacci series number: \"))\n",
        "oldNum = 0\n",
        "newNum = 1\n",
        "fibNum = oldNum + newNum\n",
        "\n",
        "fibStr = str(oldNum) + \", \" + str(newNum)\n",
        "\n",
        "while fibNum <= n:\n",
        "  fibStr += \",\" + str(fibNum)\n",
        "  oldNum = newNum\n",
        "  newNum = fibNum\n",
        "  fibNum = oldNum + newNum\n",
        "print (fibStr)"
      ],
      "execution_count": 17,
      "outputs": [
        {
          "output_type": "stream",
          "text": [
            "Enter maximum Fibonacci series number: 1000\n",
            "0, 1,1,2,3,5,8,13,21,34,55,89,144,233,377,610,987\n"
          ],
          "name": "stdout"
        }
      ]
    }
  ]
}