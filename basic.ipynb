{
  "nbformat": 4,
  "nbformat_minor": 0,
  "metadata": {
    "colab": {
      "name": "basic.ipynb",
      "provenance": [],
      "collapsed_sections": [],
      "authorship_tag": "ABX9TyPpScW+Ba48mw/lBDWoDf4p",
      "include_colab_link": true
    },
    "kernelspec": {
      "name": "python3",
      "display_name": "Python 3"
    },
    "language_info": {
      "name": "python"
    }
  },
  "cells": [
    {
      "cell_type": "markdown",
      "metadata": {
        "id": "view-in-github",
        "colab_type": "text"
      },
      "source": [
        "<a href=\"https://colab.research.google.com/github/virtualacademy-pk/python/blob/main/basic.ipynb\" target=\"_parent\"><img src=\"https://colab.research.google.com/assets/colab-badge.svg\" alt=\"Open In Colab\"/></a>"
      ]
    },
    {
      "cell_type": "markdown",
      "metadata": {
        "id": "h2LoDcxhGFua"
      },
      "source": [
        "**Python Introduction**\n",
        "<br>\n",
        "\n",
        "Prgramming with C was too time consuming. Required a language which save time of development. \n",
        "\n",
        "*   Python laid its foundation in the late 1980s.\n",
        "*   implementation of Python was started in December 1989 by Guido Van Rossum at CWI in Netherland.\n",
        "*   February 1991, Guido Van Rossum published the code (labeled version 0.9.0) to alt.sources\n",
        " \n",
        "\n",
        "---\n",
        "\n",
        "\n",
        "**Reason of its popularity**\n",
        "<br>\n",
        "*    Readability - English like syntax\n",
        "*    Interpreted Language - easier to debug\n",
        "*    Dynamically Typed - determine type at execution\n",
        "*    Open Source - free to use \n",
        "---\n",
        "\n",
        "**Version History**\n",
        "\n",
        "<table class=\"alt\" style=\"border: 1px solid black\">\n",
        "<tbody><tr><th>Python Version</th><th>Released Date</th><th>Features</th></tr>\n",
        "<tr><td>Python 1.0</td><td>January 1994</td>\n",
        "<td rowspan=\"3\">f</td>\n",
        "</tr>\n",
        "<tr><td>Python 1.5</td><td>December 31, 1997</td></tr>\n",
        "<tr><td>Python 1.6</td><td>September 5, 2000</td></tr>\n",
        "<tr><td>Python 2.0</td><td>October 16, 2000</td><td  >\n",
        "\n",
        " unicode support, list comprehension, and garbage collection\n",
        "</td></tr>\n",
        "<tr><td>Python 2.1</td><td>April 17, 2001</td><td>Added support for nested scopes to perform more like other statically scoped languages</td></tr>\n",
        "<tr><td>Python 2.2</td><td>December 21, 2001</td><td>Unified types and classes into one Python hierarchy to make Python more object-oriented. Also, added generator routines that control the behavior of loops.</td></tr>\n",
        "<tr><td>Python 2.3</td><td>July 29, 2003</td><td>Did some optimization, Python 2.3 is about 20-30% faster than Python 2.2.3. Some of this speed-up was obtained by removing the SET_LINENO opcodes</td></tr>\n",
        "<tr><td>Python 2.4</td><td>November 30, 2004</td><td>Added generator expressions for iterator feature, function decorators, and the decimal data type</td></tr>\n",
        "<tr><td>Python 2.5</td><td>September 19, 2006</td><td>Added the with statement that encloses code within a context manager.</td></tr>\n",
        "<tr><td>Python 2.6</td><td>October 1, 2008</td><td>Added all backwards compatible 3.0 features, including typeError, bin(), and _complex_(). Switched from SourceForge Issue Tracking to Roundup. Also, optimized the with statement.</td></tr>\n",
        "<tr><td>Python 2.7</td><td>July 3, 2010</td><td>- Minor bug fixes and optimizations. Terminated support for Python 2.</td></tr>\n",
        "<tr><td>Python 3.0</td><td>December 3, 2008</td><td>Removed fundamental design flaws with the language by deleting duplicate modules and constructs. Python 2 code was not compatible with Python 3.0. Exception handling: exceptions now need the as keyword, exec as *var* is standard over exec, *var*.</td></tr>\n",
        "<tr><td>Python 3.1</td><td>June 27, 2009</td><td>Added support for ordered dictionaries, which let configuration files be read, modified, and then written back in their original order.</td></tr>\n",
        "<tr><td>Python 3.2</td><td>February 20, 2011</td><td>Adds the option to restrict modules to specific APIs that will remain stable despite updates. Added the argparse module to replace optparse and the futures library for concurrent programming.</td></tr>\n",
        "<tr><td>Python 3.3</td><td>September 29, 2012</td><td>Added yield from expression for generator delegation. Readded explicit unicode declaration support to ease transition from Py2 to Py3. Simplified error catching by removing the requirement to name a specific error type. All errors can now be caught using OSError.</td></tr>\n",
        "<tr><td>Python 3.4</td><td>March 16, 2014</td><td>Added the asyncho module that includes support for event loop implementations.</td></tr>\n",
        "<tr><td>Python 3.5</td><td>September 13, 2015</td><td>Additional support for asynchronous programming by adding awaitable objects, coroutine functions, asynchronous iteration, and asynchronous context managers.</td></tr>\n",
        "<tr><td>Python 3.6</td><td>December 23, 2016</td><td>Stabilized asyncho module with additional features, syntax, optimizations, and bug fixes. Added support for asynchronous generators and compressions. Added f-strings, which include expressions evaluated at runtime.</td></tr>\n",
        "<tr><td>Python 3.7</td><td>June 27, 2018</td><td>- Added async and await as reserved keywords. Also, added breakpoint() method, which drops you into the debugger at the call site. Annotation evaluations can now be postponed until runtime rather than at definition to avoid scope errors.</td></tr>\n",
        "<tr><td>Python 3.8</td><td>October 14, 2019</td><td>- Added “walrus operator” (:=) that allows you to assign value to variables as part of a larger expression. Enabled positional-only arguments that allows you to specify that a parameter must be noted by position rather than keyword. Added support for f-string specifier = to allow more control over how the f-string is presented.</td></tr>\n",
        "<tr><td>Python 3.9</td><td>October 5, 2020</td><td>Merge (|) and update (|=) added to dict library to compliment dict.update() method. Added str.removeprefix(prefix) and str.removesuffix(suffix) to easily remove unneeded sections of a string.</td></tr>\n",
        "\n",
        "</tbody></table>"
      ]
    },
    {
      "cell_type": "markdown",
      "metadata": {
        "id": "TViUD-L1Q5G9"
      },
      "source": [
        "**Usage of Python**\n",
        "\n",
        "\n",
        "*    Desktop Applications\n",
        "*    Web Applications\n",
        "*    Data Science\n",
        "*    Artificial Intelligence\n",
        "*    Machine Learning\n",
        "*    Scientific Computing\n",
        "*    Robotics\n",
        "*    Internet of Things (IoT)\n",
        "*    Gaming\n",
        "*    Mobile Apps\n",
        "*    Data Analysis and Preprocessing\n",
        "\n"
      ]
    },
    {
      "cell_type": "markdown",
      "metadata": {
        "id": "XalPj0nHW9ts"
      },
      "source": [
        "**Download & Install**\n",
        "\n",
        "1.   Visit the link https://www.python.org/downloads/ to download the latest release \n",
        "2.   Select the Python's version to download.\n",
        "3.   Double-click the executable file, which is downloaded; \n",
        "4.   From newly opened window select Customize installation or default path and proceed. \n",
        "5.   Click on the Add Path check box, it will set the Python path automatically\n",
        "6.   After installation try to run python on the command prompt. Type the command `python -version ` in case of python3\n",
        "\n",
        "\n",
        "\n",
        "of Python. "
      ]
    },
    {
      "cell_type": "code",
      "metadata": {
        "colab": {
          "base_uri": "https://localhost:8080/"
        },
        "id": "Yf0LJ7zrjC6_",
        "outputId": "ea6ae071-5529-4cd1-d2ac-c69669b50e57"
      },
      "source": [
        "a = 9\n",
        "b = 89\n",
        "ans = a + b\n",
        "print (ans)"
      ],
      "execution_count": null,
      "outputs": [
        {
          "output_type": "stream",
          "text": [
            "98\n"
          ],
          "name": "stdout"
        }
      ]
    }
  ]
}