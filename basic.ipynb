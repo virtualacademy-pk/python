{
  "nbformat": 4,
  "nbformat_minor": 0,
  "metadata": {
    "colab": {
      "name": "basic.ipynb",
      "provenance": [],
      "collapsed_sections": [],
      "authorship_tag": "ABX9TyOWSjHZX21/Pukcn82PdRO6",
      "include_colab_link": true
    },
    "kernelspec": {
      "name": "python3",
      "display_name": "Python 3"
    },
    "language_info": {
      "name": "python"
    }
  },
  "cells": [
    {
      "cell_type": "markdown",
      "metadata": {
        "id": "view-in-github",
        "colab_type": "text"
      },
      "source": [
        "<a href=\"https://colab.research.google.com/github/virtualacademy-pk/python/blob/main/basic.ipynb\" target=\"_parent\"><img src=\"https://colab.research.google.com/assets/colab-badge.svg\" alt=\"Open In Colab\"/></a>"
      ]
    },
    {
      "cell_type": "markdown",
      "metadata": {
        "id": "h2LoDcxhGFua"
      },
      "source": [
        "\n",
        "*   Python laid its foundation in the late 1980s.\n",
        "*   implementation of Python was started in December 1989 by Guido Van Rossum at CWI in Netherland.\n",
        "*   February 1991, Guido Van Rossum published the code (labeled version 0.9.0) to alt.sources\n",
        "<br>\n",
        "\n",
        "<table class=\"alt\">\n",
        "<tbody><tr><th>Python Version</th><th>Released Date</th></tr>\n",
        "<tr><td>Python 1.0</td><td>January 1994</td></tr>\n",
        "<tr><td>Python 1.5</td><td>December 31, 1997</td></tr>\n",
        "<tr><td>Python 1.6</td><td>September 5, 2000</td></tr>\n",
        "<tr><td>Python 2.0</td><td>October 16, 2000</td></tr>\n",
        "<tr><td>Python 2.1</td><td>April 17, 2001</td></tr>\n",
        "<tr><td>Python 2.2</td><td>December 21, 2001</td></tr>\n",
        "<tr><td>Python 2.3</td><td>July 29, 2003</td></tr>\n",
        "<tr><td>Python 2.4</td><td>November 30, 2004</td></tr>\n",
        "<tr><td>Python 2.5</td><td>September 19, 2006</td></tr>\n",
        "<tr><td>Python 2.6</td><td>October 1, 2008</td></tr>\n",
        "<tr><td>Python 2.7</td><td>July 3, 2010</td></tr>\n",
        "<tr><td>Python 3.0</td><td>December 3, 2008</td></tr>\n",
        "<tr><td>Python 3.1</td><td>June 27, 2009</td></tr>\n",
        "<tr><td>Python 3.2</td><td>February 20, 2011</td></tr>\n",
        "<tr><td>Python 3.3</td><td>September 29, 2012</td></tr>\n",
        "<tr><td>Python 3.4</td><td>March 16, 2014</td></tr>\n",
        "<tr><td>Python 3.5</td><td>September 13, 2015</td></tr>\n",
        "<tr><td>Python 3.6</td><td>December 23, 2016</td></tr>\n",
        "<tr><td>Python 3.7</td><td>June 27, 2018</td></tr>\n",
        "<tr><td>Python 3.8</td><td>October 14, 2019</td></tr>\n",
        "</tbody></table>"
      ]
    },
    {
      "cell_type": "markdown",
      "metadata": {
        "id": "TViUD-L1Q5G9"
      },
      "source": [
        "**Usage of Python**\n",
        "\n",
        "\n",
        "*    Desktop Applications\n",
        "*    Web Applications\n",
        "*    Data Science\n",
        "*    Artificial Intelligence\n",
        "*    Machine Learning\n",
        "*    Scientific Computing\n",
        "*    Robotics\n",
        "*    Internet of Things (IoT)\n",
        "*    Gaming\n",
        "*    Mobile Apps\n",
        "*    Data Analysis and Preprocessing\n",
        "\n"
      ]
    },
    {
      "cell_type": "markdown",
      "metadata": {
        "id": "XalPj0nHW9ts"
      },
      "source": [
        "**Download & Install**\n",
        "\n",
        "1.   Visit the link https://www.python.org/downloads/ to download the latest release \n",
        "2.   Select the Python's version to download.\n",
        "3.   Double-click the executable file, which is downloaded; \n",
        "4.   From newly opened window select Customize installation or default path and proceed. \n",
        "5.   Click on the Add Path check box, it will set the Python path automatically\n",
        "6.   After installation try to run python on the command prompt. Type the command `python -version ` in case of python3\n",
        "\n",
        "\n",
        "\n",
        "of Python. "
      ]
    },
    {
      "cell_type": "code",
      "metadata": {
        "colab": {
          "base_uri": "https://localhost:8080/"
        },
        "id": "Yf0LJ7zrjC6_",
        "outputId": "ea6ae071-5529-4cd1-d2ac-c69669b50e57"
      },
      "source": [
        "a = 9\n",
        "b = 89\n",
        "ans = a + b\n",
        "print (ans)"
      ],
      "execution_count": null,
      "outputs": [
        {
          "output_type": "stream",
          "text": [
            "98\n"
          ],
          "name": "stdout"
        }
      ]
    }
  ]
}