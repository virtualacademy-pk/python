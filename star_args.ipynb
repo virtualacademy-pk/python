{
  "cells": [
    {
      "cell_type": "markdown",
      "metadata": {
        "id": "view-in-github",
        "colab_type": "text"
      },
      "source": [
        "<a href=\"https://colab.research.google.com/github/virtualacademy-pk/python/blob/main/star_args.ipynb\" target=\"_parent\"><img src=\"https://colab.research.google.com/assets/colab-badge.svg\" alt=\"Open In Colab\"/></a>"
      ]
    },
    {
      "cell_type": "markdown",
      "metadata": {
        "id": "QjkxXB6tk2mn"
      },
      "source": [
        "### \\*args"
      ]
    },
    {
      "cell_type": "markdown",
      "metadata": {
        "id": "ReCxaLBwk2mq"
      },
      "source": [
        "Recall from iterable unpacking:"
      ]
    },
    {
      "cell_type": "code",
      "execution_count": null,
      "metadata": {
        "collapsed": true,
        "id": "hcgCLC9_k2mq"
      },
      "outputs": [],
      "source": [
        "a, b, *c = 10, 20, 'a', 'b'"
      ]
    },
    {
      "cell_type": "code",
      "execution_count": null,
      "metadata": {
        "id": "MKMy2-yik2mr",
        "outputId": "d461ebc9-0fcd-4399-b842-11c9b0215eea"
      },
      "outputs": [
        {
          "name": "stdout",
          "output_type": "stream",
          "text": [
            "10 20\n"
          ]
        }
      ],
      "source": [
        "print(a, b)"
      ]
    },
    {
      "cell_type": "code",
      "execution_count": null,
      "metadata": {
        "id": "D0rDYFQ-k2ms",
        "outputId": "d81d4ec7-3a6e-4e22-b829-98c71e380cd9"
      },
      "outputs": [
        {
          "name": "stdout",
          "output_type": "stream",
          "text": [
            "['a', 'b']\n"
          ]
        }
      ],
      "source": [
        "print(c)"
      ]
    },
    {
      "cell_type": "markdown",
      "metadata": {
        "id": "RnZhM_xwk2mt"
      },
      "source": [
        "We can use a similar concept in function definitions to allow for arbitrary numbers of **positional** parameters/arguments:"
      ]
    },
    {
      "cell_type": "code",
      "execution_count": 1,
      "metadata": {
        "collapsed": true,
        "id": "028NGPsOk2mt"
      },
      "outputs": [],
      "source": [
        "def func1(a, b, *args):\n",
        "    print(a)\n",
        "    print(b)\n",
        "    print(args)"
      ]
    },
    {
      "cell_type": "code",
      "execution_count": 2,
      "metadata": {
        "colab": {
          "base_uri": "https://localhost:8080/"
        },
        "id": "dDbwLCbTk2mu",
        "outputId": "1ea99f1e-c7d0-41b5-c700-a09e240e44e2"
      },
      "outputs": [
        {
          "output_type": "stream",
          "name": "stdout",
          "text": [
            "1\n",
            "2\n",
            "('a', 'b')\n"
          ]
        }
      ],
      "source": [
        "func1(1, 2, 'a', 'b')"
      ]
    },
    {
      "cell_type": "markdown",
      "metadata": {
        "id": "I59BuyVyk2mu"
      },
      "source": [
        "A few things to note:"
      ]
    },
    {
      "cell_type": "markdown",
      "metadata": {
        "id": "Pvrue6uFk2mv"
      },
      "source": [
        "1. Unlike iterable unpacking, **\\*args** will be a **tuple**, not a list.\n",
        "\n",
        "2. The name of the parameter **args** can be anything you prefer\n",
        "\n",
        "3. You cannot specify positional arguments **after** the **\\*args** parameter - this does something different that we'll cover in the next lecture."
      ]
    },
    {
      "cell_type": "markdown",
      "source": [
        ""
      ],
      "metadata": {
        "id": "kTqURF8Wo9l3"
      }
    },
    {
      "cell_type": "code",
      "execution_count": null,
      "metadata": {
        "id": "Wr7I5Ut4k2mv"
      },
      "outputs": [],
      "source": [
        "def func1(a, b, *my_vars):\n",
        "    print(a)\n",
        "    print(b)\n",
        "    print(my_vars)"
      ]
    },
    {
      "cell_type": "code",
      "execution_count": null,
      "metadata": {
        "id": "o_C51fvck2mw",
        "outputId": "4378c981-fe72-4aaa-debd-fe4e2a87159a"
      },
      "outputs": [
        {
          "name": "stdout",
          "output_type": "stream",
          "text": [
            "10\n",
            "20\n",
            "('a', 'b', 'c')\n"
          ]
        }
      ],
      "source": [
        "func1(10, 20, 'a', 'b', 'c')"
      ]
    },
    {
      "cell_type": "code",
      "execution_count": null,
      "metadata": {
        "collapsed": true,
        "id": "-KulMz1ek2mw"
      },
      "outputs": [],
      "source": [
        "def func1(a, b, *c, d):\n",
        "    print(a)\n",
        "    print(b)\n",
        "    print(c)\n",
        "    print(d)"
      ]
    },
    {
      "cell_type": "code",
      "execution_count": null,
      "metadata": {
        "id": "lyLqpXV6k2mw",
        "outputId": "f63bcf44-01c5-4d7f-e507-d4a2ca9889ff"
      },
      "outputs": [
        {
          "ename": "TypeError",
          "evalue": "func1() missing 1 required keyword-only argument: 'd'",
          "output_type": "error",
          "traceback": [
            "\u001b[1;31m---------------------------------------------------------------------------\u001b[0m",
            "\u001b[1;31mTypeError\u001b[0m                                 Traceback (most recent call last)",
            "\u001b[1;32m<ipython-input-18-50a3343cf093>\u001b[0m in \u001b[0;36m<module>\u001b[1;34m()\u001b[0m\n\u001b[1;32m----> 1\u001b[1;33m \u001b[0mfunc1\u001b[0m\u001b[1;33m(\u001b[0m\u001b[1;36m10\u001b[0m\u001b[1;33m,\u001b[0m \u001b[1;36m20\u001b[0m\u001b[1;33m,\u001b[0m \u001b[1;34m'a'\u001b[0m\u001b[1;33m,\u001b[0m \u001b[1;34m'b'\u001b[0m\u001b[1;33m,\u001b[0m \u001b[1;36m100\u001b[0m\u001b[1;33m)\u001b[0m\u001b[1;33m\u001b[0m\u001b[0m\n\u001b[0m",
            "\u001b[1;31mTypeError\u001b[0m: func1() missing 1 required keyword-only argument: 'd'"
          ]
        }
      ],
      "source": [
        "func1(10, 20, 'a', 'b', 100)"
      ]
    },
    {
      "cell_type": "markdown",
      "metadata": {
        "id": "1z4SwJZ4k2mx"
      },
      "source": [
        "Let's see how we might use this to calculate the average of an arbitrary number of parameters."
      ]
    },
    {
      "cell_type": "code",
      "execution_count": null,
      "metadata": {
        "id": "l0wCGOYDk2mx"
      },
      "outputs": [],
      "source": [
        "def avg(*args):\n",
        "    count = len(args)\n",
        "    total = sum(args)\n",
        "    return total/count"
      ]
    },
    {
      "cell_type": "code",
      "execution_count": null,
      "metadata": {
        "id": "Apjxtn9jk2mx",
        "outputId": "3011d76e-fd4b-4bd6-bebe-0edda3fd85f1"
      },
      "outputs": [
        {
          "data": {
            "text/plain": [
              "3.0"
            ]
          },
          "execution_count": 20,
          "metadata": {},
          "output_type": "execute_result"
        }
      ],
      "source": [
        "avg(2, 2, 4, 4)"
      ]
    },
    {
      "cell_type": "markdown",
      "metadata": {
        "id": "9gzHvWtAk2mx"
      },
      "source": [
        "But watch what happens here:"
      ]
    },
    {
      "cell_type": "code",
      "execution_count": null,
      "metadata": {
        "id": "ZNCyG3k3k2my",
        "outputId": "41f94eba-16c7-4f45-9858-754cc314ec2d"
      },
      "outputs": [
        {
          "ename": "ZeroDivisionError",
          "evalue": "division by zero",
          "output_type": "error",
          "traceback": [
            "\u001b[1;31m---------------------------------------------------------------------------\u001b[0m",
            "\u001b[1;31mZeroDivisionError\u001b[0m                         Traceback (most recent call last)",
            "\u001b[1;32m<ipython-input-21-867ab4243063>\u001b[0m in \u001b[0;36m<module>\u001b[1;34m()\u001b[0m\n\u001b[1;32m----> 1\u001b[1;33m \u001b[0mavg\u001b[0m\u001b[1;33m(\u001b[0m\u001b[1;33m)\u001b[0m\u001b[1;33m\u001b[0m\u001b[0m\n\u001b[0m",
            "\u001b[1;32m<ipython-input-19-03b621c670aa>\u001b[0m in \u001b[0;36mavg\u001b[1;34m(*args)\u001b[0m\n\u001b[0;32m      2\u001b[0m     \u001b[0mcount\u001b[0m \u001b[1;33m=\u001b[0m \u001b[0mlen\u001b[0m\u001b[1;33m(\u001b[0m\u001b[0margs\u001b[0m\u001b[1;33m)\u001b[0m\u001b[1;33m\u001b[0m\u001b[0m\n\u001b[0;32m      3\u001b[0m     \u001b[0mtotal\u001b[0m \u001b[1;33m=\u001b[0m \u001b[0msum\u001b[0m\u001b[1;33m(\u001b[0m\u001b[0margs\u001b[0m\u001b[1;33m)\u001b[0m\u001b[1;33m\u001b[0m\u001b[0m\n\u001b[1;32m----> 4\u001b[1;33m     \u001b[1;32mreturn\u001b[0m \u001b[0mtotal\u001b[0m\u001b[1;33m/\u001b[0m\u001b[0mcount\u001b[0m\u001b[1;33m\u001b[0m\u001b[0m\n\u001b[0m",
            "\u001b[1;31mZeroDivisionError\u001b[0m: division by zero"
          ]
        }
      ],
      "source": [
        "avg()"
      ]
    },
    {
      "cell_type": "markdown",
      "metadata": {
        "id": "Rjy3x3msk2my"
      },
      "source": [
        "The problem is that we passed zero arguments.\n",
        "\n",
        "We can fix this in one of two ways:"
      ]
    },
    {
      "cell_type": "code",
      "execution_count": null,
      "metadata": {
        "id": "mZGRhj9Bk2my"
      },
      "outputs": [],
      "source": [
        "def avg(*args):\n",
        "    count = len(args)\n",
        "    total = sum(args)\n",
        "    if count == 0:\n",
        "        return 0\n",
        "    else:\n",
        "        return total/count"
      ]
    },
    {
      "cell_type": "code",
      "execution_count": null,
      "metadata": {
        "id": "kLyAhSrYk2my",
        "outputId": "9d74fc89-3235-4ec7-b5ab-5975d7c8deb6"
      },
      "outputs": [
        {
          "data": {
            "text/plain": [
              "3.0"
            ]
          },
          "execution_count": 23,
          "metadata": {},
          "output_type": "execute_result"
        }
      ],
      "source": [
        "avg(2, 2, 4, 4)"
      ]
    },
    {
      "cell_type": "code",
      "execution_count": null,
      "metadata": {
        "id": "PcJ7TGYUk2my",
        "outputId": "ef19d5d1-fa00-43c6-f7e7-5d1bb60d5b00"
      },
      "outputs": [
        {
          "data": {
            "text/plain": [
              "0"
            ]
          },
          "execution_count": 24,
          "metadata": {},
          "output_type": "execute_result"
        }
      ],
      "source": [
        "avg()"
      ]
    },
    {
      "cell_type": "markdown",
      "metadata": {
        "id": "hN92OSARk2mz"
      },
      "source": [
        "But we may not want to allow specifying zero arguments, in which case we can split our parameters into a required (non-defaulted) positional argument, and the rest:"
      ]
    },
    {
      "cell_type": "code",
      "execution_count": null,
      "metadata": {
        "collapsed": true,
        "id": "NZzpKwI6k2mz"
      },
      "outputs": [],
      "source": [
        "def avg(a, *args):\n",
        "    count = len(args) + 1\n",
        "    total = a + sum(args)\n",
        "    return total/count"
      ]
    },
    {
      "cell_type": "code",
      "execution_count": null,
      "metadata": {
        "id": "Tmyo_nJfk2mz",
        "outputId": "206371c7-4efc-419b-8915-2e159401214d"
      },
      "outputs": [
        {
          "data": {
            "text/plain": [
              "3.0"
            ]
          },
          "execution_count": 26,
          "metadata": {},
          "output_type": "execute_result"
        }
      ],
      "source": [
        "avg(2, 2, 4, 4)"
      ]
    },
    {
      "cell_type": "code",
      "execution_count": null,
      "metadata": {
        "id": "lBkKbPp9k2mz",
        "outputId": "5605b1f0-b655-4eb8-a571-f8669813d28a"
      },
      "outputs": [
        {
          "ename": "TypeError",
          "evalue": "avg() missing 1 required positional argument: 'a'",
          "output_type": "error",
          "traceback": [
            "\u001b[1;31m---------------------------------------------------------------------------\u001b[0m",
            "\u001b[1;31mTypeError\u001b[0m                                 Traceback (most recent call last)",
            "\u001b[1;32m<ipython-input-27-867ab4243063>\u001b[0m in \u001b[0;36m<module>\u001b[1;34m()\u001b[0m\n\u001b[1;32m----> 1\u001b[1;33m \u001b[0mavg\u001b[0m\u001b[1;33m(\u001b[0m\u001b[1;33m)\u001b[0m\u001b[1;33m\u001b[0m\u001b[0m\n\u001b[0m",
            "\u001b[1;31mTypeError\u001b[0m: avg() missing 1 required positional argument: 'a'"
          ]
        }
      ],
      "source": [
        "avg()"
      ]
    },
    {
      "cell_type": "markdown",
      "metadata": {
        "id": "Ks9h-W38k2m0"
      },
      "source": [
        "As you can see, an exception occurs if we do not specify at least one argument."
      ]
    },
    {
      "cell_type": "markdown",
      "metadata": {
        "id": "mHgs0FD1k2m0"
      },
      "source": [
        "#### Unpacking an iterable into positional arguments"
      ]
    },
    {
      "cell_type": "code",
      "execution_count": null,
      "metadata": {
        "collapsed": true,
        "id": "WfCjnh7gk2m0"
      },
      "outputs": [],
      "source": [
        "def func1(a, b, c):\n",
        "    print(a)\n",
        "    print(b)\n",
        "    print(c)"
      ]
    },
    {
      "cell_type": "code",
      "execution_count": null,
      "metadata": {
        "collapsed": true,
        "id": "prT7tUnbk2m0"
      },
      "outputs": [],
      "source": [
        "l = [10, 20, 30]"
      ]
    },
    {
      "cell_type": "markdown",
      "metadata": {
        "id": "qG3_OYWak2m0"
      },
      "source": [
        "This will **not** work:"
      ]
    },
    {
      "cell_type": "code",
      "execution_count": null,
      "metadata": {
        "scrolled": true,
        "id": "M18aMVCkk2m0",
        "outputId": "a3581774-e6d5-47ba-ac2c-089585e6ab05"
      },
      "outputs": [
        {
          "ename": "TypeError",
          "evalue": "func1() missing 2 required positional arguments: 'b' and 'c'",
          "output_type": "error",
          "traceback": [
            "\u001b[1;31m---------------------------------------------------------------------------\u001b[0m",
            "\u001b[1;31mTypeError\u001b[0m                                 Traceback (most recent call last)",
            "\u001b[1;32m<ipython-input-30-3255f48773bf>\u001b[0m in \u001b[0;36m<module>\u001b[1;34m()\u001b[0m\n\u001b[1;32m----> 1\u001b[1;33m \u001b[0mfunc1\u001b[0m\u001b[1;33m(\u001b[0m\u001b[0ml\u001b[0m\u001b[1;33m)\u001b[0m\u001b[1;33m\u001b[0m\u001b[0m\n\u001b[0m",
            "\u001b[1;31mTypeError\u001b[0m: func1() missing 2 required positional arguments: 'b' and 'c'"
          ]
        }
      ],
      "source": [
        "func1(l)"
      ]
    },
    {
      "cell_type": "markdown",
      "metadata": {
        "id": "pB-w95Zfk2m0"
      },
      "source": [
        "The function expects three positional arguments, but we only supplied a single one (albeit a list).\n",
        "\n",
        "But we could unpack the list, and **then** pass it to as the function arguments:"
      ]
    },
    {
      "cell_type": "code",
      "execution_count": null,
      "metadata": {
        "id": "TDP2Biu6k2m1",
        "outputId": "711cbc68-202f-4764-98fb-07add4317732"
      },
      "outputs": [
        {
          "data": {
            "text/plain": [
              "(10, 20, 30)"
            ]
          },
          "execution_count": 31,
          "metadata": {},
          "output_type": "execute_result"
        }
      ],
      "source": [
        "*l,"
      ]
    },
    {
      "cell_type": "code",
      "execution_count": null,
      "metadata": {
        "scrolled": true,
        "id": "fwE4QOYEk2m1",
        "outputId": "50cacf17-e36f-4d26-a0d7-aa4682e79374"
      },
      "outputs": [
        {
          "name": "stdout",
          "output_type": "stream",
          "text": [
            "10\n",
            "20\n",
            "30\n"
          ]
        }
      ],
      "source": [
        "func1(*l)"
      ]
    },
    {
      "cell_type": "markdown",
      "metadata": {
        "id": "UMjIaqtWk2m1"
      },
      "source": [
        "What about mixing positional and keyword arguments with this?"
      ]
    },
    {
      "cell_type": "code",
      "execution_count": null,
      "metadata": {
        "collapsed": true,
        "id": "oBVi8HEyk2m1"
      },
      "outputs": [],
      "source": [
        "def func1(a, b, c, *d):\n",
        "    print(a)\n",
        "    print(b)\n",
        "    print(c)\n",
        "    print(d)"
      ]
    },
    {
      "cell_type": "code",
      "execution_count": null,
      "metadata": {
        "scrolled": true,
        "id": "i4Eypj_Ak2m1",
        "outputId": "e581eee5-e7fe-475d-ed75-738e9bc658c5"
      },
      "outputs": [
        {
          "ename": "SyntaxError",
          "evalue": "positional argument follows keyword argument (<ipython-input-34-f5236a91cb18>, line 1)",
          "output_type": "error",
          "traceback": [
            "\u001b[1;36m  File \u001b[1;32m\"<ipython-input-34-f5236a91cb18>\"\u001b[1;36m, line \u001b[1;32m1\u001b[0m\n\u001b[1;33m    func1(10, c=20, b=10, 'a', 'b')\u001b[0m\n\u001b[1;37m                         ^\u001b[0m\n\u001b[1;31mSyntaxError\u001b[0m\u001b[1;31m:\u001b[0m positional argument follows keyword argument\n"
          ]
        }
      ],
      "source": [
        "func1(10, c=20, b=10, 'a', 'b')"
      ]
    },
    {
      "cell_type": "markdown",
      "metadata": {
        "id": "BVzkoZ2Mk2m1"
      },
      "source": [
        "Recall that once a keyword argument is used in a function call, we **cannot** use positional arguments after that. \n",
        "\n",
        "However, in the next lecture we'll look at how to address this issue."
      ]
    }
  ],
  "metadata": {
    "kernelspec": {
      "display_name": "Python 3",
      "language": "python",
      "name": "python3"
    },
    "language_info": {
      "codemirror_mode": {
        "name": "ipython",
        "version": 3
      },
      "file_extension": ".py",
      "mimetype": "text/x-python",
      "name": "python",
      "nbconvert_exporter": "python",
      "pygments_lexer": "ipython3",
      "version": "3.6.1"
    },
    "colab": {
      "name": "star-args.ipynb",
      "provenance": [],
      "include_colab_link": true
    }
  },
  "nbformat": 4,
  "nbformat_minor": 0
}