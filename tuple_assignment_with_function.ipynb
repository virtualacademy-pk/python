{
  "nbformat": 4,
  "nbformat_minor": 0,
  "metadata": {
    "colab": {
      "name": "tuple assignment with function.ipynb",
      "provenance": [],
      "authorship_tag": "ABX9TyOopcKxBWVvZeQcJHVjjG65",
      "include_colab_link": true
    },
    "kernelspec": {
      "name": "python3",
      "display_name": "Python 3"
    },
    "language_info": {
      "name": "python"
    }
  },
  "cells": [
    {
      "cell_type": "markdown",
      "metadata": {
        "id": "view-in-github",
        "colab_type": "text"
      },
      "source": [
        "<a href=\"https://colab.research.google.com/github/virtualacademy-pk/python/blob/main/tuple_assignment_with_function.ipynb\" target=\"_parent\"><img src=\"https://colab.research.google.com/assets/colab-badge.svg\" alt=\"Open In Colab\"/></a>"
      ]
    },
    {
      "cell_type": "code",
      "execution_count": null,
      "metadata": {
        "id": "AF7id3YIwIQ3"
      },
      "outputs": [],
      "source": [
        "from collections import namedtuple\n",
        "def findDataIndex(data, id):\n",
        "    idx = None;\n",
        "    for index in range(len(data) ):\n",
        "\n",
        "        if (data[index].id == id):\n",
        "            idx = index;\n",
        "            break;\n",
        "    return idx;\n",
        "\n",
        "def findDataItem(data, id):\n",
        "    item = None;\n",
        "    for index in range(len(data) ):\n",
        "        if (data[index].id == id):\n",
        "            item = data[index];\n",
        "            break;\n",
        "    return item;\n",
        "Product = namedtuple('Product', ['id', 'name', 'category', 'price'])\n",
        "\n",
        "products = [Product(1, 'Iphone', 'Mobile', 9000)]\n",
        "print(\"=== Welcome to Inventory Management ===\")\n",
        "print(\"1  Add Product \")\n",
        "print(\"2  View Product \")\n",
        "print(\"3  Search Product \")\n",
        "print(\"4  Delete Product \")\n",
        "print(\"5  Modify Product \")\n",
        "print(\"6  Exit \")\n",
        "\n",
        "\n",
        "while True:\n",
        "    type = int(input(\"Please select: \"))\n",
        "    if type == 1:\n",
        "        id = input(\"Enter Product Id: \")\n",
        "        name = input(\"Enter Product Name: \")\n",
        "        category = input(\"Enter Product Category: \")\n",
        "        price = input(\"Enter Product Price: \")\n",
        "        products.append(Product(id, name, category, price))\n",
        "        print(\" Added successfully! \")\n",
        "    elif type == 2:\n",
        "        for index in range(len(products) ):\n",
        "            print (products[index].id, '\\t',  products[index].name, '\\t', products[index].category, '\\t', products[index].price)\n",
        "    elif type == 3:\n",
        "        id = int(input(\" Enter Product Id to Search:\"))\n",
        "        product = findDataItem(products, id);\n",
        "        if (product):\n",
        "            print(\"Id:\",product.id)\n",
        "            print(\"Product Name :\",product.name)\n",
        "            print(\"Category :\",product.category)\n",
        "            print(\"Price :\",product.price)\n",
        "        else:\n",
        "            print ('Product not Found')\n",
        "    elif type == 4:\n",
        "        id = int(input(\" Enter Product Id to delete:\"))\n",
        "        index = findDataIndex(products, id)\n",
        "\n",
        "        if (index >= 0):\n",
        "            del products[index]\n",
        "            print('Product Deleted Successfully')\n",
        "        else:\n",
        "            print('No Product Found with this id')\n",
        "\n",
        "    elif type == 5:\n",
        "        id = int(input(\" Enter Product Id to Modify:\"))\n",
        "        index = findDataIndex(products, id)\n",
        "        print('index = ', index)\n",
        "        if(index >= 0):\n",
        "            name = input(\"Enter Product Name: \")\n",
        "            category = input(\"Enter Product Category: \")\n",
        "            price = input(\"Enter Product Price: \")\n",
        "            products[index] = Product(id, name, category, price)\n",
        "            print ('Product Updated successfully')\n",
        "        else:\n",
        "            print ('Product not Found')\n",
        "\n",
        "    elif type == 6:\n",
        "        break\n",
        "    else:\n",
        "        print ('Invalid Option')"
      ]
    }
  ]
}